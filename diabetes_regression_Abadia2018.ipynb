{
 "cells": [
  {
   "cell_type": "code",
   "execution_count": 27,
   "metadata": {},
   "outputs": [],
   "source": [
    "import pandas as pd\n",
    "import matplotlib.pyplot as plt\n",
    "import numpy as np\n",
    "import sklearn as sk\n",
    "from sklearn.ensemble import RandomForestRegressor\n",
    "from random import randint\n",
    "import xlrd"
   ]
  },
  {
   "cell_type": "markdown",
   "metadata": {},
   "source": [
    "Abadia B, Suñen I, Calvo P, Bartol F, Verdes G, Ferreras A (2018) Choroidal thickness measured using swept-source optical coherence tomography is reduced in patients with type 2 diabetes. PLoS ONE 13(2): e0191977. https://doi.org/10.1371/journal.pone.0191977\n",
    "\n",
    "link to the dataset: https://figshare.com/articles/dataset/Choroidal_thickness_measured_using_swept-source_optical_coherence_tomography_is_reduced_in_patients_with_type_2_diabetes/5850960"
   ]
  },
  {
   "cell_type": "code",
   "execution_count": 28,
   "metadata": {},
   "outputs": [],
   "source": [
    "data = pd.read_excel('Abadia2018.xlsx')"
   ]
  },
  {
   "cell_type": "markdown",
   "metadata": {},
   "source": [
    "1) dataset name: Abadia2018\n",
    "target: Years DM\n",
    "URL: https://figshare.com/articles/dataset/Choroidal_thickness_measured_using_swept-source_optical_coherence_tomography_is_reduced_in_patients_with_type_2_diabetes/5850960\n"
   ]
  },
  {
   "cell_type": "code",
   "execution_count": 29,
   "metadata": {},
   "outputs": [
    {
     "data": {
      "text/html": [
       "<div>\n",
       "<style scoped>\n",
       "    .dataframe tbody tr th:only-of-type {\n",
       "        vertical-align: middle;\n",
       "    }\n",
       "\n",
       "    .dataframe tbody tr th {\n",
       "        vertical-align: top;\n",
       "    }\n",
       "\n",
       "    .dataframe thead th {\n",
       "        text-align: right;\n",
       "    }\n",
       "</style>\n",
       "<table border=\"1\" class=\"dataframe\">\n",
       "  <thead>\n",
       "    <tr style=\"text-align: right;\">\n",
       "      <th></th>\n",
       "      <th>N</th>\n",
       "      <th>Age</th>\n",
       "      <th>Eye (right/left)</th>\n",
       "      <th>Visual acuity</th>\n",
       "      <th>Baseline IOP</th>\n",
       "      <th>Group (1= control; 2=DM without DR; 3=mild NPDR; 4=moderate NPDR; 5=severe NPDR; 6= PDR)</th>\n",
       "      <th>EMD (0=no; 1= sí)</th>\n",
       "      <th>Accurate automatic segmentation (0=no; 1=yes)</th>\n",
       "      <th>Quality</th>\n",
       "      <th>SF</th>\n",
       "      <th>...</th>\n",
       "      <th>N 1500µm</th>\n",
       "      <th>N 2000µm</th>\n",
       "      <th>N 2500µm</th>\n",
       "      <th>T 500µm</th>\n",
       "      <th>T 1000µm</th>\n",
       "      <th>T 1500µm</th>\n",
       "      <th>T 2000µm</th>\n",
       "      <th>T 2500µm</th>\n",
       "      <th>HbA1c</th>\n",
       "      <th>Years DM</th>\n",
       "    </tr>\n",
       "  </thead>\n",
       "  <tbody>\n",
       "    <tr>\n",
       "      <th>0</th>\n",
       "      <td>1</td>\n",
       "      <td>70</td>\n",
       "      <td>left</td>\n",
       "      <td>0.6</td>\n",
       "      <td>20</td>\n",
       "      <td>4</td>\n",
       "      <td>1.0</td>\n",
       "      <td>1</td>\n",
       "      <td>89</td>\n",
       "      <td>110</td>\n",
       "      <td>...</td>\n",
       "      <td>92</td>\n",
       "      <td>89</td>\n",
       "      <td>100</td>\n",
       "      <td>147</td>\n",
       "      <td>168</td>\n",
       "      <td>181</td>\n",
       "      <td>183</td>\n",
       "      <td>134</td>\n",
       "      <td>7.6</td>\n",
       "      <td>32.00</td>\n",
       "    </tr>\n",
       "    <tr>\n",
       "      <th>1</th>\n",
       "      <td>2</td>\n",
       "      <td>70</td>\n",
       "      <td>right</td>\n",
       "      <td>0.8</td>\n",
       "      <td>22</td>\n",
       "      <td>4</td>\n",
       "      <td>0.0</td>\n",
       "      <td>1</td>\n",
       "      <td>95</td>\n",
       "      <td>186</td>\n",
       "      <td>...</td>\n",
       "      <td>121</td>\n",
       "      <td>89</td>\n",
       "      <td>73</td>\n",
       "      <td>163</td>\n",
       "      <td>165</td>\n",
       "      <td>186</td>\n",
       "      <td>183</td>\n",
       "      <td>157</td>\n",
       "      <td>7.6</td>\n",
       "      <td>32.00</td>\n",
       "    </tr>\n",
       "    <tr>\n",
       "      <th>2</th>\n",
       "      <td>3</td>\n",
       "      <td>75</td>\n",
       "      <td>right</td>\n",
       "      <td>0.4</td>\n",
       "      <td>14</td>\n",
       "      <td>4</td>\n",
       "      <td>1.0</td>\n",
       "      <td>1</td>\n",
       "      <td>89</td>\n",
       "      <td>79</td>\n",
       "      <td>...</td>\n",
       "      <td>157</td>\n",
       "      <td>155</td>\n",
       "      <td>160</td>\n",
       "      <td>76</td>\n",
       "      <td>100</td>\n",
       "      <td>110</td>\n",
       "      <td>131</td>\n",
       "      <td>107</td>\n",
       "      <td>7.5</td>\n",
       "      <td>33.00</td>\n",
       "    </tr>\n",
       "    <tr>\n",
       "      <th>3</th>\n",
       "      <td>4</td>\n",
       "      <td>75</td>\n",
       "      <td>left</td>\n",
       "      <td>0.6</td>\n",
       "      <td>14</td>\n",
       "      <td>4</td>\n",
       "      <td>0.0</td>\n",
       "      <td>1</td>\n",
       "      <td>95</td>\n",
       "      <td>228</td>\n",
       "      <td>...</td>\n",
       "      <td>249</td>\n",
       "      <td>254</td>\n",
       "      <td>239</td>\n",
       "      <td>183</td>\n",
       "      <td>163</td>\n",
       "      <td>155</td>\n",
       "      <td>163</td>\n",
       "      <td>160</td>\n",
       "      <td>7.5</td>\n",
       "      <td>33.00</td>\n",
       "    </tr>\n",
       "    <tr>\n",
       "      <th>4</th>\n",
       "      <td>5</td>\n",
       "      <td>66</td>\n",
       "      <td>left</td>\n",
       "      <td>0.5</td>\n",
       "      <td>16</td>\n",
       "      <td>4</td>\n",
       "      <td>1.0</td>\n",
       "      <td>1</td>\n",
       "      <td>94</td>\n",
       "      <td>81</td>\n",
       "      <td>...</td>\n",
       "      <td>63</td>\n",
       "      <td>87</td>\n",
       "      <td>73</td>\n",
       "      <td>81</td>\n",
       "      <td>84</td>\n",
       "      <td>102</td>\n",
       "      <td>100</td>\n",
       "      <td>87</td>\n",
       "      <td>8.0</td>\n",
       "      <td>13.85</td>\n",
       "    </tr>\n",
       "  </tbody>\n",
       "</table>\n",
       "<p>5 rows × 22 columns</p>\n",
       "</div>"
      ],
      "text/plain": [
       "   N  Age Eye (right/left)  Visual acuity  Baseline IOP  \\\n",
       "0  1   70             left            0.6            20   \n",
       "1  2   70            right            0.8            22   \n",
       "2  3   75            right            0.4            14   \n",
       "3  4   75             left            0.6            14   \n",
       "4  5   66             left            0.5            16   \n",
       "\n",
       "   Group (1= control; 2=DM without DR; 3=mild NPDR; 4=moderate NPDR; 5=severe NPDR; 6= PDR)  \\\n",
       "0                                                  4                                          \n",
       "1                                                  4                                          \n",
       "2                                                  4                                          \n",
       "3                                                  4                                          \n",
       "4                                                  4                                          \n",
       "\n",
       "   EMD (0=no; 1= sí)  Accurate automatic segmentation (0=no; 1=yes)  Quality  \\\n",
       "0                1.0                                              1       89   \n",
       "1                0.0                                              1       95   \n",
       "2                1.0                                              1       89   \n",
       "3                0.0                                              1       95   \n",
       "4                1.0                                              1       94   \n",
       "\n",
       "    SF  ...  N 1500µm  N 2000µm  N 2500µm  T 500µm  T 1000µm  T 1500µm  \\\n",
       "0  110  ...        92        89       100      147       168       181   \n",
       "1  186  ...       121        89        73      163       165       186   \n",
       "2   79  ...       157       155       160       76       100       110   \n",
       "3  228  ...       249       254       239      183       163       155   \n",
       "4   81  ...        63        87        73       81        84       102   \n",
       "\n",
       "   T 2000µm  T 2500µm  HbA1c  Years DM  \n",
       "0       183       134    7.6     32.00  \n",
       "1       183       157    7.6     32.00  \n",
       "2       131       107    7.5     33.00  \n",
       "3       163       160    7.5     33.00  \n",
       "4       100        87    8.0     13.85  \n",
       "\n",
       "[5 rows x 22 columns]"
      ]
     },
     "execution_count": 29,
     "metadata": {},
     "output_type": "execute_result"
    }
   ],
   "source": [
    "data.head()"
   ]
  },
  {
   "cell_type": "code",
   "execution_count": 30,
   "metadata": {},
   "outputs": [
    {
     "data": {
      "text/plain": [
       "Index(['N', 'Age', 'Eye (right/left)', 'Visual acuity', 'Baseline IOP',\n",
       "       'Group (1= control; 2=DM without DR; 3=mild NPDR; 4=moderate NPDR; 5=severe NPDR; 6= PDR)',\n",
       "       'EMD (0=no; 1= sí)', 'Accurate automatic segmentation (0=no; 1=yes)',\n",
       "       'Quality', 'SF', 'N 500µm', 'N 1000µm', 'N 1500µm', 'N 2000µm',\n",
       "       'N 2500µm', 'T 500µm', 'T 1000µm', 'T 1500µm', 'T 2000µm', 'T 2500µm',\n",
       "       'HbA1c', 'Years DM'],\n",
       "      dtype='object')"
      ]
     },
     "execution_count": 30,
     "metadata": {},
     "output_type": "execute_result"
    }
   ],
   "source": [
    "data.columns"
   ]
  },
  {
   "cell_type": "code",
   "execution_count": 31,
   "metadata": {},
   "outputs": [],
   "source": [
    "data.drop(['N'], axis = 1, inplace = True)"
   ]
  },
  {
   "cell_type": "code",
   "execution_count": 32,
   "metadata": {},
   "outputs": [
    {
     "data": {
      "text/plain": [
       "True"
      ]
     },
     "execution_count": 32,
     "metadata": {},
     "output_type": "execute_result"
    }
   ],
   "source": [
    "data.isnull().values.any()"
   ]
  },
  {
   "cell_type": "markdown",
   "metadata": {},
   "source": [
    "### I will have to map the strings on Eyes right/left becuase the iterative imputer only takes floats or integers"
   ]
  },
  {
   "cell_type": "code",
   "execution_count": 33,
   "metadata": {},
   "outputs": [],
   "source": [
    "data.replace({'left': 0, 'right': 1}, inplace = True)"
   ]
  },
  {
   "cell_type": "markdown",
   "metadata": {},
   "source": [
    "### Now we can use the iterative imputer to fill the nan values"
   ]
  },
  {
   "cell_type": "code",
   "execution_count": 34,
   "metadata": {},
   "outputs": [],
   "source": [
    "from sklearn.experimental import enable_iterative_imputer\n",
    "from sklearn.impute import IterativeImputer\n",
    "iterative_imp = IterativeImputer()"
   ]
  },
  {
   "cell_type": "code",
   "execution_count": 35,
   "metadata": {},
   "outputs": [
    {
     "data": {
      "text/plain": [
       "IterativeImputer(add_indicator=False, estimator=None,\n",
       "                 imputation_order='ascending', initial_strategy='mean',\n",
       "                 max_iter=10, max_value=None, min_value=None,\n",
       "                 missing_values=nan, n_nearest_features=None, random_state=None,\n",
       "                 sample_posterior=False, skip_complete=False, tol=0.001,\n",
       "                 verbose=0)"
      ]
     },
     "execution_count": 35,
     "metadata": {},
     "output_type": "execute_result"
    }
   ],
   "source": [
    "iterative_imp.fit(data)"
   ]
  },
  {
   "cell_type": "code",
   "execution_count": 36,
   "metadata": {},
   "outputs": [],
   "source": [
    "data1 = iterative_imp.fit_transform(data)\n",
    "data1 = pd.DataFrame(data=data1, columns = data.columns,)"
   ]
  },
  {
   "cell_type": "markdown",
   "metadata": {},
   "source": [
    "The data is \"duplicated\" as each patient has 2 eyes, and therefore 2 entries in the dataframe. This can (and probably will) artificially inflate the r*2 predictor, and make the non-eye-related variables more important than they are when predicting for duration of diabetes.\n",
    " Since the entries are added consecutively, I will just take the average for each pair of 2 consecutive rows. This means, that I will only leave 1 row for each patient. \n",
    " Also standart linear regression takes the assumption of independence between observations, we would be violating this assumption if we leave it as it is."
   ]
  },
  {
   "cell_type": "code",
   "execution_count": 37,
   "metadata": {},
   "outputs": [],
   "source": [
    "idx = len(data1) - 1 if len(data1) % 2 else len(data1)"
   ]
  },
  {
   "cell_type": "code",
   "execution_count": 38,
   "metadata": {},
   "outputs": [],
   "source": [
    "datafinal = data1[:idx].groupby(data1.index[:idx] // 2).mean()"
   ]
  },
  {
   "cell_type": "code",
   "execution_count": 39,
   "metadata": {},
   "outputs": [
    {
     "data": {
      "text/html": [
       "<div>\n",
       "<style scoped>\n",
       "    .dataframe tbody tr th:only-of-type {\n",
       "        vertical-align: middle;\n",
       "    }\n",
       "\n",
       "    .dataframe tbody tr th {\n",
       "        vertical-align: top;\n",
       "    }\n",
       "\n",
       "    .dataframe thead th {\n",
       "        text-align: right;\n",
       "    }\n",
       "</style>\n",
       "<table border=\"1\" class=\"dataframe\">\n",
       "  <thead>\n",
       "    <tr style=\"text-align: right;\">\n",
       "      <th></th>\n",
       "      <th>Age</th>\n",
       "      <th>Eye (right/left)</th>\n",
       "      <th>Visual acuity</th>\n",
       "      <th>Baseline IOP</th>\n",
       "      <th>Group (1= control; 2=DM without DR; 3=mild NPDR; 4=moderate NPDR; 5=severe NPDR; 6= PDR)</th>\n",
       "      <th>EMD (0=no; 1= sí)</th>\n",
       "      <th>Accurate automatic segmentation (0=no; 1=yes)</th>\n",
       "      <th>Quality</th>\n",
       "      <th>SF</th>\n",
       "      <th>N 500µm</th>\n",
       "      <th>...</th>\n",
       "      <th>N 1500µm</th>\n",
       "      <th>N 2000µm</th>\n",
       "      <th>N 2500µm</th>\n",
       "      <th>T 500µm</th>\n",
       "      <th>T 1000µm</th>\n",
       "      <th>T 1500µm</th>\n",
       "      <th>T 2000µm</th>\n",
       "      <th>T 2500µm</th>\n",
       "      <th>HbA1c</th>\n",
       "      <th>Years DM</th>\n",
       "    </tr>\n",
       "  </thead>\n",
       "  <tbody>\n",
       "    <tr>\n",
       "      <th>0</th>\n",
       "      <td>70.0</td>\n",
       "      <td>0.5</td>\n",
       "      <td>0.70</td>\n",
       "      <td>21.0</td>\n",
       "      <td>4.0</td>\n",
       "      <td>0.5</td>\n",
       "      <td>1.0</td>\n",
       "      <td>92.0</td>\n",
       "      <td>148.0</td>\n",
       "      <td>150.5</td>\n",
       "      <td>...</td>\n",
       "      <td>106.5</td>\n",
       "      <td>89.0</td>\n",
       "      <td>86.5</td>\n",
       "      <td>155.0</td>\n",
       "      <td>166.5</td>\n",
       "      <td>183.5</td>\n",
       "      <td>183.0</td>\n",
       "      <td>145.5</td>\n",
       "      <td>7.6</td>\n",
       "      <td>32.00</td>\n",
       "    </tr>\n",
       "    <tr>\n",
       "      <th>1</th>\n",
       "      <td>75.0</td>\n",
       "      <td>0.5</td>\n",
       "      <td>0.50</td>\n",
       "      <td>14.0</td>\n",
       "      <td>4.0</td>\n",
       "      <td>0.5</td>\n",
       "      <td>1.0</td>\n",
       "      <td>92.0</td>\n",
       "      <td>153.5</td>\n",
       "      <td>182.0</td>\n",
       "      <td>...</td>\n",
       "      <td>203.0</td>\n",
       "      <td>204.5</td>\n",
       "      <td>199.5</td>\n",
       "      <td>129.5</td>\n",
       "      <td>131.5</td>\n",
       "      <td>132.5</td>\n",
       "      <td>147.0</td>\n",
       "      <td>133.5</td>\n",
       "      <td>7.5</td>\n",
       "      <td>33.00</td>\n",
       "    </tr>\n",
       "    <tr>\n",
       "      <th>2</th>\n",
       "      <td>66.0</td>\n",
       "      <td>0.5</td>\n",
       "      <td>0.65</td>\n",
       "      <td>16.0</td>\n",
       "      <td>4.0</td>\n",
       "      <td>0.5</td>\n",
       "      <td>1.0</td>\n",
       "      <td>94.5</td>\n",
       "      <td>90.5</td>\n",
       "      <td>77.5</td>\n",
       "      <td>...</td>\n",
       "      <td>65.5</td>\n",
       "      <td>72.5</td>\n",
       "      <td>65.5</td>\n",
       "      <td>87.5</td>\n",
       "      <td>82.5</td>\n",
       "      <td>87.5</td>\n",
       "      <td>83.0</td>\n",
       "      <td>79.0</td>\n",
       "      <td>8.0</td>\n",
       "      <td>13.85</td>\n",
       "    </tr>\n",
       "    <tr>\n",
       "      <th>3</th>\n",
       "      <td>70.0</td>\n",
       "      <td>0.5</td>\n",
       "      <td>0.95</td>\n",
       "      <td>14.0</td>\n",
       "      <td>3.5</td>\n",
       "      <td>0.5</td>\n",
       "      <td>0.5</td>\n",
       "      <td>90.5</td>\n",
       "      <td>120.5</td>\n",
       "      <td>120.0</td>\n",
       "      <td>...</td>\n",
       "      <td>112.5</td>\n",
       "      <td>95.5</td>\n",
       "      <td>114.0</td>\n",
       "      <td>133.5</td>\n",
       "      <td>130.5</td>\n",
       "      <td>188.0</td>\n",
       "      <td>144.0</td>\n",
       "      <td>123.0</td>\n",
       "      <td>5.5</td>\n",
       "      <td>11.00</td>\n",
       "    </tr>\n",
       "    <tr>\n",
       "      <th>4</th>\n",
       "      <td>65.0</td>\n",
       "      <td>0.5</td>\n",
       "      <td>0.50</td>\n",
       "      <td>18.0</td>\n",
       "      <td>6.0</td>\n",
       "      <td>0.5</td>\n",
       "      <td>1.0</td>\n",
       "      <td>85.0</td>\n",
       "      <td>174.5</td>\n",
       "      <td>173.0</td>\n",
       "      <td>...</td>\n",
       "      <td>162.5</td>\n",
       "      <td>150.5</td>\n",
       "      <td>122.0</td>\n",
       "      <td>182.0</td>\n",
       "      <td>165.0</td>\n",
       "      <td>141.5</td>\n",
       "      <td>155.0</td>\n",
       "      <td>174.5</td>\n",
       "      <td>8.6</td>\n",
       "      <td>41.00</td>\n",
       "    </tr>\n",
       "  </tbody>\n",
       "</table>\n",
       "<p>5 rows × 21 columns</p>\n",
       "</div>"
      ],
      "text/plain": [
       "    Age  Eye (right/left)  Visual acuity  Baseline IOP  \\\n",
       "0  70.0               0.5           0.70          21.0   \n",
       "1  75.0               0.5           0.50          14.0   \n",
       "2  66.0               0.5           0.65          16.0   \n",
       "3  70.0               0.5           0.95          14.0   \n",
       "4  65.0               0.5           0.50          18.0   \n",
       "\n",
       "   Group (1= control; 2=DM without DR; 3=mild NPDR; 4=moderate NPDR; 5=severe NPDR; 6= PDR)  \\\n",
       "0                                                4.0                                          \n",
       "1                                                4.0                                          \n",
       "2                                                4.0                                          \n",
       "3                                                3.5                                          \n",
       "4                                                6.0                                          \n",
       "\n",
       "   EMD (0=no; 1= sí)  Accurate automatic segmentation (0=no; 1=yes)  Quality  \\\n",
       "0                0.5                                            1.0     92.0   \n",
       "1                0.5                                            1.0     92.0   \n",
       "2                0.5                                            1.0     94.5   \n",
       "3                0.5                                            0.5     90.5   \n",
       "4                0.5                                            1.0     85.0   \n",
       "\n",
       "      SF  N 500µm  ...  N 1500µm  N 2000µm  N 2500µm  T 500µm  T 1000µm  \\\n",
       "0  148.0    150.5  ...     106.5      89.0      86.5    155.0     166.5   \n",
       "1  153.5    182.0  ...     203.0     204.5     199.5    129.5     131.5   \n",
       "2   90.5     77.5  ...      65.5      72.5      65.5     87.5      82.5   \n",
       "3  120.5    120.0  ...     112.5      95.5     114.0    133.5     130.5   \n",
       "4  174.5    173.0  ...     162.5     150.5     122.0    182.0     165.0   \n",
       "\n",
       "   T 1500µm  T 2000µm  T 2500µm  HbA1c  Years DM  \n",
       "0     183.5     183.0     145.5    7.6     32.00  \n",
       "1     132.5     147.0     133.5    7.5     33.00  \n",
       "2      87.5      83.0      79.0    8.0     13.85  \n",
       "3     188.0     144.0     123.0    5.5     11.00  \n",
       "4     141.5     155.0     174.5    8.6     41.00  \n",
       "\n",
       "[5 rows x 21 columns]"
      ]
     },
     "execution_count": 39,
     "metadata": {},
     "output_type": "execute_result"
    }
   ],
   "source": [
    "datafinal.head()"
   ]
  },
  {
   "cell_type": "markdown",
   "metadata": {},
   "source": [
    "### Let's predict duration of diabetes"
   ]
  },
  {
   "cell_type": "code",
   "execution_count": 63,
   "metadata": {},
   "outputs": [],
   "source": [
    "X = datafinal.drop('Years DM', axis = 1)\n",
    "y = datafinal['Years DM']"
   ]
  },
  {
   "cell_type": "code",
   "execution_count": 64,
   "metadata": {},
   "outputs": [],
   "source": [
    "from sklearn.model_selection import train_test_split\n",
    "X, X_test, y, y_test = train_test_split(X, y, test_size=0.30, random_state= 42)"
   ]
  },
  {
   "cell_type": "code",
   "execution_count": 65,
   "metadata": {},
   "outputs": [],
   "source": [
    "from sklearn.metrics import mean_absolute_error\n",
    "from sklearn.metrics import mean_squared_error\n",
    "from math import sqrt"
   ]
  },
  {
   "cell_type": "code",
   "execution_count": 66,
   "metadata": {},
   "outputs": [],
   "source": [
    "#Sklearn does't have any function for SMAPE, so I wrote a function in python\n",
    "#The function has 100%/n. I replaced 100% with 1, to have values between 0 and 1 in form of percentages.\n",
    "#A is the real, while F is predicted.\n",
    "def smape(a, f):\n",
    "    return 1/len(a) * np.sum(2 * np.abs(f-a) / (np.abs(a) + np.abs(f)))"
   ]
  },
  {
   "cell_type": "code",
   "execution_count": 67,
   "metadata": {},
   "outputs": [],
   "source": [
    "r2mean = []\n",
    "SMAPEm = []\n",
    "MSEm = []\n",
    "RMSEm = []\n",
    "MAEm= []"
   ]
  },
  {
   "cell_type": "code",
   "execution_count": 68,
   "metadata": {},
   "outputs": [],
   "source": [
    "randomforest = RandomForestRegressor()"
   ]
  },
  {
   "cell_type": "code",
   "execution_count": 69,
   "metadata": {},
   "outputs": [],
   "source": [
    "for x in range(1000): \n",
    "  X_train, X_test2, y_train, y_test2 = train_test_split(X, y, test_size=0.3)\n",
    "  randomforest.fit(X_train, y_train)\n",
    "  r2 = randomforest.score(X_test, y_test)\n",
    "  y_pred = randomforest.predict(X_test)\n",
    "  r2mean.append(r2)\n",
    "  MAE = mean_absolute_error(y_test, y_pred)\n",
    "  MAEm.append(MAE)\n",
    "  MSE = mean_squared_error(y_test, y_pred)\n",
    "  MSEm.append(MSE)\n",
    "  RMSE = sqrt(mean_squared_error(y_test, y_pred))\n",
    "  RMSEm.append(RMSE)\n",
    "  SMAPE = smape(y_test, y_pred)\n",
    "  SMAPEm.append(SMAPE)"
   ]
  },
  {
   "cell_type": "code",
   "execution_count": 70,
   "metadata": {},
   "outputs": [],
   "source": [
    "Metrics = {'Metrics Means': ['R2', 'MSE', 'RMSE', 'SMAPE', 'MAE'],\n",
    "           'Values': [np.mean(r2mean), np.mean(MSEm), np.mean(RMSEm), np.mean(SMAPEm), np.mean(MAE)]\n",
    "           }"
   ]
  },
  {
   "cell_type": "code",
   "execution_count": 71,
   "metadata": {},
   "outputs": [
    {
     "data": {
      "text/html": [
       "<div>\n",
       "<style scoped>\n",
       "    .dataframe tbody tr th:only-of-type {\n",
       "        vertical-align: middle;\n",
       "    }\n",
       "\n",
       "    .dataframe tbody tr th {\n",
       "        vertical-align: top;\n",
       "    }\n",
       "\n",
       "    .dataframe thead th {\n",
       "        text-align: right;\n",
       "    }\n",
       "</style>\n",
       "<table border=\"1\" class=\"dataframe\">\n",
       "  <thead>\n",
       "    <tr style=\"text-align: right;\">\n",
       "      <th></th>\n",
       "      <th>Metrics Means</th>\n",
       "      <th>Values</th>\n",
       "    </tr>\n",
       "  </thead>\n",
       "  <tbody>\n",
       "    <tr>\n",
       "      <th>0</th>\n",
       "      <td>R2</td>\n",
       "      <td>0.018201</td>\n",
       "    </tr>\n",
       "    <tr>\n",
       "      <th>1</th>\n",
       "      <td>MSE</td>\n",
       "      <td>66.325506</td>\n",
       "    </tr>\n",
       "    <tr>\n",
       "      <th>2</th>\n",
       "      <td>RMSE</td>\n",
       "      <td>8.136897</td>\n",
       "    </tr>\n",
       "    <tr>\n",
       "      <th>3</th>\n",
       "      <td>SMAPE</td>\n",
       "      <td>0.396052</td>\n",
       "    </tr>\n",
       "    <tr>\n",
       "      <th>4</th>\n",
       "      <td>MAE</td>\n",
       "      <td>5.525156</td>\n",
       "    </tr>\n",
       "  </tbody>\n",
       "</table>\n",
       "</div>"
      ],
      "text/plain": [
       "  Metrics Means     Values\n",
       "0            R2   0.018201\n",
       "1           MSE  66.325506\n",
       "2          RMSE   8.136897\n",
       "3         SMAPE   0.396052\n",
       "4           MAE   5.525156"
      ]
     },
     "execution_count": 71,
     "metadata": {},
     "output_type": "execute_result"
    }
   ],
   "source": [
    "MetricsDF = pd.DataFrame.from_dict(Metrics)\n",
    "MetricsDF"
   ]
  },
  {
   "cell_type": "markdown",
   "metadata": {},
   "source": [
    "## Xgboost"
   ]
  },
  {
   "cell_type": "code",
   "execution_count": 72,
   "metadata": {},
   "outputs": [
    {
     "name": "stderr",
     "output_type": "stream",
     "text": [
      "C:\\Users\\54226\\Anaconda3\\envs\\python-ml-2020\\lib\\site-packages\\xgboost\\__init__.py:29: FutureWarning: Python 3.5 support is deprecated; XGBoost will require Python 3.6+ in the near future. Consider upgrading to Python 3.6+.\n",
      "  FutureWarning)\n"
     ]
    }
   ],
   "source": [
    "import xgboost as xgb\n",
    "from xgboost.sklearn import XGBRegressor\n",
    "xgb = XGBRegressor()"
   ]
  },
  {
   "cell_type": "code",
   "execution_count": 73,
   "metadata": {},
   "outputs": [],
   "source": [
    "r2mean = []\n",
    "SMAPEm = []\n",
    "MSEm = []\n",
    "RMSEm = []\n",
    "MAEm= []"
   ]
  },
  {
   "cell_type": "code",
   "execution_count": 74,
   "metadata": {},
   "outputs": [],
   "source": [
    "for x in range(1000): \n",
    "  X_train, X_test2, y_train, y_test2 = train_test_split(X, y, test_size=0.30)\n",
    "  xgb.fit(X_train, y_train)\n",
    "  r2 = xgb.score(X_test, y_test)\n",
    "  y_pred = xgb.predict(X_test)\n",
    "  r2mean.append(r2)\n",
    "  MAE = mean_absolute_error(y_test, y_pred)\n",
    "  MAEm.append(MAE)\n",
    "  MSE = mean_squared_error(y_test, y_pred)\n",
    "  MSEm.append(MSE)\n",
    "  RMSE = sqrt(mean_squared_error(y_test, y_pred))\n",
    "  RMSEm.append(RMSE)\n",
    "  SMAPE = smape(y_test, y_pred)\n",
    "  SMAPEm.append(SMAPE)"
   ]
  },
  {
   "cell_type": "code",
   "execution_count": 75,
   "metadata": {},
   "outputs": [],
   "source": [
    "Metrics = {'Metrics Means': ['R2', 'MSE', 'RMSE', 'SMAPE', 'MAE'],\n",
    "           'Values': [np.mean(r2mean), np.mean(MSEm), np.mean(RMSEm), np.mean(SMAPEm), np.mean(MAE)]\n",
    "           }"
   ]
  },
  {
   "cell_type": "code",
   "execution_count": 76,
   "metadata": {},
   "outputs": [
    {
     "data": {
      "text/html": [
       "<div>\n",
       "<style scoped>\n",
       "    .dataframe tbody tr th:only-of-type {\n",
       "        vertical-align: middle;\n",
       "    }\n",
       "\n",
       "    .dataframe tbody tr th {\n",
       "        vertical-align: top;\n",
       "    }\n",
       "\n",
       "    .dataframe thead th {\n",
       "        text-align: right;\n",
       "    }\n",
       "</style>\n",
       "<table border=\"1\" class=\"dataframe\">\n",
       "  <thead>\n",
       "    <tr style=\"text-align: right;\">\n",
       "      <th></th>\n",
       "      <th>Metrics Means</th>\n",
       "      <th>Values</th>\n",
       "    </tr>\n",
       "  </thead>\n",
       "  <tbody>\n",
       "    <tr>\n",
       "      <th>0</th>\n",
       "      <td>R2</td>\n",
       "      <td>-0.020183</td>\n",
       "    </tr>\n",
       "    <tr>\n",
       "      <th>1</th>\n",
       "      <td>MSE</td>\n",
       "      <td>68.918568</td>\n",
       "    </tr>\n",
       "    <tr>\n",
       "      <th>2</th>\n",
       "      <td>RMSE</td>\n",
       "      <td>8.280922</td>\n",
       "    </tr>\n",
       "    <tr>\n",
       "      <th>3</th>\n",
       "      <td>SMAPE</td>\n",
       "      <td>0.405089</td>\n",
       "    </tr>\n",
       "    <tr>\n",
       "      <th>4</th>\n",
       "      <td>MAE</td>\n",
       "      <td>6.024323</td>\n",
       "    </tr>\n",
       "  </tbody>\n",
       "</table>\n",
       "</div>"
      ],
      "text/plain": [
       "  Metrics Means     Values\n",
       "0            R2  -0.020183\n",
       "1           MSE  68.918568\n",
       "2          RMSE   8.280922\n",
       "3         SMAPE   0.405089\n",
       "4           MAE   6.024323"
      ]
     },
     "execution_count": 76,
     "metadata": {},
     "output_type": "execute_result"
    }
   ],
   "source": [
    "MetricsDF = pd.DataFrame.from_dict(Metrics)\n",
    "MetricsDF"
   ]
  },
  {
   "cell_type": "code",
   "execution_count": null,
   "metadata": {},
   "outputs": [],
   "source": []
  }
 ],
 "metadata": {
  "kernelspec": {
   "display_name": "Python 3",
   "language": "python",
   "name": "python3"
  },
  "language_info": {
   "codemirror_mode": {
    "name": "ipython",
    "version": 3
   },
   "file_extension": ".py",
   "mimetype": "text/x-python",
   "name": "python",
   "nbconvert_exporter": "python",
   "pygments_lexer": "ipython3",
   "version": "3.5.6"
  }
 },
 "nbformat": 4,
 "nbformat_minor": 4
}
