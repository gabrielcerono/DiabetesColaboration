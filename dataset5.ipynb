{
 "cells": [
  {
   "cell_type": "code",
   "execution_count": 19,
   "metadata": {},
   "outputs": [],
   "source": [
    "import pandas as pd\n",
    "import matplotlib.pyplot as plt\n",
    "import numpy as np\n",
    "import sklearn as sk\n",
    "from sklearn.ensemble import RandomForestRegressor\n",
    "from random import randint"
   ]
  },
  {
   "cell_type": "code",
   "execution_count": 20,
   "metadata": {},
   "outputs": [],
   "source": [
    "import xlrd"
   ]
  },
  {
   "cell_type": "code",
   "execution_count": 21,
   "metadata": {},
   "outputs": [],
   "source": [
    "data = pd.read_excel('dataset5.xlsx')"
   ]
  },
  {
   "cell_type": "code",
   "execution_count": 22,
   "metadata": {},
   "outputs": [
    {
     "data": {
      "text/html": [
       "<div>\n",
       "<style scoped>\n",
       "    .dataframe tbody tr th:only-of-type {\n",
       "        vertical-align: middle;\n",
       "    }\n",
       "\n",
       "    .dataframe tbody tr th {\n",
       "        vertical-align: top;\n",
       "    }\n",
       "\n",
       "    .dataframe thead th {\n",
       "        text-align: right;\n",
       "    }\n",
       "</style>\n",
       "<table border=\"1\" class=\"dataframe\">\n",
       "  <thead>\n",
       "    <tr style=\"text-align: right;\">\n",
       "      <th></th>\n",
       "      <th>Patient's code</th>\n",
       "      <th>Age</th>\n",
       "      <th>Gender</th>\n",
       "      <th>Duration of DM</th>\n",
       "      <th>Smoking</th>\n",
       "      <th>HTN</th>\n",
       "      <th>Anti HTN</th>\n",
       "      <th>DR</th>\n",
       "      <th>Insulin</th>\n",
       "      <th>Sulfonylurea</th>\n",
       "      <th>...</th>\n",
       "      <th>Nausea</th>\n",
       "      <th>Retching</th>\n",
       "      <th>Vomiting</th>\n",
       "      <th>Stomach fullness</th>\n",
       "      <th>Not able to finish a meal</th>\n",
       "      <th>Excessive fullness after meals</th>\n",
       "      <th>Loss of appetitie</th>\n",
       "      <th>Bloating</th>\n",
       "      <th>stomach or belly visibly larger</th>\n",
       "      <th>presenceofanysymptom</th>\n",
       "    </tr>\n",
       "  </thead>\n",
       "  <tbody>\n",
       "    <tr>\n",
       "      <th>0</th>\n",
       "      <td>1</td>\n",
       "      <td>61</td>\n",
       "      <td>F</td>\n",
       "      <td>3.0</td>\n",
       "      <td>No</td>\n",
       "      <td>No</td>\n",
       "      <td>No</td>\n",
       "      <td>No</td>\n",
       "      <td>No</td>\n",
       "      <td>No</td>\n",
       "      <td>...</td>\n",
       "      <td>No</td>\n",
       "      <td>No</td>\n",
       "      <td>No</td>\n",
       "      <td>No</td>\n",
       "      <td>No</td>\n",
       "      <td>No</td>\n",
       "      <td>No</td>\n",
       "      <td>No</td>\n",
       "      <td>No</td>\n",
       "      <td>No</td>\n",
       "    </tr>\n",
       "    <tr>\n",
       "      <th>1</th>\n",
       "      <td>2</td>\n",
       "      <td>44</td>\n",
       "      <td>M</td>\n",
       "      <td>5.0</td>\n",
       "      <td>No</td>\n",
       "      <td>No</td>\n",
       "      <td>No</td>\n",
       "      <td>No</td>\n",
       "      <td>Yes</td>\n",
       "      <td>Yes</td>\n",
       "      <td>...</td>\n",
       "      <td>No</td>\n",
       "      <td>No</td>\n",
       "      <td>No</td>\n",
       "      <td>No</td>\n",
       "      <td>No</td>\n",
       "      <td>No</td>\n",
       "      <td>No</td>\n",
       "      <td>Yes</td>\n",
       "      <td>Yes</td>\n",
       "      <td>Yes</td>\n",
       "    </tr>\n",
       "    <tr>\n",
       "      <th>2</th>\n",
       "      <td>3</td>\n",
       "      <td>61</td>\n",
       "      <td>M</td>\n",
       "      <td>9.0</td>\n",
       "      <td>No</td>\n",
       "      <td>Yes</td>\n",
       "      <td>Yes</td>\n",
       "      <td>No</td>\n",
       "      <td>No</td>\n",
       "      <td>Yes</td>\n",
       "      <td>...</td>\n",
       "      <td>No</td>\n",
       "      <td>No</td>\n",
       "      <td>No</td>\n",
       "      <td>No</td>\n",
       "      <td>No</td>\n",
       "      <td>No</td>\n",
       "      <td>No</td>\n",
       "      <td>No</td>\n",
       "      <td>No</td>\n",
       "      <td>No</td>\n",
       "    </tr>\n",
       "    <tr>\n",
       "      <th>3</th>\n",
       "      <td>4</td>\n",
       "      <td>53</td>\n",
       "      <td>M</td>\n",
       "      <td>5.0</td>\n",
       "      <td>No</td>\n",
       "      <td>Yes</td>\n",
       "      <td>Yes</td>\n",
       "      <td>No</td>\n",
       "      <td>No</td>\n",
       "      <td>Yes</td>\n",
       "      <td>...</td>\n",
       "      <td>No</td>\n",
       "      <td>No</td>\n",
       "      <td>No</td>\n",
       "      <td>No</td>\n",
       "      <td>Yes</td>\n",
       "      <td>Yes</td>\n",
       "      <td>No</td>\n",
       "      <td>No</td>\n",
       "      <td>No</td>\n",
       "      <td>Yes</td>\n",
       "    </tr>\n",
       "    <tr>\n",
       "      <th>4</th>\n",
       "      <td>5</td>\n",
       "      <td>56</td>\n",
       "      <td>F</td>\n",
       "      <td>7.0</td>\n",
       "      <td>No</td>\n",
       "      <td>Yes</td>\n",
       "      <td>Yes</td>\n",
       "      <td>No</td>\n",
       "      <td>No</td>\n",
       "      <td>Yes</td>\n",
       "      <td>...</td>\n",
       "      <td>No</td>\n",
       "      <td>No</td>\n",
       "      <td>No</td>\n",
       "      <td>No</td>\n",
       "      <td>No</td>\n",
       "      <td>No</td>\n",
       "      <td>No</td>\n",
       "      <td>No</td>\n",
       "      <td>No</td>\n",
       "      <td>No</td>\n",
       "    </tr>\n",
       "  </tbody>\n",
       "</table>\n",
       "<p>5 rows × 50 columns</p>\n",
       "</div>"
      ],
      "text/plain": [
       "  Patient's code   Age Gender  Duration of DM Smoking  HTN Anti HTN  DR  \\\n",
       "0               1   61      F             3.0      No   No       No  No   \n",
       "1               2   44      M             5.0      No   No       No  No   \n",
       "2               3   61      M             9.0      No  Yes      Yes  No   \n",
       "3               4   53      M             5.0      No  Yes      Yes  No   \n",
       "4               5   56      F             7.0      No  Yes      Yes  No   \n",
       "\n",
       "  Insulin Sulfonylurea  ... Nausea  Retching  Vomiting  Stomach fullness   \\\n",
       "0      No           No  ...      No        No        No                No   \n",
       "1     Yes          Yes  ...      No        No        No                No   \n",
       "2      No          Yes  ...      No        No        No                No   \n",
       "3      No          Yes  ...      No        No        No                No   \n",
       "4      No          Yes  ...      No        No        No                No   \n",
       "\n",
       "  Not able to finish a meal  Excessive fullness after meals  \\\n",
       "0                        No                              No   \n",
       "1                        No                              No   \n",
       "2                        No                              No   \n",
       "3                       Yes                             Yes   \n",
       "4                        No                              No   \n",
       "\n",
       "   Loss of appetitie  Bloating   stomach or belly visibly larger   \\\n",
       "0                 No         No                                No   \n",
       "1                 No        Yes                               Yes   \n",
       "2                 No         No                                No   \n",
       "3                 No         No                                No   \n",
       "4                 No         No                                No   \n",
       "\n",
       "   presenceofanysymptom  \n",
       "0                    No  \n",
       "1                   Yes  \n",
       "2                    No  \n",
       "3                   Yes  \n",
       "4                    No  \n",
       "\n",
       "[5 rows x 50 columns]"
      ]
     },
     "execution_count": 22,
     "metadata": {},
     "output_type": "execute_result"
    }
   ],
   "source": [
    "data.head()"
   ]
  },
  {
   "cell_type": "code",
   "execution_count": 24,
   "metadata": {},
   "outputs": [
    {
     "data": {
      "text/plain": [
       "Index(['Patient's code ', 'Age', 'Gender', 'Duration of DM', 'Smoking', 'HTN',\n",
       "       'Anti HTN', 'DR', 'Insulin', 'Sulfonylurea', 'Metformin',\n",
       "       'DDP-4 inhibitor', 'TZD', 'Meglitinides', 'None', 'BMI', 'FBS', 'TC',\n",
       "       'TG', 'HDL', 'LDL', 'HbA1c', 'Urine ACR', 'UACR new ', 'Albuminuria',\n",
       "       'eGFR MDRD equation', 'SBP', 'DBP', 'PSBP', 'PDBP', 'PHR',\n",
       "       'orthostatic hypotension', 'resting tachycardia', 'QTc',\n",
       "       'QTc prolonged ? ', 'CAN', 'GCSI score', 'GCSI new', 'GCSI present ?',\n",
       "       'GCSI category', 'Nausea ', 'Retching ', 'Vomiting ',\n",
       "       'Stomach fullness ', 'Not able to finish a meal',\n",
       "       'Excessive fullness after meals', 'Loss of appetitie', 'Bloating ',\n",
       "       'stomach or belly visibly larger ', 'presenceofanysymptom'],\n",
       "      dtype='object')"
      ]
     },
     "execution_count": 24,
     "metadata": {},
     "output_type": "execute_result"
    }
   ],
   "source": [
    "data.columns"
   ]
  },
  {
   "cell_type": "code",
   "execution_count": 25,
   "metadata": {},
   "outputs": [],
   "source": [
    "data.drop([\"Patient's code \"], axis = 1, inplace = True)"
   ]
  },
  {
   "cell_type": "code",
   "execution_count": 26,
   "metadata": {},
   "outputs": [
    {
     "data": {
      "text/plain": [
       "True"
      ]
     },
     "execution_count": 26,
     "metadata": {},
     "output_type": "execute_result"
    }
   ],
   "source": [
    "data.isnull().values.any()"
   ]
  },
  {
   "cell_type": "markdown",
   "metadata": {},
   "source": [
    "## Mapping the strings"
   ]
  },
  {
   "cell_type": "code",
   "execution_count": 28,
   "metadata": {},
   "outputs": [],
   "source": [
    "data.replace({'No': 0, 'Yes': 1, 'F': 0, 'M': 1}, inplace = True)"
   ]
  },
  {
   "cell_type": "code",
   "execution_count": 31,
   "metadata": {},
   "outputs": [
    {
     "data": {
      "text/plain": [
       "array(['absent  ', 'present ', 'present'], dtype=object)"
      ]
     },
     "execution_count": 31,
     "metadata": {},
     "output_type": "execute_result"
    }
   ],
   "source": [
    "data['GCSI present ?'].unique()"
   ]
  },
  {
   "cell_type": "code",
   "execution_count": 32,
   "metadata": {},
   "outputs": [
    {
     "data": {
      "text/plain": [
       "array(['none', 'mild', 'severe'], dtype=object)"
      ]
     },
     "execution_count": 32,
     "metadata": {},
     "output_type": "execute_result"
    }
   ],
   "source": [
    "data['GCSI category'].unique()"
   ]
  },
  {
   "cell_type": "code",
   "execution_count": 33,
   "metadata": {},
   "outputs": [
    {
     "data": {
      "text/plain": [
       "array(['borderline', 0, 1], dtype=object)"
      ]
     },
     "execution_count": 33,
     "metadata": {},
     "output_type": "execute_result"
    }
   ],
   "source": [
    "data['QTc prolonged ? '].unique()"
   ]
  },
  {
   "cell_type": "code",
   "execution_count": 34,
   "metadata": {},
   "outputs": [
    {
     "data": {
      "text/plain": [
       "array(['normoalbuminuria', 'macroalbuminuria', 'microalbuminuria'],\n",
       "      dtype=object)"
      ]
     },
     "execution_count": 34,
     "metadata": {},
     "output_type": "execute_result"
    }
   ],
   "source": [
    "data['Albuminuria'].unique()"
   ]
  },
  {
   "cell_type": "code",
   "execution_count": 36,
   "metadata": {},
   "outputs": [],
   "source": [
    "data.replace({'absent  ': 0, 'present ': 1, 'present': 1, 'none':0, 'mild': 1, 'severe': 2, 'normoalbuminuria': 0, 'macroalbuminuria': 2, 'microalbuminuria': 1, 'borderline': 0.5}, inplace = True)"
   ]
  },
  {
   "cell_type": "code",
   "execution_count": 42,
   "metadata": {},
   "outputs": [
    {
     "data": {
      "text/plain": [
       "array([0, 1, nan, 'has appo', 'No 2012 has appoint'], dtype=object)"
      ]
     },
     "execution_count": 42,
     "metadata": {},
     "output_type": "execute_result"
    }
   ],
   "source": [
    "data['DR'].unique()"
   ]
  },
  {
   "cell_type": "markdown",
   "metadata": {},
   "source": [
    "### Couldn't find what DR meant"
   ]
  },
  {
   "cell_type": "code",
   "execution_count": 43,
   "metadata": {},
   "outputs": [],
   "source": [
    "data.replace({'has appo': 1, 'No 2012 has appoint': 0}, inplace = True)"
   ]
  },
  {
   "cell_type": "markdown",
   "metadata": {},
   "source": [
    "## Filling Missing Values"
   ]
  },
  {
   "cell_type": "code",
   "execution_count": 44,
   "metadata": {},
   "outputs": [],
   "source": [
    "from sklearn.experimental import enable_iterative_imputer\n",
    "from sklearn.impute import IterativeImputer"
   ]
  },
  {
   "cell_type": "code",
   "execution_count": 45,
   "metadata": {},
   "outputs": [],
   "source": [
    "iterative_imp = IterativeImputer()"
   ]
  },
  {
   "cell_type": "code",
   "execution_count": 47,
   "metadata": {},
   "outputs": [
    {
     "data": {
      "text/plain": [
       "IterativeImputer(add_indicator=False, estimator=None,\n",
       "                 imputation_order='ascending', initial_strategy='mean',\n",
       "                 max_iter=10, max_value=None, min_value=None,\n",
       "                 missing_values=nan, n_nearest_features=None, random_state=None,\n",
       "                 sample_posterior=False, skip_complete=False, tol=0.001,\n",
       "                 verbose=0)"
      ]
     },
     "execution_count": 47,
     "metadata": {},
     "output_type": "execute_result"
    }
   ],
   "source": [
    "iterative_imp.fit(data)"
   ]
  },
  {
   "cell_type": "code",
   "execution_count": 48,
   "metadata": {},
   "outputs": [],
   "source": [
    "data1 = iterative_imp.fit_transform(data)"
   ]
  },
  {
   "cell_type": "code",
   "execution_count": 49,
   "metadata": {},
   "outputs": [],
   "source": [
    "data1 = pd.DataFrame(data=data1, columns= data.columns,)"
   ]
  },
  {
   "cell_type": "markdown",
   "metadata": {},
   "source": [
    "# Let's predict duration of diabetes"
   ]
  },
  {
   "cell_type": "code",
   "execution_count": 50,
   "metadata": {},
   "outputs": [],
   "source": [
    "X = data1.drop('Duration of DM', axis = 1)\n",
    "y = data1['Duration of DM']"
   ]
  },
  {
   "cell_type": "code",
   "execution_count": 51,
   "metadata": {},
   "outputs": [],
   "source": [
    "from sklearn.model_selection import train_test_split"
   ]
  },
  {
   "cell_type": "code",
   "execution_count": 52,
   "metadata": {},
   "outputs": [],
   "source": [
    "X, X_test, y, y_test = train_test_split(X, y, test_size=0.30, random_state= 42)"
   ]
  },
  {
   "cell_type": "code",
   "execution_count": 53,
   "metadata": {},
   "outputs": [],
   "source": [
    "from sklearn.metrics import mean_absolute_error\n",
    "from sklearn.metrics import mean_squared_error\n",
    "from math import sqrt"
   ]
  },
  {
   "cell_type": "code",
   "execution_count": 54,
   "metadata": {},
   "outputs": [],
   "source": [
    "#Sklearn does't have any function for SMAPE, so I wrote a function in python\n",
    "#The function has 100%/n. I replaced 100% with 1, to have values between 0 and 1 in form of percentages.\n",
    "#A is the real, while F is predicted.\n",
    "def smape(a, f):\n",
    "    return 1/len(a) * np.sum(2 * np.abs(f-a) / (np.abs(a) + np.abs(f)))"
   ]
  },
  {
   "cell_type": "code",
   "execution_count": 55,
   "metadata": {},
   "outputs": [],
   "source": [
    "r2mean = []\n",
    "SMAPEm = []\n",
    "MSEm = []\n",
    "RMSEm = []\n",
    "MAEm= []"
   ]
  },
  {
   "cell_type": "code",
   "execution_count": 56,
   "metadata": {},
   "outputs": [],
   "source": [
    "randomforest = RandomForestRegressor()"
   ]
  },
  {
   "cell_type": "code",
   "execution_count": 57,
   "metadata": {},
   "outputs": [],
   "source": [
    "for x in range(1000): \n",
    "  X_train, X_test2, y_train, y_test2 = train_test_split(X, y, test_size=0.3)\n",
    "  randomforest.fit(X_train, y_train)\n",
    "  r2 = randomforest.score(X_test, y_test)\n",
    "  y_pred = randomforest.predict(X_test)\n",
    "  r2mean.append(r2)\n",
    "  MAE = mean_absolute_error(y_test, y_pred)\n",
    "  MAEm.append(MAE)\n",
    "  MSE = mean_squared_error(y_test, y_pred)\n",
    "  MSEm.append(MSE)\n",
    "  RMSE = sqrt(mean_squared_error(y_test, y_pred))\n",
    "  RMSEm.append(RMSE)\n",
    "  SMAPE = smape(y_test, y_pred)\n",
    "  SMAPEm.append(SMAPE)"
   ]
  },
  {
   "cell_type": "code",
   "execution_count": 58,
   "metadata": {},
   "outputs": [],
   "source": [
    "Metrics = {'Metrics Means': ['R2', 'MSE', 'RMSE', 'SMAPE', 'MAE'],\n",
    "           'Values': [np.mean(r2mean), np.mean(MSEm), np.mean(RMSEm), np.mean(SMAPEm), np.mean(MAE)]\n",
    "           }"
   ]
  },
  {
   "cell_type": "code",
   "execution_count": 59,
   "metadata": {},
   "outputs": [
    {
     "data": {
      "text/html": [
       "<div>\n",
       "<style scoped>\n",
       "    .dataframe tbody tr th:only-of-type {\n",
       "        vertical-align: middle;\n",
       "    }\n",
       "\n",
       "    .dataframe tbody tr th {\n",
       "        vertical-align: top;\n",
       "    }\n",
       "\n",
       "    .dataframe thead th {\n",
       "        text-align: right;\n",
       "    }\n",
       "</style>\n",
       "<table border=\"1\" class=\"dataframe\">\n",
       "  <thead>\n",
       "    <tr style=\"text-align: right;\">\n",
       "      <th></th>\n",
       "      <th>Metrics Means</th>\n",
       "      <th>Values</th>\n",
       "    </tr>\n",
       "  </thead>\n",
       "  <tbody>\n",
       "    <tr>\n",
       "      <th>0</th>\n",
       "      <td>R2</td>\n",
       "      <td>0.352821</td>\n",
       "    </tr>\n",
       "    <tr>\n",
       "      <th>1</th>\n",
       "      <td>MSE</td>\n",
       "      <td>31.820339</td>\n",
       "    </tr>\n",
       "    <tr>\n",
       "      <th>2</th>\n",
       "      <td>RMSE</td>\n",
       "      <td>5.639898</td>\n",
       "    </tr>\n",
       "    <tr>\n",
       "      <th>3</th>\n",
       "      <td>SMAPE</td>\n",
       "      <td>0.471130</td>\n",
       "    </tr>\n",
       "    <tr>\n",
       "      <th>4</th>\n",
       "      <td>MAE</td>\n",
       "      <td>4.706183</td>\n",
       "    </tr>\n",
       "  </tbody>\n",
       "</table>\n",
       "</div>"
      ],
      "text/plain": [
       "  Metrics Means     Values\n",
       "0            R2   0.352821\n",
       "1           MSE  31.820339\n",
       "2          RMSE   5.639898\n",
       "3         SMAPE   0.471130\n",
       "4           MAE   4.706183"
      ]
     },
     "execution_count": 59,
     "metadata": {},
     "output_type": "execute_result"
    }
   ],
   "source": [
    "MetricsDF = pd.DataFrame.from_dict(Metrics)\n",
    "MetricsDF"
   ]
  },
  {
   "cell_type": "markdown",
   "metadata": {},
   "source": [
    "# XGBOOST"
   ]
  },
  {
   "cell_type": "code",
   "execution_count": 60,
   "metadata": {},
   "outputs": [
    {
     "name": "stderr",
     "output_type": "stream",
     "text": [
      "C:\\Users\\54226\\Anaconda3\\envs\\python-ml-2020\\lib\\site-packages\\xgboost\\__init__.py:29: FutureWarning: Python 3.5 support is deprecated; XGBoost will require Python 3.6+ in the near future. Consider upgrading to Python 3.6+.\n",
      "  FutureWarning)\n"
     ]
    }
   ],
   "source": [
    "import xgboost as xgb\n",
    "from xgboost.sklearn import XGBRegressor"
   ]
  },
  {
   "cell_type": "code",
   "execution_count": 64,
   "metadata": {},
   "outputs": [],
   "source": [
    "xgb = XGBRegressor()"
   ]
  },
  {
   "cell_type": "code",
   "execution_count": 65,
   "metadata": {},
   "outputs": [],
   "source": [
    "r2mean = []\n",
    "SMAPEm = []\n",
    "MSEm = []\n",
    "RMSEm = []\n",
    "MAEm= []"
   ]
  },
  {
   "cell_type": "code",
   "execution_count": 66,
   "metadata": {},
   "outputs": [],
   "source": [
    "for x in range(1000): \n",
    "  X_train, X_test2, y_train, y_test2 = train_test_split(X, y, test_size=0.30)\n",
    "  xgb.fit(X_train, y_train)\n",
    "  r2 = xgb.score(X_test, y_test)\n",
    "  y_pred = xgb.predict(X_test)\n",
    "  r2mean.append(r2)\n",
    "  MAE = mean_absolute_error(y_test, y_pred)\n",
    "  MAEm.append(MAE)\n",
    "  MSE = mean_squared_error(y_test, y_pred)\n",
    "  MSEm.append(MSE)\n",
    "  RMSE = sqrt(mean_squared_error(y_test, y_pred))\n",
    "  RMSEm.append(RMSE)\n",
    "  SMAPE = smape(y_test, y_pred)\n",
    "  SMAPEm.append(SMAPE)"
   ]
  },
  {
   "cell_type": "code",
   "execution_count": 67,
   "metadata": {},
   "outputs": [],
   "source": [
    "Metrics = {'Metrics Means': ['R2', 'MSE', 'RMSE', 'SMAPE', 'MAE'],\n",
    "           'Values': [np.mean(r2mean), np.mean(MSEm), np.mean(RMSEm), np.mean(SMAPEm), np.mean(MAE)]\n",
    "           }"
   ]
  },
  {
   "cell_type": "code",
   "execution_count": 68,
   "metadata": {},
   "outputs": [
    {
     "data": {
      "text/html": [
       "<div>\n",
       "<style scoped>\n",
       "    .dataframe tbody tr th:only-of-type {\n",
       "        vertical-align: middle;\n",
       "    }\n",
       "\n",
       "    .dataframe tbody tr th {\n",
       "        vertical-align: top;\n",
       "    }\n",
       "\n",
       "    .dataframe thead th {\n",
       "        text-align: right;\n",
       "    }\n",
       "</style>\n",
       "<table border=\"1\" class=\"dataframe\">\n",
       "  <thead>\n",
       "    <tr style=\"text-align: right;\">\n",
       "      <th></th>\n",
       "      <th>Metrics Means</th>\n",
       "      <th>Values</th>\n",
       "    </tr>\n",
       "  </thead>\n",
       "  <tbody>\n",
       "    <tr>\n",
       "      <th>0</th>\n",
       "      <td>R2</td>\n",
       "      <td>0.244817</td>\n",
       "    </tr>\n",
       "    <tr>\n",
       "      <th>1</th>\n",
       "      <td>MSE</td>\n",
       "      <td>37.130661</td>\n",
       "    </tr>\n",
       "    <tr>\n",
       "      <th>2</th>\n",
       "      <td>RMSE</td>\n",
       "      <td>6.088896</td>\n",
       "    </tr>\n",
       "    <tr>\n",
       "      <th>3</th>\n",
       "      <td>SMAPE</td>\n",
       "      <td>0.497702</td>\n",
       "    </tr>\n",
       "    <tr>\n",
       "      <th>4</th>\n",
       "      <td>MAE</td>\n",
       "      <td>5.087803</td>\n",
       "    </tr>\n",
       "  </tbody>\n",
       "</table>\n",
       "</div>"
      ],
      "text/plain": [
       "  Metrics Means     Values\n",
       "0            R2   0.244817\n",
       "1           MSE  37.130661\n",
       "2          RMSE   6.088896\n",
       "3         SMAPE   0.497702\n",
       "4           MAE   5.087803"
      ]
     },
     "execution_count": 68,
     "metadata": {},
     "output_type": "execute_result"
    }
   ],
   "source": [
    "MetricsDF = pd.DataFrame.from_dict(Metrics)\n",
    "MetricsDF"
   ]
  },
  {
   "cell_type": "markdown",
   "metadata": {},
   "source": [
    "## Feature Rankings"
   ]
  },
  {
   "cell_type": "code",
   "execution_count": 74,
   "metadata": {},
   "outputs": [],
   "source": [
    "import gabrielrfe as rfe"
   ]
  },
  {
   "cell_type": "code",
   "execution_count": 75,
   "metadata": {},
   "outputs": [],
   "source": [
    "ranking = rfe.RankingRE(X, y, 100)"
   ]
  },
  {
   "cell_type": "code",
   "execution_count": 76,
   "metadata": {},
   "outputs": [],
   "source": [
    "r2pred = rfe.RankingRE(X, y, 100)"
   ]
  },
  {
   "cell_type": "code",
   "execution_count": 77,
   "metadata": {},
   "outputs": [
    {
     "data": {
      "text/html": [
       "<div>\n",
       "<style scoped>\n",
       "    .dataframe tbody tr th:only-of-type {\n",
       "        vertical-align: middle;\n",
       "    }\n",
       "\n",
       "    .dataframe tbody tr th {\n",
       "        vertical-align: top;\n",
       "    }\n",
       "\n",
       "    .dataframe thead th {\n",
       "        text-align: right;\n",
       "    }\n",
       "</style>\n",
       "<table border=\"1\" class=\"dataframe\">\n",
       "  <thead>\n",
       "    <tr style=\"text-align: right;\">\n",
       "      <th></th>\n",
       "      <th>Categories</th>\n",
       "      <th>average-r2-punishment</th>\n",
       "      <th>ranking</th>\n",
       "      <th>STD_of_r2_punishment</th>\n",
       "    </tr>\n",
       "  </thead>\n",
       "  <tbody>\n",
       "    <tr>\n",
       "      <th>5</th>\n",
       "      <td>DR</td>\n",
       "      <td>0.12070512768290778</td>\n",
       "      <td>1.0</td>\n",
       "      <td>0.05489718324716997</td>\n",
       "    </tr>\n",
       "    <tr>\n",
       "      <th>0</th>\n",
       "      <td>Age</td>\n",
       "      <td>0.039125978952559634</td>\n",
       "      <td>2.0</td>\n",
       "      <td>0.04059996192538698</td>\n",
       "    </tr>\n",
       "    <tr>\n",
       "      <th>6</th>\n",
       "      <td>Insulin</td>\n",
       "      <td>0.023384661331495006</td>\n",
       "      <td>3.0</td>\n",
       "      <td>0.018956492623098627</td>\n",
       "    </tr>\n",
       "    <tr>\n",
       "      <th>13</th>\n",
       "      <td>BMI</td>\n",
       "      <td>0.009093799070883389</td>\n",
       "      <td>4.0</td>\n",
       "      <td>0.015612668763592456</td>\n",
       "    </tr>\n",
       "    <tr>\n",
       "      <th>27</th>\n",
       "      <td>PDBP</td>\n",
       "      <td>0.004414482632755936</td>\n",
       "      <td>5.0</td>\n",
       "      <td>0.0185387828335946</td>\n",
       "    </tr>\n",
       "    <tr>\n",
       "      <th>33</th>\n",
       "      <td>CAN</td>\n",
       "      <td>0.0039376065142643305</td>\n",
       "      <td>6.0</td>\n",
       "      <td>0.01214875013099059</td>\n",
       "    </tr>\n",
       "    <tr>\n",
       "      <th>7</th>\n",
       "      <td>Sulfonylurea</td>\n",
       "      <td>0.001761086585761806</td>\n",
       "      <td>7.0</td>\n",
       "      <td>0.011779937652976854</td>\n",
       "    </tr>\n",
       "    <tr>\n",
       "      <th>35</th>\n",
       "      <td>GCSI new</td>\n",
       "      <td>0.001538471226327808</td>\n",
       "      <td>8.0</td>\n",
       "      <td>0.009629481042706951</td>\n",
       "    </tr>\n",
       "    <tr>\n",
       "      <th>9</th>\n",
       "      <td>DDP-4 inhibitor</td>\n",
       "      <td>0.001508476230190877</td>\n",
       "      <td>9.0</td>\n",
       "      <td>0.010969732015773573</td>\n",
       "    </tr>\n",
       "    <tr>\n",
       "      <th>37</th>\n",
       "      <td>GCSI category</td>\n",
       "      <td>0.0014491355761156557</td>\n",
       "      <td>10.0</td>\n",
       "      <td>0.010651602716437157</td>\n",
       "    </tr>\n",
       "    <tr>\n",
       "      <th>34</th>\n",
       "      <td>GCSI score</td>\n",
       "      <td>0.0014473726781238485</td>\n",
       "      <td>11.0</td>\n",
       "      <td>0.009770821915192858</td>\n",
       "    </tr>\n",
       "    <tr>\n",
       "      <th>12</th>\n",
       "      <td>None</td>\n",
       "      <td>0.0013252588438941544</td>\n",
       "      <td>12.0</td>\n",
       "      <td>0.009675674266595144</td>\n",
       "    </tr>\n",
       "    <tr>\n",
       "      <th>16</th>\n",
       "      <td>TG</td>\n",
       "      <td>0.001250498530542135</td>\n",
       "      <td>13.0</td>\n",
       "      <td>0.013541936453103212</td>\n",
       "    </tr>\n",
       "    <tr>\n",
       "      <th>18</th>\n",
       "      <td>LDL</td>\n",
       "      <td>0.001110681964627428</td>\n",
       "      <td>14.0</td>\n",
       "      <td>0.014681202803953726</td>\n",
       "    </tr>\n",
       "    <tr>\n",
       "      <th>2</th>\n",
       "      <td>Smoking</td>\n",
       "      <td>0.0010392676091683481</td>\n",
       "      <td>15.0</td>\n",
       "      <td>0.009846176100019435</td>\n",
       "    </tr>\n",
       "    <tr>\n",
       "      <th>20</th>\n",
       "      <td>Urine ACR</td>\n",
       "      <td>0.0009985523878873284</td>\n",
       "      <td>16.0</td>\n",
       "      <td>0.009756048536376643</td>\n",
       "    </tr>\n",
       "    <tr>\n",
       "      <th>21</th>\n",
       "      <td>UACR new</td>\n",
       "      <td>0.0009792295100543122</td>\n",
       "      <td>17.0</td>\n",
       "      <td>0.01035516919899791</td>\n",
       "    </tr>\n",
       "    <tr>\n",
       "      <th>1</th>\n",
       "      <td>Gender</td>\n",
       "      <td>0.0009315502659190083</td>\n",
       "      <td>18.0</td>\n",
       "      <td>0.009844777846949995</td>\n",
       "    </tr>\n",
       "    <tr>\n",
       "      <th>11</th>\n",
       "      <td>Meglitinides</td>\n",
       "      <td>0.0008525230918086395</td>\n",
       "      <td>19.0</td>\n",
       "      <td>0.00936030104762695</td>\n",
       "    </tr>\n",
       "    <tr>\n",
       "      <th>42</th>\n",
       "      <td>Not able to finish a meal</td>\n",
       "      <td>0.0008044352523409599</td>\n",
       "      <td>20.0</td>\n",
       "      <td>0.010635336158134428</td>\n",
       "    </tr>\n",
       "    <tr>\n",
       "      <th>29</th>\n",
       "      <td>orthostatic hypotension</td>\n",
       "      <td>0.0007294501571587187</td>\n",
       "      <td>21.0</td>\n",
       "      <td>0.00972597883604816</td>\n",
       "    </tr>\n",
       "    <tr>\n",
       "      <th>3</th>\n",
       "      <td>HTN</td>\n",
       "      <td>0.0007193634202273386</td>\n",
       "      <td>22.0</td>\n",
       "      <td>0.010442407439551608</td>\n",
       "    </tr>\n",
       "    <tr>\n",
       "      <th>30</th>\n",
       "      <td>resting tachycardia</td>\n",
       "      <td>0.0006843257705179652</td>\n",
       "      <td>23.0</td>\n",
       "      <td>0.009809856033022835</td>\n",
       "    </tr>\n",
       "    <tr>\n",
       "      <th>4</th>\n",
       "      <td>Anti HTN</td>\n",
       "      <td>0.0005671458004730747</td>\n",
       "      <td>24.0</td>\n",
       "      <td>0.010554660436422234</td>\n",
       "    </tr>\n",
       "    <tr>\n",
       "      <th>41</th>\n",
       "      <td>Stomach fullness</td>\n",
       "      <td>0.0005581960293848845</td>\n",
       "      <td>25.0</td>\n",
       "      <td>0.01029565791827143</td>\n",
       "    </tr>\n",
       "    <tr>\n",
       "      <th>45</th>\n",
       "      <td>Bloating</td>\n",
       "      <td>0.0005291920808436225</td>\n",
       "      <td>26.0</td>\n",
       "      <td>0.01000881099931388</td>\n",
       "    </tr>\n",
       "    <tr>\n",
       "      <th>40</th>\n",
       "      <td>Vomiting</td>\n",
       "      <td>0.0005078837925724941</td>\n",
       "      <td>27.0</td>\n",
       "      <td>0.010731477165859116</td>\n",
       "    </tr>\n",
       "    <tr>\n",
       "      <th>25</th>\n",
       "      <td>DBP</td>\n",
       "      <td>0.0004836348253559397</td>\n",
       "      <td>28.0</td>\n",
       "      <td>0.01232614429483618</td>\n",
       "    </tr>\n",
       "    <tr>\n",
       "      <th>46</th>\n",
       "      <td>stomach or belly visibly larger</td>\n",
       "      <td>0.0004489600761565807</td>\n",
       "      <td>29.0</td>\n",
       "      <td>0.011054101585281806</td>\n",
       "    </tr>\n",
       "    <tr>\n",
       "      <th>32</th>\n",
       "      <td>QTc prolonged ?</td>\n",
       "      <td>0.00043410345985682956</td>\n",
       "      <td>30.0</td>\n",
       "      <td>0.009634619746483232</td>\n",
       "    </tr>\n",
       "    <tr>\n",
       "      <th>36</th>\n",
       "      <td>GCSI present ?</td>\n",
       "      <td>0.0004050847616179917</td>\n",
       "      <td>31.0</td>\n",
       "      <td>0.011138267585352616</td>\n",
       "    </tr>\n",
       "    <tr>\n",
       "      <th>10</th>\n",
       "      <td>TZD</td>\n",
       "      <td>0.0003865742554766635</td>\n",
       "      <td>32.0</td>\n",
       "      <td>0.010286943965006335</td>\n",
       "    </tr>\n",
       "    <tr>\n",
       "      <th>47</th>\n",
       "      <td>presenceofanysymptom</td>\n",
       "      <td>0.0003218565162862505</td>\n",
       "      <td>33.0</td>\n",
       "      <td>0.010287291032683778</td>\n",
       "    </tr>\n",
       "    <tr>\n",
       "      <th>31</th>\n",
       "      <td>QTc</td>\n",
       "      <td>0.00023230830080613247</td>\n",
       "      <td>34.0</td>\n",
       "      <td>0.013171948995191736</td>\n",
       "    </tr>\n",
       "    <tr>\n",
       "      <th>38</th>\n",
       "      <td>Nausea</td>\n",
       "      <td>0.00019757414480364098</td>\n",
       "      <td>35.0</td>\n",
       "      <td>0.009390821372430538</td>\n",
       "    </tr>\n",
       "    <tr>\n",
       "      <th>44</th>\n",
       "      <td>Loss of appetitie</td>\n",
       "      <td>-4.7655538666568216e-05</td>\n",
       "      <td>36.0</td>\n",
       "      <td>0.009757323450243549</td>\n",
       "    </tr>\n",
       "    <tr>\n",
       "      <th>14</th>\n",
       "      <td>FBS</td>\n",
       "      <td>-2.8738831636511143e-05</td>\n",
       "      <td>37.0</td>\n",
       "      <td>0.01599710954363582</td>\n",
       "    </tr>\n",
       "    <tr>\n",
       "      <th>8</th>\n",
       "      <td>Metformin</td>\n",
       "      <td>-1.130656493826876e-05</td>\n",
       "      <td>38.0</td>\n",
       "      <td>0.009880777970957738</td>\n",
       "    </tr>\n",
       "    <tr>\n",
       "      <th>23</th>\n",
       "      <td>eGFR MDRD equation</td>\n",
       "      <td>-0.00897399334564294</td>\n",
       "      <td>39.0</td>\n",
       "      <td>0.013669698096259094</td>\n",
       "    </tr>\n",
       "    <tr>\n",
       "      <th>28</th>\n",
       "      <td>PHR</td>\n",
       "      <td>-0.0054431500853287865</td>\n",
       "      <td>40.0</td>\n",
       "      <td>0.016291108666624757</td>\n",
       "    </tr>\n",
       "    <tr>\n",
       "      <th>19</th>\n",
       "      <td>HbA1c</td>\n",
       "      <td>-0.0035408898497822604</td>\n",
       "      <td>41.0</td>\n",
       "      <td>0.01421706323586627</td>\n",
       "    </tr>\n",
       "    <tr>\n",
       "      <th>26</th>\n",
       "      <td>PSBP</td>\n",
       "      <td>-0.0027414625628350052</td>\n",
       "      <td>42.0</td>\n",
       "      <td>0.015849877667381426</td>\n",
       "    </tr>\n",
       "    <tr>\n",
       "      <th>15</th>\n",
       "      <td>TC</td>\n",
       "      <td>-0.0017452042951481958</td>\n",
       "      <td>43.0</td>\n",
       "      <td>0.014540957299846946</td>\n",
       "    </tr>\n",
       "    <tr>\n",
       "      <th>17</th>\n",
       "      <td>HDL</td>\n",
       "      <td>-0.001392359585595192</td>\n",
       "      <td>44.0</td>\n",
       "      <td>0.014124692390456129</td>\n",
       "    </tr>\n",
       "    <tr>\n",
       "      <th>43</th>\n",
       "      <td>Excessive fullness after meals</td>\n",
       "      <td>-0.0011926655203156652</td>\n",
       "      <td>45.0</td>\n",
       "      <td>0.010784476660295594</td>\n",
       "    </tr>\n",
       "    <tr>\n",
       "      <th>24</th>\n",
       "      <td>SBP</td>\n",
       "      <td>-0.0006544390634222369</td>\n",
       "      <td>46.0</td>\n",
       "      <td>0.012520738484830143</td>\n",
       "    </tr>\n",
       "    <tr>\n",
       "      <th>22</th>\n",
       "      <td>Albuminuria</td>\n",
       "      <td>-0.0001631317850788165</td>\n",
       "      <td>47.0</td>\n",
       "      <td>0.009515066519239838</td>\n",
       "    </tr>\n",
       "    <tr>\n",
       "      <th>39</th>\n",
       "      <td>Retching</td>\n",
       "      <td>-0.00016287345470683543</td>\n",
       "      <td>48.0</td>\n",
       "      <td>0.010986073620243154</td>\n",
       "    </tr>\n",
       "  </tbody>\n",
       "</table>\n",
       "</div>"
      ],
      "text/plain": [
       "                          Categories    average-r2-punishment  ranking  \\\n",
       "5                                 DR      0.12070512768290778      1.0   \n",
       "0                                Age     0.039125978952559634      2.0   \n",
       "6                            Insulin     0.023384661331495006      3.0   \n",
       "13                               BMI     0.009093799070883389      4.0   \n",
       "27                              PDBP     0.004414482632755936      5.0   \n",
       "33                               CAN    0.0039376065142643305      6.0   \n",
       "7                       Sulfonylurea     0.001761086585761806      7.0   \n",
       "35                          GCSI new     0.001538471226327808      8.0   \n",
       "9                    DDP-4 inhibitor     0.001508476230190877      9.0   \n",
       "37                     GCSI category    0.0014491355761156557     10.0   \n",
       "34                        GCSI score    0.0014473726781238485     11.0   \n",
       "12                              None    0.0013252588438941544     12.0   \n",
       "16                                TG     0.001250498530542135     13.0   \n",
       "18                               LDL     0.001110681964627428     14.0   \n",
       "2                            Smoking    0.0010392676091683481     15.0   \n",
       "20                         Urine ACR    0.0009985523878873284     16.0   \n",
       "21                         UACR new     0.0009792295100543122     17.0   \n",
       "1                             Gender    0.0009315502659190083     18.0   \n",
       "11                      Meglitinides    0.0008525230918086395     19.0   \n",
       "42         Not able to finish a meal    0.0008044352523409599     20.0   \n",
       "29           orthostatic hypotension    0.0007294501571587187     21.0   \n",
       "3                                HTN    0.0007193634202273386     22.0   \n",
       "30               resting tachycardia    0.0006843257705179652     23.0   \n",
       "4                           Anti HTN    0.0005671458004730747     24.0   \n",
       "41                 Stomach fullness     0.0005581960293848845     25.0   \n",
       "45                         Bloating     0.0005291920808436225     26.0   \n",
       "40                         Vomiting     0.0005078837925724941     27.0   \n",
       "25                               DBP    0.0004836348253559397     28.0   \n",
       "46  stomach or belly visibly larger     0.0004489600761565807     29.0   \n",
       "32                  QTc prolonged ?    0.00043410345985682956     30.0   \n",
       "36                    GCSI present ?    0.0004050847616179917     31.0   \n",
       "10                               TZD    0.0003865742554766635     32.0   \n",
       "47              presenceofanysymptom    0.0003218565162862505     33.0   \n",
       "31                               QTc   0.00023230830080613247     34.0   \n",
       "38                           Nausea    0.00019757414480364098     35.0   \n",
       "44                 Loss of appetitie  -4.7655538666568216e-05     36.0   \n",
       "14                               FBS  -2.8738831636511143e-05     37.0   \n",
       "8                          Metformin   -1.130656493826876e-05     38.0   \n",
       "23                eGFR MDRD equation     -0.00897399334564294     39.0   \n",
       "28                               PHR   -0.0054431500853287865     40.0   \n",
       "19                             HbA1c   -0.0035408898497822604     41.0   \n",
       "26                              PSBP   -0.0027414625628350052     42.0   \n",
       "15                                TC   -0.0017452042951481958     43.0   \n",
       "17                               HDL    -0.001392359585595192     44.0   \n",
       "43    Excessive fullness after meals   -0.0011926655203156652     45.0   \n",
       "24                               SBP   -0.0006544390634222369     46.0   \n",
       "22                       Albuminuria   -0.0001631317850788165     47.0   \n",
       "39                         Retching   -0.00016287345470683543     48.0   \n",
       "\n",
       "    STD_of_r2_punishment  \n",
       "5    0.05489718324716997  \n",
       "0    0.04059996192538698  \n",
       "6   0.018956492623098627  \n",
       "13  0.015612668763592456  \n",
       "27    0.0185387828335946  \n",
       "33   0.01214875013099059  \n",
       "7   0.011779937652976854  \n",
       "35  0.009629481042706951  \n",
       "9   0.010969732015773573  \n",
       "37  0.010651602716437157  \n",
       "34  0.009770821915192858  \n",
       "12  0.009675674266595144  \n",
       "16  0.013541936453103212  \n",
       "18  0.014681202803953726  \n",
       "2   0.009846176100019435  \n",
       "20  0.009756048536376643  \n",
       "21   0.01035516919899791  \n",
       "1   0.009844777846949995  \n",
       "11   0.00936030104762695  \n",
       "42  0.010635336158134428  \n",
       "29   0.00972597883604816  \n",
       "3   0.010442407439551608  \n",
       "30  0.009809856033022835  \n",
       "4   0.010554660436422234  \n",
       "41   0.01029565791827143  \n",
       "45   0.01000881099931388  \n",
       "40  0.010731477165859116  \n",
       "25   0.01232614429483618  \n",
       "46  0.011054101585281806  \n",
       "32  0.009634619746483232  \n",
       "36  0.011138267585352616  \n",
       "10  0.010286943965006335  \n",
       "47  0.010287291032683778  \n",
       "31  0.013171948995191736  \n",
       "38  0.009390821372430538  \n",
       "44  0.009757323450243549  \n",
       "14   0.01599710954363582  \n",
       "8   0.009880777970957738  \n",
       "23  0.013669698096259094  \n",
       "28  0.016291108666624757  \n",
       "19   0.01421706323586627  \n",
       "26  0.015849877667381426  \n",
       "15  0.014540957299846946  \n",
       "17  0.014124692390456129  \n",
       "43  0.010784476660295594  \n",
       "24  0.012520738484830143  \n",
       "22  0.009515066519239838  \n",
       "39  0.010986073620243154  "
      ]
     },
     "execution_count": 77,
     "metadata": {},
     "output_type": "execute_result"
    }
   ],
   "source": [
    "r2pred.ranking_by_r2_punishment()"
   ]
  },
  {
   "cell_type": "code",
   "execution_count": null,
   "metadata": {},
   "outputs": [],
   "source": []
  }
 ],
 "metadata": {
  "kernelspec": {
   "display_name": "Python 3",
   "language": "python",
   "name": "python3"
  },
  "language_info": {
   "codemirror_mode": {
    "name": "ipython",
    "version": 3
   },
   "file_extension": ".py",
   "mimetype": "text/x-python",
   "name": "python",
   "nbconvert_exporter": "python",
   "pygments_lexer": "ipython3",
   "version": "3.5.6"
  }
 },
 "nbformat": 4,
 "nbformat_minor": 4
}
