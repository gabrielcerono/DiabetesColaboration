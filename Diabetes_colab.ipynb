{
  "nbformat": 4,
  "nbformat_minor": 0,
  "metadata": {
    "colab": {
      "name": "Diabetes colab.ipynb",
      "provenance": [],
      "collapsed_sections": [
        "XmHA7bn1eu8r",
        "hgb4JU5u_bBS"
      ],
      "authorship_tag": "ABX9TyNUdMn054SC4wZYY7JLxsZn",
      "include_colab_link": true
    },
    "kernelspec": {
      "name": "python3",
      "display_name": "Python 3"
    }
  },
  "cells": [
    {
      "cell_type": "markdown",
      "metadata": {
        "id": "view-in-github",
        "colab_type": "text"
      },
      "source": [
        "<a href=\"https://colab.research.google.com/github/gabrielcerono/DiabetesColaboration/blob/main/Diabetes_colab.ipynb\" target=\"_parent\"><img src=\"https://colab.research.google.com/assets/colab-badge.svg\" alt=\"Open In Colab\"/></a>"
      ]
    },
    {
      "cell_type": "code",
      "metadata": {
        "id": "OazisxkEAn8W"
      },
      "source": [
        "import pandas as pd\r\n",
        "import matplotlib.pyplot as plt\r\n",
        "import numpy as np\r\n",
        "import sklearn as sk\r\n",
        "from sklearn.model_selection import train_test_split\r\n",
        "from sklearn.ensemble import RandomForestRegressor"
      ],
      "execution_count": 1,
      "outputs": []
    },
    {
      "cell_type": "code",
      "metadata": {
        "id": "nsKP5gJCBHda"
      },
      "source": [
        "data = pd.read_excel('/content/pone.0216416.s003.xlsx')"
      ],
      "execution_count": 2,
      "outputs": []
    },
    {
      "cell_type": "markdown",
      "metadata": {
        "id": "qBipOcxKuZYw"
      },
      "source": [
        "# Pre-Processing"
      ]
    },
    {
      "cell_type": "code",
      "metadata": {
        "colab": {
          "base_uri": "https://localhost:8080/",
          "height": 270
        },
        "id": "BRnOtAS5BVc0",
        "outputId": "b5ac9533-c5c5-46aa-bff3-af62a0a263bd"
      },
      "source": [
        "data.head()"
      ],
      "execution_count": 3,
      "outputs": [
        {
          "output_type": "execute_result",
          "data": {
            "text/html": [
              "<div>\n",
              "<style scoped>\n",
              "    .dataframe tbody tr th:only-of-type {\n",
              "        vertical-align: middle;\n",
              "    }\n",
              "\n",
              "    .dataframe tbody tr th {\n",
              "        vertical-align: top;\n",
              "    }\n",
              "\n",
              "    .dataframe thead th {\n",
              "        text-align: right;\n",
              "    }\n",
              "</style>\n",
              "<table border=\"1\" class=\"dataframe\">\n",
              "  <thead>\n",
              "    <tr style=\"text-align: right;\">\n",
              "      <th></th>\n",
              "      <th>no</th>\n",
              "      <th>gender (male=1, female=0)</th>\n",
              "      <th>age</th>\n",
              "      <th>duration of diabetes</th>\n",
              "      <th>BMI</th>\n",
              "      <th>insulin regimen (MDI=1, CSII=0)</th>\n",
              "      <th>TDD</th>\n",
              "      <th>TDD/kg</th>\n",
              "      <th>basal</th>\n",
              "      <th>basal/kg</th>\n",
              "      <th>bolus</th>\n",
              "      <th>bolus/kg</th>\n",
              "      <th>HbA1c</th>\n",
              "      <th>eGFR</th>\n",
              "      <th>%body fat</th>\n",
              "      <th>adiponectin</th>\n",
              "      <th>free-testosterone</th>\n",
              "      <th>SMI</th>\n",
              "      <th>grip strength</th>\n",
              "      <th>knee extension strength</th>\n",
              "      <th>gait speed</th>\n",
              "      <th>ucOC</th>\n",
              "      <th>OC</th>\n",
              "    </tr>\n",
              "  </thead>\n",
              "  <tbody>\n",
              "    <tr>\n",
              "      <th>0</th>\n",
              "      <td>1</td>\n",
              "      <td>0</td>\n",
              "      <td>31</td>\n",
              "      <td>17</td>\n",
              "      <td>22.437670</td>\n",
              "      <td>0</td>\n",
              "      <td>43.700001</td>\n",
              "      <td>0.756055</td>\n",
              "      <td>6.336500</td>\n",
              "      <td>0.109628</td>\n",
              "      <td>37.363501</td>\n",
              "      <td>0.646427</td>\n",
              "      <td>6.3</td>\n",
              "      <td>82.927682</td>\n",
              "      <td>0.235501</td>\n",
              "      <td>14.3</td>\n",
              "      <td>0.8</td>\n",
              "      <td>6.9</td>\n",
              "      <td>30.299999</td>\n",
              "      <td>18.200001</td>\n",
              "      <td>0.81</td>\n",
              "      <td>19.10</td>\n",
              "      <td>49.6</td>\n",
              "    </tr>\n",
              "    <tr>\n",
              "      <th>1</th>\n",
              "      <td>2</td>\n",
              "      <td>1</td>\n",
              "      <td>31</td>\n",
              "      <td>25</td>\n",
              "      <td>25.556936</td>\n",
              "      <td>1</td>\n",
              "      <td>64.000000</td>\n",
              "      <td>0.820513</td>\n",
              "      <td>16.000000</td>\n",
              "      <td>0.205128</td>\n",
              "      <td>48.000000</td>\n",
              "      <td>0.615385</td>\n",
              "      <td>7.8</td>\n",
              "      <td>92.427345</td>\n",
              "      <td>0.323871</td>\n",
              "      <td>10.0</td>\n",
              "      <td>9.8</td>\n",
              "      <td>7.5</td>\n",
              "      <td>39.700001</td>\n",
              "      <td>25.200001</td>\n",
              "      <td>1.54</td>\n",
              "      <td>3.96</td>\n",
              "      <td>17.4</td>\n",
              "    </tr>\n",
              "    <tr>\n",
              "      <th>2</th>\n",
              "      <td>3</td>\n",
              "      <td>0</td>\n",
              "      <td>32</td>\n",
              "      <td>26</td>\n",
              "      <td>20.976562</td>\n",
              "      <td>0</td>\n",
              "      <td>27.400000</td>\n",
              "      <td>0.510242</td>\n",
              "      <td>10.549000</td>\n",
              "      <td>0.196443</td>\n",
              "      <td>16.851000</td>\n",
              "      <td>0.313799</td>\n",
              "      <td>5.8</td>\n",
              "      <td>84.945605</td>\n",
              "      <td>0.239700</td>\n",
              "      <td>16.1</td>\n",
              "      <td>1.1</td>\n",
              "      <td>6.1</td>\n",
              "      <td>18.400000</td>\n",
              "      <td>18.200001</td>\n",
              "      <td>1.20</td>\n",
              "      <td>2.01</td>\n",
              "      <td>10.8</td>\n",
              "    </tr>\n",
              "    <tr>\n",
              "      <th>3</th>\n",
              "      <td>4</td>\n",
              "      <td>0</td>\n",
              "      <td>25</td>\n",
              "      <td>17</td>\n",
              "      <td>21.297760</td>\n",
              "      <td>1</td>\n",
              "      <td>60.000000</td>\n",
              "      <td>1.169591</td>\n",
              "      <td>14.100000</td>\n",
              "      <td>0.274854</td>\n",
              "      <td>45.900000</td>\n",
              "      <td>0.894737</td>\n",
              "      <td>7.2</td>\n",
              "      <td>92.742008</td>\n",
              "      <td>0.200393</td>\n",
              "      <td>6.6</td>\n",
              "      <td>1.3</td>\n",
              "      <td>6.5</td>\n",
              "      <td>31.200001</td>\n",
              "      <td>17.799999</td>\n",
              "      <td>1.38</td>\n",
              "      <td>3.53</td>\n",
              "      <td>14.5</td>\n",
              "    </tr>\n",
              "    <tr>\n",
              "      <th>4</th>\n",
              "      <td>5</td>\n",
              "      <td>1</td>\n",
              "      <td>39</td>\n",
              "      <td>35</td>\n",
              "      <td>32.608940</td>\n",
              "      <td>0</td>\n",
              "      <td>60.950001</td>\n",
              "      <td>0.618782</td>\n",
              "      <td>21.332502</td>\n",
              "      <td>0.216574</td>\n",
              "      <td>39.617499</td>\n",
              "      <td>0.402208</td>\n",
              "      <td>7.6</td>\n",
              "      <td>108.602288</td>\n",
              "      <td>0.381244</td>\n",
              "      <td>13.8</td>\n",
              "      <td>10.0</td>\n",
              "      <td>8.3</td>\n",
              "      <td>42.099998</td>\n",
              "      <td>23.900000</td>\n",
              "      <td>1.28</td>\n",
              "      <td>2.46</td>\n",
              "      <td>12.2</td>\n",
              "    </tr>\n",
              "  </tbody>\n",
              "</table>\n",
              "</div>"
            ],
            "text/plain": [
              "   no  gender (male=1, female=0)  age  ...  gait speed   ucOC    OC\n",
              "0   1                          0   31  ...        0.81  19.10  49.6\n",
              "1   2                          1   31  ...        1.54   3.96  17.4\n",
              "2   3                          0   32  ...        1.20   2.01  10.8\n",
              "3   4                          0   25  ...        1.38   3.53  14.5\n",
              "4   5                          1   39  ...        1.28   2.46  12.2\n",
              "\n",
              "[5 rows x 23 columns]"
            ]
          },
          "metadata": {
            "tags": []
          },
          "execution_count": 3
        }
      ]
    },
    {
      "cell_type": "markdown",
      "metadata": {
        "id": "wo8I3kixdHcz"
      },
      "source": [
        "The column 'no' is just an extra index, so we are going to drop it."
      ]
    },
    {
      "cell_type": "code",
      "metadata": {
        "id": "V51MWD52dYkp"
      },
      "source": [
        "data = data.drop(['no'], axis=1)"
      ],
      "execution_count": 4,
      "outputs": []
    },
    {
      "cell_type": "markdown",
      "metadata": {
        "id": "leHW3CpHdgMt"
      },
      "source": [
        "Let's search for NaN values on our dataset."
      ]
    },
    {
      "cell_type": "code",
      "metadata": {
        "colab": {
          "base_uri": "https://localhost:8080/"
        },
        "id": "IPJM8NLGBdd7",
        "outputId": "4e3be578-a465-47aa-9301-a023ca170c87"
      },
      "source": [
        "data.isnull().values.any()"
      ],
      "execution_count": 5,
      "outputs": [
        {
          "output_type": "execute_result",
          "data": {
            "text/plain": [
              "True"
            ]
          },
          "metadata": {
            "tags": []
          },
          "execution_count": 5
        }
      ]
    },
    {
      "cell_type": "code",
      "metadata": {
        "id": "IFRkpy7gB1RN"
      },
      "source": [
        "dfnan = data[data.isna().any(axis=1)]"
      ],
      "execution_count": 6,
      "outputs": []
    },
    {
      "cell_type": "code",
      "metadata": {
        "colab": {
          "base_uri": "https://localhost:8080/",
          "height": 240
        },
        "id": "GB0Hm9eQuBzu",
        "outputId": "48cb47b4-9edf-4b7e-ed0b-97933fd0fd84"
      },
      "source": [
        "dfnan.head(10)"
      ],
      "execution_count": 7,
      "outputs": [
        {
          "output_type": "execute_result",
          "data": {
            "text/html": [
              "<div>\n",
              "<style scoped>\n",
              "    .dataframe tbody tr th:only-of-type {\n",
              "        vertical-align: middle;\n",
              "    }\n",
              "\n",
              "    .dataframe tbody tr th {\n",
              "        vertical-align: top;\n",
              "    }\n",
              "\n",
              "    .dataframe thead th {\n",
              "        text-align: right;\n",
              "    }\n",
              "</style>\n",
              "<table border=\"1\" class=\"dataframe\">\n",
              "  <thead>\n",
              "    <tr style=\"text-align: right;\">\n",
              "      <th></th>\n",
              "      <th>gender (male=1, female=0)</th>\n",
              "      <th>age</th>\n",
              "      <th>duration of diabetes</th>\n",
              "      <th>BMI</th>\n",
              "      <th>insulin regimen (MDI=1, CSII=0)</th>\n",
              "      <th>TDD</th>\n",
              "      <th>TDD/kg</th>\n",
              "      <th>basal</th>\n",
              "      <th>basal/kg</th>\n",
              "      <th>bolus</th>\n",
              "      <th>bolus/kg</th>\n",
              "      <th>HbA1c</th>\n",
              "      <th>eGFR</th>\n",
              "      <th>%body fat</th>\n",
              "      <th>adiponectin</th>\n",
              "      <th>free-testosterone</th>\n",
              "      <th>SMI</th>\n",
              "      <th>grip strength</th>\n",
              "      <th>knee extension strength</th>\n",
              "      <th>gait speed</th>\n",
              "      <th>ucOC</th>\n",
              "      <th>OC</th>\n",
              "    </tr>\n",
              "  </thead>\n",
              "  <tbody>\n",
              "    <tr>\n",
              "      <th>5</th>\n",
              "      <td>0</td>\n",
              "      <td>37</td>\n",
              "      <td>25</td>\n",
              "      <td>22.631899</td>\n",
              "      <td>0</td>\n",
              "      <td>32.299999</td>\n",
              "      <td>0.566667</td>\n",
              "      <td>8.075000</td>\n",
              "      <td>0.141667</td>\n",
              "      <td>24.224999</td>\n",
              "      <td>0.425000</td>\n",
              "      <td>6.0</td>\n",
              "      <td>87.341658</td>\n",
              "      <td>NaN</td>\n",
              "      <td>17.0</td>\n",
              "      <td>2.3</td>\n",
              "      <td>NaN</td>\n",
              "      <td>28.299999</td>\n",
              "      <td>17.299999</td>\n",
              "      <td>1.28</td>\n",
              "      <td>0.55</td>\n",
              "      <td>6.4</td>\n",
              "    </tr>\n",
              "    <tr>\n",
              "      <th>45</th>\n",
              "      <td>0</td>\n",
              "      <td>35</td>\n",
              "      <td>21</td>\n",
              "      <td>21.415702</td>\n",
              "      <td>0</td>\n",
              "      <td>29.900000</td>\n",
              "      <td>0.508503</td>\n",
              "      <td>6.877000</td>\n",
              "      <td>0.116956</td>\n",
              "      <td>23.023000</td>\n",
              "      <td>0.391548</td>\n",
              "      <td>7.4</td>\n",
              "      <td>90.365191</td>\n",
              "      <td>0.242685</td>\n",
              "      <td>11.7</td>\n",
              "      <td>0.6</td>\n",
              "      <td>6.6</td>\n",
              "      <td>NaN</td>\n",
              "      <td>9.600000</td>\n",
              "      <td>1.37</td>\n",
              "      <td>12.60</td>\n",
              "      <td>31.6</td>\n",
              "    </tr>\n",
              "    <tr>\n",
              "      <th>71</th>\n",
              "      <td>1</td>\n",
              "      <td>36</td>\n",
              "      <td>29</td>\n",
              "      <td>24.483321</td>\n",
              "      <td>1</td>\n",
              "      <td>34.000000</td>\n",
              "      <td>0.468320</td>\n",
              "      <td>15.980000</td>\n",
              "      <td>0.220110</td>\n",
              "      <td>18.020000</td>\n",
              "      <td>0.248209</td>\n",
              "      <td>NaN</td>\n",
              "      <td>93.655404</td>\n",
              "      <td>0.193230</td>\n",
              "      <td>10.8</td>\n",
              "      <td>8.0</td>\n",
              "      <td>8.0</td>\n",
              "      <td>54.500000</td>\n",
              "      <td>29.200001</td>\n",
              "      <td>1.71</td>\n",
              "      <td>4.81</td>\n",
              "      <td>17.0</td>\n",
              "    </tr>\n",
              "    <tr>\n",
              "      <th>72</th>\n",
              "      <td>0</td>\n",
              "      <td>37</td>\n",
              "      <td>26</td>\n",
              "      <td>23.457858</td>\n",
              "      <td>0</td>\n",
              "      <td>35.200001</td>\n",
              "      <td>0.637681</td>\n",
              "      <td>16.544001</td>\n",
              "      <td>0.299710</td>\n",
              "      <td>18.655999</td>\n",
              "      <td>0.337971</td>\n",
              "      <td>5.6</td>\n",
              "      <td>94.068708</td>\n",
              "      <td>NaN</td>\n",
              "      <td>20.2</td>\n",
              "      <td>4.3</td>\n",
              "      <td>NaN</td>\n",
              "      <td>17.799999</td>\n",
              "      <td>13.600000</td>\n",
              "      <td>NaN</td>\n",
              "      <td>0.53</td>\n",
              "      <td>7.1</td>\n",
              "    </tr>\n",
              "  </tbody>\n",
              "</table>\n",
              "</div>"
            ],
            "text/plain": [
              "    gender (male=1, female=0)  age  ...   ucOC    OC\n",
              "5                           0   37  ...   0.55   6.4\n",
              "45                          0   35  ...  12.60  31.6\n",
              "71                          1   36  ...   4.81  17.0\n",
              "72                          0   37  ...   0.53   7.1\n",
              "\n",
              "[4 rows x 22 columns]"
            ]
          },
          "metadata": {
            "tags": []
          },
          "execution_count": 7
        }
      ]
    },
    {
      "cell_type": "markdown",
      "metadata": {
        "id": "jCOQ0gZqFiyQ"
      },
      "source": [
        "# Filling missing values"
      ]
    },
    {
      "cell_type": "markdown",
      "metadata": {
        "id": "AmCA-rxZvvHa"
      },
      "source": [
        "There are 4 rows with a few missing values, let's use iterative Imputer to fill the nan values\r\n",
        "\r\n"
      ]
    },
    {
      "cell_type": "code",
      "metadata": {
        "id": "WIpMO66fwIOF"
      },
      "source": [
        "from sklearn.experimental import enable_iterative_imputer\r\n",
        "from sklearn.impute import IterativeImputer"
      ],
      "execution_count": 8,
      "outputs": []
    },
    {
      "cell_type": "code",
      "metadata": {
        "id": "8AO352YKGQ4L"
      },
      "source": [
        "iterative_imp = IterativeImputer()"
      ],
      "execution_count": 9,
      "outputs": []
    },
    {
      "cell_type": "code",
      "metadata": {
        "colab": {
          "base_uri": "https://localhost:8080/"
        },
        "id": "0nSy-I4AHYpG",
        "outputId": "45a29c93-fc30-4930-9dcf-1e34b2a1f8c3"
      },
      "source": [
        "iterative_imp.fit(data)"
      ],
      "execution_count": 10,
      "outputs": [
        {
          "output_type": "execute_result",
          "data": {
            "text/plain": [
              "IterativeImputer(add_indicator=False, estimator=None,\n",
              "                 imputation_order='ascending', initial_strategy='mean',\n",
              "                 max_iter=10, max_value=None, min_value=None,\n",
              "                 missing_values=nan, n_nearest_features=None, random_state=None,\n",
              "                 sample_posterior=False, skip_complete=False, tol=0.001,\n",
              "                 verbose=0)"
            ]
          },
          "metadata": {
            "tags": []
          },
          "execution_count": 10
        }
      ]
    },
    {
      "cell_type": "code",
      "metadata": {
        "id": "8JBww693H4QU"
      },
      "source": [
        "data1 = iterative_imp.fit_transform(data)"
      ],
      "execution_count": 11,
      "outputs": []
    },
    {
      "cell_type": "code",
      "metadata": {
        "id": "B_V_pQvZIuCL"
      },
      "source": [
        "data1 = pd.DataFrame(data=data1, columns= data.columns,)"
      ],
      "execution_count": 12,
      "outputs": []
    },
    {
      "cell_type": "markdown",
      "metadata": {
        "id": "WkZk_d_c89te"
      },
      "source": [
        "Let's rename some of the columns for an easier time processing it"
      ]
    },
    {
      "cell_type": "code",
      "metadata": {
        "colab": {
          "base_uri": "https://localhost:8080/"
        },
        "id": "LmfZJt-p1J7O",
        "outputId": "bf5f2b46-476d-420d-a6aa-92c1470739ca"
      },
      "source": [
        "data.columns"
      ],
      "execution_count": 13,
      "outputs": [
        {
          "output_type": "execute_result",
          "data": {
            "text/plain": [
              "Index(['gender (male=1, female=0)', 'age', 'duration of diabetes', 'BMI',\n",
              "       'insulin regimen (MDI=1, CSII=0)', 'TDD', 'TDD/kg', 'basal', 'basal/kg',\n",
              "       'bolus', 'bolus/kg', 'HbA1c', 'eGFR', '%body fat', 'adiponectin',\n",
              "       'free-testosterone', 'SMI', 'grip strength', 'knee extension strength',\n",
              "       'gait speed', 'ucOC', 'OC'],\n",
              "      dtype='object')"
            ]
          },
          "metadata": {
            "tags": []
          },
          "execution_count": 13
        }
      ]
    },
    {
      "cell_type": "code",
      "metadata": {
        "id": "vC6UfncJ1Bv0"
      },
      "source": [
        "data1.columns = ['sex', 'age', 'duration_of_diabetes', 'BMI',\r\n",
        "       'insulin_regimen', 'TDD', 'TDD/kg', 'basal', 'basal/kg',\r\n",
        "       'bolus', 'bolus/kg', 'HbA1c', 'eGFR', 'bodyfat', 'adiponectin',\r\n",
        "       'free-test', 'SMI', 'grip_strength', 'knee_extension_strength',\r\n",
        "       'gait_speed', 'ucOC', 'OC']"
      ],
      "execution_count": 14,
      "outputs": []
    },
    {
      "cell_type": "markdown",
      "metadata": {
        "id": "evbj-mwJunz-"
      },
      "source": [
        "# Plotting"
      ]
    },
    {
      "cell_type": "code",
      "metadata": {
        "id": "iDH0nA7qw20G"
      },
      "source": [
        "import seaborn as sns"
      ],
      "execution_count": 15,
      "outputs": []
    },
    {
      "cell_type": "markdown",
      "metadata": {
        "id": "7jP-kgOb9gxF"
      },
      "source": [
        "Let's loop through the columns and let's look how the data is distributed"
      ]
    },
    {
      "cell_type": "code",
      "metadata": {
        "colab": {
          "base_uri": "https://localhost:8080/",
          "height": 1000
        },
        "id": "dIxHvC_Gbc1r",
        "outputId": "6ffdff8c-85fd-46dd-c5b5-c959b2e84c2a"
      },
      "source": [
        "for i in data.columns:\r\n",
        "    plt.figure(figsize=(10, 6))\r\n",
        "    sns.distplot(data[i])\r\n",
        "    plt.show()\r\n",
        "    plt.close()"
      ],
      "execution_count": 16,
      "outputs": [
        {
          "output_type": "stream",
          "text": [
            "/usr/local/lib/python3.6/dist-packages/seaborn/distributions.py:2557: FutureWarning: `distplot` is a deprecated function and will be removed in a future version. Please adapt your code to use either `displot` (a figure-level function with similar flexibility) or `histplot` (an axes-level function for histograms).\n",
            "  warnings.warn(msg, FutureWarning)\n"
          ],
          "name": "stderr"
        },
        {
          "output_type": "display_data",
          "data": {
            "image/png": "[encoded data removed]",
            "text/plain": [
              "<Figure size 720x432 with 1 Axes>"
            ]
          },
          "metadata": {
            "tags": [],
            "needs_background": "light"
          }
        },
        {
          "output_type": "stream",
          "text": [
            "/usr/local/lib/python3.6/dist-packages/seaborn/distributions.py:2557: FutureWarning: `distplot` is a deprecated function and will be removed in a future version. Please adapt your code to use either `displot` (a figure-level function with similar flexibility) or `histplot` (an axes-level function for histograms).\n",
            "  warnings.warn(msg, FutureWarning)\n"
          ],
          "name": "stderr"
        },
        {
          "output_type": "display_data",
          "data": {
            "image/png": "[encoded data removed]",
            "text/plain": [
              "<Figure size 720x432 with 1 Axes>"
            ]
          },
          "metadata": {
            "tags": [],
            "needs_background": "light"
          }
        },
        {
          "output_type": "stream",
          "text": [
            "/usr/local/lib/python3.6/dist-packages/seaborn/distributions.py:2557: FutureWarning: `distplot` is a deprecated function and will be removed in a future version. Please adapt your code to use either `displot` (a figure-level function with similar flexibility) or `histplot` (an axes-level function for histograms).\n",
            "  warnings.warn(msg, FutureWarning)\n"
          ],
          "name": "stderr"
        },
        {
          "output_type": "display_data",
          "data": {
            "image/png": "[encoded data removed]",
            "text/plain": [
              "<Figure size 720x432 with 1 Axes>"
            ]
          },
          "metadata": {
            "tags": [],
            "needs_background": "light"
          }
        },
        {
          "output_type": "stream",
          "text": [
            "/usr/local/lib/python3.6/dist-packages/seaborn/distributions.py:2557: FutureWarning: `distplot` is a deprecated function and will be removed in a future version. Please adapt your code to use either `displot` (a figure-level function with similar flexibility) or `histplot` (an axes-level function for histograms).\n",
            "  warnings.warn(msg, FutureWarning)\n"
          ],
          "name": "stderr"
        },
        {
          "output_type": "display_data",
          "data": {
            "image/png": "[encoded data removed]",
            "text/plain": [
              "<Figure size 720x432 with 1 Axes>"
            ]
          },
          "metadata": {
            "tags": [],
            "needs_background": "light"
          }
        },
        {
          "output_type": "stream",
          "text": [
            "/usr/local/lib/python3.6/dist-packages/seaborn/distributions.py:2557: FutureWarning: `distplot` is a deprecated function and will be removed in a future version. Please adapt your code to use either `displot` (a figure-level function with similar flexibility) or `histplot` (an axes-level function for histograms).\n",
            "  warnings.warn(msg, FutureWarning)\n"
          ],
          "name": "stderr"
        },
        {
          "output_type": "display_data",
          "data": {
            "image/png": "[encoded data removed]",
            "text/plain": [
              "<Figure size 720x432 with 1 Axes>"
            ]
          },
          "metadata": {
            "tags": [],
            "needs_background": "light"
          }
        },
        {
          "output_type": "stream",
          "text": [
            "/usr/local/lib/python3.6/dist-packages/seaborn/distributions.py:2557: FutureWarning: `distplot` is a deprecated function and will be removed in a future version. Please adapt your code to use either `displot` (a figure-level function with similar flexibility) or `histplot` (an axes-level function for histograms).\n",
            "  warnings.warn(msg, FutureWarning)\n"
          ],
          "name": "stderr"
        },
        {
          "output_type": "display_data",
          "data": {
            "image/png": "[encoded data removed]",
            "text/plain": [
              "<Figure size 720x432 with 1 Axes>"
            ]
          },
          "metadata": {
            "tags": [],
            "needs_background": "light"
          }
        },
        {
          "output_type": "stream",
          "text": [
            "/usr/local/lib/python3.6/dist-packages/seaborn/distributions.py:2557: FutureWarning: `distplot` is a deprecated function and will be removed in a future version. Please adapt your code to use either `displot` (a figure-level function with similar flexibility) or `histplot` (an axes-level function for histograms).\n",
            "  warnings.warn(msg, FutureWarning)\n"
          ],
          "name": "stderr"
        },
        {
          "output_type": "display_data",
          "data": {
            "image/png": "[encoded data removed]",
            "text/plain": [
              "<Figure size 720x432 with 1 Axes>"
            ]
          },
          "metadata": {
            "tags": [],
            "needs_background": "light"
          }
        },
        {
          "output_type": "stream",
          "text": [
            "/usr/local/lib/python3.6/dist-packages/seaborn/distributions.py:2557: FutureWarning: `distplot` is a deprecated function and will be removed in a future version. Please adapt your code to use either `displot` (a figure-level function with similar flexibility) or `histplot` (an axes-level function for histograms).\n",
            "  warnings.warn(msg, FutureWarning)\n"
          ],
          "name": "stderr"
        },
        {
          "output_type": "display_data",
          "data": {
            "image/png": "[encoded data removed]",
            "text/plain": [
              "<Figure size 720x432 with 1 Axes>"
            ]
          },
          "metadata": {
            "tags": [],
            "needs_background": "light"
          }
        },
        {
          "output_type": "stream",
          "text": [
            "/usr/local/lib/python3.6/dist-packages/seaborn/distributions.py:2557: FutureWarning: `distplot` is a deprecated function and will be removed in a future version. Please adapt your code to use either `displot` (a figure-level function with similar flexibility) or `histplot` (an axes-level function for histograms).\n",
            "  warnings.warn(msg, FutureWarning)\n"
          ],
          "name": "stderr"
        },
        {
          "output_type": "display_data",
          "data": {
            "image/png": "[encoded data removed]",
            "text/plain": [
              "<Figure size 720x432 with 1 Axes>"
            ]
          },
          "metadata": {
            "tags": [],
            "needs_background": "light"
          }
        },
        {
          "output_type": "stream",
          "text": [
            "/usr/local/lib/python3.6/dist-packages/seaborn/distributions.py:2557: FutureWarning: `distplot` is a deprecated function and will be removed in a future version. Please adapt your code to use either `displot` (a figure-level function with similar flexibility) or `histplot` (an axes-level function for histograms).\n",
            "  warnings.warn(msg, FutureWarning)\n"
          ],
          "name": "stderr"
        },
        {
          "output_type": "display_data",
          "data": {
            "image/png": "[encoded data removed]",
            "text/plain": [
              "<Figure size 720x432 with 1 Axes>"
            ]
          },
          "metadata": {
            "tags": [],
            "needs_background": "light"
          }
        },
        {
          "output_type": "stream",
          "text": [
            "/usr/local/lib/python3.6/dist-packages/seaborn/distributions.py:2557: FutureWarning: `distplot` is a deprecated function and will be removed in a future version. Please adapt your code to use either `displot` (a figure-level function with similar flexibility) or `histplot` (an axes-level function for histograms).\n",
            "  warnings.warn(msg, FutureWarning)\n"
          ],
          "name": "stderr"
        },
        {
          "output_type": "display_data",
          "data": {
            "image/png": "[encoded data removed]",
            "text/plain": [
              "<Figure size 720x432 with 1 Axes>"
            ]
          },
          "metadata": {
            "tags": [],
            "needs_background": "light"
          }
        },
        {
          "output_type": "stream",
          "text": [
            "/usr/local/lib/python3.6/dist-packages/seaborn/distributions.py:2557: FutureWarning: `distplot` is a deprecated function and will be removed in a future version. Please adapt your code to use either `displot` (a figure-level function with similar flexibility) or `histplot` (an axes-level function for histograms).\n",
            "  warnings.warn(msg, FutureWarning)\n"
          ],
          "name": "stderr"
        },
        {
          "output_type": "display_data",
          "data": {
            "image/png": "[encoded data removed]",
            "text/plain": [
              "<Figure size 720x432 with 1 Axes>"
            ]
          },
          "metadata": {
            "tags": [],
            "needs_background": "light"
          }
        },
        {
          "output_type": "stream",
          "text": [
            "/usr/local/lib/python3.6/dist-packages/seaborn/distributions.py:2557: FutureWarning: `distplot` is a deprecated function and will be removed in a future version. Please adapt your code to use either `displot` (a figure-level function with similar flexibility) or `histplot` (an axes-level function for histograms).\n",
            "  warnings.warn(msg, FutureWarning)\n"
          ],
          "name": "stderr"
        },
        {
          "output_type": "display_data",
          "data": {
            "image/png": "[encoded data removed]",
            "text/plain": [
              "<Figure size 720x432 with 1 Axes>"
            ]
          },
          "metadata": {
            "tags": [],
            "needs_background": "light"
          }
        },
        {
          "output_type": "stream",
          "text": [
            "/usr/local/lib/python3.6/dist-packages/seaborn/distributions.py:2557: FutureWarning: `distplot` is a deprecated function and will be removed in a future version. Please adapt your code to use either `displot` (a figure-level function with similar flexibility) or `histplot` (an axes-level function for histograms).\n",
            "  warnings.warn(msg, FutureWarning)\n"
          ],
          "name": "stderr"
        },
        {
          "output_type": "display_data",
          "data": {
            "image/png": "[encoded data removed]",
            "text/plain": [
              "<Figure size 720x432 with 1 Axes>"
            ]
          },
          "metadata": {
            "tags": [],
            "needs_background": "light"
          }
        },
        {
          "output_type": "stream",
          "text": [
            "/usr/local/lib/python3.6/dist-packages/seaborn/distributions.py:2557: FutureWarning: `distplot` is a deprecated function and will be removed in a future version. Please adapt your code to use either `displot` (a figure-level function with similar flexibility) or `histplot` (an axes-level function for histograms).\n",
            "  warnings.warn(msg, FutureWarning)\n"
          ],
          "name": "stderr"
        },
        {
          "output_type": "display_data",
          "data": {
            "image/png": "[encoded data removed]",
            "text/plain": [
              "<Figure size 720x432 with 1 Axes>"
            ]
          },
          "metadata": {
            "tags": [],
            "needs_background": "light"
          }
        },
        {
          "output_type": "stream",
          "text": [
            "/usr/local/lib/python3.6/dist-packages/seaborn/distributions.py:2557: FutureWarning: `distplot` is a deprecated function and will be removed in a future version. Please adapt your code to use either `displot` (a figure-level function with similar flexibility) or `histplot` (an axes-level function for histograms).\n",
            "  warnings.warn(msg, FutureWarning)\n"
          ],
          "name": "stderr"
        },
        {
          "output_type": "display_data",
          "data": {
            "image/png": "[encoded data removed]",
            "text/plain": [
              "<Figure size 720x432 with 1 Axes>"
            ]
          },
          "metadata": {
            "tags": [],
            "needs_background": "light"
          }
        },
        {
          "output_type": "stream",
          "text": [
            "/usr/local/lib/python3.6/dist-packages/seaborn/distributions.py:2557: FutureWarning: `distplot` is a deprecated function and will be removed in a future version. Please adapt your code to use either `displot` (a figure-level function with similar flexibility) or `histplot` (an axes-level function for histograms).\n",
            "  warnings.warn(msg, FutureWarning)\n"
          ],
          "name": "stderr"
        },
        {
          "output_type": "display_data",
          "data": {
            "image/png": "[encoded data removed]",
            "text/plain": [
              "<Figure size 720x432 with 1 Axes>"
            ]
          },
          "metadata": {
            "tags": [],
            "needs_background": "light"
          }
        },
        {
          "output_type": "stream",
          "text": [
            "/usr/local/lib/python3.6/dist-packages/seaborn/distributions.py:2557: FutureWarning: `distplot` is a deprecated function and will be removed in a future version. Please adapt your code to use either `displot` (a figure-level function with similar flexibility) or `histplot` (an axes-level function for histograms).\n",
            "  warnings.warn(msg, FutureWarning)\n"
          ],
          "name": "stderr"
        },
        {
          "output_type": "display_data",
          "data": {
            "image/png": "[encoded data removed]",
            "text/plain": [
              "<Figure size 720x432 with 1 Axes>"
            ]
          },
          "metadata": {
            "tags": [],
            "needs_background": "light"
          }
        },
        {
          "output_type": "stream",
          "text": [
            "/usr/local/lib/python3.6/dist-packages/seaborn/distributions.py:2557: FutureWarning: `distplot` is a deprecated function and will be removed in a future version. Please adapt your code to use either `displot` (a figure-level function with similar flexibility) or `histplot` (an axes-level function for histograms).\n",
            "  warnings.warn(msg, FutureWarning)\n"
          ],
          "name": "stderr"
        },
        {
          "output_type": "display_data",
          "data": {
            "image/png": "[encoded data removed]",
            "text/plain": [
              "<Figure size 720x432 with 1 Axes>"
            ]
          },
          "metadata": {
            "tags": [],
            "needs_background": "light"
          }
        },
        {
          "output_type": "stream",
          "text": [
            "/usr/local/lib/python3.6/dist-packages/seaborn/distributions.py:2557: FutureWarning: `distplot` is a deprecated function and will be removed in a future version. Please adapt your code to use either `displot` (a figure-level function with similar flexibility) or `histplot` (an axes-level function for histograms).\n",
            "  warnings.warn(msg, FutureWarning)\n"
          ],
          "name": "stderr"
        },
        {
          "output_type": "display_data",
          "data": {
            "image/png": "[encoded data removed]",
            "text/plain": [
              "<Figure size 720x432 with 1 Axes>"
            ]
          },
          "metadata": {
            "tags": [],
            "needs_background": "light"
          }
        },
        {
          "output_type": "stream",
          "text": [
            "/usr/local/lib/python3.6/dist-packages/seaborn/distributions.py:2557: FutureWarning: `distplot` is a deprecated function and will be removed in a future version. Please adapt your code to use either `displot` (a figure-level function with similar flexibility) or `histplot` (an axes-level function for histograms).\n",
            "  warnings.warn(msg, FutureWarning)\n"
          ],
          "name": "stderr"
        },
        {
          "output_type": "display_data",
          "data": {
            "image/png": "[encoded data removed]",
            "text/plain": [
              "<Figure size 720x432 with 1 Axes>"
            ]
          },
          "metadata": {
            "tags": [],
            "needs_background": "light"
          }
        },
        {
          "output_type": "stream",
          "text": [
            "/usr/local/lib/python3.6/dist-packages/seaborn/distributions.py:2557: FutureWarning: `distplot` is a deprecated function and will be removed in a future version. Please adapt your code to use either `displot` (a figure-level function with similar flexibility) or `histplot` (an axes-level function for histograms).\n",
            "  warnings.warn(msg, FutureWarning)\n"
          ],
          "name": "stderr"
        },
        {
          "output_type": "display_data",
          "data": {
            "image/png": "[encoded data removed]",
            "text/plain": [
              "<Figure size 720x432 with 1 Axes>"
            ]
          },
          "metadata": {
            "tags": [],
            "needs_background": "light"
          }
        }
      ]
    },
    {
      "cell_type": "markdown",
      "metadata": {
        "id": "HTXbNa7p9n6v"
      },
      "source": [
        "# Taking out correlated variables"
      ]
    },
    {
      "cell_type": "code",
      "metadata": {
        "colab": {
          "base_uri": "https://localhost:8080/",
          "height": 751
        },
        "id": "k7Zi9JwcjI-e",
        "outputId": "5010959e-8285-4d92-b8a6-1aaced8486e4"
      },
      "source": [
        "datacorr = data1.corr()\r\n",
        "datacorr"
      ],
      "execution_count": 17,
      "outputs": [
        {
          "output_type": "execute_result",
          "data": {
            "text/html": [
              "<div>\n",
              "<style scoped>\n",
              "    .dataframe tbody tr th:only-of-type {\n",
              "        vertical-align: middle;\n",
              "    }\n",
              "\n",
              "    .dataframe tbody tr th {\n",
              "        vertical-align: top;\n",
              "    }\n",
              "\n",
              "    .dataframe thead th {\n",
              "        text-align: right;\n",
              "    }\n",
              "</style>\n",
              "<table border=\"1\" class=\"dataframe\">\n",
              "  <thead>\n",
              "    <tr style=\"text-align: right;\">\n",
              "      <th></th>\n",
              "      <th>sex</th>\n",
              "      <th>age</th>\n",
              "      <th>duration_of_diabetes</th>\n",
              "      <th>BMI</th>\n",
              "      <th>insulin_regimen</th>\n",
              "      <th>TDD</th>\n",
              "      <th>TDD/kg</th>\n",
              "      <th>basal</th>\n",
              "      <th>basal/kg</th>\n",
              "      <th>bolus</th>\n",
              "      <th>bolus/kg</th>\n",
              "      <th>HbA1c</th>\n",
              "      <th>eGFR</th>\n",
              "      <th>bodyfat</th>\n",
              "      <th>adiponectin</th>\n",
              "      <th>free-test</th>\n",
              "      <th>SMI</th>\n",
              "      <th>grip_strength</th>\n",
              "      <th>knee_extension_strength</th>\n",
              "      <th>gait_speed</th>\n",
              "      <th>ucOC</th>\n",
              "      <th>OC</th>\n",
              "    </tr>\n",
              "  </thead>\n",
              "  <tbody>\n",
              "    <tr>\n",
              "      <th>sex</th>\n",
              "      <td>1.000000</td>\n",
              "      <td>0.146414</td>\n",
              "      <td>0.159551</td>\n",
              "      <td>0.304298</td>\n",
              "      <td>0.583730</td>\n",
              "      <td>0.509342</td>\n",
              "      <td>0.304679</td>\n",
              "      <td>0.318679</td>\n",
              "      <td>0.071316</td>\n",
              "      <td>0.503594</td>\n",
              "      <td>0.320411</td>\n",
              "      <td>-0.078746</td>\n",
              "      <td>0.204144</td>\n",
              "      <td>-0.299212</td>\n",
              "      <td>-0.307769</td>\n",
              "      <td>0.926533</td>\n",
              "      <td>0.800401</td>\n",
              "      <td>0.820667</td>\n",
              "      <td>0.609209</td>\n",
              "      <td>0.154574</td>\n",
              "      <td>-0.007539</td>\n",
              "      <td>0.027756</td>\n",
              "    </tr>\n",
              "    <tr>\n",
              "      <th>age</th>\n",
              "      <td>0.146414</td>\n",
              "      <td>1.000000</td>\n",
              "      <td>0.757926</td>\n",
              "      <td>0.086471</td>\n",
              "      <td>0.109060</td>\n",
              "      <td>-0.179238</td>\n",
              "      <td>-0.266439</td>\n",
              "      <td>-0.160990</td>\n",
              "      <td>-0.192165</td>\n",
              "      <td>-0.150821</td>\n",
              "      <td>-0.203069</td>\n",
              "      <td>-0.090610</td>\n",
              "      <td>-0.346239</td>\n",
              "      <td>-0.024020</td>\n",
              "      <td>0.088059</td>\n",
              "      <td>0.074747</td>\n",
              "      <td>0.175600</td>\n",
              "      <td>0.208567</td>\n",
              "      <td>0.172928</td>\n",
              "      <td>0.154913</td>\n",
              "      <td>-0.157385</td>\n",
              "      <td>-0.178085</td>\n",
              "    </tr>\n",
              "    <tr>\n",
              "      <th>duration_of_diabetes</th>\n",
              "      <td>0.159551</td>\n",
              "      <td>0.757926</td>\n",
              "      <td>1.000000</td>\n",
              "      <td>0.033943</td>\n",
              "      <td>0.104471</td>\n",
              "      <td>-0.241591</td>\n",
              "      <td>-0.349605</td>\n",
              "      <td>-0.194435</td>\n",
              "      <td>-0.213305</td>\n",
              "      <td>-0.215480</td>\n",
              "      <td>-0.289535</td>\n",
              "      <td>-0.022348</td>\n",
              "      <td>-0.291965</td>\n",
              "      <td>-0.052776</td>\n",
              "      <td>0.142900</td>\n",
              "      <td>0.170512</td>\n",
              "      <td>0.118603</td>\n",
              "      <td>0.179254</td>\n",
              "      <td>0.264489</td>\n",
              "      <td>0.369306</td>\n",
              "      <td>-0.174341</td>\n",
              "      <td>-0.175561</td>\n",
              "    </tr>\n",
              "    <tr>\n",
              "      <th>BMI</th>\n",
              "      <td>0.304298</td>\n",
              "      <td>0.086471</td>\n",
              "      <td>0.033943</td>\n",
              "      <td>1.000000</td>\n",
              "      <td>-0.090492</td>\n",
              "      <td>0.539420</td>\n",
              "      <td>0.168045</td>\n",
              "      <td>0.465295</td>\n",
              "      <td>0.076337</td>\n",
              "      <td>0.464279</td>\n",
              "      <td>0.154735</td>\n",
              "      <td>0.278879</td>\n",
              "      <td>0.108933</td>\n",
              "      <td>0.697425</td>\n",
              "      <td>-0.278430</td>\n",
              "      <td>0.252305</td>\n",
              "      <td>0.636459</td>\n",
              "      <td>0.287712</td>\n",
              "      <td>0.178437</td>\n",
              "      <td>0.117796</td>\n",
              "      <td>-0.183652</td>\n",
              "      <td>-0.176257</td>\n",
              "    </tr>\n",
              "    <tr>\n",
              "      <th>insulin_regimen</th>\n",
              "      <td>0.583730</td>\n",
              "      <td>0.109060</td>\n",
              "      <td>0.104471</td>\n",
              "      <td>-0.090492</td>\n",
              "      <td>1.000000</td>\n",
              "      <td>0.322503</td>\n",
              "      <td>0.373121</td>\n",
              "      <td>0.215324</td>\n",
              "      <td>0.179020</td>\n",
              "      <td>0.311545</td>\n",
              "      <td>0.337908</td>\n",
              "      <td>0.014328</td>\n",
              "      <td>0.112080</td>\n",
              "      <td>-0.375733</td>\n",
              "      <td>-0.115888</td>\n",
              "      <td>0.544940</td>\n",
              "      <td>0.299652</td>\n",
              "      <td>0.444113</td>\n",
              "      <td>0.368044</td>\n",
              "      <td>0.110601</td>\n",
              "      <td>0.048951</td>\n",
              "      <td>0.047582</td>\n",
              "    </tr>\n",
              "    <tr>\n",
              "      <th>TDD</th>\n",
              "      <td>0.509342</td>\n",
              "      <td>-0.179238</td>\n",
              "      <td>-0.241591</td>\n",
              "      <td>0.539420</td>\n",
              "      <td>0.322503</td>\n",
              "      <td>1.000000</td>\n",
              "      <td>0.869584</td>\n",
              "      <td>0.733927</td>\n",
              "      <td>0.438998</td>\n",
              "      <td>0.930218</td>\n",
              "      <td>0.774577</td>\n",
              "      <td>0.157524</td>\n",
              "      <td>0.209718</td>\n",
              "      <td>0.159525</td>\n",
              "      <td>-0.386311</td>\n",
              "      <td>0.480159</td>\n",
              "      <td>0.617902</td>\n",
              "      <td>0.439986</td>\n",
              "      <td>0.333048</td>\n",
              "      <td>-0.057905</td>\n",
              "      <td>-0.032065</td>\n",
              "      <td>-0.030433</td>\n",
              "    </tr>\n",
              "    <tr>\n",
              "      <th>TDD/kg</th>\n",
              "      <td>0.304679</td>\n",
              "      <td>-0.266439</td>\n",
              "      <td>-0.349605</td>\n",
              "      <td>0.168045</td>\n",
              "      <td>0.373121</td>\n",
              "      <td>0.869584</td>\n",
              "      <td>1.000000</td>\n",
              "      <td>0.618316</td>\n",
              "      <td>0.544776</td>\n",
              "      <td>0.819652</td>\n",
              "      <td>0.867013</td>\n",
              "      <td>0.132187</td>\n",
              "      <td>0.150260</td>\n",
              "      <td>-0.047647</td>\n",
              "      <td>-0.307059</td>\n",
              "      <td>0.297352</td>\n",
              "      <td>0.302686</td>\n",
              "      <td>0.229387</td>\n",
              "      <td>0.184706</td>\n",
              "      <td>-0.155225</td>\n",
              "      <td>0.061174</td>\n",
              "      <td>0.056520</td>\n",
              "    </tr>\n",
              "    <tr>\n",
              "      <th>basal</th>\n",
              "      <td>0.318679</td>\n",
              "      <td>-0.160990</td>\n",
              "      <td>-0.194435</td>\n",
              "      <td>0.465295</td>\n",
              "      <td>0.215324</td>\n",
              "      <td>0.733927</td>\n",
              "      <td>0.618316</td>\n",
              "      <td>1.000000</td>\n",
              "      <td>0.865771</td>\n",
              "      <td>0.433429</td>\n",
              "      <td>0.221799</td>\n",
              "      <td>0.194862</td>\n",
              "      <td>0.051221</td>\n",
              "      <td>0.199213</td>\n",
              "      <td>-0.326235</td>\n",
              "      <td>0.275674</td>\n",
              "      <td>0.404733</td>\n",
              "      <td>0.274662</td>\n",
              "      <td>0.224254</td>\n",
              "      <td>0.083623</td>\n",
              "      <td>-0.039900</td>\n",
              "      <td>-0.029661</td>\n",
              "    </tr>\n",
              "    <tr>\n",
              "      <th>basal/kg</th>\n",
              "      <td>0.071316</td>\n",
              "      <td>-0.192165</td>\n",
              "      <td>-0.213305</td>\n",
              "      <td>0.076337</td>\n",
              "      <td>0.179020</td>\n",
              "      <td>0.438998</td>\n",
              "      <td>0.544776</td>\n",
              "      <td>0.865771</td>\n",
              "      <td>1.000000</td>\n",
              "      <td>0.114651</td>\n",
              "      <td>0.054474</td>\n",
              "      <td>0.166581</td>\n",
              "      <td>-0.070002</td>\n",
              "      <td>-0.007271</td>\n",
              "      <td>-0.189893</td>\n",
              "      <td>0.052416</td>\n",
              "      <td>0.050070</td>\n",
              "      <td>0.023136</td>\n",
              "      <td>0.090267</td>\n",
              "      <td>0.079196</td>\n",
              "      <td>0.039993</td>\n",
              "      <td>0.052709</td>\n",
              "    </tr>\n",
              "    <tr>\n",
              "      <th>bolus</th>\n",
              "      <td>0.503594</td>\n",
              "      <td>-0.150821</td>\n",
              "      <td>-0.215480</td>\n",
              "      <td>0.464279</td>\n",
              "      <td>0.311545</td>\n",
              "      <td>0.930218</td>\n",
              "      <td>0.819652</td>\n",
              "      <td>0.433429</td>\n",
              "      <td>0.114651</td>\n",
              "      <td>1.000000</td>\n",
              "      <td>0.907850</td>\n",
              "      <td>0.103709</td>\n",
              "      <td>0.250573</td>\n",
              "      <td>0.104014</td>\n",
              "      <td>-0.336274</td>\n",
              "      <td>0.488110</td>\n",
              "      <td>0.601131</td>\n",
              "      <td>0.435356</td>\n",
              "      <td>0.320710</td>\n",
              "      <td>-0.122011</td>\n",
              "      <td>-0.020984</td>\n",
              "      <td>-0.024352</td>\n",
              "    </tr>\n",
              "    <tr>\n",
              "      <th>bolus/kg</th>\n",
              "      <td>0.320411</td>\n",
              "      <td>-0.203069</td>\n",
              "      <td>-0.289535</td>\n",
              "      <td>0.154735</td>\n",
              "      <td>0.337908</td>\n",
              "      <td>0.774577</td>\n",
              "      <td>0.867013</td>\n",
              "      <td>0.221799</td>\n",
              "      <td>0.054474</td>\n",
              "      <td>0.907850</td>\n",
              "      <td>1.000000</td>\n",
              "      <td>0.058414</td>\n",
              "      <td>0.220513</td>\n",
              "      <td>-0.052413</td>\n",
              "      <td>-0.252786</td>\n",
              "      <td>0.322917</td>\n",
              "      <td>0.330662</td>\n",
              "      <td>0.259388</td>\n",
              "      <td>0.166296</td>\n",
              "      <td>-0.231888</td>\n",
              "      <td>0.049077</td>\n",
              "      <td>0.035980</td>\n",
              "    </tr>\n",
              "    <tr>\n",
              "      <th>HbA1c</th>\n",
              "      <td>-0.078746</td>\n",
              "      <td>-0.090610</td>\n",
              "      <td>-0.022348</td>\n",
              "      <td>0.278879</td>\n",
              "      <td>0.014328</td>\n",
              "      <td>0.157524</td>\n",
              "      <td>0.132187</td>\n",
              "      <td>0.194862</td>\n",
              "      <td>0.166581</td>\n",
              "      <td>0.103709</td>\n",
              "      <td>0.058414</td>\n",
              "      <td>1.000000</td>\n",
              "      <td>-0.016727</td>\n",
              "      <td>0.291416</td>\n",
              "      <td>0.040468</td>\n",
              "      <td>-0.063232</td>\n",
              "      <td>0.051565</td>\n",
              "      <td>-0.034022</td>\n",
              "      <td>-0.035828</td>\n",
              "      <td>0.038682</td>\n",
              "      <td>-0.085918</td>\n",
              "      <td>-0.115556</td>\n",
              "    </tr>\n",
              "    <tr>\n",
              "      <th>eGFR</th>\n",
              "      <td>0.204144</td>\n",
              "      <td>-0.346239</td>\n",
              "      <td>-0.291965</td>\n",
              "      <td>0.108933</td>\n",
              "      <td>0.112080</td>\n",
              "      <td>0.209718</td>\n",
              "      <td>0.150260</td>\n",
              "      <td>0.051221</td>\n",
              "      <td>-0.070002</td>\n",
              "      <td>0.250573</td>\n",
              "      <td>0.220513</td>\n",
              "      <td>-0.016727</td>\n",
              "      <td>1.000000</td>\n",
              "      <td>0.100683</td>\n",
              "      <td>-0.146078</td>\n",
              "      <td>0.266541</td>\n",
              "      <td>0.089566</td>\n",
              "      <td>0.138836</td>\n",
              "      <td>-0.041937</td>\n",
              "      <td>-0.260188</td>\n",
              "      <td>-0.202576</td>\n",
              "      <td>-0.230598</td>\n",
              "    </tr>\n",
              "    <tr>\n",
              "      <th>bodyfat</th>\n",
              "      <td>-0.299212</td>\n",
              "      <td>-0.024020</td>\n",
              "      <td>-0.052776</td>\n",
              "      <td>0.697425</td>\n",
              "      <td>-0.375733</td>\n",
              "      <td>0.159525</td>\n",
              "      <td>-0.047647</td>\n",
              "      <td>0.199213</td>\n",
              "      <td>-0.007271</td>\n",
              "      <td>0.104014</td>\n",
              "      <td>-0.052413</td>\n",
              "      <td>0.291416</td>\n",
              "      <td>0.100683</td>\n",
              "      <td>1.000000</td>\n",
              "      <td>-0.175115</td>\n",
              "      <td>-0.280835</td>\n",
              "      <td>-0.059901</td>\n",
              "      <td>-0.281554</td>\n",
              "      <td>-0.286395</td>\n",
              "      <td>-0.020800</td>\n",
              "      <td>-0.266348</td>\n",
              "      <td>-0.282749</td>\n",
              "    </tr>\n",
              "    <tr>\n",
              "      <th>adiponectin</th>\n",
              "      <td>-0.307769</td>\n",
              "      <td>0.088059</td>\n",
              "      <td>0.142900</td>\n",
              "      <td>-0.278430</td>\n",
              "      <td>-0.115888</td>\n",
              "      <td>-0.386311</td>\n",
              "      <td>-0.307059</td>\n",
              "      <td>-0.326235</td>\n",
              "      <td>-0.189893</td>\n",
              "      <td>-0.336274</td>\n",
              "      <td>-0.252786</td>\n",
              "      <td>0.040468</td>\n",
              "      <td>-0.146078</td>\n",
              "      <td>-0.175115</td>\n",
              "      <td>1.000000</td>\n",
              "      <td>-0.293119</td>\n",
              "      <td>-0.239406</td>\n",
              "      <td>-0.249590</td>\n",
              "      <td>-0.110427</td>\n",
              "      <td>0.003448</td>\n",
              "      <td>-0.078198</td>\n",
              "      <td>-0.059564</td>\n",
              "    </tr>\n",
              "    <tr>\n",
              "      <th>free-test</th>\n",
              "      <td>0.926533</td>\n",
              "      <td>0.074747</td>\n",
              "      <td>0.170512</td>\n",
              "      <td>0.252305</td>\n",
              "      <td>0.544940</td>\n",
              "      <td>0.480159</td>\n",
              "      <td>0.297352</td>\n",
              "      <td>0.275674</td>\n",
              "      <td>0.052416</td>\n",
              "      <td>0.488110</td>\n",
              "      <td>0.322917</td>\n",
              "      <td>-0.063232</td>\n",
              "      <td>0.266541</td>\n",
              "      <td>-0.280835</td>\n",
              "      <td>-0.293119</td>\n",
              "      <td>1.000000</td>\n",
              "      <td>0.723504</td>\n",
              "      <td>0.769745</td>\n",
              "      <td>0.578394</td>\n",
              "      <td>0.177271</td>\n",
              "      <td>-0.029565</td>\n",
              "      <td>0.005709</td>\n",
              "    </tr>\n",
              "    <tr>\n",
              "      <th>SMI</th>\n",
              "      <td>0.800401</td>\n",
              "      <td>0.175600</td>\n",
              "      <td>0.118603</td>\n",
              "      <td>0.636459</td>\n",
              "      <td>0.299652</td>\n",
              "      <td>0.617902</td>\n",
              "      <td>0.302686</td>\n",
              "      <td>0.404733</td>\n",
              "      <td>0.050070</td>\n",
              "      <td>0.601131</td>\n",
              "      <td>0.330662</td>\n",
              "      <td>0.051565</td>\n",
              "      <td>0.089566</td>\n",
              "      <td>-0.059901</td>\n",
              "      <td>-0.239406</td>\n",
              "      <td>0.723504</td>\n",
              "      <td>1.000000</td>\n",
              "      <td>0.769336</td>\n",
              "      <td>0.618087</td>\n",
              "      <td>0.181088</td>\n",
              "      <td>-0.041600</td>\n",
              "      <td>-0.024206</td>\n",
              "    </tr>\n",
              "    <tr>\n",
              "      <th>grip_strength</th>\n",
              "      <td>0.820667</td>\n",
              "      <td>0.208567</td>\n",
              "      <td>0.179254</td>\n",
              "      <td>0.287712</td>\n",
              "      <td>0.444113</td>\n",
              "      <td>0.439986</td>\n",
              "      <td>0.229387</td>\n",
              "      <td>0.274662</td>\n",
              "      <td>0.023136</td>\n",
              "      <td>0.435356</td>\n",
              "      <td>0.259388</td>\n",
              "      <td>-0.034022</td>\n",
              "      <td>0.138836</td>\n",
              "      <td>-0.281554</td>\n",
              "      <td>-0.249590</td>\n",
              "      <td>0.769745</td>\n",
              "      <td>0.769336</td>\n",
              "      <td>1.000000</td>\n",
              "      <td>0.695331</td>\n",
              "      <td>0.191439</td>\n",
              "      <td>-0.018145</td>\n",
              "      <td>0.004038</td>\n",
              "    </tr>\n",
              "    <tr>\n",
              "      <th>knee_extension_strength</th>\n",
              "      <td>0.609209</td>\n",
              "      <td>0.172928</td>\n",
              "      <td>0.264489</td>\n",
              "      <td>0.178437</td>\n",
              "      <td>0.368044</td>\n",
              "      <td>0.333048</td>\n",
              "      <td>0.184706</td>\n",
              "      <td>0.224254</td>\n",
              "      <td>0.090267</td>\n",
              "      <td>0.320710</td>\n",
              "      <td>0.166296</td>\n",
              "      <td>-0.035828</td>\n",
              "      <td>-0.041937</td>\n",
              "      <td>-0.286395</td>\n",
              "      <td>-0.110427</td>\n",
              "      <td>0.578394</td>\n",
              "      <td>0.618087</td>\n",
              "      <td>0.695331</td>\n",
              "      <td>1.000000</td>\n",
              "      <td>0.275129</td>\n",
              "      <td>0.013691</td>\n",
              "      <td>0.055251</td>\n",
              "    </tr>\n",
              "    <tr>\n",
              "      <th>gait_speed</th>\n",
              "      <td>0.154574</td>\n",
              "      <td>0.154913</td>\n",
              "      <td>0.369306</td>\n",
              "      <td>0.117796</td>\n",
              "      <td>0.110601</td>\n",
              "      <td>-0.057905</td>\n",
              "      <td>-0.155225</td>\n",
              "      <td>0.083623</td>\n",
              "      <td>0.079196</td>\n",
              "      <td>-0.122011</td>\n",
              "      <td>-0.231888</td>\n",
              "      <td>0.038682</td>\n",
              "      <td>-0.260188</td>\n",
              "      <td>-0.020800</td>\n",
              "      <td>0.003448</td>\n",
              "      <td>0.177271</td>\n",
              "      <td>0.181088</td>\n",
              "      <td>0.191439</td>\n",
              "      <td>0.275129</td>\n",
              "      <td>1.000000</td>\n",
              "      <td>-0.051642</td>\n",
              "      <td>0.007275</td>\n",
              "    </tr>\n",
              "    <tr>\n",
              "      <th>ucOC</th>\n",
              "      <td>-0.007539</td>\n",
              "      <td>-0.157385</td>\n",
              "      <td>-0.174341</td>\n",
              "      <td>-0.183652</td>\n",
              "      <td>0.048951</td>\n",
              "      <td>-0.032065</td>\n",
              "      <td>0.061174</td>\n",
              "      <td>-0.039900</td>\n",
              "      <td>0.039993</td>\n",
              "      <td>-0.020984</td>\n",
              "      <td>0.049077</td>\n",
              "      <td>-0.085918</td>\n",
              "      <td>-0.202576</td>\n",
              "      <td>-0.266348</td>\n",
              "      <td>-0.078198</td>\n",
              "      <td>-0.029565</td>\n",
              "      <td>-0.041600</td>\n",
              "      <td>-0.018145</td>\n",
              "      <td>0.013691</td>\n",
              "      <td>-0.051642</td>\n",
              "      <td>1.000000</td>\n",
              "      <td>0.971038</td>\n",
              "    </tr>\n",
              "    <tr>\n",
              "      <th>OC</th>\n",
              "      <td>0.027756</td>\n",
              "      <td>-0.178085</td>\n",
              "      <td>-0.175561</td>\n",
              "      <td>-0.176257</td>\n",
              "      <td>0.047582</td>\n",
              "      <td>-0.030433</td>\n",
              "      <td>0.056520</td>\n",
              "      <td>-0.029661</td>\n",
              "      <td>0.052709</td>\n",
              "      <td>-0.024352</td>\n",
              "      <td>0.035980</td>\n",
              "      <td>-0.115556</td>\n",
              "      <td>-0.230598</td>\n",
              "      <td>-0.282749</td>\n",
              "      <td>-0.059564</td>\n",
              "      <td>0.005709</td>\n",
              "      <td>-0.024206</td>\n",
              "      <td>0.004038</td>\n",
              "      <td>0.055251</td>\n",
              "      <td>0.007275</td>\n",
              "      <td>0.971038</td>\n",
              "      <td>1.000000</td>\n",
              "    </tr>\n",
              "  </tbody>\n",
              "</table>\n",
              "</div>"
            ],
            "text/plain": [
              "                              sex       age  ...      ucOC        OC\n",
              "sex                      1.000000  0.146414  ... -0.007539  0.027756\n",
              "age                      0.146414  1.000000  ... -0.157385 -0.178085\n",
              "duration_of_diabetes     0.159551  0.757926  ... -0.174341 -0.175561\n",
              "BMI                      0.304298  0.086471  ... -0.183652 -0.176257\n",
              "insulin_regimen          0.583730  0.109060  ...  0.048951  0.047582\n",
              "TDD                      0.509342 -0.179238  ... -0.032065 -0.030433\n",
              "TDD/kg                   0.304679 -0.266439  ...  0.061174  0.056520\n",
              "basal                    0.318679 -0.160990  ... -0.039900 -0.029661\n",
              "basal/kg                 0.071316 -0.192165  ...  0.039993  0.052709\n",
              "bolus                    0.503594 -0.150821  ... -0.020984 -0.024352\n",
              "bolus/kg                 0.320411 -0.203069  ...  0.049077  0.035980\n",
              "HbA1c                   -0.078746 -0.090610  ... -0.085918 -0.115556\n",
              "eGFR                     0.204144 -0.346239  ... -0.202576 -0.230598\n",
              "bodyfat                 -0.299212 -0.024020  ... -0.266348 -0.282749\n",
              "adiponectin             -0.307769  0.088059  ... -0.078198 -0.059564\n",
              "free-test                0.926533  0.074747  ... -0.029565  0.005709\n",
              "SMI                      0.800401  0.175600  ... -0.041600 -0.024206\n",
              "grip_strength            0.820667  0.208567  ... -0.018145  0.004038\n",
              "knee_extension_strength  0.609209  0.172928  ...  0.013691  0.055251\n",
              "gait_speed               0.154574  0.154913  ... -0.051642  0.007275\n",
              "ucOC                    -0.007539 -0.157385  ...  1.000000  0.971038\n",
              "OC                       0.027756 -0.178085  ...  0.971038  1.000000\n",
              "\n",
              "[22 rows x 22 columns]"
            ]
          },
          "metadata": {
            "tags": []
          },
          "execution_count": 17
        }
      ]
    },
    {
      "cell_type": "code",
      "metadata": {
        "id": "xJ0xkBNO1E4N"
      },
      "source": [
        "datacorr1 = data1.corr(method='pearson').unstack().sort_values(ascending=False).drop_duplicates()\r\n"
      ],
      "execution_count": 18,
      "outputs": []
    },
    {
      "cell_type": "code",
      "metadata": {
        "colab": {
          "base_uri": "https://localhost:8080/",
          "height": 1000
        },
        "id": "sAvimDBB3rxc",
        "outputId": "c109368f-e89b-45dc-8198-2f2d335c5308"
      },
      "source": [
        "datacorr2 = pd.DataFrame(data=datacorr1)\r\n",
        "datacorr2.loc[datacorr2[0] > 0.5]"
      ],
      "execution_count": 19,
      "outputs": [
        {
          "output_type": "execute_result",
          "data": {
            "text/html": [
              "<div>\n",
              "<style scoped>\n",
              "    .dataframe tbody tr th:only-of-type {\n",
              "        vertical-align: middle;\n",
              "    }\n",
              "\n",
              "    .dataframe tbody tr th {\n",
              "        vertical-align: top;\n",
              "    }\n",
              "\n",
              "    .dataframe thead th {\n",
              "        text-align: right;\n",
              "    }\n",
              "</style>\n",
              "<table border=\"1\" class=\"dataframe\">\n",
              "  <thead>\n",
              "    <tr style=\"text-align: right;\">\n",
              "      <th></th>\n",
              "      <th></th>\n",
              "      <th>0</th>\n",
              "    </tr>\n",
              "  </thead>\n",
              "  <tbody>\n",
              "    <tr>\n",
              "      <th>OC</th>\n",
              "      <th>OC</th>\n",
              "      <td>1.000000</td>\n",
              "    </tr>\n",
              "    <tr>\n",
              "      <th>ucOC</th>\n",
              "      <th>OC</th>\n",
              "      <td>0.971038</td>\n",
              "    </tr>\n",
              "    <tr>\n",
              "      <th>TDD</th>\n",
              "      <th>bolus</th>\n",
              "      <td>0.930218</td>\n",
              "    </tr>\n",
              "    <tr>\n",
              "      <th>sex</th>\n",
              "      <th>free-test</th>\n",
              "      <td>0.926533</td>\n",
              "    </tr>\n",
              "    <tr>\n",
              "      <th>bolus/kg</th>\n",
              "      <th>bolus</th>\n",
              "      <td>0.907850</td>\n",
              "    </tr>\n",
              "    <tr>\n",
              "      <th>TDD</th>\n",
              "      <th>TDD/kg</th>\n",
              "      <td>0.869584</td>\n",
              "    </tr>\n",
              "    <tr>\n",
              "      <th>bolus/kg</th>\n",
              "      <th>TDD/kg</th>\n",
              "      <td>0.867013</td>\n",
              "    </tr>\n",
              "    <tr>\n",
              "      <th>basal/kg</th>\n",
              "      <th>basal</th>\n",
              "      <td>0.865771</td>\n",
              "    </tr>\n",
              "    <tr>\n",
              "      <th>grip_strength</th>\n",
              "      <th>sex</th>\n",
              "      <td>0.820667</td>\n",
              "    </tr>\n",
              "    <tr>\n",
              "      <th>bolus</th>\n",
              "      <th>TDD/kg</th>\n",
              "      <td>0.819652</td>\n",
              "    </tr>\n",
              "    <tr>\n",
              "      <th>SMI</th>\n",
              "      <th>sex</th>\n",
              "      <td>0.800401</td>\n",
              "    </tr>\n",
              "    <tr>\n",
              "      <th>TDD</th>\n",
              "      <th>bolus/kg</th>\n",
              "      <td>0.774577</td>\n",
              "    </tr>\n",
              "    <tr>\n",
              "      <th rowspan=\"2\" valign=\"top\">grip_strength</th>\n",
              "      <th>free-test</th>\n",
              "      <td>0.769745</td>\n",
              "    </tr>\n",
              "    <tr>\n",
              "      <th>SMI</th>\n",
              "      <td>0.769336</td>\n",
              "    </tr>\n",
              "    <tr>\n",
              "      <th>age</th>\n",
              "      <th>duration_of_diabetes</th>\n",
              "      <td>0.757926</td>\n",
              "    </tr>\n",
              "    <tr>\n",
              "      <th>basal</th>\n",
              "      <th>TDD</th>\n",
              "      <td>0.733927</td>\n",
              "    </tr>\n",
              "    <tr>\n",
              "      <th>free-test</th>\n",
              "      <th>SMI</th>\n",
              "      <td>0.723504</td>\n",
              "    </tr>\n",
              "    <tr>\n",
              "      <th>bodyfat</th>\n",
              "      <th>BMI</th>\n",
              "      <td>0.697425</td>\n",
              "    </tr>\n",
              "    <tr>\n",
              "      <th>knee_extension_strength</th>\n",
              "      <th>grip_strength</th>\n",
              "      <td>0.695331</td>\n",
              "    </tr>\n",
              "    <tr>\n",
              "      <th>BMI</th>\n",
              "      <th>SMI</th>\n",
              "      <td>0.636459</td>\n",
              "    </tr>\n",
              "    <tr>\n",
              "      <th>TDD/kg</th>\n",
              "      <th>basal</th>\n",
              "      <td>0.618316</td>\n",
              "    </tr>\n",
              "    <tr>\n",
              "      <th rowspan=\"2\" valign=\"top\">SMI</th>\n",
              "      <th>knee_extension_strength</th>\n",
              "      <td>0.618087</td>\n",
              "    </tr>\n",
              "    <tr>\n",
              "      <th>TDD</th>\n",
              "      <td>0.617902</td>\n",
              "    </tr>\n",
              "    <tr>\n",
              "      <th>knee_extension_strength</th>\n",
              "      <th>sex</th>\n",
              "      <td>0.609209</td>\n",
              "    </tr>\n",
              "    <tr>\n",
              "      <th>SMI</th>\n",
              "      <th>bolus</th>\n",
              "      <td>0.601131</td>\n",
              "    </tr>\n",
              "    <tr>\n",
              "      <th>insulin_regimen</th>\n",
              "      <th>sex</th>\n",
              "      <td>0.583730</td>\n",
              "    </tr>\n",
              "    <tr>\n",
              "      <th>free-test</th>\n",
              "      <th>knee_extension_strength</th>\n",
              "      <td>0.578394</td>\n",
              "    </tr>\n",
              "    <tr>\n",
              "      <th>insulin_regimen</th>\n",
              "      <th>free-test</th>\n",
              "      <td>0.544940</td>\n",
              "    </tr>\n",
              "    <tr>\n",
              "      <th>TDD/kg</th>\n",
              "      <th>basal/kg</th>\n",
              "      <td>0.544776</td>\n",
              "    </tr>\n",
              "    <tr>\n",
              "      <th>BMI</th>\n",
              "      <th>TDD</th>\n",
              "      <td>0.539420</td>\n",
              "    </tr>\n",
              "    <tr>\n",
              "      <th rowspan=\"2\" valign=\"top\">sex</th>\n",
              "      <th>TDD</th>\n",
              "      <td>0.509342</td>\n",
              "    </tr>\n",
              "    <tr>\n",
              "      <th>bolus</th>\n",
              "      <td>0.503594</td>\n",
              "    </tr>\n",
              "  </tbody>\n",
              "</table>\n",
              "</div>"
            ],
            "text/plain": [
              "                                                        0\n",
              "OC                      OC                       1.000000\n",
              "ucOC                    OC                       0.971038\n",
              "TDD                     bolus                    0.930218\n",
              "sex                     free-test                0.926533\n",
              "bolus/kg                bolus                    0.907850\n",
              "TDD                     TDD/kg                   0.869584\n",
              "bolus/kg                TDD/kg                   0.867013\n",
              "basal/kg                basal                    0.865771\n",
              "grip_strength           sex                      0.820667\n",
              "bolus                   TDD/kg                   0.819652\n",
              "SMI                     sex                      0.800401\n",
              "TDD                     bolus/kg                 0.774577\n",
              "grip_strength           free-test                0.769745\n",
              "                        SMI                      0.769336\n",
              "age                     duration_of_diabetes     0.757926\n",
              "basal                   TDD                      0.733927\n",
              "free-test               SMI                      0.723504\n",
              "bodyfat                 BMI                      0.697425\n",
              "knee_extension_strength grip_strength            0.695331\n",
              "BMI                     SMI                      0.636459\n",
              "TDD/kg                  basal                    0.618316\n",
              "SMI                     knee_extension_strength  0.618087\n",
              "                        TDD                      0.617902\n",
              "knee_extension_strength sex                      0.609209\n",
              "SMI                     bolus                    0.601131\n",
              "insulin_regimen         sex                      0.583730\n",
              "free-test               knee_extension_strength  0.578394\n",
              "insulin_regimen         free-test                0.544940\n",
              "TDD/kg                  basal/kg                 0.544776\n",
              "BMI                     TDD                      0.539420\n",
              "sex                     TDD                      0.509342\n",
              "                        bolus                    0.503594"
            ]
          },
          "metadata": {
            "tags": []
          },
          "execution_count": 19
        }
      ]
    },
    {
      "cell_type": "markdown",
      "metadata": {
        "id": "FpmPYslY4cyo"
      },
      "source": [
        "uc - OC = Highly correlated, let's drop ucOC\r\n",
        "\r\n",
        "-TDD: is highly corrrelationated with everyone except basal/kg. We can drop all of the dosages and leave TDD which is the most simple and can be answered in a single question ie: How many units of insulin a day do you take? Can we add a column tdd/kg?\r\n",
        "\r\n",
        "-Free test is highly correlationated with sex. We can drop Free-testosterone as you would need endocrine labs. (Also is highly variable during the day)\r\n",
        "\r\n",
        "-Sex is highly correlationated with all of measures of strength, and free muscle mass. We can drop that? \r\n",
        "\r\n",
        "-BMI is correlationated with bodyfat. We are going to drop bodyfat, as you often need either calipters or more specialized equipment to measure it.\r\n"
      ]
    },
    {
      "cell_type": "code",
      "metadata": {
        "id": "nnhd4YXE4cYx"
      },
      "source": [
        "datafinal = data1.drop(['ucOC', 'basal', 'bolus', 'basal/kg', 'bolus/kg', 'TDD/kg', 'bodyfat', 'grip_strength', 'free-test', 'SMI', 'knee_extension_strength'], axis = 1)"
      ],
      "execution_count": 20,
      "outputs": []
    },
    {
      "cell_type": "code",
      "metadata": {
        "colab": {
          "base_uri": "https://localhost:8080/",
          "height": 410
        },
        "id": "xsxBRPkE81rl",
        "outputId": "d83f0a6a-3fd3-44b5-d9f2-09debe69c56c"
      },
      "source": [
        "datafinal"
      ],
      "execution_count": 21,
      "outputs": [
        {
          "output_type": "execute_result",
          "data": {
            "text/html": [
              "<div>\n",
              "<style scoped>\n",
              "    .dataframe tbody tr th:only-of-type {\n",
              "        vertical-align: middle;\n",
              "    }\n",
              "\n",
              "    .dataframe tbody tr th {\n",
              "        vertical-align: top;\n",
              "    }\n",
              "\n",
              "    .dataframe thead th {\n",
              "        text-align: right;\n",
              "    }\n",
              "</style>\n",
              "<table border=\"1\" class=\"dataframe\">\n",
              "  <thead>\n",
              "    <tr style=\"text-align: right;\">\n",
              "      <th></th>\n",
              "      <th>sex</th>\n",
              "      <th>age</th>\n",
              "      <th>duration_of_diabetes</th>\n",
              "      <th>BMI</th>\n",
              "      <th>insulin_regimen</th>\n",
              "      <th>TDD</th>\n",
              "      <th>HbA1c</th>\n",
              "      <th>eGFR</th>\n",
              "      <th>adiponectin</th>\n",
              "      <th>gait_speed</th>\n",
              "      <th>OC</th>\n",
              "    </tr>\n",
              "  </thead>\n",
              "  <tbody>\n",
              "    <tr>\n",
              "      <th>0</th>\n",
              "      <td>0.0</td>\n",
              "      <td>31.0</td>\n",
              "      <td>17.0</td>\n",
              "      <td>22.437670</td>\n",
              "      <td>0.0</td>\n",
              "      <td>43.700001</td>\n",
              "      <td>6.300000</td>\n",
              "      <td>82.927682</td>\n",
              "      <td>14.3</td>\n",
              "      <td>0.81000</td>\n",
              "      <td>49.6</td>\n",
              "    </tr>\n",
              "    <tr>\n",
              "      <th>1</th>\n",
              "      <td>1.0</td>\n",
              "      <td>31.0</td>\n",
              "      <td>25.0</td>\n",
              "      <td>25.556936</td>\n",
              "      <td>1.0</td>\n",
              "      <td>64.000000</td>\n",
              "      <td>7.800000</td>\n",
              "      <td>92.427345</td>\n",
              "      <td>10.0</td>\n",
              "      <td>1.54000</td>\n",
              "      <td>17.4</td>\n",
              "    </tr>\n",
              "    <tr>\n",
              "      <th>2</th>\n",
              "      <td>0.0</td>\n",
              "      <td>32.0</td>\n",
              "      <td>26.0</td>\n",
              "      <td>20.976562</td>\n",
              "      <td>0.0</td>\n",
              "      <td>27.400000</td>\n",
              "      <td>5.800000</td>\n",
              "      <td>84.945605</td>\n",
              "      <td>16.1</td>\n",
              "      <td>1.20000</td>\n",
              "      <td>10.8</td>\n",
              "    </tr>\n",
              "    <tr>\n",
              "      <th>3</th>\n",
              "      <td>0.0</td>\n",
              "      <td>25.0</td>\n",
              "      <td>17.0</td>\n",
              "      <td>21.297760</td>\n",
              "      <td>1.0</td>\n",
              "      <td>60.000000</td>\n",
              "      <td>7.200000</td>\n",
              "      <td>92.742008</td>\n",
              "      <td>6.6</td>\n",
              "      <td>1.38000</td>\n",
              "      <td>14.5</td>\n",
              "    </tr>\n",
              "    <tr>\n",
              "      <th>4</th>\n",
              "      <td>1.0</td>\n",
              "      <td>39.0</td>\n",
              "      <td>35.0</td>\n",
              "      <td>32.608940</td>\n",
              "      <td>0.0</td>\n",
              "      <td>60.950001</td>\n",
              "      <td>7.600000</td>\n",
              "      <td>108.602288</td>\n",
              "      <td>13.8</td>\n",
              "      <td>1.28000</td>\n",
              "      <td>12.2</td>\n",
              "    </tr>\n",
              "    <tr>\n",
              "      <th>...</th>\n",
              "      <td>...</td>\n",
              "      <td>...</td>\n",
              "      <td>...</td>\n",
              "      <td>...</td>\n",
              "      <td>...</td>\n",
              "      <td>...</td>\n",
              "      <td>...</td>\n",
              "      <td>...</td>\n",
              "      <td>...</td>\n",
              "      <td>...</td>\n",
              "      <td>...</td>\n",
              "    </tr>\n",
              "    <tr>\n",
              "      <th>68</th>\n",
              "      <td>0.0</td>\n",
              "      <td>36.0</td>\n",
              "      <td>28.0</td>\n",
              "      <td>18.701096</td>\n",
              "      <td>1.0</td>\n",
              "      <td>47.000000</td>\n",
              "      <td>9.200000</td>\n",
              "      <td>50.706049</td>\n",
              "      <td>14.5</td>\n",
              "      <td>1.71000</td>\n",
              "      <td>44.4</td>\n",
              "    </tr>\n",
              "    <tr>\n",
              "      <th>69</th>\n",
              "      <td>1.0</td>\n",
              "      <td>47.0</td>\n",
              "      <td>34.0</td>\n",
              "      <td>25.460822</td>\n",
              "      <td>1.0</td>\n",
              "      <td>28.000000</td>\n",
              "      <td>6.900000</td>\n",
              "      <td>76.758299</td>\n",
              "      <td>11.8</td>\n",
              "      <td>1.52000</td>\n",
              "      <td>12.9</td>\n",
              "    </tr>\n",
              "    <tr>\n",
              "      <th>70</th>\n",
              "      <td>1.0</td>\n",
              "      <td>21.0</td>\n",
              "      <td>15.0</td>\n",
              "      <td>25.935053</td>\n",
              "      <td>1.0</td>\n",
              "      <td>72.000000</td>\n",
              "      <td>7.900000</td>\n",
              "      <td>114.248257</td>\n",
              "      <td>13.4</td>\n",
              "      <td>1.55000</td>\n",
              "      <td>27.1</td>\n",
              "    </tr>\n",
              "    <tr>\n",
              "      <th>71</th>\n",
              "      <td>1.0</td>\n",
              "      <td>36.0</td>\n",
              "      <td>29.0</td>\n",
              "      <td>24.483321</td>\n",
              "      <td>1.0</td>\n",
              "      <td>34.000000</td>\n",
              "      <td>7.344959</td>\n",
              "      <td>93.655404</td>\n",
              "      <td>10.8</td>\n",
              "      <td>1.71000</td>\n",
              "      <td>17.0</td>\n",
              "    </tr>\n",
              "    <tr>\n",
              "      <th>72</th>\n",
              "      <td>0.0</td>\n",
              "      <td>37.0</td>\n",
              "      <td>26.0</td>\n",
              "      <td>23.457858</td>\n",
              "      <td>0.0</td>\n",
              "      <td>35.200001</td>\n",
              "      <td>5.600000</td>\n",
              "      <td>94.068708</td>\n",
              "      <td>20.2</td>\n",
              "      <td>1.30649</td>\n",
              "      <td>7.1</td>\n",
              "    </tr>\n",
              "  </tbody>\n",
              "</table>\n",
              "<p>73 rows × 11 columns</p>\n",
              "</div>"
            ],
            "text/plain": [
              "    sex   age  duration_of_diabetes  ...  adiponectin  gait_speed    OC\n",
              "0   0.0  31.0                  17.0  ...         14.3     0.81000  49.6\n",
              "1   1.0  31.0                  25.0  ...         10.0     1.54000  17.4\n",
              "2   0.0  32.0                  26.0  ...         16.1     1.20000  10.8\n",
              "3   0.0  25.0                  17.0  ...          6.6     1.38000  14.5\n",
              "4   1.0  39.0                  35.0  ...         13.8     1.28000  12.2\n",
              "..  ...   ...                   ...  ...          ...         ...   ...\n",
              "68  0.0  36.0                  28.0  ...         14.5     1.71000  44.4\n",
              "69  1.0  47.0                  34.0  ...         11.8     1.52000  12.9\n",
              "70  1.0  21.0                  15.0  ...         13.4     1.55000  27.1\n",
              "71  1.0  36.0                  29.0  ...         10.8     1.71000  17.0\n",
              "72  0.0  37.0                  26.0  ...         20.2     1.30649   7.1\n",
              "\n",
              "[73 rows x 11 columns]"
            ]
          },
          "metadata": {
            "tags": []
          },
          "execution_count": 21
        }
      ]
    },
    {
      "cell_type": "markdown",
      "metadata": {
        "id": "XmHA7bn1eu8r"
      },
      "source": [
        "# Outliers\r\n"
      ]
    },
    {
      "cell_type": "markdown",
      "metadata": {
        "id": "ftMDgUPGuibj"
      },
      "source": [
        "# Random Forest Regressor"
      ]
    },
    {
      "cell_type": "code",
      "metadata": {
        "colab": {
          "base_uri": "https://localhost:8080/"
        },
        "id": "EUo2mTJPwCT5",
        "outputId": "34527c64-1f9c-4c7a-ebbe-910bbc213646"
      },
      "source": [
        "datafinal.columns"
      ],
      "execution_count": 22,
      "outputs": [
        {
          "output_type": "execute_result",
          "data": {
            "text/plain": [
              "Index(['sex', 'age', 'duration_of_diabetes', 'BMI', 'insulin_regimen', 'TDD',\n",
              "       'HbA1c', 'eGFR', 'adiponectin', 'gait_speed', 'OC'],\n",
              "      dtype='object')"
            ]
          },
          "metadata": {
            "tags": []
          },
          "execution_count": 22
        }
      ]
    },
    {
      "cell_type": "code",
      "metadata": {
        "id": "7J22UnhmDNUG"
      },
      "source": [
        "X = datafinal.drop('duration_of_diabetes', axis = 1)"
      ],
      "execution_count": 23,
      "outputs": []
    },
    {
      "cell_type": "code",
      "metadata": {
        "id": "RQ5DRDpvDOqQ"
      },
      "source": [
        "y = datafinal['duration_of_diabetes']"
      ],
      "execution_count": 24,
      "outputs": []
    },
    {
      "cell_type": "markdown",
      "metadata": {
        "id": "xxQ4UgcZEnct"
      },
      "source": [
        "I will just set a n = 100 trees for the random forest"
      ]
    },
    {
      "cell_type": "code",
      "metadata": {
        "id": "I4B9eemIGRfd"
      },
      "source": [
        "rf_diabetes2= RandomForestRegressor(n_estimators=100)"
      ],
      "execution_count": 25,
      "outputs": []
    },
    {
      "cell_type": "markdown",
      "metadata": {
        "id": "hgb4JU5u_bBS"
      },
      "source": [
        "# Looping through 1000 random forests\r\n",
        "\r\n"
      ]
    },
    {
      "cell_type": "code",
      "metadata": {
        "id": "U7URcs1_J8GX"
      },
      "source": [
        "from sklearn.metrics import mean_absolute_error\r\n",
        "from sklearn.metrics import mean_squared_error\r\n",
        "from math import sqrt"
      ],
      "execution_count": 26,
      "outputs": []
    },
    {
      "cell_type": "code",
      "metadata": {
        "id": "17n0gb3OLFf2"
      },
      "source": [
        "#Sklearn does't have any function for SMAPE, so I wrote a function in python\r\n",
        "#The function has 100%/n. I replaced 100% with 1, to have values between 0 and 1 in form of percentages.\r\n",
        "#A is the real, while F is predicted.\r\n",
        "def smape(a, f):\r\n",
        "    return 1/len(a) * np.sum(2 * np.abs(f-a) / (np.abs(a) + np.abs(f)))"
      ],
      "execution_count": 27,
      "outputs": []
    },
    {
      "cell_type": "code",
      "metadata": {
        "id": "Z7xUZdIw_qTx"
      },
      "source": [
        "r2mean = []\r\n",
        "SMAPEm = []\r\n",
        "MSEm = []\r\n",
        "RMSEm = []\r\n",
        "MAEm= []"
      ],
      "execution_count": 28,
      "outputs": []
    },
    {
      "cell_type": "code",
      "metadata": {
        "id": "7SYVHWTF9guA"
      },
      "source": [
        "for x in range(1000):\r\n",
        "  X_train, X_test, y_train, y_test = train_test_split(X, y, test_size=0.30)\r\n",
        "  rf_diabetes2.fit(X_train, y_train)\r\n",
        "  r2 = rf_diabetes2.score(X_test, y_test)\r\n",
        "  y_pred = rf_diabetes2.predict(X_test)\r\n",
        "  r2mean.append(r2)\r\n",
        "  MAE = mean_absolute_error(y_test, y_pred)\r\n",
        "  MAEm.append(MAE)\r\n",
        "  MSE = mean_squared_error(y_test, y_pred)\r\n",
        "  MSEm.append(MSE)\r\n",
        "  RMSE = sqrt(mean_squared_error(y_test, y_pred))\r\n",
        "  RMSEm.append(RMSE)\r\n",
        "  SMAPE = smape(y_test, y_pred)\r\n",
        "  SMAPEm.append(SMAPE)"
      ],
      "execution_count": 29,
      "outputs": []
    },
    {
      "cell_type": "markdown",
      "metadata": {
        "id": "Dregvtn0FuYu"
      },
      "source": [
        "The score of the random forest regressor is by default the r*2. I appended the r2 from each randomforest I looped through, to the list r2mean."
      ]
    },
    {
      "cell_type": "code",
      "metadata": {
        "id": "RCFiNQHgTqE_"
      },
      "source": [
        "R2mean=np.mean(r2mean)\r\n",
        "MSEmean=np.mean(MSEm)\r\n",
        "RMSEmean=np.mean(RMSEm)\r\n",
        "SMAPEmean= np.mean(SMAPEm)\r\n",
        "MAEmean= np.mean(MAE)"
      ],
      "execution_count": 30,
      "outputs": []
    },
    {
      "cell_type": "code",
      "metadata": {
        "id": "QLKa4TCKRJnM"
      },
      "source": [
        "Metrics = {'Metrics Means': ['R2', 'MSE', 'RMSE', 'SMAPE', 'MAE'],\r\n",
        "           'Values': [np.mean(r2mean), np.mean(MSEm), np.mean(RMSEm), np.mean(SMAPEm), np.mean(MAE)]\r\n",
        "           }"
      ],
      "execution_count": 31,
      "outputs": []
    },
    {
      "cell_type": "code",
      "metadata": {
        "id": "SGnvYEIZUIhL"
      },
      "source": [
        "MetricsDF = pd.DataFrame.from_dict(Metrics)"
      ],
      "execution_count": 32,
      "outputs": []
    },
    {
      "cell_type": "code",
      "metadata": {
        "colab": {
          "base_uri": "https://localhost:8080/",
          "height": 199
        },
        "id": "XzO8UKrQUYKt",
        "outputId": "13c9bef2-aa02-4643-9276-53472abedf04"
      },
      "source": [
        "MetricsDF"
      ],
      "execution_count": 33,
      "outputs": [
        {
          "output_type": "execute_result",
          "data": {
            "text/html": [
              "<div>\n",
              "<style scoped>\n",
              "    .dataframe tbody tr th:only-of-type {\n",
              "        vertical-align: middle;\n",
              "    }\n",
              "\n",
              "    .dataframe tbody tr th {\n",
              "        vertical-align: top;\n",
              "    }\n",
              "\n",
              "    .dataframe thead th {\n",
              "        text-align: right;\n",
              "    }\n",
              "</style>\n",
              "<table border=\"1\" class=\"dataframe\">\n",
              "  <thead>\n",
              "    <tr style=\"text-align: right;\">\n",
              "      <th></th>\n",
              "      <th>Metrics Means</th>\n",
              "      <th>Values</th>\n",
              "    </tr>\n",
              "  </thead>\n",
              "  <tbody>\n",
              "    <tr>\n",
              "      <th>0</th>\n",
              "      <td>R2</td>\n",
              "      <td>0.458193</td>\n",
              "    </tr>\n",
              "    <tr>\n",
              "      <th>1</th>\n",
              "      <td>MSE</td>\n",
              "      <td>27.183846</td>\n",
              "    </tr>\n",
              "    <tr>\n",
              "      <th>2</th>\n",
              "      <td>RMSE</td>\n",
              "      <td>5.163263</td>\n",
              "    </tr>\n",
              "    <tr>\n",
              "      <th>3</th>\n",
              "      <td>SMAPE</td>\n",
              "      <td>0.171443</td>\n",
              "    </tr>\n",
              "    <tr>\n",
              "      <th>4</th>\n",
              "      <td>MAE</td>\n",
              "      <td>3.394545</td>\n",
              "    </tr>\n",
              "  </tbody>\n",
              "</table>\n",
              "</div>"
            ],
            "text/plain": [
              "  Metrics Means     Values\n",
              "0            R2   0.458193\n",
              "1           MSE  27.183846\n",
              "2          RMSE   5.163263\n",
              "3         SMAPE   0.171443\n",
              "4           MAE   3.394545"
            ]
          },
          "metadata": {
            "tags": []
          },
          "execution_count": 33
        }
      ]
    },
    {
      "cell_type": "markdown",
      "metadata": {
        "id": "NFe69vwk9_yx"
      },
      "source": [
        "# Feature Importance and Prediction visualization"
      ]
    },
    {
      "cell_type": "code",
      "metadata": {
        "id": "PQz-Py_ZWlxf"
      },
      "source": [
        "pred = rf_diabetes2.predict(X_test)"
      ],
      "execution_count": 34,
      "outputs": []
    },
    {
      "cell_type": "code",
      "metadata": {
        "id": "U36t7S_oxF87"
      },
      "source": [
        "predictions = zip(pred, y_test)\r\n"
      ],
      "execution_count": 35,
      "outputs": []
    },
    {
      "cell_type": "code",
      "metadata": {
        "colab": {
          "base_uri": "https://localhost:8080/",
          "height": 714
        },
        "id": "mWNkMrKGxnj9",
        "outputId": "2cd0f2d2-f7a6-4ef6-f102-c4b6eebcdde8"
      },
      "source": [
        "predictions = pd.DataFrame(predictions)\r\n",
        "predictions.columns = ['predicted', 'actual']\r\n",
        "predictions"
      ],
      "execution_count": 36,
      "outputs": [
        {
          "output_type": "execute_result",
          "data": {
            "text/html": [
              "<div>\n",
              "<style scoped>\n",
              "    .dataframe tbody tr th:only-of-type {\n",
              "        vertical-align: middle;\n",
              "    }\n",
              "\n",
              "    .dataframe tbody tr th {\n",
              "        vertical-align: top;\n",
              "    }\n",
              "\n",
              "    .dataframe thead th {\n",
              "        text-align: right;\n",
              "    }\n",
              "</style>\n",
              "<table border=\"1\" class=\"dataframe\">\n",
              "  <thead>\n",
              "    <tr style=\"text-align: right;\">\n",
              "      <th></th>\n",
              "      <th>predicted</th>\n",
              "      <th>actual</th>\n",
              "    </tr>\n",
              "  </thead>\n",
              "  <tbody>\n",
              "    <tr>\n",
              "      <th>0</th>\n",
              "      <td>35.42</td>\n",
              "      <td>33.0</td>\n",
              "    </tr>\n",
              "    <tr>\n",
              "      <th>1</th>\n",
              "      <td>29.36</td>\n",
              "      <td>35.0</td>\n",
              "    </tr>\n",
              "    <tr>\n",
              "      <th>2</th>\n",
              "      <td>28.25</td>\n",
              "      <td>22.0</td>\n",
              "    </tr>\n",
              "    <tr>\n",
              "      <th>3</th>\n",
              "      <td>27.88</td>\n",
              "      <td>30.0</td>\n",
              "    </tr>\n",
              "    <tr>\n",
              "      <th>4</th>\n",
              "      <td>25.45</td>\n",
              "      <td>18.0</td>\n",
              "    </tr>\n",
              "    <tr>\n",
              "      <th>5</th>\n",
              "      <td>20.06</td>\n",
              "      <td>14.0</td>\n",
              "    </tr>\n",
              "    <tr>\n",
              "      <th>6</th>\n",
              "      <td>31.38</td>\n",
              "      <td>31.0</td>\n",
              "    </tr>\n",
              "    <tr>\n",
              "      <th>7</th>\n",
              "      <td>33.54</td>\n",
              "      <td>39.0</td>\n",
              "    </tr>\n",
              "    <tr>\n",
              "      <th>8</th>\n",
              "      <td>25.66</td>\n",
              "      <td>29.0</td>\n",
              "    </tr>\n",
              "    <tr>\n",
              "      <th>9</th>\n",
              "      <td>16.50</td>\n",
              "      <td>16.0</td>\n",
              "    </tr>\n",
              "    <tr>\n",
              "      <th>10</th>\n",
              "      <td>22.14</td>\n",
              "      <td>26.0</td>\n",
              "    </tr>\n",
              "    <tr>\n",
              "      <th>11</th>\n",
              "      <td>26.67</td>\n",
              "      <td>21.0</td>\n",
              "    </tr>\n",
              "    <tr>\n",
              "      <th>12</th>\n",
              "      <td>26.79</td>\n",
              "      <td>25.0</td>\n",
              "    </tr>\n",
              "    <tr>\n",
              "      <th>13</th>\n",
              "      <td>15.58</td>\n",
              "      <td>17.0</td>\n",
              "    </tr>\n",
              "    <tr>\n",
              "      <th>14</th>\n",
              "      <td>26.92</td>\n",
              "      <td>34.0</td>\n",
              "    </tr>\n",
              "    <tr>\n",
              "      <th>15</th>\n",
              "      <td>31.91</td>\n",
              "      <td>28.0</td>\n",
              "    </tr>\n",
              "    <tr>\n",
              "      <th>16</th>\n",
              "      <td>28.32</td>\n",
              "      <td>33.0</td>\n",
              "    </tr>\n",
              "    <tr>\n",
              "      <th>17</th>\n",
              "      <td>26.68</td>\n",
              "      <td>26.0</td>\n",
              "    </tr>\n",
              "    <tr>\n",
              "      <th>18</th>\n",
              "      <td>16.74</td>\n",
              "      <td>16.0</td>\n",
              "    </tr>\n",
              "    <tr>\n",
              "      <th>19</th>\n",
              "      <td>27.93</td>\n",
              "      <td>30.0</td>\n",
              "    </tr>\n",
              "    <tr>\n",
              "      <th>20</th>\n",
              "      <td>27.02</td>\n",
              "      <td>26.0</td>\n",
              "    </tr>\n",
              "    <tr>\n",
              "      <th>21</th>\n",
              "      <td>25.86</td>\n",
              "      <td>28.0</td>\n",
              "    </tr>\n",
              "  </tbody>\n",
              "</table>\n",
              "</div>"
            ],
            "text/plain": [
              "    predicted  actual\n",
              "0       35.42    33.0\n",
              "1       29.36    35.0\n",
              "2       28.25    22.0\n",
              "3       27.88    30.0\n",
              "4       25.45    18.0\n",
              "5       20.06    14.0\n",
              "6       31.38    31.0\n",
              "7       33.54    39.0\n",
              "8       25.66    29.0\n",
              "9       16.50    16.0\n",
              "10      22.14    26.0\n",
              "11      26.67    21.0\n",
              "12      26.79    25.0\n",
              "13      15.58    17.0\n",
              "14      26.92    34.0\n",
              "15      31.91    28.0\n",
              "16      28.32    33.0\n",
              "17      26.68    26.0\n",
              "18      16.74    16.0\n",
              "19      27.93    30.0\n",
              "20      27.02    26.0\n",
              "21      25.86    28.0"
            ]
          },
          "metadata": {
            "tags": []
          },
          "execution_count": 36
        }
      ]
    },
    {
      "cell_type": "markdown",
      "metadata": {
        "id": "8KaFsGDhbPed"
      },
      "source": [
        "# Feature Selection\r\n"
      ]
    },
    {
      "cell_type": "code",
      "metadata": {
        "id": "clXB4iwhcP4W"
      },
      "source": [
        "from sklearn.feature_selection import RFE\r\n",
        "from sklearn.linear_model import LinearRegression"
      ],
      "execution_count": 37,
      "outputs": []
    },
    {
      "cell_type": "code",
      "metadata": {
        "id": "MYdeJXiYEPWZ"
      },
      "source": [
        "rfe = RFE(estimator=RandomForestRegressor(), n_features_to_select=1) \r\n",
        "rfe.fit(X_train, y_train)\r\n",
        "rf_df = pd.DataFrame(rfe.ranking_, index=X_test.columns, columns=['Rank-Randomforest']).sort_values(by='Rank-Randomforest',ascending=True)\r\n"
      ],
      "execution_count": 38,
      "outputs": []
    },
    {
      "cell_type": "code",
      "metadata": {
        "id": "Xk-QtnIqUwch"
      },
      "source": [
        "rfe2 = RFE(estimator=LinearRegression(), n_features_to_select=1) \r\n",
        "rfe2.fit(X_train, y_train)\r\n",
        "rf_df2 = pd.DataFrame(rfe2.ranking_, index=X_test.columns, columns=['Rank-LinearReg']).sort_values(by='Rank-LinearReg',ascending=True)"
      ],
      "execution_count": 39,
      "outputs": []
    },
    {
      "cell_type": "code",
      "metadata": {
        "id": "nqpTixPpW4w3"
      },
      "source": [
        "from sklearn.svm import SVR"
      ],
      "execution_count": 40,
      "outputs": []
    },
    {
      "cell_type": "code",
      "metadata": {
        "id": "6iG3VCgEW8gY"
      },
      "source": [
        "rfe3 = RFE(estimator=SVR(kernel=\"linear\"), n_features_to_select=1) \r\n",
        "rfe3.fit(X_train, y_train)\r\n",
        "rf_df3 = pd.DataFrame(rfe3.ranking_, index=X_test.columns, columns=['Rank-SVR']).sort_values(by='Rank-SVR',ascending=True)"
      ],
      "execution_count": 41,
      "outputs": []
    },
    {
      "cell_type": "code",
      "metadata": {
        "colab": {
          "base_uri": "https://localhost:8080/",
          "height": 351
        },
        "id": "C3vspC0HZS-z",
        "outputId": "c9421ed1-ef7a-4552-e247-ce9dced993ee"
      },
      "source": [
        "rankingdf = pd.concat([rf_df, rf_df2, rf_df3], axis=1)\r\n",
        "rankingdf "
      ],
      "execution_count": 42,
      "outputs": [
        {
          "output_type": "execute_result",
          "data": {
            "text/html": [
              "<div>\n",
              "<style scoped>\n",
              "    .dataframe tbody tr th:only-of-type {\n",
              "        vertical-align: middle;\n",
              "    }\n",
              "\n",
              "    .dataframe tbody tr th {\n",
              "        vertical-align: top;\n",
              "    }\n",
              "\n",
              "    .dataframe thead th {\n",
              "        text-align: right;\n",
              "    }\n",
              "</style>\n",
              "<table border=\"1\" class=\"dataframe\">\n",
              "  <thead>\n",
              "    <tr style=\"text-align: right;\">\n",
              "      <th></th>\n",
              "      <th>Rank-Randomforest</th>\n",
              "      <th>Rank-LinearReg</th>\n",
              "      <th>Rank-SVR</th>\n",
              "    </tr>\n",
              "  </thead>\n",
              "  <tbody>\n",
              "    <tr>\n",
              "      <th>age</th>\n",
              "      <td>1</td>\n",
              "      <td>4</td>\n",
              "      <td>3</td>\n",
              "    </tr>\n",
              "    <tr>\n",
              "      <th>HbA1c</th>\n",
              "      <td>2</td>\n",
              "      <td>5</td>\n",
              "      <td>5</td>\n",
              "    </tr>\n",
              "    <tr>\n",
              "      <th>gait_speed</th>\n",
              "      <td>3</td>\n",
              "      <td>1</td>\n",
              "      <td>1</td>\n",
              "    </tr>\n",
              "    <tr>\n",
              "      <th>adiponectin</th>\n",
              "      <td>4</td>\n",
              "      <td>8</td>\n",
              "      <td>6</td>\n",
              "    </tr>\n",
              "    <tr>\n",
              "      <th>eGFR</th>\n",
              "      <td>5</td>\n",
              "      <td>9</td>\n",
              "      <td>9</td>\n",
              "    </tr>\n",
              "    <tr>\n",
              "      <th>TDD</th>\n",
              "      <td>6</td>\n",
              "      <td>7</td>\n",
              "      <td>10</td>\n",
              "    </tr>\n",
              "    <tr>\n",
              "      <th>OC</th>\n",
              "      <td>7</td>\n",
              "      <td>10</td>\n",
              "      <td>8</td>\n",
              "    </tr>\n",
              "    <tr>\n",
              "      <th>BMI</th>\n",
              "      <td>8</td>\n",
              "      <td>6</td>\n",
              "      <td>7</td>\n",
              "    </tr>\n",
              "    <tr>\n",
              "      <th>insulin_regimen</th>\n",
              "      <td>9</td>\n",
              "      <td>3</td>\n",
              "      <td>4</td>\n",
              "    </tr>\n",
              "    <tr>\n",
              "      <th>sex</th>\n",
              "      <td>10</td>\n",
              "      <td>2</td>\n",
              "      <td>2</td>\n",
              "    </tr>\n",
              "  </tbody>\n",
              "</table>\n",
              "</div>"
            ],
            "text/plain": [
              "                 Rank-Randomforest  Rank-LinearReg  Rank-SVR\n",
              "age                              1               4         3\n",
              "HbA1c                            2               5         5\n",
              "gait_speed                       3               1         1\n",
              "adiponectin                      4               8         6\n",
              "eGFR                             5               9         9\n",
              "TDD                              6               7        10\n",
              "OC                               7              10         8\n",
              "BMI                              8               6         7\n",
              "insulin_regimen                  9               3         4\n",
              "sex                             10               2         2"
            ]
          },
          "metadata": {
            "tags": []
          },
          "execution_count": 42
        }
      ]
    },
    {
      "cell_type": "markdown",
      "metadata": {
        "id": "h2ZTZ81EdNOa"
      },
      "source": [
        "# Random Forest with 4 features that could be easily taken in the first consult - Based on Random forest Feature ranking\r\n"
      ]
    },
    {
      "cell_type": "code",
      "metadata": {
        "id": "NoEX9_JKdeBx"
      },
      "source": [
        "FeaturesSelected = datafinal[['age', 'TDD', 'gait_speed', 'BMI', 'duration_of_diabetes']]"
      ],
      "execution_count": 43,
      "outputs": []
    },
    {
      "cell_type": "code",
      "metadata": {
        "id": "nt46Yl7ndzkX"
      },
      "source": [
        "Xfs = FeaturesSelected.drop('duration_of_diabetes', axis = 1)\r\n",
        "yfs = FeaturesSelected['duration_of_diabetes']"
      ],
      "execution_count": 44,
      "outputs": []
    },
    {
      "cell_type": "code",
      "metadata": {
        "id": "MJdC63Pkew0J"
      },
      "source": [
        "fr2mean = []\r\n",
        "fSMAPEm = []\r\n",
        "fMSEm = []\r\n",
        "fRMSEm = []\r\n",
        "fMAEm= []"
      ],
      "execution_count": 45,
      "outputs": []
    },
    {
      "cell_type": "code",
      "metadata": {
        "id": "J6AHfG06cZ8a"
      },
      "source": [
        "for x in range(1000):\r\n",
        "  X_train, X_test, y_train, y_test = train_test_split(Xfs, yfs, test_size=0.30)\r\n",
        "  rf_diabetes2.fit(X_train, y_train)\r\n",
        "  fr2 = rf_diabetes2.score(X_test, y_test)\r\n",
        "  y_pred = rf_diabetes2.predict(X_test)\r\n",
        "  fr2mean.append(fr2)\r\n",
        "  fMAE = mean_absolute_error(y_test, y_pred)\r\n",
        "  fMAEm.append(fMAE)\r\n",
        "  fMSE = mean_squared_error(y_test, y_pred)\r\n",
        "  fMSEm.append(fMSE)\r\n",
        "  fRMSE = sqrt(mean_squared_error(y_test, y_pred))\r\n",
        "  fRMSEm.append(fRMSE)\r\n",
        "  fSMAPE = smape(y_test, y_pred)\r\n",
        "  fSMAPEm.append(fSMAPE)"
      ],
      "execution_count": 46,
      "outputs": []
    },
    {
      "cell_type": "code",
      "metadata": {
        "id": "QQPp9f0te9IX"
      },
      "source": [
        "fMetrics = {'Metrics Means': ['R2', 'MSE', 'RMSE', 'SMAPE', 'MAE'],\r\n",
        "           'Values': [np.mean(fr2mean), np.mean(fMSEm), np.mean(fRMSEm), np.mean(fSMAPEm), np.mean(fMAE)]\r\n",
        "           }"
      ],
      "execution_count": 47,
      "outputs": []
    },
    {
      "cell_type": "code",
      "metadata": {
        "colab": {
          "base_uri": "https://localhost:8080/",
          "height": 199
        },
        "id": "cczcVk7NfLqx",
        "outputId": "e74713f9-06b0-4cef-abbb-abefef1814c8"
      },
      "source": [
        "fMetricsDF = pd.DataFrame.from_dict(fMetrics)\r\n",
        "fMetricsDF"
      ],
      "execution_count": 48,
      "outputs": [
        {
          "output_type": "execute_result",
          "data": {
            "text/html": [
              "<div>\n",
              "<style scoped>\n",
              "    .dataframe tbody tr th:only-of-type {\n",
              "        vertical-align: middle;\n",
              "    }\n",
              "\n",
              "    .dataframe tbody tr th {\n",
              "        vertical-align: top;\n",
              "    }\n",
              "\n",
              "    .dataframe thead th {\n",
              "        text-align: right;\n",
              "    }\n",
              "</style>\n",
              "<table border=\"1\" class=\"dataframe\">\n",
              "  <thead>\n",
              "    <tr style=\"text-align: right;\">\n",
              "      <th></th>\n",
              "      <th>Metrics Means</th>\n",
              "      <th>Values</th>\n",
              "    </tr>\n",
              "  </thead>\n",
              "  <tbody>\n",
              "    <tr>\n",
              "      <th>0</th>\n",
              "      <td>R2</td>\n",
              "      <td>0.477784</td>\n",
              "    </tr>\n",
              "    <tr>\n",
              "      <th>1</th>\n",
              "      <td>MSE</td>\n",
              "      <td>26.138621</td>\n",
              "    </tr>\n",
              "    <tr>\n",
              "      <th>2</th>\n",
              "      <td>RMSE</td>\n",
              "      <td>5.069888</td>\n",
              "    </tr>\n",
              "    <tr>\n",
              "      <th>3</th>\n",
              "      <td>SMAPE</td>\n",
              "      <td>0.171057</td>\n",
              "    </tr>\n",
              "    <tr>\n",
              "      <th>4</th>\n",
              "      <td>MAE</td>\n",
              "      <td>2.995000</td>\n",
              "    </tr>\n",
              "  </tbody>\n",
              "</table>\n",
              "</div>"
            ],
            "text/plain": [
              "  Metrics Means     Values\n",
              "0            R2   0.477784\n",
              "1           MSE  26.138621\n",
              "2          RMSE   5.069888\n",
              "3         SMAPE   0.171057\n",
              "4           MAE   2.995000"
            ]
          },
          "metadata": {
            "tags": []
          },
          "execution_count": 48
        }
      ]
    }
  ]
}