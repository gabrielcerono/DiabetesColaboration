{
 "cells": [
  {
   "cell_type": "code",
   "execution_count": 8,
   "metadata": {},
   "outputs": [],
   "source": [
    "import matplotlib.pyplot as plt, numpy as np\n",
    "from matplotlib.pyplot import figure\n",
    "import matplotlib"
   ]
  },
  {
   "cell_type": "code",
   "execution_count": 7,
   "metadata": {},
   "outputs": [],
   "source": [
    "%matplotlib inline"
   ]
  },
  {
   "cell_type": "code",
   "execution_count": null,
   "metadata": {},
   "outputs": [],
   "source": [
    "x=['Random Forests', 'XGBoost', 'Linear Regression', 'Decision Trees']\n",
    "xs = [0, 1, 2, 3] \n",
    "y=[0.414065, 0.394361, 0.142606, 0.052885]\n",
    "ystd=[0.054181, 0.146569, 0.478184, 0.268984]"
   ]
  },
  {
   "cell_type": "code",
   "execution_count": null,
   "metadata": {},
   "outputs": [],
   "source": [
    "figure = plt.figure(figsize = (8, 5),)\n",
    "plt.style.use('ggplot')\n",
    "plt.xticks(xs, x)\n",
    "plt.tick_params(axis='x', pad=5, labelsize = 13)\n",
    "plt.bar(xs, y, yerr = ystd, color = ('steelblue', 'seagreen', 'y', 'peru'), width = 0.5, zorder = 1)\n",
    "plt.errorbar(xs, y, yerr = ystd, linestyle = 'None', elinewidth = 1, color = 'dimgray', capsize = 0, zorder = 4)\n",
    "plt.ylabel('R2 +- s.d.', fontsize = 20)\n",
    "plt.axis([None, None, -0.4, 1])\n",
    "plt.grid(which='both',  axis = ('x', 'y'))\n",
    "figure.savefig('DiabetesPlot1.pdf')\n",
    "plt.show()"
   ]
  },
  {
   "cell_type": "code",
   "execution_count": 3,
   "metadata": {},
   "outputs": [],
   "source": [
    "import pandas as pd\n",
    "import matplotlib.pyplot as plt\n",
    "import numpy as np\n",
    "import sklearn as sk\n",
    "from sklearn.ensemble import RandomForestRegressor\n",
    "from random import randint\n",
    "import xlrd"
   ]
  },
  {
   "cell_type": "code",
   "execution_count": 4,
   "metadata": {},
   "outputs": [],
   "source": [
    "data = pd.read_excel('pone.0216416.s003.xlsx')"
   ]
  },
  {
   "cell_type": "code",
   "execution_count": 5,
   "metadata": {},
   "outputs": [],
   "source": [
    "from sklearn.experimental import enable_iterative_imputer\n",
    "from sklearn.impute import IterativeImputer\n",
    "data = data.drop(['no'], axis=1)\n",
    "iterative_imp = IterativeImputer()\n",
    "iterative_imp.fit(data)\n",
    "data1 = iterative_imp.fit_transform(data)\n",
    "data1 = pd.DataFrame(data=data1, columns= data.columns,)\n",
    "data1.columns = ['sex', 'age', 'duration_of_diabetes', 'BMI',\n",
    "       'insulin_regimen', 'TDD', 'TDD/kg', 'basal', 'basal/kg',\n",
    "       'bolus', 'bolus/kg', 'HbA1c', 'eGFR', 'bodyfat', 'adiponectin',\n",
    "       'free-test', 'SMI', 'grip_strength', 'knee_extension_strength',\n",
    "       'gait_speed', 'ucOC', 'OC']"
   ]
  },
  {
   "cell_type": "code",
   "execution_count": null,
   "metadata": {},
   "outputs": [],
   "source": []
  },
  {
   "cell_type": "code",
   "execution_count": 9,
   "metadata": {},
   "outputs": [
    {
     "data": {
      "image/png": "[encoded data removed]",
      "text/plain": [
       "<matplotlib.figure.Figure at 0x1adc539c2e8>"
      ]
     },
     "metadata": {
      "needs_background": "light"
     },
     "output_type": "display_data"
    }
   ],
   "source": [
    "figure1 = plt.figure(figsize = (8, 5),)\n",
    "plt.style.use('ggplot')\n",
    "plt.hist(data1['duration_of_diabetes'], color = 'darkblue', bins=14)\n",
    "plt.ylabel('Duration of diabetes', fontsize = 13)\n",
    "plt.axis([0, 50, 0, 12])\n",
    "plt.grid(which='both',  axis = ('x', 'y'))\n",
    "figure1.savefig('Histogram5.pdf')\n",
    "plt.show()"
   ]
  },
  {
   "cell_type": "code",
   "execution_count": null,
   "metadata": {},
   "outputs": [],
   "source": []
  }
 ],
 "metadata": {
  "kernelspec": {
   "display_name": "Python 3",
   "language": "python",
   "name": "python3"
  },
  "language_info": {
   "codemirror_mode": {
    "name": "ipython",
    "version": 3
   },
   "file_extension": ".py",
   "mimetype": "text/x-python",
   "name": "python",
   "nbconvert_exporter": "python",
   "pygments_lexer": "ipython3",
   "version": "3.5.6"
  }
 },
 "nbformat": 4,
 "nbformat_minor": 4
}
