{
 "cells": [
  {
   "cell_type": "code",
   "execution_count": 74,
   "metadata": {},
   "outputs": [],
   "source": [
    "import matplotlib.pyplot as plt, numpy as np\n",
    "from matplotlib.pyplot import figure"
   ]
  },
  {
   "cell_type": "code",
   "execution_count": 106,
   "metadata": {},
   "outputs": [],
   "source": [
    "%matplotlib inline"
   ]
  },
  {
   "cell_type": "code",
   "execution_count": 101,
   "metadata": {},
   "outputs": [],
   "source": [
    "x=['Random Forests', 'XGBoost', 'Linear Regression', 'Decision Trees']\n",
    "xs = [0, 1, 2, 3] \n",
    "y=[0.41, 0.39, 0.14, 0.05]\n",
    "ystd=[0.05, 0.14, 0.47, 0.26]"
   ]
  },
  {
   "cell_type": "code",
   "execution_count": 131,
   "metadata": {},
   "outputs": [
    {
     "data": {
      "image/png": "[encoded data removed]",
      "text/plain": [
       "<matplotlib.figure.Figure at 0x13d9c7ea2b0>"
      ]
     },
     "metadata": {
      "needs_background": "light"
     },
     "output_type": "display_data"
    }
   ],
   "source": [
    "figure = plt.figure(figsize = (8, 5),)\n",
    "plt.xticks(xs, x)\n",
    "plt.tick_params(axis='x', pad=5)\n",
    "plt.bar(xs, y, yerr = ystd, color = 'cornflowerblue', ec= 'black', width = 0.5, zorder = 3)\n",
    "plt.errorbar(xs, y, yerr = ystd, linestyle = 'None', color = 'black', capthick = 0.5, capsize = 8, zorder = 4)\n",
    "plt.xlabel('Regression Results', labelpad = 10, fontsize = 12)\n",
    "plt.ylabel('R*2')\n",
    "plt.grid(which='major', axis = 'y')\n",
    "figure.savefig('DiabetesPlot6.pdf')\n",
    "plt.show()"
   ]
  },
  {
   "cell_type": "code",
   "execution_count": null,
   "metadata": {},
   "outputs": [],
   "source": []
  }
 ],
 "metadata": {
  "kernelspec": {
   "display_name": "Python 3",
   "language": "python",
   "name": "python3"
  },
  "language_info": {
   "codemirror_mode": {
    "name": "ipython",
    "version": 3
   },
   "file_extension": ".py",
   "mimetype": "text/x-python",
   "name": "python",
   "nbconvert_exporter": "python",
   "pygments_lexer": "ipython3",
   "version": "3.5.6"
  }
 },
 "nbformat": 4,
 "nbformat_minor": 4
}
