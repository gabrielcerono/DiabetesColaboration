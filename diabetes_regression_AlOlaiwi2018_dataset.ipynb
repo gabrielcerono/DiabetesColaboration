{
 "cells": [
  {
   "cell_type": "code",
   "execution_count": 1,
   "metadata": {},
   "outputs": [],
   "source": [
    "import pandas as pd\n",
    "import matplotlib.pyplot as plt\n",
    "import numpy as np\n",
    "import sklearn as sk\n",
    "from sklearn.ensemble import RandomForestRegressor\n",
    "from random import randint"
   ]
  },
  {
   "cell_type": "code",
   "execution_count": 2,
   "metadata": {},
   "outputs": [],
   "source": [
    "import xlrd"
   ]
  },
  {
   "cell_type": "markdown",
   "metadata": {},
   "source": [
    "Link to the dataset: https://figshare.com/articles/dataset/Prevalence_of_cardiovascular_autonomic_neuropathy_and_gastroparesis_symptoms_among_patients_with_type_2_diabetes_who_attend_a_primary_health_care_center/7499969\n",
    "\n",
    "\"AlOlaiwi LA, AlHarbi TJ, Tourkmani AM (2018) Prevalence of\n",
    "cardiovascular autonomic neuropathy and gastroparesis symptoms among\n",
    "patients with type 2 diabetes who attend a primary health care center \" \n",
    "\n",
    "PLoS ONE 13(12): e0209500. https://doi.org/10.1371/journal.pone.0209500"
   ]
  },
  {
   "cell_type": "code",
   "execution_count": 3,
   "metadata": {},
   "outputs": [],
   "source": [
    "data = pd.read_excel('AlOlaiwi2018_dataset.xlsx')"
   ]
  },
  {
   "cell_type": "code",
   "execution_count": 4,
   "metadata": {},
   "outputs": [
    {
     "data": {
      "text/html": [
       "<div>\n",
       "<style scoped>\n",
       "    .dataframe tbody tr th:only-of-type {\n",
       "        vertical-align: middle;\n",
       "    }\n",
       "\n",
       "    .dataframe tbody tr th {\n",
       "        vertical-align: top;\n",
       "    }\n",
       "\n",
       "    .dataframe thead th {\n",
       "        text-align: right;\n",
       "    }\n",
       "</style>\n",
       "<table border=\"1\" class=\"dataframe\">\n",
       "  <thead>\n",
       "    <tr style=\"text-align: right;\">\n",
       "      <th></th>\n",
       "      <th>Patient's code</th>\n",
       "      <th>Age</th>\n",
       "      <th>Gender</th>\n",
       "      <th>Duration of DM</th>\n",
       "      <th>Smoking</th>\n",
       "      <th>HTN</th>\n",
       "      <th>Anti HTN</th>\n",
       "      <th>DR</th>\n",
       "      <th>Insulin</th>\n",
       "      <th>Sulfonylurea</th>\n",
       "      <th>...</th>\n",
       "      <th>Nausea</th>\n",
       "      <th>Retching</th>\n",
       "      <th>Vomiting</th>\n",
       "      <th>Stomach fullness</th>\n",
       "      <th>Not able to finish a meal</th>\n",
       "      <th>Excessive fullness after meals</th>\n",
       "      <th>Loss of appetitie</th>\n",
       "      <th>Bloating</th>\n",
       "      <th>stomach or belly visibly larger</th>\n",
       "      <th>presenceofanysymptom</th>\n",
       "    </tr>\n",
       "  </thead>\n",
       "  <tbody>\n",
       "    <tr>\n",
       "      <th>0</th>\n",
       "      <td>1</td>\n",
       "      <td>61</td>\n",
       "      <td>F</td>\n",
       "      <td>3.0</td>\n",
       "      <td>No</td>\n",
       "      <td>No</td>\n",
       "      <td>No</td>\n",
       "      <td>No</td>\n",
       "      <td>No</td>\n",
       "      <td>No</td>\n",
       "      <td>...</td>\n",
       "      <td>No</td>\n",
       "      <td>No</td>\n",
       "      <td>No</td>\n",
       "      <td>No</td>\n",
       "      <td>No</td>\n",
       "      <td>No</td>\n",
       "      <td>No</td>\n",
       "      <td>No</td>\n",
       "      <td>No</td>\n",
       "      <td>No</td>\n",
       "    </tr>\n",
       "    <tr>\n",
       "      <th>1</th>\n",
       "      <td>2</td>\n",
       "      <td>44</td>\n",
       "      <td>M</td>\n",
       "      <td>5.0</td>\n",
       "      <td>No</td>\n",
       "      <td>No</td>\n",
       "      <td>No</td>\n",
       "      <td>No</td>\n",
       "      <td>Yes</td>\n",
       "      <td>Yes</td>\n",
       "      <td>...</td>\n",
       "      <td>No</td>\n",
       "      <td>No</td>\n",
       "      <td>No</td>\n",
       "      <td>No</td>\n",
       "      <td>No</td>\n",
       "      <td>No</td>\n",
       "      <td>No</td>\n",
       "      <td>Yes</td>\n",
       "      <td>Yes</td>\n",
       "      <td>Yes</td>\n",
       "    </tr>\n",
       "    <tr>\n",
       "      <th>2</th>\n",
       "      <td>3</td>\n",
       "      <td>61</td>\n",
       "      <td>M</td>\n",
       "      <td>9.0</td>\n",
       "      <td>No</td>\n",
       "      <td>Yes</td>\n",
       "      <td>Yes</td>\n",
       "      <td>No</td>\n",
       "      <td>No</td>\n",
       "      <td>Yes</td>\n",
       "      <td>...</td>\n",
       "      <td>No</td>\n",
       "      <td>No</td>\n",
       "      <td>No</td>\n",
       "      <td>No</td>\n",
       "      <td>No</td>\n",
       "      <td>No</td>\n",
       "      <td>No</td>\n",
       "      <td>No</td>\n",
       "      <td>No</td>\n",
       "      <td>No</td>\n",
       "    </tr>\n",
       "    <tr>\n",
       "      <th>3</th>\n",
       "      <td>4</td>\n",
       "      <td>53</td>\n",
       "      <td>M</td>\n",
       "      <td>5.0</td>\n",
       "      <td>No</td>\n",
       "      <td>Yes</td>\n",
       "      <td>Yes</td>\n",
       "      <td>No</td>\n",
       "      <td>No</td>\n",
       "      <td>Yes</td>\n",
       "      <td>...</td>\n",
       "      <td>No</td>\n",
       "      <td>No</td>\n",
       "      <td>No</td>\n",
       "      <td>No</td>\n",
       "      <td>Yes</td>\n",
       "      <td>Yes</td>\n",
       "      <td>No</td>\n",
       "      <td>No</td>\n",
       "      <td>No</td>\n",
       "      <td>Yes</td>\n",
       "    </tr>\n",
       "    <tr>\n",
       "      <th>4</th>\n",
       "      <td>5</td>\n",
       "      <td>56</td>\n",
       "      <td>F</td>\n",
       "      <td>7.0</td>\n",
       "      <td>No</td>\n",
       "      <td>Yes</td>\n",
       "      <td>Yes</td>\n",
       "      <td>No</td>\n",
       "      <td>No</td>\n",
       "      <td>Yes</td>\n",
       "      <td>...</td>\n",
       "      <td>No</td>\n",
       "      <td>No</td>\n",
       "      <td>No</td>\n",
       "      <td>No</td>\n",
       "      <td>No</td>\n",
       "      <td>No</td>\n",
       "      <td>No</td>\n",
       "      <td>No</td>\n",
       "      <td>No</td>\n",
       "      <td>No</td>\n",
       "    </tr>\n",
       "  </tbody>\n",
       "</table>\n",
       "<p>5 rows × 50 columns</p>\n",
       "</div>"
      ],
      "text/plain": [
       "  Patient's code   Age Gender  Duration of DM Smoking  HTN Anti HTN  DR  \\\n",
       "0               1   61      F             3.0      No   No       No  No   \n",
       "1               2   44      M             5.0      No   No       No  No   \n",
       "2               3   61      M             9.0      No  Yes      Yes  No   \n",
       "3               4   53      M             5.0      No  Yes      Yes  No   \n",
       "4               5   56      F             7.0      No  Yes      Yes  No   \n",
       "\n",
       "  Insulin Sulfonylurea  ... Nausea  Retching  Vomiting  Stomach fullness   \\\n",
       "0      No           No  ...      No        No        No                No   \n",
       "1     Yes          Yes  ...      No        No        No                No   \n",
       "2      No          Yes  ...      No        No        No                No   \n",
       "3      No          Yes  ...      No        No        No                No   \n",
       "4      No          Yes  ...      No        No        No                No   \n",
       "\n",
       "  Not able to finish a meal  Excessive fullness after meals  \\\n",
       "0                        No                              No   \n",
       "1                        No                              No   \n",
       "2                        No                              No   \n",
       "3                       Yes                             Yes   \n",
       "4                        No                              No   \n",
       "\n",
       "   Loss of appetitie  Bloating   stomach or belly visibly larger   \\\n",
       "0                 No         No                                No   \n",
       "1                 No        Yes                               Yes   \n",
       "2                 No         No                                No   \n",
       "3                 No         No                                No   \n",
       "4                 No         No                                No   \n",
       "\n",
       "   presenceofanysymptom  \n",
       "0                    No  \n",
       "1                   Yes  \n",
       "2                    No  \n",
       "3                   Yes  \n",
       "4                    No  \n",
       "\n",
       "[5 rows x 50 columns]"
      ]
     },
     "execution_count": 4,
     "metadata": {},
     "output_type": "execute_result"
    }
   ],
   "source": [
    "data.head()"
   ]
  },
  {
   "cell_type": "code",
   "execution_count": 5,
   "metadata": {},
   "outputs": [
    {
     "data": {
      "text/plain": [
       "Index(['Patient's code ', 'Age', 'Gender', 'Duration of DM', 'Smoking', 'HTN',\n",
       "       'Anti HTN', 'DR', 'Insulin', 'Sulfonylurea', 'Metformin',\n",
       "       'DDP-4 inhibitor', 'TZD', 'Meglitinides', 'None', 'BMI', 'FBS', 'TC',\n",
       "       'TG', 'HDL', 'LDL', 'HbA1c', 'Urine ACR', 'UACR new ', 'Albuminuria',\n",
       "       'eGFR MDRD equation', 'SBP', 'DBP', 'PSBP', 'PDBP', 'PHR',\n",
       "       'orthostatic hypotension', 'resting tachycardia', 'QTc',\n",
       "       'QTc prolonged ? ', 'CAN', 'GCSI score', 'GCSI new', 'GCSI present ?',\n",
       "       'GCSI category', 'Nausea ', 'Retching ', 'Vomiting ',\n",
       "       'Stomach fullness ', 'Not able to finish a meal',\n",
       "       'Excessive fullness after meals', 'Loss of appetitie', 'Bloating ',\n",
       "       'stomach or belly visibly larger ', 'presenceofanysymptom'],\n",
       "      dtype='object')"
      ]
     },
     "execution_count": 5,
     "metadata": {},
     "output_type": "execute_result"
    }
   ],
   "source": [
    "data.columns"
   ]
  },
  {
   "cell_type": "code",
   "execution_count": 6,
   "metadata": {},
   "outputs": [],
   "source": [
    "data.drop([\"Patient's code \"], axis = 1, inplace = True)"
   ]
  },
  {
   "cell_type": "code",
   "execution_count": 7,
   "metadata": {},
   "outputs": [
    {
     "data": {
      "text/plain": [
       "True"
      ]
     },
     "execution_count": 7,
     "metadata": {},
     "output_type": "execute_result"
    }
   ],
   "source": [
    "data.isnull().values.any()"
   ]
  },
  {
   "cell_type": "markdown",
   "metadata": {},
   "source": [
    "## Mapping the strings"
   ]
  },
  {
   "cell_type": "code",
   "execution_count": 8,
   "metadata": {},
   "outputs": [],
   "source": [
    "data.replace({'No': 0, 'Yes': 1, 'F': 0, 'M': 1}, inplace = True)"
   ]
  },
  {
   "cell_type": "code",
   "execution_count": 9,
   "metadata": {},
   "outputs": [
    {
     "data": {
      "text/plain": [
       "array(['absent  ', 'present ', 'present'], dtype=object)"
      ]
     },
     "execution_count": 9,
     "metadata": {},
     "output_type": "execute_result"
    }
   ],
   "source": [
    "data['GCSI present ?'].unique()"
   ]
  },
  {
   "cell_type": "code",
   "execution_count": 10,
   "metadata": {},
   "outputs": [
    {
     "data": {
      "text/plain": [
       "array(['none', 'mild', 'severe'], dtype=object)"
      ]
     },
     "execution_count": 10,
     "metadata": {},
     "output_type": "execute_result"
    }
   ],
   "source": [
    "data['GCSI category'].unique()"
   ]
  },
  {
   "cell_type": "code",
   "execution_count": 11,
   "metadata": {},
   "outputs": [
    {
     "data": {
      "text/plain": [
       "array(['borderline', 0, 1], dtype=object)"
      ]
     },
     "execution_count": 11,
     "metadata": {},
     "output_type": "execute_result"
    }
   ],
   "source": [
    "data['QTc prolonged ? '].unique()"
   ]
  },
  {
   "cell_type": "code",
   "execution_count": 12,
   "metadata": {},
   "outputs": [
    {
     "data": {
      "text/plain": [
       "array(['normoalbuminuria', 'macroalbuminuria', 'microalbuminuria'],\n",
       "      dtype=object)"
      ]
     },
     "execution_count": 12,
     "metadata": {},
     "output_type": "execute_result"
    }
   ],
   "source": [
    "data['Albuminuria'].unique()"
   ]
  },
  {
   "cell_type": "code",
   "execution_count": 13,
   "metadata": {},
   "outputs": [],
   "source": [
    "data.replace({'absent  ': 0, 'present ': 1, 'present': 1, 'none':0, 'mild': 1, 'severe': 2, 'normoalbuminuria': 0, 'macroalbuminuria': 2, 'microalbuminuria': 1, 'borderline': 0.5}, inplace = True)"
   ]
  },
  {
   "cell_type": "code",
   "execution_count": 14,
   "metadata": {},
   "outputs": [
    {
     "data": {
      "text/plain": [
       "array([0, 1, nan, 'has appo', 'No 2012 has appoint'], dtype=object)"
      ]
     },
     "execution_count": 14,
     "metadata": {},
     "output_type": "execute_result"
    }
   ],
   "source": [
    "data['DR'].unique()"
   ]
  },
  {
   "cell_type": "markdown",
   "metadata": {},
   "source": [
    "### Couldn't find what DR meant"
   ]
  },
  {
   "cell_type": "code",
   "execution_count": 15,
   "metadata": {},
   "outputs": [],
   "source": [
    "data.replace({'has appo': 2, 'No 2012 has appoint': 3}, inplace = True)"
   ]
  },
  {
   "cell_type": "markdown",
   "metadata": {},
   "source": [
    "## Filling Missing Values"
   ]
  },
  {
   "cell_type": "code",
   "execution_count": 16,
   "metadata": {},
   "outputs": [],
   "source": [
    "from sklearn.experimental import enable_iterative_imputer\n",
    "from sklearn.impute import IterativeImputer"
   ]
  },
  {
   "cell_type": "code",
   "execution_count": 17,
   "metadata": {},
   "outputs": [],
   "source": [
    "iterative_imp = IterativeImputer()"
   ]
  },
  {
   "cell_type": "code",
   "execution_count": 18,
   "metadata": {},
   "outputs": [
    {
     "data": {
      "text/plain": [
       "IterativeImputer(add_indicator=False, estimator=None,\n",
       "                 imputation_order='ascending', initial_strategy='mean',\n",
       "                 max_iter=10, max_value=None, min_value=None,\n",
       "                 missing_values=nan, n_nearest_features=None, random_state=None,\n",
       "                 sample_posterior=False, skip_complete=False, tol=0.001,\n",
       "                 verbose=0)"
      ]
     },
     "execution_count": 18,
     "metadata": {},
     "output_type": "execute_result"
    }
   ],
   "source": [
    "iterative_imp.fit(data)"
   ]
  },
  {
   "cell_type": "code",
   "execution_count": 19,
   "metadata": {},
   "outputs": [],
   "source": [
    "data1 = iterative_imp.fit_transform(data)"
   ]
  },
  {
   "cell_type": "code",
   "execution_count": 20,
   "metadata": {},
   "outputs": [],
   "source": [
    "data1 = pd.DataFrame(data=data1, columns = data.columns,)"
   ]
  },
  {
   "cell_type": "markdown",
   "metadata": {},
   "source": [
    "# Let's predict duration of diabetes"
   ]
  },
  {
   "cell_type": "code",
   "execution_count": null,
   "metadata": {},
   "outputs": [],
   "source": []
  },
  {
   "cell_type": "code",
   "execution_count": 21,
   "metadata": {},
   "outputs": [],
   "source": [
    "X = data1.drop('Duration of DM', axis = 1)\n",
    "y = data1['Duration of DM']"
   ]
  },
  {
   "cell_type": "code",
   "execution_count": 22,
   "metadata": {},
   "outputs": [],
   "source": [
    "from sklearn.model_selection import train_test_split"
   ]
  },
  {
   "cell_type": "code",
   "execution_count": 23,
   "metadata": {},
   "outputs": [],
   "source": [
    "X, X_test, y, y_test = train_test_split(X, y, test_size=0.30, random_state= 42)"
   ]
  },
  {
   "cell_type": "code",
   "execution_count": 24,
   "metadata": {},
   "outputs": [],
   "source": [
    "from sklearn.metrics import mean_absolute_error\n",
    "from sklearn.metrics import mean_squared_error\n",
    "from math import sqrt"
   ]
  },
  {
   "cell_type": "code",
   "execution_count": 25,
   "metadata": {},
   "outputs": [],
   "source": [
    "#Sklearn does't have any function for SMAPE, so I wrote a function in python\n",
    "#The function has 100%/n. I replaced 100% with 1, to have values between 0 and 1 in form of percentages.\n",
    "#A is the real, while F is predicted.\n",
    "def smape(a, f):\n",
    "    return 1/len(a) * np.sum(2 * np.abs(f-a) / (np.abs(a) + np.abs(f)))"
   ]
  },
  {
   "cell_type": "code",
   "execution_count": 26,
   "metadata": {},
   "outputs": [],
   "source": [
    "r2mean = []\n",
    "SMAPEm = []\n",
    "MSEm = []\n",
    "RMSEm = []\n",
    "MAEm= []"
   ]
  },
  {
   "cell_type": "code",
   "execution_count": 27,
   "metadata": {},
   "outputs": [],
   "source": [
    "randomforest = RandomForestRegressor()"
   ]
  },
  {
   "cell_type": "code",
   "execution_count": 28,
   "metadata": {},
   "outputs": [],
   "source": [
    "for x in range(1000): \n",
    "  X_train, X_test2, y_train, y_test2 = train_test_split(X, y, test_size=0.3)\n",
    "  randomforest.fit(X_train, y_train)\n",
    "  r2 = randomforest.score(X_test, y_test)\n",
    "  y_pred = randomforest.predict(X_test)\n",
    "  r2mean.append(r2)\n",
    "  MAE = mean_absolute_error(y_test, y_pred)\n",
    "  MAEm.append(MAE)\n",
    "  MSE = mean_squared_error(y_test, y_pred)\n",
    "  MSEm.append(MSE)\n",
    "  RMSE = sqrt(mean_squared_error(y_test, y_pred))\n",
    "  RMSEm.append(RMSE)\n",
    "  SMAPE = smape(y_test, y_pred)\n",
    "  SMAPEm.append(SMAPE)"
   ]
  },
  {
   "cell_type": "code",
   "execution_count": 32,
   "metadata": {},
   "outputs": [],
   "source": [
    "Metrics = {'Metrics Means': ['R2', 'MSE', 'RMSE', 'SMAPE', 'MAE'],\n",
    "           'Values': [np.mean(r2mean), np.mean(MSEm), np.mean(RMSEm), np.mean(SMAPEm), np.mean(MAE)],\n",
    "           'Values-STD': [np.std(r2mean), np.std(MSEm),np.std(RMSEm), np.std(SMAPEm), np.std(MAEm)]\n",
    "           }"
   ]
  },
  {
   "cell_type": "code",
   "execution_count": 33,
   "metadata": {},
   "outputs": [
    {
     "data": {
      "text/html": [
       "<div>\n",
       "<style scoped>\n",
       "    .dataframe tbody tr th:only-of-type {\n",
       "        vertical-align: middle;\n",
       "    }\n",
       "\n",
       "    .dataframe tbody tr th {\n",
       "        vertical-align: top;\n",
       "    }\n",
       "\n",
       "    .dataframe thead th {\n",
       "        text-align: right;\n",
       "    }\n",
       "</style>\n",
       "<table border=\"1\" class=\"dataframe\">\n",
       "  <thead>\n",
       "    <tr style=\"text-align: right;\">\n",
       "      <th></th>\n",
       "      <th>Metrics Means</th>\n",
       "      <th>Values</th>\n",
       "      <th>Values-STD</th>\n",
       "    </tr>\n",
       "  </thead>\n",
       "  <tbody>\n",
       "    <tr>\n",
       "      <th>0</th>\n",
       "      <td>R2</td>\n",
       "      <td>0.352120</td>\n",
       "      <td>0.026499</td>\n",
       "    </tr>\n",
       "    <tr>\n",
       "      <th>1</th>\n",
       "      <td>MSE</td>\n",
       "      <td>31.854831</td>\n",
       "      <td>1.302917</td>\n",
       "    </tr>\n",
       "    <tr>\n",
       "      <th>2</th>\n",
       "      <td>RMSE</td>\n",
       "      <td>5.642836</td>\n",
       "      <td>0.115016</td>\n",
       "    </tr>\n",
       "    <tr>\n",
       "      <th>3</th>\n",
       "      <td>SMAPE</td>\n",
       "      <td>0.470640</td>\n",
       "      <td>0.010009</td>\n",
       "    </tr>\n",
       "    <tr>\n",
       "      <th>4</th>\n",
       "      <td>MAE</td>\n",
       "      <td>4.602000</td>\n",
       "      <td>0.108074</td>\n",
       "    </tr>\n",
       "  </tbody>\n",
       "</table>\n",
       "</div>"
      ],
      "text/plain": [
       "  Metrics Means     Values  Values-STD\n",
       "0            R2   0.352120    0.026499\n",
       "1           MSE  31.854831    1.302917\n",
       "2          RMSE   5.642836    0.115016\n",
       "3         SMAPE   0.470640    0.010009\n",
       "4           MAE   4.602000    0.108074"
      ]
     },
     "execution_count": 33,
     "metadata": {},
     "output_type": "execute_result"
    }
   ],
   "source": [
    "MetricsDF = pd.DataFrame.from_dict(Metrics)\n",
    "MetricsDF"
   ]
  },
  {
   "cell_type": "markdown",
   "metadata": {},
   "source": [
    "# XGBOOST"
   ]
  },
  {
   "cell_type": "code",
   "execution_count": 34,
   "metadata": {},
   "outputs": [
    {
     "name": "stderr",
     "output_type": "stream",
     "text": [
      "C:\\Users\\54226\\Anaconda3\\envs\\python-ml-2020\\lib\\site-packages\\xgboost\\__init__.py:29: FutureWarning: Python 3.5 support is deprecated; XGBoost will require Python 3.6+ in the near future. Consider upgrading to Python 3.6+.\n",
      "  FutureWarning)\n"
     ]
    }
   ],
   "source": [
    "import xgboost as xgb\n",
    "from xgboost.sklearn import XGBRegressor"
   ]
  },
  {
   "cell_type": "code",
   "execution_count": 35,
   "metadata": {},
   "outputs": [],
   "source": [
    "xgb = XGBRegressor()"
   ]
  },
  {
   "cell_type": "code",
   "execution_count": 36,
   "metadata": {},
   "outputs": [],
   "source": [
    "r2mean = []\n",
    "SMAPEm = []\n",
    "MSEm = []\n",
    "RMSEm = []\n",
    "MAEm= []"
   ]
  },
  {
   "cell_type": "code",
   "execution_count": 37,
   "metadata": {},
   "outputs": [],
   "source": [
    "for x in range(1000): \n",
    "  X_train, X_test2, y_train, y_test2 = train_test_split(X, y, test_size=0.30)\n",
    "  xgb.fit(X_train, y_train)\n",
    "  r2 = xgb.score(X_test, y_test)\n",
    "  y_pred = xgb.predict(X_test)\n",
    "  r2mean.append(r2)\n",
    "  MAE = mean_absolute_error(y_test, y_pred)\n",
    "  MAEm.append(MAE)\n",
    "  MSE = mean_squared_error(y_test, y_pred)\n",
    "  MSEm.append(MSE)\n",
    "  RMSE = sqrt(mean_squared_error(y_test, y_pred))\n",
    "  RMSEm.append(RMSE)\n",
    "  SMAPE = smape(y_test, y_pred)\n",
    "  SMAPEm.append(SMAPE)"
   ]
  },
  {
   "cell_type": "code",
   "execution_count": 39,
   "metadata": {},
   "outputs": [],
   "source": [
    "Metrics = {'Metrics Means': ['R2', 'MSE', 'RMSE', 'SMAPE', 'MAE'],\n",
    "           'Values': [np.mean(r2mean), np.mean(MSEm), np.mean(RMSEm), np.mean(SMAPEm), np.mean(MAE)],\n",
    "           'Values-STD': [np.std(r2mean), np.std(MSEm),np.std(RMSEm), np.std(SMAPEm), np.std(MAEm)]\n",
    "           }"
   ]
  },
  {
   "cell_type": "code",
   "execution_count": 40,
   "metadata": {},
   "outputs": [
    {
     "data": {
      "text/html": [
       "<div>\n",
       "<style scoped>\n",
       "    .dataframe tbody tr th:only-of-type {\n",
       "        vertical-align: middle;\n",
       "    }\n",
       "\n",
       "    .dataframe tbody tr th {\n",
       "        vertical-align: top;\n",
       "    }\n",
       "\n",
       "    .dataframe thead th {\n",
       "        text-align: right;\n",
       "    }\n",
       "</style>\n",
       "<table border=\"1\" class=\"dataframe\">\n",
       "  <thead>\n",
       "    <tr style=\"text-align: right;\">\n",
       "      <th></th>\n",
       "      <th>Metrics Means</th>\n",
       "      <th>Values</th>\n",
       "      <th>Values-STD</th>\n",
       "    </tr>\n",
       "  </thead>\n",
       "  <tbody>\n",
       "    <tr>\n",
       "      <th>0</th>\n",
       "      <td>R2</td>\n",
       "      <td>0.249253</td>\n",
       "      <td>0.060764</td>\n",
       "    </tr>\n",
       "    <tr>\n",
       "      <th>1</th>\n",
       "      <td>MSE</td>\n",
       "      <td>36.912540</td>\n",
       "      <td>2.987645</td>\n",
       "    </tr>\n",
       "    <tr>\n",
       "      <th>2</th>\n",
       "      <td>RMSE</td>\n",
       "      <td>6.070616</td>\n",
       "      <td>0.245273</td>\n",
       "    </tr>\n",
       "    <tr>\n",
       "      <th>3</th>\n",
       "      <td>SMAPE</td>\n",
       "      <td>0.495755</td>\n",
       "      <td>0.021228</td>\n",
       "    </tr>\n",
       "    <tr>\n",
       "      <th>4</th>\n",
       "      <td>MAE</td>\n",
       "      <td>4.669400</td>\n",
       "      <td>0.211758</td>\n",
       "    </tr>\n",
       "  </tbody>\n",
       "</table>\n",
       "</div>"
      ],
      "text/plain": [
       "  Metrics Means     Values  Values-STD\n",
       "0            R2   0.249253    0.060764\n",
       "1           MSE  36.912540    2.987645\n",
       "2          RMSE   6.070616    0.245273\n",
       "3         SMAPE   0.495755    0.021228\n",
       "4           MAE   4.669400    0.211758"
      ]
     },
     "execution_count": 40,
     "metadata": {},
     "output_type": "execute_result"
    }
   ],
   "source": [
    "MetricsDF = pd.DataFrame.from_dict(Metrics)\n",
    "MetricsDF"
   ]
  },
  {
   "cell_type": "markdown",
   "metadata": {},
   "source": [
    "## Linear Regression"
   ]
  },
  {
   "cell_type": "code",
   "execution_count": 41,
   "metadata": {},
   "outputs": [],
   "source": [
    "from sklearn.linear_model import LinearRegression\n",
    "lreg = LinearRegression()"
   ]
  },
  {
   "cell_type": "code",
   "execution_count": 42,
   "metadata": {},
   "outputs": [],
   "source": [
    "r2mean = []\n",
    "SMAPEm = []\n",
    "MSEm = []\n",
    "RMSEm = []\n",
    "MAEm= []"
   ]
  },
  {
   "cell_type": "code",
   "execution_count": 43,
   "metadata": {},
   "outputs": [],
   "source": [
    "for x in range(1000): \n",
    "  X_train, X_test2, y_train, y_test2 = train_test_split(X, y, test_size=0.3)\n",
    "  lreg.fit(X_train, y_train)\n",
    "  r2 = lreg.score(X_test, y_test)\n",
    "  y_pred = lreg.predict(X_test)\n",
    "  r2mean.append(r2)\n",
    "  MAE = mean_absolute_error(y_test, y_pred)\n",
    "  MAEm.append(MAE)\n",
    "  MSE = mean_squared_error(y_test, y_pred)\n",
    "  MSEm.append(MSE)\n",
    "  RMSE = sqrt(mean_squared_error(y_test, y_pred))\n",
    "  RMSEm.append(RMSE)\n",
    "  SMAPE = smape(y_test, y_pred)\n",
    "  SMAPEm.append(SMAPE)"
   ]
  },
  {
   "cell_type": "code",
   "execution_count": 44,
   "metadata": {},
   "outputs": [],
   "source": [
    "Metrics = {'Metrics Means': ['R2', 'MSE', 'RMSE', 'SMAPE', 'MAE'],\n",
    "           'Values': [np.mean(r2mean), np.mean(MSEm), np.mean(RMSEm), np.mean(SMAPEm), np.mean(MAEm)],\n",
    "           'Values-STD': [np.std(r2mean), np.std(MSEm),np.std(RMSEm), np.std(SMAPEm), np.std(MAEm)]\n",
    "           }"
   ]
  },
  {
   "cell_type": "code",
   "execution_count": 45,
   "metadata": {},
   "outputs": [
    {
     "data": {
      "text/html": [
       "<div>\n",
       "<style scoped>\n",
       "    .dataframe tbody tr th:only-of-type {\n",
       "        vertical-align: middle;\n",
       "    }\n",
       "\n",
       "    .dataframe tbody tr th {\n",
       "        vertical-align: top;\n",
       "    }\n",
       "\n",
       "    .dataframe thead th {\n",
       "        text-align: right;\n",
       "    }\n",
       "</style>\n",
       "<table border=\"1\" class=\"dataframe\">\n",
       "  <thead>\n",
       "    <tr style=\"text-align: right;\">\n",
       "      <th></th>\n",
       "      <th>Metrics Means</th>\n",
       "      <th>Values</th>\n",
       "      <th>Values-STD</th>\n",
       "    </tr>\n",
       "  </thead>\n",
       "  <tbody>\n",
       "    <tr>\n",
       "      <th>0</th>\n",
       "      <td>R2</td>\n",
       "      <td>0.094010</td>\n",
       "      <td>0.074619</td>\n",
       "    </tr>\n",
       "    <tr>\n",
       "      <th>1</th>\n",
       "      <td>MSE</td>\n",
       "      <td>44.545500</td>\n",
       "      <td>3.668852</td>\n",
       "    </tr>\n",
       "    <tr>\n",
       "      <th>2</th>\n",
       "      <td>RMSE</td>\n",
       "      <td>6.668633</td>\n",
       "      <td>0.273553</td>\n",
       "    </tr>\n",
       "    <tr>\n",
       "      <th>3</th>\n",
       "      <td>SMAPE</td>\n",
       "      <td>0.526762</td>\n",
       "      <td>0.023276</td>\n",
       "    </tr>\n",
       "    <tr>\n",
       "      <th>4</th>\n",
       "      <td>MAE</td>\n",
       "      <td>5.185859</td>\n",
       "      <td>0.209313</td>\n",
       "    </tr>\n",
       "  </tbody>\n",
       "</table>\n",
       "</div>"
      ],
      "text/plain": [
       "  Metrics Means     Values  Values-STD\n",
       "0            R2   0.094010    0.074619\n",
       "1           MSE  44.545500    3.668852\n",
       "2          RMSE   6.668633    0.273553\n",
       "3         SMAPE   0.526762    0.023276\n",
       "4           MAE   5.185859    0.209313"
      ]
     },
     "execution_count": 45,
     "metadata": {},
     "output_type": "execute_result"
    }
   ],
   "source": [
    "MetricsDF = pd.DataFrame.from_dict(Metrics)\n",
    "MetricsDF"
   ]
  },
  {
   "cell_type": "markdown",
   "metadata": {},
   "source": [
    "## Decision Trees"
   ]
  },
  {
   "cell_type": "code",
   "execution_count": 46,
   "metadata": {},
   "outputs": [],
   "source": [
    "from sklearn.tree import DecisionTreeRegressor\n",
    "DTReg = DecisionTreeRegressor()\n"
   ]
  },
  {
   "cell_type": "code",
   "execution_count": 47,
   "metadata": {},
   "outputs": [],
   "source": [
    "r2mean = []\n",
    "SMAPEm = []\n",
    "MSEm = []\n",
    "RMSEm = []\n",
    "MAEm= []"
   ]
  },
  {
   "cell_type": "code",
   "execution_count": 48,
   "metadata": {},
   "outputs": [],
   "source": [
    "for x in range(1000): \n",
    "  X_train, X_test2, y_train, y_test2 = train_test_split(X, y, test_size=0.3)\n",
    "  DTReg.fit(X_train, y_train)\n",
    "  r2 = DTReg.score(X_test, y_test)\n",
    "  y_pred = DTReg.predict(X_test)\n",
    "  r2mean.append(r2)\n",
    "  MAE = mean_absolute_error(y_test, y_pred)\n",
    "  MAEm.append(MAE)\n",
    "  MSE = mean_squared_error(y_test, y_pred)\n",
    "  MSEm.append(MSE)\n",
    "  RMSE = sqrt(mean_squared_error(y_test, y_pred))\n",
    "  RMSEm.append(RMSE)\n",
    "  SMAPE = smape(y_test, y_pred)\n",
    "  SMAPEm.append(SMAPE)"
   ]
  },
  {
   "cell_type": "code",
   "execution_count": 49,
   "metadata": {},
   "outputs": [],
   "source": [
    "Metrics = {'Metrics Means': ['R2', 'MSE', 'RMSE', 'SMAPE', 'MAE'],\n",
    "           'Values': [np.mean(r2mean), np.mean(MSEm), np.mean(RMSEm), np.mean(SMAPEm), np.mean(MAEm)],\n",
    "           'Values-STD': [np.std(r2mean), np.std(MSEm),np.std(RMSEm), np.std(SMAPEm), np.std(MAEm)]\n",
    "           }"
   ]
  },
  {
   "cell_type": "code",
   "execution_count": 50,
   "metadata": {},
   "outputs": [
    {
     "data": {
      "text/html": [
       "<div>\n",
       "<style scoped>\n",
       "    .dataframe tbody tr th:only-of-type {\n",
       "        vertical-align: middle;\n",
       "    }\n",
       "\n",
       "    .dataframe tbody tr th {\n",
       "        vertical-align: top;\n",
       "    }\n",
       "\n",
       "    .dataframe thead th {\n",
       "        text-align: right;\n",
       "    }\n",
       "</style>\n",
       "<table border=\"1\" class=\"dataframe\">\n",
       "  <thead>\n",
       "    <tr style=\"text-align: right;\">\n",
       "      <th></th>\n",
       "      <th>Metrics Means</th>\n",
       "      <th>Values</th>\n",
       "      <th>Values-STD</th>\n",
       "    </tr>\n",
       "  </thead>\n",
       "  <tbody>\n",
       "    <tr>\n",
       "      <th>0</th>\n",
       "      <td>R2</td>\n",
       "      <td>-0.214182</td>\n",
       "      <td>0.148877</td>\n",
       "    </tr>\n",
       "    <tr>\n",
       "      <th>1</th>\n",
       "      <td>MSE</td>\n",
       "      <td>59.698641</td>\n",
       "      <td>7.319946</td>\n",
       "    </tr>\n",
       "    <tr>\n",
       "      <th>2</th>\n",
       "      <td>RMSE</td>\n",
       "      <td>7.712133</td>\n",
       "      <td>0.470792</td>\n",
       "    </tr>\n",
       "    <tr>\n",
       "      <th>3</th>\n",
       "      <td>SMAPE</td>\n",
       "      <td>0.612280</td>\n",
       "      <td>0.037617</td>\n",
       "    </tr>\n",
       "    <tr>\n",
       "      <th>4</th>\n",
       "      <td>MAE</td>\n",
       "      <td>5.982640</td>\n",
       "      <td>0.396737</td>\n",
       "    </tr>\n",
       "  </tbody>\n",
       "</table>\n",
       "</div>"
      ],
      "text/plain": [
       "  Metrics Means     Values  Values-STD\n",
       "0            R2  -0.214182    0.148877\n",
       "1           MSE  59.698641    7.319946\n",
       "2          RMSE   7.712133    0.470792\n",
       "3         SMAPE   0.612280    0.037617\n",
       "4           MAE   5.982640    0.396737"
      ]
     },
     "execution_count": 50,
     "metadata": {},
     "output_type": "execute_result"
    }
   ],
   "source": [
    "MetricsDF = pd.DataFrame.from_dict(Metrics)\n",
    "MetricsDF"
   ]
  },
  {
   "cell_type": "markdown",
   "metadata": {},
   "source": [
    "## Feature Rankings"
   ]
  },
  {
   "cell_type": "code",
   "execution_count": 51,
   "metadata": {},
   "outputs": [],
   "source": [
    "import gabrielrfe as rfe"
   ]
  },
  {
   "cell_type": "code",
   "execution_count": 52,
   "metadata": {},
   "outputs": [],
   "source": [
    "ranking = rfe.RankingRE(X, y, 1000)"
   ]
  },
  {
   "cell_type": "code",
   "execution_count": 53,
   "metadata": {},
   "outputs": [
    {
     "data": {
      "text/html": [
       "<div>\n",
       "<style scoped>\n",
       "    .dataframe tbody tr th:only-of-type {\n",
       "        vertical-align: middle;\n",
       "    }\n",
       "\n",
       "    .dataframe tbody tr th {\n",
       "        vertical-align: top;\n",
       "    }\n",
       "\n",
       "    .dataframe thead th {\n",
       "        text-align: right;\n",
       "    }\n",
       "</style>\n",
       "<table border=\"1\" class=\"dataframe\">\n",
       "  <thead>\n",
       "    <tr style=\"text-align: right;\">\n",
       "      <th></th>\n",
       "      <th>Categories</th>\n",
       "      <th>Borda-Score</th>\n",
       "      <th>STD</th>\n",
       "      <th>Borda-Average</th>\n",
       "      <th>ranking</th>\n",
       "    </tr>\n",
       "  </thead>\n",
       "  <tbody>\n",
       "    <tr>\n",
       "      <th>5</th>\n",
       "      <td>DR</td>\n",
       "      <td>3907.0</td>\n",
       "      <td>8.45188446442565</td>\n",
       "      <td>3.907</td>\n",
       "      <td>1.0</td>\n",
       "    </tr>\n",
       "    <tr>\n",
       "      <th>0</th>\n",
       "      <td>Age</td>\n",
       "      <td>6133.0</td>\n",
       "      <td>10.186231442491364</td>\n",
       "      <td>6.133</td>\n",
       "      <td>2.0</td>\n",
       "    </tr>\n",
       "    <tr>\n",
       "      <th>6</th>\n",
       "      <td>Insulin</td>\n",
       "      <td>6843.0</td>\n",
       "      <td>9.626544083937969</td>\n",
       "      <td>6.843</td>\n",
       "      <td>3.0</td>\n",
       "    </tr>\n",
       "    <tr>\n",
       "      <th>13</th>\n",
       "      <td>BMI</td>\n",
       "      <td>17256.0</td>\n",
       "      <td>14.731478676629882</td>\n",
       "      <td>17.256</td>\n",
       "      <td>4.0</td>\n",
       "    </tr>\n",
       "    <tr>\n",
       "      <th>27</th>\n",
       "      <td>PDBP</td>\n",
       "      <td>18721.0</td>\n",
       "      <td>14.604696470656279</td>\n",
       "      <td>18.721</td>\n",
       "      <td>5.0</td>\n",
       "    </tr>\n",
       "    <tr>\n",
       "      <th>33</th>\n",
       "      <td>CAN</td>\n",
       "      <td>22524.0</td>\n",
       "      <td>13.719745770239307</td>\n",
       "      <td>22.524</td>\n",
       "      <td>6.0</td>\n",
       "    </tr>\n",
       "    <tr>\n",
       "      <th>7</th>\n",
       "      <td>Sulfonylurea</td>\n",
       "      <td>23417.0</td>\n",
       "      <td>14.038344311207066</td>\n",
       "      <td>23.417</td>\n",
       "      <td>7.0</td>\n",
       "    </tr>\n",
       "    <tr>\n",
       "      <th>17</th>\n",
       "      <td>HDL</td>\n",
       "      <td>23645.0</td>\n",
       "      <td>13.851822082311056</td>\n",
       "      <td>23.645</td>\n",
       "      <td>8.0</td>\n",
       "    </tr>\n",
       "    <tr>\n",
       "      <th>14</th>\n",
       "      <td>FBS</td>\n",
       "      <td>23927.0</td>\n",
       "      <td>13.91027213968151</td>\n",
       "      <td>23.927</td>\n",
       "      <td>9.0</td>\n",
       "    </tr>\n",
       "    <tr>\n",
       "      <th>18</th>\n",
       "      <td>LDL</td>\n",
       "      <td>24437.0</td>\n",
       "      <td>13.546218328374913</td>\n",
       "      <td>24.437</td>\n",
       "      <td>10.0</td>\n",
       "    </tr>\n",
       "    <tr>\n",
       "      <th>4</th>\n",
       "      <td>Anti HTN</td>\n",
       "      <td>24524.0</td>\n",
       "      <td>13.439844641959207</td>\n",
       "      <td>24.524</td>\n",
       "      <td>11.0</td>\n",
       "    </tr>\n",
       "    <tr>\n",
       "      <th>24</th>\n",
       "      <td>SBP</td>\n",
       "      <td>24533.0</td>\n",
       "      <td>13.82529967125486</td>\n",
       "      <td>24.533</td>\n",
       "      <td>12.0</td>\n",
       "    </tr>\n",
       "    <tr>\n",
       "      <th>9</th>\n",
       "      <td>DDP-4 inhibitor</td>\n",
       "      <td>24581.0</td>\n",
       "      <td>13.244675873723747</td>\n",
       "      <td>24.581</td>\n",
       "      <td>13.0</td>\n",
       "    </tr>\n",
       "    <tr>\n",
       "      <th>28</th>\n",
       "      <td>PHR</td>\n",
       "      <td>25162.0</td>\n",
       "      <td>13.187560653888957</td>\n",
       "      <td>25.162</td>\n",
       "      <td>14.0</td>\n",
       "    </tr>\n",
       "    <tr>\n",
       "      <th>20</th>\n",
       "      <td>Urine ACR</td>\n",
       "      <td>25177.0</td>\n",
       "      <td>12.435420017031998</td>\n",
       "      <td>25.177</td>\n",
       "      <td>15.0</td>\n",
       "    </tr>\n",
       "    <tr>\n",
       "      <th>25</th>\n",
       "      <td>DBP</td>\n",
       "      <td>25241.0</td>\n",
       "      <td>13.712363727672958</td>\n",
       "      <td>25.241</td>\n",
       "      <td>16.0</td>\n",
       "    </tr>\n",
       "    <tr>\n",
       "      <th>31</th>\n",
       "      <td>QTc</td>\n",
       "      <td>25412.0</td>\n",
       "      <td>13.239042865705963</td>\n",
       "      <td>25.412</td>\n",
       "      <td>17.0</td>\n",
       "    </tr>\n",
       "    <tr>\n",
       "      <th>15</th>\n",
       "      <td>TC</td>\n",
       "      <td>25465.0</td>\n",
       "      <td>13.568447774156049</td>\n",
       "      <td>25.465</td>\n",
       "      <td>18.0</td>\n",
       "    </tr>\n",
       "    <tr>\n",
       "      <th>16</th>\n",
       "      <td>TG</td>\n",
       "      <td>25681.0</td>\n",
       "      <td>13.450250518113021</td>\n",
       "      <td>25.681</td>\n",
       "      <td>19.0</td>\n",
       "    </tr>\n",
       "    <tr>\n",
       "      <th>19</th>\n",
       "      <td>HbA1c</td>\n",
       "      <td>25742.0</td>\n",
       "      <td>12.959299209448025</td>\n",
       "      <td>25.742</td>\n",
       "      <td>20.0</td>\n",
       "    </tr>\n",
       "    <tr>\n",
       "      <th>1</th>\n",
       "      <td>Gender</td>\n",
       "      <td>25959.0</td>\n",
       "      <td>12.897182599312142</td>\n",
       "      <td>25.959</td>\n",
       "      <td>21.0</td>\n",
       "    </tr>\n",
       "    <tr>\n",
       "      <th>36</th>\n",
       "      <td>GCSI present ?</td>\n",
       "      <td>26133.0</td>\n",
       "      <td>12.50693051871642</td>\n",
       "      <td>26.133</td>\n",
       "      <td>22.0</td>\n",
       "    </tr>\n",
       "    <tr>\n",
       "      <th>21</th>\n",
       "      <td>UACR new</td>\n",
       "      <td>26176.0</td>\n",
       "      <td>12.75104011443773</td>\n",
       "      <td>26.176</td>\n",
       "      <td>23.0</td>\n",
       "    </tr>\n",
       "    <tr>\n",
       "      <th>3</th>\n",
       "      <td>HTN</td>\n",
       "      <td>26342.0</td>\n",
       "      <td>12.838342416371349</td>\n",
       "      <td>26.342</td>\n",
       "      <td>24.0</td>\n",
       "    </tr>\n",
       "    <tr>\n",
       "      <th>8</th>\n",
       "      <td>Metformin</td>\n",
       "      <td>26542.0</td>\n",
       "      <td>12.59905694883549</td>\n",
       "      <td>26.542</td>\n",
       "      <td>25.0</td>\n",
       "    </tr>\n",
       "    <tr>\n",
       "      <th>26</th>\n",
       "      <td>PSBP</td>\n",
       "      <td>26619.0</td>\n",
       "      <td>12.986063260280217</td>\n",
       "      <td>26.619</td>\n",
       "      <td>26.0</td>\n",
       "    </tr>\n",
       "    <tr>\n",
       "      <th>30</th>\n",
       "      <td>resting tachycardia</td>\n",
       "      <td>26623.0</td>\n",
       "      <td>12.656969265981497</td>\n",
       "      <td>26.623</td>\n",
       "      <td>27.0</td>\n",
       "    </tr>\n",
       "    <tr>\n",
       "      <th>34</th>\n",
       "      <td>GCSI score</td>\n",
       "      <td>26641.0</td>\n",
       "      <td>12.466199059857816</td>\n",
       "      <td>26.641</td>\n",
       "      <td>28.0</td>\n",
       "    </tr>\n",
       "    <tr>\n",
       "      <th>43</th>\n",
       "      <td>Excessive fullness after meals</td>\n",
       "      <td>26686.0</td>\n",
       "      <td>12.530419147019776</td>\n",
       "      <td>26.686</td>\n",
       "      <td>29.0</td>\n",
       "    </tr>\n",
       "    <tr>\n",
       "      <th>40</th>\n",
       "      <td>Vomiting</td>\n",
       "      <td>26723.0</td>\n",
       "      <td>12.413793578113014</td>\n",
       "      <td>26.723</td>\n",
       "      <td>30.0</td>\n",
       "    </tr>\n",
       "    <tr>\n",
       "      <th>11</th>\n",
       "      <td>Meglitinides</td>\n",
       "      <td>26830.0</td>\n",
       "      <td>12.30703457377122</td>\n",
       "      <td>26.830</td>\n",
       "      <td>31.0</td>\n",
       "    </tr>\n",
       "    <tr>\n",
       "      <th>22</th>\n",
       "      <td>Albuminuria</td>\n",
       "      <td>26849.0</td>\n",
       "      <td>12.262552711405572</td>\n",
       "      <td>26.849</td>\n",
       "      <td>32.0</td>\n",
       "    </tr>\n",
       "    <tr>\n",
       "      <th>44</th>\n",
       "      <td>Loss of appetitie</td>\n",
       "      <td>26850.0</td>\n",
       "      <td>12.532338169711197</td>\n",
       "      <td>26.850</td>\n",
       "      <td>33.0</td>\n",
       "    </tr>\n",
       "    <tr>\n",
       "      <th>45</th>\n",
       "      <td>Bloating</td>\n",
       "      <td>26858.0</td>\n",
       "      <td>12.994761867768096</td>\n",
       "      <td>26.858</td>\n",
       "      <td>34.0</td>\n",
       "    </tr>\n",
       "    <tr>\n",
       "      <th>10</th>\n",
       "      <td>TZD</td>\n",
       "      <td>26915.0</td>\n",
       "      <td>12.335691103460714</td>\n",
       "      <td>26.915</td>\n",
       "      <td>35.0</td>\n",
       "    </tr>\n",
       "    <tr>\n",
       "      <th>39</th>\n",
       "      <td>Retching</td>\n",
       "      <td>26947.0</td>\n",
       "      <td>12.862122336535242</td>\n",
       "      <td>26.947</td>\n",
       "      <td>36.0</td>\n",
       "    </tr>\n",
       "    <tr>\n",
       "      <th>41</th>\n",
       "      <td>Stomach fullness</td>\n",
       "      <td>26976.0</td>\n",
       "      <td>12.78700215062157</td>\n",
       "      <td>26.976</td>\n",
       "      <td>37.0</td>\n",
       "    </tr>\n",
       "    <tr>\n",
       "      <th>29</th>\n",
       "      <td>orthostatic hypotension</td>\n",
       "      <td>27144.0</td>\n",
       "      <td>12.411336108574316</td>\n",
       "      <td>27.144</td>\n",
       "      <td>38.0</td>\n",
       "    </tr>\n",
       "    <tr>\n",
       "      <th>35</th>\n",
       "      <td>GCSI new</td>\n",
       "      <td>27215.0</td>\n",
       "      <td>12.696723002412856</td>\n",
       "      <td>27.215</td>\n",
       "      <td>39.0</td>\n",
       "    </tr>\n",
       "    <tr>\n",
       "      <th>46</th>\n",
       "      <td>stomach or belly visibly larger</td>\n",
       "      <td>27235.0</td>\n",
       "      <td>12.439524709569902</td>\n",
       "      <td>27.235</td>\n",
       "      <td>40.0</td>\n",
       "    </tr>\n",
       "    <tr>\n",
       "      <th>2</th>\n",
       "      <td>Smoking</td>\n",
       "      <td>27242.0</td>\n",
       "      <td>12.754192879206425</td>\n",
       "      <td>27.242</td>\n",
       "      <td>41.0</td>\n",
       "    </tr>\n",
       "    <tr>\n",
       "      <th>47</th>\n",
       "      <td>presenceofanysymptom</td>\n",
       "      <td>27304.0</td>\n",
       "      <td>12.328486687343254</td>\n",
       "      <td>27.304</td>\n",
       "      <td>42.0</td>\n",
       "    </tr>\n",
       "    <tr>\n",
       "      <th>12</th>\n",
       "      <td>None</td>\n",
       "      <td>27317.0</td>\n",
       "      <td>12.805585148676322</td>\n",
       "      <td>27.317</td>\n",
       "      <td>43.0</td>\n",
       "    </tr>\n",
       "    <tr>\n",
       "      <th>32</th>\n",
       "      <td>QTc prolonged ?</td>\n",
       "      <td>27332.0</td>\n",
       "      <td>12.307062037708263</td>\n",
       "      <td>27.332</td>\n",
       "      <td>44.0</td>\n",
       "    </tr>\n",
       "    <tr>\n",
       "      <th>37</th>\n",
       "      <td>GCSI category</td>\n",
       "      <td>27476.0</td>\n",
       "      <td>13.00351583226628</td>\n",
       "      <td>27.476</td>\n",
       "      <td>45.0</td>\n",
       "    </tr>\n",
       "    <tr>\n",
       "      <th>38</th>\n",
       "      <td>Nausea</td>\n",
       "      <td>27546.0</td>\n",
       "      <td>12.334742964488552</td>\n",
       "      <td>27.546</td>\n",
       "      <td>46.0</td>\n",
       "    </tr>\n",
       "    <tr>\n",
       "      <th>23</th>\n",
       "      <td>eGFR MDRD equation</td>\n",
       "      <td>27557.0</td>\n",
       "      <td>12.83342319881957</td>\n",
       "      <td>27.557</td>\n",
       "      <td>47.0</td>\n",
       "    </tr>\n",
       "    <tr>\n",
       "      <th>42</th>\n",
       "      <td>Not able to finish a meal</td>\n",
       "      <td>27635.0</td>\n",
       "      <td>12.170364620667693</td>\n",
       "      <td>27.635</td>\n",
       "      <td>48.0</td>\n",
       "    </tr>\n",
       "  </tbody>\n",
       "</table>\n",
       "</div>"
      ],
      "text/plain": [
       "                          Categories  Borda-Score                 STD  \\\n",
       "5                                 DR       3907.0    8.45188446442565   \n",
       "0                                Age       6133.0  10.186231442491364   \n",
       "6                            Insulin       6843.0   9.626544083937969   \n",
       "13                               BMI      17256.0  14.731478676629882   \n",
       "27                              PDBP      18721.0  14.604696470656279   \n",
       "33                               CAN      22524.0  13.719745770239307   \n",
       "7                       Sulfonylurea      23417.0  14.038344311207066   \n",
       "17                               HDL      23645.0  13.851822082311056   \n",
       "14                               FBS      23927.0   13.91027213968151   \n",
       "18                               LDL      24437.0  13.546218328374913   \n",
       "4                           Anti HTN      24524.0  13.439844641959207   \n",
       "24                               SBP      24533.0   13.82529967125486   \n",
       "9                    DDP-4 inhibitor      24581.0  13.244675873723747   \n",
       "28                               PHR      25162.0  13.187560653888957   \n",
       "20                         Urine ACR      25177.0  12.435420017031998   \n",
       "25                               DBP      25241.0  13.712363727672958   \n",
       "31                               QTc      25412.0  13.239042865705963   \n",
       "15                                TC      25465.0  13.568447774156049   \n",
       "16                                TG      25681.0  13.450250518113021   \n",
       "19                             HbA1c      25742.0  12.959299209448025   \n",
       "1                             Gender      25959.0  12.897182599312142   \n",
       "36                    GCSI present ?      26133.0   12.50693051871642   \n",
       "21                         UACR new       26176.0   12.75104011443773   \n",
       "3                                HTN      26342.0  12.838342416371349   \n",
       "8                          Metformin      26542.0   12.59905694883549   \n",
       "26                              PSBP      26619.0  12.986063260280217   \n",
       "30               resting tachycardia      26623.0  12.656969265981497   \n",
       "34                        GCSI score      26641.0  12.466199059857816   \n",
       "43    Excessive fullness after meals      26686.0  12.530419147019776   \n",
       "40                         Vomiting       26723.0  12.413793578113014   \n",
       "11                      Meglitinides      26830.0   12.30703457377122   \n",
       "22                       Albuminuria      26849.0  12.262552711405572   \n",
       "44                 Loss of appetitie      26850.0  12.532338169711197   \n",
       "45                         Bloating       26858.0  12.994761867768096   \n",
       "10                               TZD      26915.0  12.335691103460714   \n",
       "39                         Retching       26947.0  12.862122336535242   \n",
       "41                 Stomach fullness       26976.0   12.78700215062157   \n",
       "29           orthostatic hypotension      27144.0  12.411336108574316   \n",
       "35                          GCSI new      27215.0  12.696723002412856   \n",
       "46  stomach or belly visibly larger       27235.0  12.439524709569902   \n",
       "2                            Smoking      27242.0  12.754192879206425   \n",
       "47              presenceofanysymptom      27304.0  12.328486687343254   \n",
       "12                              None      27317.0  12.805585148676322   \n",
       "32                  QTc prolonged ?       27332.0  12.307062037708263   \n",
       "37                     GCSI category      27476.0   13.00351583226628   \n",
       "38                           Nausea       27546.0  12.334742964488552   \n",
       "23                eGFR MDRD equation      27557.0   12.83342319881957   \n",
       "42         Not able to finish a meal      27635.0  12.170364620667693   \n",
       "\n",
       "    Borda-Average  ranking  \n",
       "5           3.907      1.0  \n",
       "0           6.133      2.0  \n",
       "6           6.843      3.0  \n",
       "13         17.256      4.0  \n",
       "27         18.721      5.0  \n",
       "33         22.524      6.0  \n",
       "7          23.417      7.0  \n",
       "17         23.645      8.0  \n",
       "14         23.927      9.0  \n",
       "18         24.437     10.0  \n",
       "4          24.524     11.0  \n",
       "24         24.533     12.0  \n",
       "9          24.581     13.0  \n",
       "28         25.162     14.0  \n",
       "20         25.177     15.0  \n",
       "25         25.241     16.0  \n",
       "31         25.412     17.0  \n",
       "15         25.465     18.0  \n",
       "16         25.681     19.0  \n",
       "19         25.742     20.0  \n",
       "1          25.959     21.0  \n",
       "36         26.133     22.0  \n",
       "21         26.176     23.0  \n",
       "3          26.342     24.0  \n",
       "8          26.542     25.0  \n",
       "26         26.619     26.0  \n",
       "30         26.623     27.0  \n",
       "34         26.641     28.0  \n",
       "43         26.686     29.0  \n",
       "40         26.723     30.0  \n",
       "11         26.830     31.0  \n",
       "22         26.849     32.0  \n",
       "44         26.850     33.0  \n",
       "45         26.858     34.0  \n",
       "10         26.915     35.0  \n",
       "39         26.947     36.0  \n",
       "41         26.976     37.0  \n",
       "29         27.144     38.0  \n",
       "35         27.215     39.0  \n",
       "46         27.235     40.0  \n",
       "2          27.242     41.0  \n",
       "47         27.304     42.0  \n",
       "12         27.317     43.0  \n",
       "32         27.332     44.0  \n",
       "37         27.476     45.0  \n",
       "38         27.546     46.0  \n",
       "23         27.557     47.0  \n",
       "42         27.635     48.0  "
      ]
     },
     "execution_count": 53,
     "metadata": {},
     "output_type": "execute_result"
    }
   ],
   "source": [
    "rank = ranking.ranking_borda()\n",
    "rank"
   ]
  },
  {
   "cell_type": "code",
   "execution_count": null,
   "metadata": {},
   "outputs": [],
   "source": []
  }
 ],
 "metadata": {
  "kernelspec": {
   "display_name": "Python 3",
   "language": "python",
   "name": "python3"
  },
  "language_info": {
   "codemirror_mode": {
    "name": "ipython",
    "version": 3
   },
   "file_extension": ".py",
   "mimetype": "text/x-python",
   "name": "python",
   "nbconvert_exporter": "python",
   "pygments_lexer": "ipython3",
   "version": "3.5.6"
  }
 },
 "nbformat": 4,
 "nbformat_minor": 4
}
