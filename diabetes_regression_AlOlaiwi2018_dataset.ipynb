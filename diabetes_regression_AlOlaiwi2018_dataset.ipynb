{
 "cells": [
  {
   "cell_type": "code",
   "execution_count": 24,
   "metadata": {},
   "outputs": [],
   "source": [
    "import pandas as pd\n",
    "import matplotlib.pyplot as plt\n",
    "import numpy as np\n",
    "import sklearn as sk\n",
    "from sklearn.ensemble import RandomForestRegressor\n",
    "from random import randint"
   ]
  },
  {
   "cell_type": "code",
   "execution_count": 25,
   "metadata": {},
   "outputs": [],
   "source": [
    "import xlrd"
   ]
  },
  {
   "cell_type": "markdown",
   "metadata": {},
   "source": [
    "Link to the dataset: https://figshare.com/articles/dataset/Prevalence_of_cardiovascular_autonomic_neuropathy_and_gastroparesis_symptoms_among_patients_with_type_2_diabetes_who_attend_a_primary_health_care_center/7499969\n",
    "\n",
    "\"AlOlaiwi LA, AlHarbi TJ, Tourkmani AM (2018) Prevalence of\n",
    "cardiovascular autonomic neuropathy and gastroparesis symptoms among\n",
    "patients with type 2 diabetes who attend a primary health care center \" \n",
    "\n",
    "PLoS ONE 13(12): e0209500. https://doi.org/10.1371/journal.pone.0209500"
   ]
  },
  {
   "cell_type": "code",
   "execution_count": 26,
   "metadata": {},
   "outputs": [],
   "source": [
    "data = pd.read_excel('AlOlaiwi2018_dataset.xlsx')"
   ]
  },
  {
   "cell_type": "code",
   "execution_count": 27,
   "metadata": {},
   "outputs": [
    {
     "data": {
      "text/html": [
       "<div>\n",
       "<style scoped>\n",
       "    .dataframe tbody tr th:only-of-type {\n",
       "        vertical-align: middle;\n",
       "    }\n",
       "\n",
       "    .dataframe tbody tr th {\n",
       "        vertical-align: top;\n",
       "    }\n",
       "\n",
       "    .dataframe thead th {\n",
       "        text-align: right;\n",
       "    }\n",
       "</style>\n",
       "<table border=\"1\" class=\"dataframe\">\n",
       "  <thead>\n",
       "    <tr style=\"text-align: right;\">\n",
       "      <th></th>\n",
       "      <th>Patient's code</th>\n",
       "      <th>Age</th>\n",
       "      <th>Gender</th>\n",
       "      <th>Duration of DM</th>\n",
       "      <th>Smoking</th>\n",
       "      <th>HTN</th>\n",
       "      <th>Anti HTN</th>\n",
       "      <th>DR</th>\n",
       "      <th>Insulin</th>\n",
       "      <th>Sulfonylurea</th>\n",
       "      <th>...</th>\n",
       "      <th>Nausea</th>\n",
       "      <th>Retching</th>\n",
       "      <th>Vomiting</th>\n",
       "      <th>Stomach fullness</th>\n",
       "      <th>Not able to finish a meal</th>\n",
       "      <th>Excessive fullness after meals</th>\n",
       "      <th>Loss of appetitie</th>\n",
       "      <th>Bloating</th>\n",
       "      <th>stomach or belly visibly larger</th>\n",
       "      <th>presenceofanysymptom</th>\n",
       "    </tr>\n",
       "  </thead>\n",
       "  <tbody>\n",
       "    <tr>\n",
       "      <th>0</th>\n",
       "      <td>1</td>\n",
       "      <td>61</td>\n",
       "      <td>F</td>\n",
       "      <td>3.0</td>\n",
       "      <td>No</td>\n",
       "      <td>No</td>\n",
       "      <td>No</td>\n",
       "      <td>No</td>\n",
       "      <td>No</td>\n",
       "      <td>No</td>\n",
       "      <td>...</td>\n",
       "      <td>No</td>\n",
       "      <td>No</td>\n",
       "      <td>No</td>\n",
       "      <td>No</td>\n",
       "      <td>No</td>\n",
       "      <td>No</td>\n",
       "      <td>No</td>\n",
       "      <td>No</td>\n",
       "      <td>No</td>\n",
       "      <td>No</td>\n",
       "    </tr>\n",
       "    <tr>\n",
       "      <th>1</th>\n",
       "      <td>2</td>\n",
       "      <td>44</td>\n",
       "      <td>M</td>\n",
       "      <td>5.0</td>\n",
       "      <td>No</td>\n",
       "      <td>No</td>\n",
       "      <td>No</td>\n",
       "      <td>No</td>\n",
       "      <td>Yes</td>\n",
       "      <td>Yes</td>\n",
       "      <td>...</td>\n",
       "      <td>No</td>\n",
       "      <td>No</td>\n",
       "      <td>No</td>\n",
       "      <td>No</td>\n",
       "      <td>No</td>\n",
       "      <td>No</td>\n",
       "      <td>No</td>\n",
       "      <td>Yes</td>\n",
       "      <td>Yes</td>\n",
       "      <td>Yes</td>\n",
       "    </tr>\n",
       "    <tr>\n",
       "      <th>2</th>\n",
       "      <td>3</td>\n",
       "      <td>61</td>\n",
       "      <td>M</td>\n",
       "      <td>9.0</td>\n",
       "      <td>No</td>\n",
       "      <td>Yes</td>\n",
       "      <td>Yes</td>\n",
       "      <td>No</td>\n",
       "      <td>No</td>\n",
       "      <td>Yes</td>\n",
       "      <td>...</td>\n",
       "      <td>No</td>\n",
       "      <td>No</td>\n",
       "      <td>No</td>\n",
       "      <td>No</td>\n",
       "      <td>No</td>\n",
       "      <td>No</td>\n",
       "      <td>No</td>\n",
       "      <td>No</td>\n",
       "      <td>No</td>\n",
       "      <td>No</td>\n",
       "    </tr>\n",
       "    <tr>\n",
       "      <th>3</th>\n",
       "      <td>4</td>\n",
       "      <td>53</td>\n",
       "      <td>M</td>\n",
       "      <td>5.0</td>\n",
       "      <td>No</td>\n",
       "      <td>Yes</td>\n",
       "      <td>Yes</td>\n",
       "      <td>No</td>\n",
       "      <td>No</td>\n",
       "      <td>Yes</td>\n",
       "      <td>...</td>\n",
       "      <td>No</td>\n",
       "      <td>No</td>\n",
       "      <td>No</td>\n",
       "      <td>No</td>\n",
       "      <td>Yes</td>\n",
       "      <td>Yes</td>\n",
       "      <td>No</td>\n",
       "      <td>No</td>\n",
       "      <td>No</td>\n",
       "      <td>Yes</td>\n",
       "    </tr>\n",
       "    <tr>\n",
       "      <th>4</th>\n",
       "      <td>5</td>\n",
       "      <td>56</td>\n",
       "      <td>F</td>\n",
       "      <td>7.0</td>\n",
       "      <td>No</td>\n",
       "      <td>Yes</td>\n",
       "      <td>Yes</td>\n",
       "      <td>No</td>\n",
       "      <td>No</td>\n",
       "      <td>Yes</td>\n",
       "      <td>...</td>\n",
       "      <td>No</td>\n",
       "      <td>No</td>\n",
       "      <td>No</td>\n",
       "      <td>No</td>\n",
       "      <td>No</td>\n",
       "      <td>No</td>\n",
       "      <td>No</td>\n",
       "      <td>No</td>\n",
       "      <td>No</td>\n",
       "      <td>No</td>\n",
       "    </tr>\n",
       "  </tbody>\n",
       "</table>\n",
       "<p>5 rows × 50 columns</p>\n",
       "</div>"
      ],
      "text/plain": [
       "  Patient's code   Age Gender  Duration of DM Smoking  HTN Anti HTN  DR  \\\n",
       "0               1   61      F             3.0      No   No       No  No   \n",
       "1               2   44      M             5.0      No   No       No  No   \n",
       "2               3   61      M             9.0      No  Yes      Yes  No   \n",
       "3               4   53      M             5.0      No  Yes      Yes  No   \n",
       "4               5   56      F             7.0      No  Yes      Yes  No   \n",
       "\n",
       "  Insulin Sulfonylurea  ... Nausea  Retching  Vomiting  Stomach fullness   \\\n",
       "0      No           No  ...      No        No        No                No   \n",
       "1     Yes          Yes  ...      No        No        No                No   \n",
       "2      No          Yes  ...      No        No        No                No   \n",
       "3      No          Yes  ...      No        No        No                No   \n",
       "4      No          Yes  ...      No        No        No                No   \n",
       "\n",
       "  Not able to finish a meal  Excessive fullness after meals  \\\n",
       "0                        No                              No   \n",
       "1                        No                              No   \n",
       "2                        No                              No   \n",
       "3                       Yes                             Yes   \n",
       "4                        No                              No   \n",
       "\n",
       "   Loss of appetitie  Bloating   stomach or belly visibly larger   \\\n",
       "0                 No         No                                No   \n",
       "1                 No        Yes                               Yes   \n",
       "2                 No         No                                No   \n",
       "3                 No         No                                No   \n",
       "4                 No         No                                No   \n",
       "\n",
       "   presenceofanysymptom  \n",
       "0                    No  \n",
       "1                   Yes  \n",
       "2                    No  \n",
       "3                   Yes  \n",
       "4                    No  \n",
       "\n",
       "[5 rows x 50 columns]"
      ]
     },
     "execution_count": 27,
     "metadata": {},
     "output_type": "execute_result"
    }
   ],
   "source": [
    "data.head()"
   ]
  },
  {
   "cell_type": "code",
   "execution_count": 28,
   "metadata": {},
   "outputs": [
    {
     "data": {
      "text/plain": [
       "Index(['Patient's code ', 'Age', 'Gender', 'Duration of DM', 'Smoking', 'HTN',\n",
       "       'Anti HTN', 'DR', 'Insulin', 'Sulfonylurea', 'Metformin',\n",
       "       'DDP-4 inhibitor', 'TZD', 'Meglitinides', 'None', 'BMI', 'FBS', 'TC',\n",
       "       'TG', 'HDL', 'LDL', 'HbA1c', 'Urine ACR', 'UACR new ', 'Albuminuria',\n",
       "       'eGFR MDRD equation', 'SBP', 'DBP', 'PSBP', 'PDBP', 'PHR',\n",
       "       'orthostatic hypotension', 'resting tachycardia', 'QTc',\n",
       "       'QTc prolonged ? ', 'CAN', 'GCSI score', 'GCSI new', 'GCSI present ?',\n",
       "       'GCSI category', 'Nausea ', 'Retching ', 'Vomiting ',\n",
       "       'Stomach fullness ', 'Not able to finish a meal',\n",
       "       'Excessive fullness after meals', 'Loss of appetitie', 'Bloating ',\n",
       "       'stomach or belly visibly larger ', 'presenceofanysymptom'],\n",
       "      dtype='object')"
      ]
     },
     "execution_count": 28,
     "metadata": {},
     "output_type": "execute_result"
    }
   ],
   "source": [
    "data.columns"
   ]
  },
  {
   "cell_type": "code",
   "execution_count": 29,
   "metadata": {},
   "outputs": [],
   "source": [
    "data.drop([\"Patient's code \"], axis = 1, inplace = True)"
   ]
  },
  {
   "cell_type": "code",
   "execution_count": 30,
   "metadata": {},
   "outputs": [
    {
     "data": {
      "text/plain": [
       "True"
      ]
     },
     "execution_count": 30,
     "metadata": {},
     "output_type": "execute_result"
    }
   ],
   "source": [
    "data.isnull().values.any()"
   ]
  },
  {
   "cell_type": "markdown",
   "metadata": {},
   "source": [
    "## Mapping the strings"
   ]
  },
  {
   "cell_type": "code",
   "execution_count": 31,
   "metadata": {},
   "outputs": [],
   "source": [
    "data.replace({'No': 0, 'Yes': 1, 'F': 0, 'M': 1}, inplace = True)"
   ]
  },
  {
   "cell_type": "code",
   "execution_count": 32,
   "metadata": {},
   "outputs": [
    {
     "data": {
      "text/plain": [
       "array(['absent  ', 'present ', 'present'], dtype=object)"
      ]
     },
     "execution_count": 32,
     "metadata": {},
     "output_type": "execute_result"
    }
   ],
   "source": [
    "data['GCSI present ?'].unique()"
   ]
  },
  {
   "cell_type": "code",
   "execution_count": 33,
   "metadata": {},
   "outputs": [
    {
     "data": {
      "text/plain": [
       "array(['none', 'mild', 'severe'], dtype=object)"
      ]
     },
     "execution_count": 33,
     "metadata": {},
     "output_type": "execute_result"
    }
   ],
   "source": [
    "data['GCSI category'].unique()"
   ]
  },
  {
   "cell_type": "code",
   "execution_count": 34,
   "metadata": {},
   "outputs": [
    {
     "data": {
      "text/plain": [
       "array(['borderline', 0, 1], dtype=object)"
      ]
     },
     "execution_count": 34,
     "metadata": {},
     "output_type": "execute_result"
    }
   ],
   "source": [
    "data['QTc prolonged ? '].unique()"
   ]
  },
  {
   "cell_type": "code",
   "execution_count": 35,
   "metadata": {},
   "outputs": [
    {
     "data": {
      "text/plain": [
       "array(['normoalbuminuria', 'macroalbuminuria', 'microalbuminuria'],\n",
       "      dtype=object)"
      ]
     },
     "execution_count": 35,
     "metadata": {},
     "output_type": "execute_result"
    }
   ],
   "source": [
    "data['Albuminuria'].unique()"
   ]
  },
  {
   "cell_type": "code",
   "execution_count": 36,
   "metadata": {},
   "outputs": [],
   "source": [
    "data.replace({'absent  ': 0, 'present ': 1, 'present': 1, 'none':0, 'mild': 1, 'severe': 2, 'normoalbuminuria': 0, 'macroalbuminuria': 2, 'microalbuminuria': 1, 'borderline': 0.5}, inplace = True)"
   ]
  },
  {
   "cell_type": "code",
   "execution_count": 37,
   "metadata": {},
   "outputs": [
    {
     "data": {
      "text/plain": [
       "array([0, 1, nan, 'has appo', 'No 2012 has appoint'], dtype=object)"
      ]
     },
     "execution_count": 37,
     "metadata": {},
     "output_type": "execute_result"
    }
   ],
   "source": [
    "data['DR'].unique()"
   ]
  },
  {
   "cell_type": "markdown",
   "metadata": {},
   "source": [
    "### Couldn't find what DR meant"
   ]
  },
  {
   "cell_type": "code",
   "execution_count": 38,
   "metadata": {},
   "outputs": [],
   "source": [
    "data.replace({'has appo': 2, 'No 2012 has appoint': 3}, inplace = True)"
   ]
  },
  {
   "cell_type": "markdown",
   "metadata": {},
   "source": [
    "## Filling Missing Values"
   ]
  },
  {
   "cell_type": "code",
   "execution_count": 39,
   "metadata": {},
   "outputs": [],
   "source": [
    "from sklearn.experimental import enable_iterative_imputer\n",
    "from sklearn.impute import IterativeImputer"
   ]
  },
  {
   "cell_type": "code",
   "execution_count": 40,
   "metadata": {},
   "outputs": [],
   "source": [
    "iterative_imp = IterativeImputer()"
   ]
  },
  {
   "cell_type": "code",
   "execution_count": 41,
   "metadata": {},
   "outputs": [
    {
     "data": {
      "text/plain": [
       "IterativeImputer(add_indicator=False, estimator=None,\n",
       "                 imputation_order='ascending', initial_strategy='mean',\n",
       "                 max_iter=10, max_value=None, min_value=None,\n",
       "                 missing_values=nan, n_nearest_features=None, random_state=None,\n",
       "                 sample_posterior=False, skip_complete=False, tol=0.001,\n",
       "                 verbose=0)"
      ]
     },
     "execution_count": 41,
     "metadata": {},
     "output_type": "execute_result"
    }
   ],
   "source": [
    "iterative_imp.fit(data)"
   ]
  },
  {
   "cell_type": "code",
   "execution_count": 42,
   "metadata": {},
   "outputs": [],
   "source": [
    "data1 = iterative_imp.fit_transform(data)"
   ]
  },
  {
   "cell_type": "code",
   "execution_count": 43,
   "metadata": {},
   "outputs": [],
   "source": [
    "data1 = pd.DataFrame(data=data1, columns = data.columns,)"
   ]
  },
  {
   "cell_type": "markdown",
   "metadata": {},
   "source": [
    "# Let's predict duration of diabetes"
   ]
  },
  {
   "cell_type": "code",
   "execution_count": null,
   "metadata": {},
   "outputs": [],
   "source": []
  },
  {
   "cell_type": "code",
   "execution_count": 44,
   "metadata": {},
   "outputs": [],
   "source": [
    "X = data1.drop('Duration of DM', axis = 1)\n",
    "y = data1['Duration of DM']"
   ]
  },
  {
   "cell_type": "code",
   "execution_count": 45,
   "metadata": {},
   "outputs": [],
   "source": [
    "from sklearn.model_selection import train_test_split"
   ]
  },
  {
   "cell_type": "code",
   "execution_count": 46,
   "metadata": {},
   "outputs": [],
   "source": [
    "X, X_test, y, y_test = train_test_split(X, y, test_size=0.30, random_state= 42)"
   ]
  },
  {
   "cell_type": "code",
   "execution_count": 47,
   "metadata": {},
   "outputs": [],
   "source": [
    "from sklearn.metrics import mean_absolute_error\n",
    "from sklearn.metrics import mean_squared_error\n",
    "from math import sqrt"
   ]
  },
  {
   "cell_type": "code",
   "execution_count": 48,
   "metadata": {},
   "outputs": [],
   "source": [
    "#Sklearn does't have any function for SMAPE, so I wrote a function in python\n",
    "#The function has 100%/n. I replaced 100% with 1, to have values between 0 and 1 in form of percentages.\n",
    "#A is the real, while F is predicted.\n",
    "def smape(a, f):\n",
    "    return 1/len(a) * np.sum(2 * np.abs(f-a) / (np.abs(a) + np.abs(f)))"
   ]
  },
  {
   "cell_type": "code",
   "execution_count": 49,
   "metadata": {},
   "outputs": [],
   "source": [
    "r2mean = []\n",
    "SMAPEm = []\n",
    "MSEm = []\n",
    "RMSEm = []\n",
    "MAEm= []"
   ]
  },
  {
   "cell_type": "code",
   "execution_count": 50,
   "metadata": {},
   "outputs": [],
   "source": [
    "randomforest = RandomForestRegressor()"
   ]
  },
  {
   "cell_type": "code",
   "execution_count": 51,
   "metadata": {},
   "outputs": [],
   "source": [
    "for x in range(1000): \n",
    "  X_train, X_test2, y_train, y_test2 = train_test_split(X, y, test_size=0.3)\n",
    "  randomforest.fit(X_train, y_train)\n",
    "  r2 = randomforest.score(X_test, y_test)\n",
    "  y_pred = randomforest.predict(X_test)\n",
    "  r2mean.append(r2)\n",
    "  MAE = mean_absolute_error(y_test, y_pred)\n",
    "  MAEm.append(MAE)\n",
    "  MSE = mean_squared_error(y_test, y_pred)\n",
    "  MSEm.append(MSE)\n",
    "  RMSE = sqrt(mean_squared_error(y_test, y_pred))\n",
    "  RMSEm.append(RMSE)\n",
    "  SMAPE = smape(y_test, y_pred)\n",
    "  SMAPEm.append(SMAPE)"
   ]
  },
  {
   "cell_type": "code",
   "execution_count": 52,
   "metadata": {},
   "outputs": [],
   "source": [
    "Metrics = {'Metrics Means': ['R2', 'MSE', 'RMSE', 'SMAPE', 'MAE'],\n",
    "           'Values': [np.mean(r2mean), np.mean(MSEm), np.mean(RMSEm), np.mean(SMAPEm), np.mean(MAE)]\n",
    "           }"
   ]
  },
  {
   "cell_type": "code",
   "execution_count": 53,
   "metadata": {},
   "outputs": [
    {
     "data": {
      "text/html": [
       "<div>\n",
       "<style scoped>\n",
       "    .dataframe tbody tr th:only-of-type {\n",
       "        vertical-align: middle;\n",
       "    }\n",
       "\n",
       "    .dataframe tbody tr th {\n",
       "        vertical-align: top;\n",
       "    }\n",
       "\n",
       "    .dataframe thead th {\n",
       "        text-align: right;\n",
       "    }\n",
       "</style>\n",
       "<table border=\"1\" class=\"dataframe\">\n",
       "  <thead>\n",
       "    <tr style=\"text-align: right;\">\n",
       "      <th></th>\n",
       "      <th>Metrics Means</th>\n",
       "      <th>Values</th>\n",
       "    </tr>\n",
       "  </thead>\n",
       "  <tbody>\n",
       "    <tr>\n",
       "      <th>0</th>\n",
       "      <td>R2</td>\n",
       "      <td>0.352158</td>\n",
       "    </tr>\n",
       "    <tr>\n",
       "      <th>1</th>\n",
       "      <td>MSE</td>\n",
       "      <td>31.852927</td>\n",
       "    </tr>\n",
       "    <tr>\n",
       "      <th>2</th>\n",
       "      <td>RMSE</td>\n",
       "      <td>5.642659</td>\n",
       "    </tr>\n",
       "    <tr>\n",
       "      <th>3</th>\n",
       "      <td>SMAPE</td>\n",
       "      <td>0.470641</td>\n",
       "    </tr>\n",
       "    <tr>\n",
       "      <th>4</th>\n",
       "      <td>MAE</td>\n",
       "      <td>4.481392</td>\n",
       "    </tr>\n",
       "  </tbody>\n",
       "</table>\n",
       "</div>"
      ],
      "text/plain": [
       "  Metrics Means     Values\n",
       "0            R2   0.352158\n",
       "1           MSE  31.852927\n",
       "2          RMSE   5.642659\n",
       "3         SMAPE   0.470641\n",
       "4           MAE   4.481392"
      ]
     },
     "execution_count": 53,
     "metadata": {},
     "output_type": "execute_result"
    }
   ],
   "source": [
    "MetricsDF = pd.DataFrame.from_dict(Metrics)\n",
    "MetricsDF"
   ]
  },
  {
   "cell_type": "markdown",
   "metadata": {},
   "source": [
    "# XGBOOST"
   ]
  },
  {
   "cell_type": "code",
   "execution_count": 54,
   "metadata": {},
   "outputs": [
    {
     "name": "stderr",
     "output_type": "stream",
     "text": [
      "C:\\Users\\54226\\Anaconda3\\envs\\python-ml-2020\\lib\\site-packages\\xgboost\\__init__.py:29: FutureWarning: Python 3.5 support is deprecated; XGBoost will require Python 3.6+ in the near future. Consider upgrading to Python 3.6+.\n",
      "  FutureWarning)\n"
     ]
    }
   ],
   "source": [
    "import xgboost as xgb\n",
    "from xgboost.sklearn import XGBRegressor"
   ]
  },
  {
   "cell_type": "code",
   "execution_count": 55,
   "metadata": {},
   "outputs": [],
   "source": [
    "xgb = XGBRegressor()"
   ]
  },
  {
   "cell_type": "code",
   "execution_count": 56,
   "metadata": {},
   "outputs": [],
   "source": [
    "r2mean = []\n",
    "SMAPEm = []\n",
    "MSEm = []\n",
    "RMSEm = []\n",
    "MAEm= []"
   ]
  },
  {
   "cell_type": "code",
   "execution_count": 57,
   "metadata": {},
   "outputs": [],
   "source": [
    "for x in range(1000): \n",
    "  X_train, X_test2, y_train, y_test2 = train_test_split(X, y, test_size=0.30)\n",
    "  xgb.fit(X_train, y_train)\n",
    "  r2 = xgb.score(X_test, y_test)\n",
    "  y_pred = xgb.predict(X_test)\n",
    "  r2mean.append(r2)\n",
    "  MAE = mean_absolute_error(y_test, y_pred)\n",
    "  MAEm.append(MAE)\n",
    "  MSE = mean_squared_error(y_test, y_pred)\n",
    "  MSEm.append(MSE)\n",
    "  RMSE = sqrt(mean_squared_error(y_test, y_pred))\n",
    "  RMSEm.append(RMSE)\n",
    "  SMAPE = smape(y_test, y_pred)\n",
    "  SMAPEm.append(SMAPE)"
   ]
  },
  {
   "cell_type": "code",
   "execution_count": 58,
   "metadata": {},
   "outputs": [],
   "source": [
    "Metrics = {'Metrics Means': ['R2', 'MSE', 'RMSE', 'SMAPE', 'MAE'],\n",
    "           'Values': [np.mean(r2mean), np.mean(MSEm), np.mean(RMSEm), np.mean(SMAPEm), np.mean(MAE)]\n",
    "           }"
   ]
  },
  {
   "cell_type": "code",
   "execution_count": 59,
   "metadata": {},
   "outputs": [
    {
     "data": {
      "text/html": [
       "<div>\n",
       "<style scoped>\n",
       "    .dataframe tbody tr th:only-of-type {\n",
       "        vertical-align: middle;\n",
       "    }\n",
       "\n",
       "    .dataframe tbody tr th {\n",
       "        vertical-align: top;\n",
       "    }\n",
       "\n",
       "    .dataframe thead th {\n",
       "        text-align: right;\n",
       "    }\n",
       "</style>\n",
       "<table border=\"1\" class=\"dataframe\">\n",
       "  <thead>\n",
       "    <tr style=\"text-align: right;\">\n",
       "      <th></th>\n",
       "      <th>Metrics Means</th>\n",
       "      <th>Values</th>\n",
       "    </tr>\n",
       "  </thead>\n",
       "  <tbody>\n",
       "    <tr>\n",
       "      <th>0</th>\n",
       "      <td>R2</td>\n",
       "      <td>0.248419</td>\n",
       "    </tr>\n",
       "    <tr>\n",
       "      <th>1</th>\n",
       "      <td>MSE</td>\n",
       "      <td>36.953563</td>\n",
       "    </tr>\n",
       "    <tr>\n",
       "      <th>2</th>\n",
       "      <td>RMSE</td>\n",
       "      <td>6.074621</td>\n",
       "    </tr>\n",
       "    <tr>\n",
       "      <th>3</th>\n",
       "      <td>SMAPE</td>\n",
       "      <td>0.495713</td>\n",
       "    </tr>\n",
       "    <tr>\n",
       "      <th>4</th>\n",
       "      <td>MAE</td>\n",
       "      <td>5.374773</td>\n",
       "    </tr>\n",
       "  </tbody>\n",
       "</table>\n",
       "</div>"
      ],
      "text/plain": [
       "  Metrics Means     Values\n",
       "0            R2   0.248419\n",
       "1           MSE  36.953563\n",
       "2          RMSE   6.074621\n",
       "3         SMAPE   0.495713\n",
       "4           MAE   5.374773"
      ]
     },
     "execution_count": 59,
     "metadata": {},
     "output_type": "execute_result"
    }
   ],
   "source": [
    "MetricsDF = pd.DataFrame.from_dict(Metrics)\n",
    "MetricsDF"
   ]
  },
  {
   "cell_type": "markdown",
   "metadata": {},
   "source": [
    "## Feature Rankings"
   ]
  },
  {
   "cell_type": "code",
   "execution_count": 60,
   "metadata": {},
   "outputs": [],
   "source": [
    "import gabrielrfe as rfe"
   ]
  },
  {
   "cell_type": "code",
   "execution_count": 61,
   "metadata": {},
   "outputs": [],
   "source": [
    "ranking = rfe.RankingRE(X, y, 100)"
   ]
  },
  {
   "cell_type": "code",
   "execution_count": 64,
   "metadata": {},
   "outputs": [
    {
     "data": {
      "text/html": [
       "<div>\n",
       "<style scoped>\n",
       "    .dataframe tbody tr th:only-of-type {\n",
       "        vertical-align: middle;\n",
       "    }\n",
       "\n",
       "    .dataframe tbody tr th {\n",
       "        vertical-align: top;\n",
       "    }\n",
       "\n",
       "    .dataframe thead th {\n",
       "        text-align: right;\n",
       "    }\n",
       "</style>\n",
       "<table border=\"1\" class=\"dataframe\">\n",
       "  <thead>\n",
       "    <tr style=\"text-align: right;\">\n",
       "      <th></th>\n",
       "      <th>Categories</th>\n",
       "      <th>Borda-Score</th>\n",
       "      <th>STD</th>\n",
       "      <th>Borda-Average</th>\n",
       "      <th>ranking</th>\n",
       "    </tr>\n",
       "  </thead>\n",
       "  <tbody>\n",
       "    <tr>\n",
       "      <th>6</th>\n",
       "      <td>Insulin</td>\n",
       "      <td>491.0</td>\n",
       "      <td>7.169511838333209</td>\n",
       "      <td>4.910</td>\n",
       "      <td>1.5</td>\n",
       "    </tr>\n",
       "    <tr>\n",
       "      <th>5</th>\n",
       "      <td>DR</td>\n",
       "      <td>491.0</td>\n",
       "      <td>10.438481690360907</td>\n",
       "      <td>4.910</td>\n",
       "      <td>1.5</td>\n",
       "    </tr>\n",
       "    <tr>\n",
       "      <th>0</th>\n",
       "      <td>Age</td>\n",
       "      <td>928.0</td>\n",
       "      <td>14.307396688426584</td>\n",
       "      <td>9.280</td>\n",
       "      <td>3.0</td>\n",
       "    </tr>\n",
       "    <tr>\n",
       "      <th>13</th>\n",
       "      <td>BMI</td>\n",
       "      <td>1607.0</td>\n",
       "      <td>13.651560350377535</td>\n",
       "      <td>16.070</td>\n",
       "      <td>4.0</td>\n",
       "    </tr>\n",
       "    <tr>\n",
       "      <th>27</th>\n",
       "      <td>PDBP</td>\n",
       "      <td>1827.0</td>\n",
       "      <td>15.043174531992907</td>\n",
       "      <td>18.270</td>\n",
       "      <td>5.0</td>\n",
       "    </tr>\n",
       "    <tr>\n",
       "      <th>33</th>\n",
       "      <td>CAN</td>\n",
       "      <td>2132.0</td>\n",
       "      <td>14.056229935512581</td>\n",
       "      <td>21.320</td>\n",
       "      <td>6.0</td>\n",
       "    </tr>\n",
       "    <tr>\n",
       "      <th>25</th>\n",
       "      <td>DBP</td>\n",
       "      <td>2216.0</td>\n",
       "      <td>13.662884029369494</td>\n",
       "      <td>22.160</td>\n",
       "      <td>7.0</td>\n",
       "    </tr>\n",
       "    <tr>\n",
       "      <th>30</th>\n",
       "      <td>resting tachycardia</td>\n",
       "      <td>2309.0</td>\n",
       "      <td>11.154456508499193</td>\n",
       "      <td>23.090</td>\n",
       "      <td>8.0</td>\n",
       "    </tr>\n",
       "    <tr>\n",
       "      <th>17</th>\n",
       "      <td>HDL</td>\n",
       "      <td>2338.0</td>\n",
       "      <td>14.453221094275143</td>\n",
       "      <td>23.380</td>\n",
       "      <td>9.0</td>\n",
       "    </tr>\n",
       "    <tr>\n",
       "      <th>28</th>\n",
       "      <td>PHR</td>\n",
       "      <td>2351.0</td>\n",
       "      <td>13.380205529064192</td>\n",
       "      <td>23.510</td>\n",
       "      <td>10.0</td>\n",
       "    </tr>\n",
       "    <tr>\n",
       "      <th>14</th>\n",
       "      <td>FBS</td>\n",
       "      <td>2379.0</td>\n",
       "      <td>13.200981024151195</td>\n",
       "      <td>23.790</td>\n",
       "      <td>11.0</td>\n",
       "    </tr>\n",
       "    <tr>\n",
       "      <th>4</th>\n",
       "      <td>Anti HTN</td>\n",
       "      <td>2428.0</td>\n",
       "      <td>13.082874301926163</td>\n",
       "      <td>24.280</td>\n",
       "      <td>12.0</td>\n",
       "    </tr>\n",
       "    <tr>\n",
       "      <th>11</th>\n",
       "      <td>Meglitinides</td>\n",
       "      <td>2435.5</td>\n",
       "      <td>12.396631598946545</td>\n",
       "      <td>24.355</td>\n",
       "      <td>13.0</td>\n",
       "    </tr>\n",
       "    <tr>\n",
       "      <th>9</th>\n",
       "      <td>DDP-4 inhibitor</td>\n",
       "      <td>2460.0</td>\n",
       "      <td>12.366082645688568</td>\n",
       "      <td>24.600</td>\n",
       "      <td>14.0</td>\n",
       "    </tr>\n",
       "    <tr>\n",
       "      <th>16</th>\n",
       "      <td>TG</td>\n",
       "      <td>2469.0</td>\n",
       "      <td>14.68447819978633</td>\n",
       "      <td>24.690</td>\n",
       "      <td>15.0</td>\n",
       "    </tr>\n",
       "    <tr>\n",
       "      <th>7</th>\n",
       "      <td>Sulfonylurea</td>\n",
       "      <td>2476.0</td>\n",
       "      <td>13.373944818190333</td>\n",
       "      <td>24.760</td>\n",
       "      <td>16.0</td>\n",
       "    </tr>\n",
       "    <tr>\n",
       "      <th>1</th>\n",
       "      <td>Gender</td>\n",
       "      <td>2480.0</td>\n",
       "      <td>12.4787819918452</td>\n",
       "      <td>24.800</td>\n",
       "      <td>17.0</td>\n",
       "    </tr>\n",
       "    <tr>\n",
       "      <th>29</th>\n",
       "      <td>orthostatic hypotension</td>\n",
       "      <td>2509.0</td>\n",
       "      <td>11.413233547071574</td>\n",
       "      <td>25.090</td>\n",
       "      <td>18.0</td>\n",
       "    </tr>\n",
       "    <tr>\n",
       "      <th>18</th>\n",
       "      <td>LDL</td>\n",
       "      <td>2517.0</td>\n",
       "      <td>14.639026606984494</td>\n",
       "      <td>25.170</td>\n",
       "      <td>19.0</td>\n",
       "    </tr>\n",
       "    <tr>\n",
       "      <th>45</th>\n",
       "      <td>Bloating</td>\n",
       "      <td>2519.0</td>\n",
       "      <td>11.983067220040116</td>\n",
       "      <td>25.190</td>\n",
       "      <td>20.0</td>\n",
       "    </tr>\n",
       "    <tr>\n",
       "      <th>34</th>\n",
       "      <td>GCSI score</td>\n",
       "      <td>2526.0</td>\n",
       "      <td>11.974656571275855</td>\n",
       "      <td>25.260</td>\n",
       "      <td>21.0</td>\n",
       "    </tr>\n",
       "    <tr>\n",
       "      <th>21</th>\n",
       "      <td>UACR new</td>\n",
       "      <td>2546.0</td>\n",
       "      <td>13.845880253707238</td>\n",
       "      <td>25.460</td>\n",
       "      <td>22.0</td>\n",
       "    </tr>\n",
       "    <tr>\n",
       "      <th>3</th>\n",
       "      <td>HTN</td>\n",
       "      <td>2566.0</td>\n",
       "      <td>11.159946236429636</td>\n",
       "      <td>25.660</td>\n",
       "      <td>23.0</td>\n",
       "    </tr>\n",
       "    <tr>\n",
       "      <th>39</th>\n",
       "      <td>Retching</td>\n",
       "      <td>2599.0</td>\n",
       "      <td>13.06406904452055</td>\n",
       "      <td>25.990</td>\n",
       "      <td>24.0</td>\n",
       "    </tr>\n",
       "    <tr>\n",
       "      <th>35</th>\n",
       "      <td>GCSI new</td>\n",
       "      <td>2627.0</td>\n",
       "      <td>11.811735689558926</td>\n",
       "      <td>26.270</td>\n",
       "      <td>25.0</td>\n",
       "    </tr>\n",
       "    <tr>\n",
       "      <th>31</th>\n",
       "      <td>QTc</td>\n",
       "      <td>2650.0</td>\n",
       "      <td>13.015759678174762</td>\n",
       "      <td>26.500</td>\n",
       "      <td>26.0</td>\n",
       "    </tr>\n",
       "    <tr>\n",
       "      <th>47</th>\n",
       "      <td>presenceofanysymptom</td>\n",
       "      <td>2663.0</td>\n",
       "      <td>13.681852944685529</td>\n",
       "      <td>26.630</td>\n",
       "      <td>27.0</td>\n",
       "    </tr>\n",
       "    <tr>\n",
       "      <th>43</th>\n",
       "      <td>Excessive fullness after meals</td>\n",
       "      <td>2674.0</td>\n",
       "      <td>12.471262967318106</td>\n",
       "      <td>26.740</td>\n",
       "      <td>28.0</td>\n",
       "    </tr>\n",
       "    <tr>\n",
       "      <th>20</th>\n",
       "      <td>Urine ACR</td>\n",
       "      <td>2676.0</td>\n",
       "      <td>12.83909654142378</td>\n",
       "      <td>26.760</td>\n",
       "      <td>29.0</td>\n",
       "    </tr>\n",
       "    <tr>\n",
       "      <th>12</th>\n",
       "      <td>None</td>\n",
       "      <td>2684.0</td>\n",
       "      <td>13.074188311325488</td>\n",
       "      <td>26.840</td>\n",
       "      <td>30.0</td>\n",
       "    </tr>\n",
       "    <tr>\n",
       "      <th>40</th>\n",
       "      <td>Vomiting</td>\n",
       "      <td>2685.0</td>\n",
       "      <td>12.351012104277123</td>\n",
       "      <td>26.850</td>\n",
       "      <td>31.0</td>\n",
       "    </tr>\n",
       "    <tr>\n",
       "      <th>46</th>\n",
       "      <td>stomach or belly visibly larger</td>\n",
       "      <td>2694.0</td>\n",
       "      <td>12.712843898986566</td>\n",
       "      <td>26.940</td>\n",
       "      <td>32.0</td>\n",
       "    </tr>\n",
       "    <tr>\n",
       "      <th>44</th>\n",
       "      <td>Loss of appetitie</td>\n",
       "      <td>2696.0</td>\n",
       "      <td>12.1251144324497</td>\n",
       "      <td>26.960</td>\n",
       "      <td>33.5</td>\n",
       "    </tr>\n",
       "    <tr>\n",
       "      <th>41</th>\n",
       "      <td>Stomach fullness</td>\n",
       "      <td>2696.0</td>\n",
       "      <td>12.170390297767776</td>\n",
       "      <td>26.960</td>\n",
       "      <td>33.5</td>\n",
       "    </tr>\n",
       "    <tr>\n",
       "      <th>19</th>\n",
       "      <td>HbA1c</td>\n",
       "      <td>2720.0</td>\n",
       "      <td>13.435773144854748</td>\n",
       "      <td>27.200</td>\n",
       "      <td>35.0</td>\n",
       "    </tr>\n",
       "    <tr>\n",
       "      <th>42</th>\n",
       "      <td>Not able to finish a meal</td>\n",
       "      <td>2724.0</td>\n",
       "      <td>12.18533544880895</td>\n",
       "      <td>27.240</td>\n",
       "      <td>36.0</td>\n",
       "    </tr>\n",
       "    <tr>\n",
       "      <th>32</th>\n",
       "      <td>QTc prolonged ?</td>\n",
       "      <td>2731.0</td>\n",
       "      <td>12.60769209649411</td>\n",
       "      <td>27.310</td>\n",
       "      <td>37.0</td>\n",
       "    </tr>\n",
       "    <tr>\n",
       "      <th>24</th>\n",
       "      <td>SBP</td>\n",
       "      <td>2740.0</td>\n",
       "      <td>14.042791745233568</td>\n",
       "      <td>27.400</td>\n",
       "      <td>38.0</td>\n",
       "    </tr>\n",
       "    <tr>\n",
       "      <th>26</th>\n",
       "      <td>PSBP</td>\n",
       "      <td>2770.0</td>\n",
       "      <td>13.245754036671526</td>\n",
       "      <td>27.700</td>\n",
       "      <td>39.0</td>\n",
       "    </tr>\n",
       "    <tr>\n",
       "      <th>23</th>\n",
       "      <td>eGFR MDRD equation</td>\n",
       "      <td>2772.0</td>\n",
       "      <td>12.51325697010974</td>\n",
       "      <td>27.720</td>\n",
       "      <td>40.0</td>\n",
       "    </tr>\n",
       "    <tr>\n",
       "      <th>38</th>\n",
       "      <td>Nausea</td>\n",
       "      <td>2792.0</td>\n",
       "      <td>12.245554295335102</td>\n",
       "      <td>27.920</td>\n",
       "      <td>41.0</td>\n",
       "    </tr>\n",
       "    <tr>\n",
       "      <th>37</th>\n",
       "      <td>GCSI category</td>\n",
       "      <td>2813.0</td>\n",
       "      <td>12.374695955860894</td>\n",
       "      <td>28.130</td>\n",
       "      <td>42.0</td>\n",
       "    </tr>\n",
       "    <tr>\n",
       "      <th>22</th>\n",
       "      <td>Albuminuria</td>\n",
       "      <td>2815.0</td>\n",
       "      <td>13.433074852765467</td>\n",
       "      <td>28.150</td>\n",
       "      <td>43.0</td>\n",
       "    </tr>\n",
       "    <tr>\n",
       "      <th>8</th>\n",
       "      <td>Metformin</td>\n",
       "      <td>2833.0</td>\n",
       "      <td>11.53000867302362</td>\n",
       "      <td>28.330</td>\n",
       "      <td>44.0</td>\n",
       "    </tr>\n",
       "    <tr>\n",
       "      <th>36</th>\n",
       "      <td>GCSI present ?</td>\n",
       "      <td>2850.0</td>\n",
       "      <td>12.150308638055249</td>\n",
       "      <td>28.500</td>\n",
       "      <td>45.0</td>\n",
       "    </tr>\n",
       "    <tr>\n",
       "      <th>10</th>\n",
       "      <td>TZD</td>\n",
       "      <td>2876.5</td>\n",
       "      <td>12.141963391478335</td>\n",
       "      <td>28.765</td>\n",
       "      <td>46.0</td>\n",
       "    </tr>\n",
       "    <tr>\n",
       "      <th>2</th>\n",
       "      <td>Smoking</td>\n",
       "      <td>2900.0</td>\n",
       "      <td>12.410479442793498</td>\n",
       "      <td>29.000</td>\n",
       "      <td>47.0</td>\n",
       "    </tr>\n",
       "    <tr>\n",
       "      <th>15</th>\n",
       "      <td>TC</td>\n",
       "      <td>2919.0</td>\n",
       "      <td>13.02282227476057</td>\n",
       "      <td>29.190</td>\n",
       "      <td>48.0</td>\n",
       "    </tr>\n",
       "  </tbody>\n",
       "</table>\n",
       "</div>"
      ],
      "text/plain": [
       "                          Categories  Borda-Score                 STD  \\\n",
       "6                            Insulin        491.0   7.169511838333209   \n",
       "5                                 DR        491.0  10.438481690360907   \n",
       "0                                Age        928.0  14.307396688426584   \n",
       "13                               BMI       1607.0  13.651560350377535   \n",
       "27                              PDBP       1827.0  15.043174531992907   \n",
       "33                               CAN       2132.0  14.056229935512581   \n",
       "25                               DBP       2216.0  13.662884029369494   \n",
       "30               resting tachycardia       2309.0  11.154456508499193   \n",
       "17                               HDL       2338.0  14.453221094275143   \n",
       "28                               PHR       2351.0  13.380205529064192   \n",
       "14                               FBS       2379.0  13.200981024151195   \n",
       "4                           Anti HTN       2428.0  13.082874301926163   \n",
       "11                      Meglitinides       2435.5  12.396631598946545   \n",
       "9                    DDP-4 inhibitor       2460.0  12.366082645688568   \n",
       "16                                TG       2469.0   14.68447819978633   \n",
       "7                       Sulfonylurea       2476.0  13.373944818190333   \n",
       "1                             Gender       2480.0    12.4787819918452   \n",
       "29           orthostatic hypotension       2509.0  11.413233547071574   \n",
       "18                               LDL       2517.0  14.639026606984494   \n",
       "45                         Bloating        2519.0  11.983067220040116   \n",
       "34                        GCSI score       2526.0  11.974656571275855   \n",
       "21                         UACR new        2546.0  13.845880253707238   \n",
       "3                                HTN       2566.0  11.159946236429636   \n",
       "39                         Retching        2599.0   13.06406904452055   \n",
       "35                          GCSI new       2627.0  11.811735689558926   \n",
       "31                               QTc       2650.0  13.015759678174762   \n",
       "47              presenceofanysymptom       2663.0  13.681852944685529   \n",
       "43    Excessive fullness after meals       2674.0  12.471262967318106   \n",
       "20                         Urine ACR       2676.0   12.83909654142378   \n",
       "12                              None       2684.0  13.074188311325488   \n",
       "40                         Vomiting        2685.0  12.351012104277123   \n",
       "46  stomach or belly visibly larger        2694.0  12.712843898986566   \n",
       "44                 Loss of appetitie       2696.0    12.1251144324497   \n",
       "41                 Stomach fullness        2696.0  12.170390297767776   \n",
       "19                             HbA1c       2720.0  13.435773144854748   \n",
       "42         Not able to finish a meal       2724.0   12.18533544880895   \n",
       "32                  QTc prolonged ?        2731.0   12.60769209649411   \n",
       "24                               SBP       2740.0  14.042791745233568   \n",
       "26                              PSBP       2770.0  13.245754036671526   \n",
       "23                eGFR MDRD equation       2772.0   12.51325697010974   \n",
       "38                           Nausea        2792.0  12.245554295335102   \n",
       "37                     GCSI category       2813.0  12.374695955860894   \n",
       "22                       Albuminuria       2815.0  13.433074852765467   \n",
       "8                          Metformin       2833.0   11.53000867302362   \n",
       "36                    GCSI present ?       2850.0  12.150308638055249   \n",
       "10                               TZD       2876.5  12.141963391478335   \n",
       "2                            Smoking       2900.0  12.410479442793498   \n",
       "15                                TC       2919.0   13.02282227476057   \n",
       "\n",
       "    Borda-Average  ranking  \n",
       "6           4.910      1.5  \n",
       "5           4.910      1.5  \n",
       "0           9.280      3.0  \n",
       "13         16.070      4.0  \n",
       "27         18.270      5.0  \n",
       "33         21.320      6.0  \n",
       "25         22.160      7.0  \n",
       "30         23.090      8.0  \n",
       "17         23.380      9.0  \n",
       "28         23.510     10.0  \n",
       "14         23.790     11.0  \n",
       "4          24.280     12.0  \n",
       "11         24.355     13.0  \n",
       "9          24.600     14.0  \n",
       "16         24.690     15.0  \n",
       "7          24.760     16.0  \n",
       "1          24.800     17.0  \n",
       "29         25.090     18.0  \n",
       "18         25.170     19.0  \n",
       "45         25.190     20.0  \n",
       "34         25.260     21.0  \n",
       "21         25.460     22.0  \n",
       "3          25.660     23.0  \n",
       "39         25.990     24.0  \n",
       "35         26.270     25.0  \n",
       "31         26.500     26.0  \n",
       "47         26.630     27.0  \n",
       "43         26.740     28.0  \n",
       "20         26.760     29.0  \n",
       "12         26.840     30.0  \n",
       "40         26.850     31.0  \n",
       "46         26.940     32.0  \n",
       "44         26.960     33.5  \n",
       "41         26.960     33.5  \n",
       "19         27.200     35.0  \n",
       "42         27.240     36.0  \n",
       "32         27.310     37.0  \n",
       "24         27.400     38.0  \n",
       "26         27.700     39.0  \n",
       "23         27.720     40.0  \n",
       "38         27.920     41.0  \n",
       "37         28.130     42.0  \n",
       "22         28.150     43.0  \n",
       "8          28.330     44.0  \n",
       "36         28.500     45.0  \n",
       "10         28.765     46.0  \n",
       "2          29.000     47.0  \n",
       "15         29.190     48.0  "
      ]
     },
     "execution_count": 64,
     "metadata": {},
     "output_type": "execute_result"
    }
   ],
   "source": [
    "rank = ranking.ranking_borda()\n",
    "rank"
   ]
  },
  {
   "cell_type": "code",
   "execution_count": null,
   "metadata": {},
   "outputs": [],
   "source": []
  }
 ],
 "metadata": {
  "kernelspec": {
   "display_name": "Python 3",
   "language": "python",
   "name": "python3"
  },
  "language_info": {
   "codemirror_mode": {
    "name": "ipython",
    "version": 3
   },
   "file_extension": ".py",
   "mimetype": "text/x-python",
   "name": "python",
   "nbconvert_exporter": "python",
   "pygments_lexer": "ipython3",
   "version": "3.5.6"
  }
 },
 "nbformat": 4,
 "nbformat_minor": 4
}
