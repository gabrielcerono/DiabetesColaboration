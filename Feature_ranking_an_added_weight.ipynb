{
 "cells": [
  {
   "cell_type": "code",
   "execution_count": 1,
   "metadata": {
    "id": "I8kAUwN8iWXd"
   },
   "outputs": [],
   "source": [
    "import pandas as pd\n",
    "import matplotlib.pyplot as plt\n",
    "import numpy as np\n",
    "import sklearn as sk\n",
    "from sklearn.ensemble import RandomForestRegressor\n",
    "from random import randint"
   ]
  },
  {
   "cell_type": "code",
   "execution_count": 2,
   "metadata": {},
   "outputs": [],
   "source": [
    "import xlrd"
   ]
  },
  {
   "cell_type": "code",
   "execution_count": 3,
   "metadata": {
    "id": "WOtaOR_Milkj"
   },
   "outputs": [],
   "source": [
    "data = pd.read_excel('pone.0216416.s003.xlsx')"
   ]
  },
  {
   "cell_type": "code",
   "execution_count": 4,
   "metadata": {
    "id": "e7BFEqbsinb9"
   },
   "outputs": [],
   "source": [
    "data = data.drop(['no'], axis=1)"
   ]
  },
  {
   "cell_type": "markdown",
   "metadata": {
    "id": "Am4Z2mZebJvB"
   },
   "source": [
    "Filling missing values"
   ]
  },
  {
   "cell_type": "code",
   "execution_count": 5,
   "metadata": {
    "id": "ta76BgZBivhE"
   },
   "outputs": [],
   "source": [
    "from sklearn.experimental import enable_iterative_imputer\n",
    "from sklearn.impute import IterativeImputer"
   ]
  },
  {
   "cell_type": "code",
   "execution_count": 6,
   "metadata": {
    "id": "eJg876UxixaJ"
   },
   "outputs": [],
   "source": [
    "iterative_imp = IterativeImputer()"
   ]
  },
  {
   "cell_type": "code",
   "execution_count": 7,
   "metadata": {
    "colab": {
     "base_uri": "https://localhost:8080/"
    },
    "id": "QmEyZygUiy_n",
    "outputId": "0769d9cc-deb3-40bd-e08f-2db2f876ebee"
   },
   "outputs": [
    {
     "data": {
      "text/plain": [
       "IterativeImputer(add_indicator=False, estimator=None,\n",
       "                 imputation_order='ascending', initial_strategy='mean',\n",
       "                 max_iter=10, max_value=None, min_value=None,\n",
       "                 missing_values=nan, n_nearest_features=None, random_state=None,\n",
       "                 sample_posterior=False, skip_complete=False, tol=0.001,\n",
       "                 verbose=0)"
      ]
     },
     "execution_count": 7,
     "metadata": {},
     "output_type": "execute_result"
    }
   ],
   "source": [
    "iterative_imp.fit(data)"
   ]
  },
  {
   "cell_type": "code",
   "execution_count": 8,
   "metadata": {
    "id": "WBkevIz8iz1n"
   },
   "outputs": [],
   "source": [
    "data1 = iterative_imp.fit_transform(data)"
   ]
  },
  {
   "cell_type": "code",
   "execution_count": 9,
   "metadata": {
    "id": "NdP2Q7Ini3Zv"
   },
   "outputs": [],
   "source": [
    "data1 = pd.DataFrame(data=data1, columns= data.columns,)"
   ]
  },
  {
   "cell_type": "code",
   "execution_count": 10,
   "metadata": {
    "id": "UxUBLAhmi4SK"
   },
   "outputs": [],
   "source": [
    "data1.columns = ['sex', 'age', 'duration_of_diabetes', 'BMI',\n",
    "       'insulin_regimen', 'TDD', 'TDD/kg', 'basal', 'basal/kg',\n",
    "       'bolus', 'bolus/kg', 'HbA1c', 'eGFR', 'bodyfat', 'adiponectin',\n",
    "       'free-test', 'SMI', 'grip_strength', 'knee_extension_strength',\n",
    "       'gait_speed', 'ucOC', 'OC']"
   ]
  },
  {
   "cell_type": "markdown",
   "metadata": {
    "id": "WhJF6F-ejfC6"
   },
   "source": [
    "# ADDED_WEIGHT\n"
   ]
  },
  {
   "cell_type": "code",
   "execution_count": 11,
   "metadata": {
    "id": "q-SDIkTWk-0B"
   },
   "outputs": [],
   "source": [
    "data1['TDDkg'] = data1['TDD/kg']"
   ]
  },
  {
   "cell_type": "code",
   "execution_count": 12,
   "metadata": {
    "id": "hIU7mfVikGLR"
   },
   "outputs": [],
   "source": [
    "data1['ADDED_WEIGHT'] = data1.TDD / data1.TDDkg"
   ]
  },
  {
   "cell_type": "code",
   "execution_count": 13,
   "metadata": {
    "id": "nnhd4YXE4cYx"
   },
   "outputs": [],
   "source": [
    "data1 = data1.drop(['basal/kg', 'bolus/kg', 'TDD/kg', 'TDDkg'], axis = 1)"
   ]
  },
  {
   "cell_type": "markdown",
   "metadata": {
    "id": "4fdI409NjR8-"
   },
   "source": [
    "# Feature Ranking\n"
   ]
  },
  {
   "cell_type": "code",
   "execution_count": 14,
   "metadata": {
    "id": "e_T_YXoCjVYJ"
   },
   "outputs": [],
   "source": [
    "from sklearn.model_selection import train_test_split"
   ]
  },
  {
   "cell_type": "code",
   "execution_count": 15,
   "metadata": {
    "id": "p8XhodhLjXGb"
   },
   "outputs": [],
   "source": [
    "X = data1.drop('duration_of_diabetes', axis = 1)\n",
    "y = data1['duration_of_diabetes']"
   ]
  },
  {
   "cell_type": "code",
   "execution_count": 16,
   "metadata": {
    "id": "0MsotKtEmsjZ"
   },
   "outputs": [],
   "source": [
    "X, X_test, y, y_test = train_test_split(X, y, test_size=0.30, random_state= 42)"
   ]
  },
  {
   "cell_type": "code",
   "execution_count": 17,
   "metadata": {
    "id": "XMRhR5e0MpL1"
   },
   "outputs": [],
   "source": [
    "import gabrielrfe as rfe"
   ]
  },
  {
   "cell_type": "code",
   "execution_count": 18,
   "metadata": {
    "id": "IH9iSKacl6xF"
   },
   "outputs": [],
   "source": [
    "ranking = rfe.RankingRE(X, y, 1000)"
   ]
  },
  {
   "cell_type": "code",
   "execution_count": 19,
   "metadata": {},
   "outputs": [],
   "source": [
    "rank = ranking.ranking_borda()"
   ]
  },
  {
   "cell_type": "code",
   "execution_count": 35,
   "metadata": {},
   "outputs": [],
   "source": [
    "rank['Borda-Score'] = pd.to_numeric(rank['Borda-Score'])"
   ]
  },
  {
   "cell_type": "code",
   "execution_count": 41,
   "metadata": {},
   "outputs": [],
   "source": [
    "rank['ranking'] = rank['Borda-Score'].rank(ascending = True)\n",
    "rank.sort_values(by='Borda-Score', inplace = True)"
   ]
  },
  {
   "cell_type": "code",
   "execution_count": 42,
   "metadata": {},
   "outputs": [
    {
     "data": {
      "text/html": [
       "<div>\n",
       "<style scoped>\n",
       "    .dataframe tbody tr th:only-of-type {\n",
       "        vertical-align: middle;\n",
       "    }\n",
       "\n",
       "    .dataframe tbody tr th {\n",
       "        vertical-align: top;\n",
       "    }\n",
       "\n",
       "    .dataframe thead th {\n",
       "        text-align: right;\n",
       "    }\n",
       "</style>\n",
       "<table border=\"1\" class=\"dataframe\">\n",
       "  <thead>\n",
       "    <tr style=\"text-align: right;\">\n",
       "      <th></th>\n",
       "      <th>Categories</th>\n",
       "      <th>Borda-Score</th>\n",
       "      <th>ranking</th>\n",
       "    </tr>\n",
       "  </thead>\n",
       "  <tbody>\n",
       "    <tr>\n",
       "      <th>1</th>\n",
       "      <td>age</td>\n",
       "      <td>1250.0</td>\n",
       "      <td>1.0</td>\n",
       "    </tr>\n",
       "    <tr>\n",
       "      <th>6</th>\n",
       "      <td>bolus</td>\n",
       "      <td>7499.0</td>\n",
       "      <td>2.0</td>\n",
       "    </tr>\n",
       "    <tr>\n",
       "      <th>15</th>\n",
       "      <td>gait_speed</td>\n",
       "      <td>7521.0</td>\n",
       "      <td>3.0</td>\n",
       "    </tr>\n",
       "    <tr>\n",
       "      <th>8</th>\n",
       "      <td>eGFR</td>\n",
       "      <td>8773.0</td>\n",
       "      <td>4.0</td>\n",
       "    </tr>\n",
       "    <tr>\n",
       "      <th>4</th>\n",
       "      <td>TDD</td>\n",
       "      <td>9455.0</td>\n",
       "      <td>5.0</td>\n",
       "    </tr>\n",
       "    <tr>\n",
       "      <th>2</th>\n",
       "      <td>BMI</td>\n",
       "      <td>10272.0</td>\n",
       "      <td>6.0</td>\n",
       "    </tr>\n",
       "    <tr>\n",
       "      <th>13</th>\n",
       "      <td>grip_strength</td>\n",
       "      <td>10702.0</td>\n",
       "      <td>7.0</td>\n",
       "    </tr>\n",
       "    <tr>\n",
       "      <th>0</th>\n",
       "      <td>sex</td>\n",
       "      <td>10832.0</td>\n",
       "      <td>8.0</td>\n",
       "    </tr>\n",
       "    <tr>\n",
       "      <th>5</th>\n",
       "      <td>basal</td>\n",
       "      <td>10914.0</td>\n",
       "      <td>9.0</td>\n",
       "    </tr>\n",
       "    <tr>\n",
       "      <th>10</th>\n",
       "      <td>adiponectin</td>\n",
       "      <td>10982.0</td>\n",
       "      <td>10.0</td>\n",
       "    </tr>\n",
       "    <tr>\n",
       "      <th>9</th>\n",
       "      <td>bodyfat</td>\n",
       "      <td>11059.0</td>\n",
       "      <td>11.0</td>\n",
       "    </tr>\n",
       "    <tr>\n",
       "      <th>14</th>\n",
       "      <td>knee_extension_strength</td>\n",
       "      <td>11184.0</td>\n",
       "      <td>12.0</td>\n",
       "    </tr>\n",
       "    <tr>\n",
       "      <th>16</th>\n",
       "      <td>ucOC</td>\n",
       "      <td>11240.0</td>\n",
       "      <td>13.0</td>\n",
       "    </tr>\n",
       "    <tr>\n",
       "      <th>11</th>\n",
       "      <td>free-test</td>\n",
       "      <td>11252.0</td>\n",
       "      <td>14.0</td>\n",
       "    </tr>\n",
       "    <tr>\n",
       "      <th>7</th>\n",
       "      <td>HbA1c</td>\n",
       "      <td>11306.0</td>\n",
       "      <td>15.0</td>\n",
       "    </tr>\n",
       "    <tr>\n",
       "      <th>3</th>\n",
       "      <td>insulin_regimen</td>\n",
       "      <td>11311.0</td>\n",
       "      <td>16.0</td>\n",
       "    </tr>\n",
       "    <tr>\n",
       "      <th>17</th>\n",
       "      <td>OC</td>\n",
       "      <td>11335.0</td>\n",
       "      <td>17.0</td>\n",
       "    </tr>\n",
       "    <tr>\n",
       "      <th>18</th>\n",
       "      <td>ADDED_WEIGHT</td>\n",
       "      <td>11446.0</td>\n",
       "      <td>18.0</td>\n",
       "    </tr>\n",
       "    <tr>\n",
       "      <th>12</th>\n",
       "      <td>SMI</td>\n",
       "      <td>11667.0</td>\n",
       "      <td>19.0</td>\n",
       "    </tr>\n",
       "  </tbody>\n",
       "</table>\n",
       "</div>"
      ],
      "text/plain": [
       "                 Categories  Borda-Score  ranking\n",
       "1                       age       1250.0      1.0\n",
       "6                     bolus       7499.0      2.0\n",
       "15               gait_speed       7521.0      3.0\n",
       "8                      eGFR       8773.0      4.0\n",
       "4                       TDD       9455.0      5.0\n",
       "2                       BMI      10272.0      6.0\n",
       "13            grip_strength      10702.0      7.0\n",
       "0                       sex      10832.0      8.0\n",
       "5                     basal      10914.0      9.0\n",
       "10              adiponectin      10982.0     10.0\n",
       "9                   bodyfat      11059.0     11.0\n",
       "14  knee_extension_strength      11184.0     12.0\n",
       "16                     ucOC      11240.0     13.0\n",
       "11                free-test      11252.0     14.0\n",
       "7                     HbA1c      11306.0     15.0\n",
       "3           insulin_regimen      11311.0     16.0\n",
       "17                       OC      11335.0     17.0\n",
       "18             ADDED_WEIGHT      11446.0     18.0\n",
       "12                      SMI      11667.0     19.0"
      ]
     },
     "execution_count": 42,
     "metadata": {},
     "output_type": "execute_result"
    }
   ],
   "source": [
    "rank"
   ]
  },
  {
   "cell_type": "code",
   "execution_count": null,
   "metadata": {},
   "outputs": [],
   "source": []
  }
 ],
 "metadata": {
  "colab": {
   "collapsed_sections": [],
   "name": "Feature ranking an added weight.ipynb",
   "provenance": []
  },
  "kernelspec": {
   "display_name": "Python 3",
   "language": "python",
   "name": "python3"
  },
  "language_info": {
   "codemirror_mode": {
    "name": "ipython",
    "version": 3
   },
   "file_extension": ".py",
   "mimetype": "text/x-python",
   "name": "python",
   "nbconvert_exporter": "python",
   "pygments_lexer": "ipython3",
   "version": "3.5.5"
  }
 },
 "nbformat": 4,
 "nbformat_minor": 1
}
