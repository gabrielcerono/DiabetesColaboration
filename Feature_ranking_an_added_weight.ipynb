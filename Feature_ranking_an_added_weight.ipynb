{
  "nbformat": 4,
  "nbformat_minor": 0,
  "metadata": {
    "colab": {
      "name": "Feature ranking an added weight.ipynb",
      "provenance": [],
      "collapsed_sections": [],
      "authorship_tag": "ABX9TyM+YQOc1THUD2fTs041ZRRA",
      "include_colab_link": true
    },
    "kernelspec": {
      "name": "python3",
      "display_name": "Python 3"
    }
  },
  "cells": [
    {
      "cell_type": "markdown",
      "metadata": {
        "id": "view-in-github",
        "colab_type": "text"
      },
      "source": [
        "<a href=\"https://colab.research.google.com/github/gabrielcerono/DiabetesColaboration/blob/main/Feature_ranking_an_added_weight.ipynb\" target=\"_parent\"><img src=\"https://colab.research.google.com/assets/colab-badge.svg\" alt=\"Open In Colab\"/></a>"
      ]
    },
    {
      "cell_type": "code",
      "metadata": {
        "id": "I8kAUwN8iWXd"
      },
      "source": [
        "import pandas as pd\r\n",
        "import matplotlib.pyplot as plt\r\n",
        "import numpy as np\r\n",
        "import sklearn as sk\r\n",
        "from sklearn.ensemble import RandomForestRegressor\r\n",
        "from random import randint"
      ],
      "execution_count": 1,
      "outputs": []
    },
    {
      "cell_type": "code",
      "metadata": {
        "id": "WOtaOR_Milkj"
      },
      "source": [
        "data = pd.read_excel('/content/pone.0216416.s003.xlsx')"
      ],
      "execution_count": 2,
      "outputs": []
    },
    {
      "cell_type": "code",
      "metadata": {
        "id": "e7BFEqbsinb9"
      },
      "source": [
        "data = data.drop(['no'], axis=1)"
      ],
      "execution_count": 3,
      "outputs": []
    },
    {
      "cell_type": "markdown",
      "metadata": {
        "id": "Am4Z2mZebJvB"
      },
      "source": [
        "Filling missing values"
      ]
    },
    {
      "cell_type": "code",
      "metadata": {
        "id": "ta76BgZBivhE"
      },
      "source": [
        "from sklearn.experimental import enable_iterative_imputer\r\n",
        "from sklearn.impute import IterativeImputer"
      ],
      "execution_count": 4,
      "outputs": []
    },
    {
      "cell_type": "code",
      "metadata": {
        "id": "eJg876UxixaJ"
      },
      "source": [
        "iterative_imp = IterativeImputer()"
      ],
      "execution_count": 5,
      "outputs": []
    },
    {
      "cell_type": "code",
      "metadata": {
        "colab": {
          "base_uri": "https://localhost:8080/"
        },
        "id": "QmEyZygUiy_n",
        "outputId": "b82f11a6-a153-42d0-ade3-0fd71ed97739"
      },
      "source": [
        "iterative_imp.fit(data)"
      ],
      "execution_count": 6,
      "outputs": [
        {
          "output_type": "execute_result",
          "data": {
            "text/plain": [
              "IterativeImputer(add_indicator=False, estimator=None,\n",
              "                 imputation_order='ascending', initial_strategy='mean',\n",
              "                 max_iter=10, max_value=None, min_value=None,\n",
              "                 missing_values=nan, n_nearest_features=None, random_state=None,\n",
              "                 sample_posterior=False, skip_complete=False, tol=0.001,\n",
              "                 verbose=0)"
            ]
          },
          "metadata": {
            "tags": []
          },
          "execution_count": 6
        }
      ]
    },
    {
      "cell_type": "code",
      "metadata": {
        "id": "WBkevIz8iz1n"
      },
      "source": [
        "data1 = iterative_imp.fit_transform(data)"
      ],
      "execution_count": 7,
      "outputs": []
    },
    {
      "cell_type": "code",
      "metadata": {
        "id": "NdP2Q7Ini3Zv"
      },
      "source": [
        "data1 = pd.DataFrame(data=data1, columns= data.columns,)"
      ],
      "execution_count": 8,
      "outputs": []
    },
    {
      "cell_type": "code",
      "metadata": {
        "id": "UxUBLAhmi4SK"
      },
      "source": [
        "data1.columns = ['sex', 'age', 'duration_of_diabetes', 'BMI',\r\n",
        "       'insulin_regimen', 'TDD', 'TDD/kg', 'basal', 'basal/kg',\r\n",
        "       'bolus', 'bolus/kg', 'HbA1c', 'eGFR', 'bodyfat', 'adiponectin',\r\n",
        "       'free-test', 'SMI', 'grip_strength', 'knee_extension_strength',\r\n",
        "       'gait_speed', 'ucOC', 'OC']"
      ],
      "execution_count": 9,
      "outputs": []
    },
    {
      "cell_type": "markdown",
      "metadata": {
        "id": "WhJF6F-ejfC6"
      },
      "source": [
        "# ADDED_WEIGHT\r\n"
      ]
    },
    {
      "cell_type": "code",
      "metadata": {
        "id": "q-SDIkTWk-0B"
      },
      "source": [
        "data1['TDDkg'] = data1['TDD/kg']"
      ],
      "execution_count": 10,
      "outputs": []
    },
    {
      "cell_type": "code",
      "metadata": {
        "id": "hIU7mfVikGLR"
      },
      "source": [
        "data1['ADDED_WEIGHT'] = data1.TDD / data1.TDDkg"
      ],
      "execution_count": 11,
      "outputs": []
    },
    {
      "cell_type": "code",
      "metadata": {
        "id": "nnhd4YXE4cYx"
      },
      "source": [
        "data1 = data1.drop(['basal/kg', 'bolus/kg', 'TDD/kg', 'TDDkg'], axis = 1)"
      ],
      "execution_count": 12,
      "outputs": []
    },
    {
      "cell_type": "markdown",
      "metadata": {
        "id": "4fdI409NjR8-"
      },
      "source": [
        "# Feature Ranking\r\n"
      ]
    },
    {
      "cell_type": "code",
      "metadata": {
        "id": "e_T_YXoCjVYJ"
      },
      "source": [
        "from sklearn.model_selection import train_test_split"
      ],
      "execution_count": 13,
      "outputs": []
    },
    {
      "cell_type": "code",
      "metadata": {
        "id": "p8XhodhLjXGb"
      },
      "source": [
        "X = data1.drop('duration_of_diabetes', axis = 1)\r\n",
        "y = data1['duration_of_diabetes']"
      ],
      "execution_count": 14,
      "outputs": []
    },
    {
      "cell_type": "code",
      "metadata": {
        "id": "0MsotKtEmsjZ"
      },
      "source": [
        "X, X_test, y, y_test = train_test_split(X, y, test_size=0.30, random_state= 42)"
      ],
      "execution_count": 15,
      "outputs": []
    },
    {
      "cell_type": "code",
      "metadata": {
        "id": "XMRhR5e0MpL1"
      },
      "source": [
        "import gabrielrfe as rfe"
      ],
      "execution_count": 16,
      "outputs": []
    },
    {
      "cell_type": "code",
      "metadata": {
        "id": "IH9iSKacl6xF"
      },
      "source": [
        "ranking = rfe.RankingRE(X, y, 100)"
      ],
      "execution_count": 19,
      "outputs": []
    },
    {
      "cell_type": "code",
      "metadata": {
        "colab": {
          "base_uri": "https://localhost:8080/",
          "height": 623
        },
        "id": "TghsSiS1mD2u",
        "outputId": "49b5c74f-24e8-425c-e6c3-b7f5ba08ae1f"
      },
      "source": [
        "ranking.rankingborda()"
      ],
      "execution_count": 20,
      "outputs": [
        {
          "output_type": "execute_result",
          "data": {
            "text/html": [
              "<div>\n",
              "<style scoped>\n",
              "    .dataframe tbody tr th:only-of-type {\n",
              "        vertical-align: middle;\n",
              "    }\n",
              "\n",
              "    .dataframe tbody tr th {\n",
              "        vertical-align: top;\n",
              "    }\n",
              "\n",
              "    .dataframe thead th {\n",
              "        text-align: right;\n",
              "    }\n",
              "</style>\n",
              "<table border=\"1\" class=\"dataframe\">\n",
              "  <thead>\n",
              "    <tr style=\"text-align: right;\">\n",
              "      <th></th>\n",
              "      <th>Categories</th>\n",
              "      <th>Borda-Score</th>\n",
              "    </tr>\n",
              "  </thead>\n",
              "  <tbody>\n",
              "    <tr>\n",
              "      <th>0</th>\n",
              "      <td>sex</td>\n",
              "      <td>1007.0</td>\n",
              "    </tr>\n",
              "    <tr>\n",
              "      <th>1</th>\n",
              "      <td>age</td>\n",
              "      <td>105.0</td>\n",
              "    </tr>\n",
              "    <tr>\n",
              "      <th>2</th>\n",
              "      <td>BMI</td>\n",
              "      <td>947.0</td>\n",
              "    </tr>\n",
              "    <tr>\n",
              "      <th>3</th>\n",
              "      <td>insulin_regimen</td>\n",
              "      <td>1187.0</td>\n",
              "    </tr>\n",
              "    <tr>\n",
              "      <th>4</th>\n",
              "      <td>TDD</td>\n",
              "      <td>970.0</td>\n",
              "    </tr>\n",
              "    <tr>\n",
              "      <th>5</th>\n",
              "      <td>basal</td>\n",
              "      <td>1088.0</td>\n",
              "    </tr>\n",
              "    <tr>\n",
              "      <th>6</th>\n",
              "      <td>bolus</td>\n",
              "      <td>723.0</td>\n",
              "    </tr>\n",
              "    <tr>\n",
              "      <th>7</th>\n",
              "      <td>HbA1c</td>\n",
              "      <td>1117.0</td>\n",
              "    </tr>\n",
              "    <tr>\n",
              "      <th>8</th>\n",
              "      <td>eGFR</td>\n",
              "      <td>909.0</td>\n",
              "    </tr>\n",
              "    <tr>\n",
              "      <th>9</th>\n",
              "      <td>bodyfat</td>\n",
              "      <td>1250.0</td>\n",
              "    </tr>\n",
              "    <tr>\n",
              "      <th>10</th>\n",
              "      <td>adiponectin</td>\n",
              "      <td>1083.0</td>\n",
              "    </tr>\n",
              "    <tr>\n",
              "      <th>11</th>\n",
              "      <td>free-test</td>\n",
              "      <td>1180.0</td>\n",
              "    </tr>\n",
              "    <tr>\n",
              "      <th>12</th>\n",
              "      <td>SMI</td>\n",
              "      <td>1115.0</td>\n",
              "    </tr>\n",
              "    <tr>\n",
              "      <th>13</th>\n",
              "      <td>grip_strength</td>\n",
              "      <td>1047.0</td>\n",
              "    </tr>\n",
              "    <tr>\n",
              "      <th>14</th>\n",
              "      <td>knee_extension_strength</td>\n",
              "      <td>1156.0</td>\n",
              "    </tr>\n",
              "    <tr>\n",
              "      <th>15</th>\n",
              "      <td>gait_speed</td>\n",
              "      <td>718.0</td>\n",
              "    </tr>\n",
              "    <tr>\n",
              "      <th>16</th>\n",
              "      <td>ucOC</td>\n",
              "      <td>1103.0</td>\n",
              "    </tr>\n",
              "    <tr>\n",
              "      <th>17</th>\n",
              "      <td>OC</td>\n",
              "      <td>1164.0</td>\n",
              "    </tr>\n",
              "    <tr>\n",
              "      <th>18</th>\n",
              "      <td>ADDED_WEIGHT</td>\n",
              "      <td>1131.0</td>\n",
              "    </tr>\n",
              "  </tbody>\n",
              "</table>\n",
              "</div>"
            ],
            "text/plain": [
              "                 Categories Borda-Score\n",
              "0                       sex      1007.0\n",
              "1                       age       105.0\n",
              "2                       BMI       947.0\n",
              "3           insulin_regimen      1187.0\n",
              "4                       TDD       970.0\n",
              "5                     basal      1088.0\n",
              "6                     bolus       723.0\n",
              "7                     HbA1c      1117.0\n",
              "8                      eGFR       909.0\n",
              "9                   bodyfat      1250.0\n",
              "10              adiponectin      1083.0\n",
              "11                free-test      1180.0\n",
              "12                      SMI      1115.0\n",
              "13            grip_strength      1047.0\n",
              "14  knee_extension_strength      1156.0\n",
              "15               gait_speed       718.0\n",
              "16                     ucOC      1103.0\n",
              "17                       OC      1164.0\n",
              "18             ADDED_WEIGHT      1131.0"
            ]
          },
          "metadata": {
            "tags": []
          },
          "execution_count": 20
        }
      ]
    }
  ]
}