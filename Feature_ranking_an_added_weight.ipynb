{
 "cells": [
  {
   "cell_type": "code",
   "execution_count": 1,
   "metadata": {
    "id": "I8kAUwN8iWXd"
   },
   "outputs": [],
   "source": [
    "import pandas as pd\n",
    "import matplotlib.pyplot as plt\n",
    "import numpy as np\n",
    "import sklearn as sk\n",
    "from sklearn.ensemble import RandomForestRegressor\n",
    "from random import randint"
   ]
  },
  {
   "cell_type": "code",
   "execution_count": 2,
   "metadata": {},
   "outputs": [],
   "source": [
    "import xlrd"
   ]
  },
  {
   "cell_type": "code",
   "execution_count": 3,
   "metadata": {
    "id": "WOtaOR_Milkj"
   },
   "outputs": [],
   "source": [
    "data = pd.read_excel('pone.0216416.s003.xlsx')"
   ]
  },
  {
   "cell_type": "code",
   "execution_count": 4,
   "metadata": {
    "id": "e7BFEqbsinb9"
   },
   "outputs": [],
   "source": [
    "data = data.drop(['no'], axis=1)"
   ]
  },
  {
   "cell_type": "markdown",
   "metadata": {
    "id": "Am4Z2mZebJvB"
   },
   "source": [
    "Filling missing values"
   ]
  },
  {
   "cell_type": "code",
   "execution_count": 5,
   "metadata": {
    "id": "ta76BgZBivhE"
   },
   "outputs": [],
   "source": [
    "from sklearn.experimental import enable_iterative_imputer\n",
    "from sklearn.impute import IterativeImputer"
   ]
  },
  {
   "cell_type": "code",
   "execution_count": 6,
   "metadata": {
    "id": "eJg876UxixaJ"
   },
   "outputs": [],
   "source": [
    "iterative_imp = IterativeImputer()"
   ]
  },
  {
   "cell_type": "code",
   "execution_count": 7,
   "metadata": {
    "colab": {
     "base_uri": "https://localhost:8080/"
    },
    "id": "QmEyZygUiy_n",
    "outputId": "0769d9cc-deb3-40bd-e08f-2db2f876ebee"
   },
   "outputs": [
    {
     "data": {
      "text/plain": [
       "IterativeImputer(add_indicator=False, estimator=None,\n",
       "                 imputation_order='ascending', initial_strategy='mean',\n",
       "                 max_iter=10, max_value=None, min_value=None,\n",
       "                 missing_values=nan, n_nearest_features=None, random_state=None,\n",
       "                 sample_posterior=False, skip_complete=False, tol=0.001,\n",
       "                 verbose=0)"
      ]
     },
     "execution_count": 7,
     "metadata": {},
     "output_type": "execute_result"
    }
   ],
   "source": [
    "iterative_imp.fit(data)"
   ]
  },
  {
   "cell_type": "code",
   "execution_count": 8,
   "metadata": {
    "id": "WBkevIz8iz1n"
   },
   "outputs": [],
   "source": [
    "data1 = iterative_imp.fit_transform(data)"
   ]
  },
  {
   "cell_type": "code",
   "execution_count": 9,
   "metadata": {
    "id": "NdP2Q7Ini3Zv"
   },
   "outputs": [],
   "source": [
    "data1 = pd.DataFrame(data=data1, columns= data.columns,)"
   ]
  },
  {
   "cell_type": "code",
   "execution_count": 10,
   "metadata": {
    "id": "UxUBLAhmi4SK"
   },
   "outputs": [],
   "source": [
    "data1.columns = ['sex', 'age', 'duration_of_diabetes', 'BMI',\n",
    "       'insulin_regimen', 'TDD', 'TDD/kg', 'basal', 'basal/kg',\n",
    "       'bolus', 'bolus/kg', 'HbA1c', 'eGFR', 'bodyfat', 'adiponectin',\n",
    "       'free-test', 'SMI', 'grip_strength', 'knee_extension_strength',\n",
    "       'gait_speed', 'ucOC', 'OC']"
   ]
  },
  {
   "cell_type": "markdown",
   "metadata": {
    "id": "WhJF6F-ejfC6"
   },
   "source": [
    "# ADDED_WEIGHT\n"
   ]
  },
  {
   "cell_type": "code",
   "execution_count": 11,
   "metadata": {
    "id": "q-SDIkTWk-0B"
   },
   "outputs": [],
   "source": [
    "data1['TDDkg'] = data1['TDD/kg']"
   ]
  },
  {
   "cell_type": "code",
   "execution_count": 12,
   "metadata": {
    "id": "hIU7mfVikGLR"
   },
   "outputs": [],
   "source": [
    "data1['ADDED_WEIGHT'] = data1.TDD / data1.TDDkg"
   ]
  },
  {
   "cell_type": "code",
   "execution_count": 13,
   "metadata": {
    "id": "nnhd4YXE4cYx"
   },
   "outputs": [],
   "source": [
    "data1 = data1.drop(['basal/kg', 'bolus/kg', 'TDD/kg', 'TDDkg'], axis = 1)"
   ]
  },
  {
   "cell_type": "markdown",
   "metadata": {
    "id": "4fdI409NjR8-"
   },
   "source": [
    "# Feature Ranking\n"
   ]
  },
  {
   "cell_type": "code",
   "execution_count": 14,
   "metadata": {
    "id": "e_T_YXoCjVYJ"
   },
   "outputs": [],
   "source": [
    "from sklearn.model_selection import train_test_split"
   ]
  },
  {
   "cell_type": "code",
   "execution_count": 15,
   "metadata": {
    "id": "p8XhodhLjXGb"
   },
   "outputs": [],
   "source": [
    "X = data1.drop('duration_of_diabetes', axis = 1)\n",
    "y = data1['duration_of_diabetes']"
   ]
  },
  {
   "cell_type": "code",
   "execution_count": 16,
   "metadata": {
    "id": "0MsotKtEmsjZ"
   },
   "outputs": [],
   "source": [
    "X, X_test, y, y_test = train_test_split(X, y, test_size=0.30, random_state= 42)"
   ]
  },
  {
   "cell_type": "code",
   "execution_count": 17,
   "metadata": {
    "id": "XMRhR5e0MpL1"
   },
   "outputs": [],
   "source": [
    "import gabrielrfe as rfe"
   ]
  },
  {
   "cell_type": "code",
   "execution_count": 18,
   "metadata": {
    "id": "IH9iSKacl6xF"
   },
   "outputs": [],
   "source": [
    "ranking = rfe.RankingRE(X, y, 1000)"
   ]
  },
  {
   "cell_type": "code",
   "execution_count": 19,
   "metadata": {},
   "outputs": [],
   "source": [
    "rank = ranking.ranking_borda()"
   ]
  },
  {
   "cell_type": "code",
   "execution_count": 20,
   "metadata": {},
   "outputs": [
    {
     "data": {
      "text/html": [
       "<div>\n",
       "<style scoped>\n",
       "    .dataframe tbody tr th:only-of-type {\n",
       "        vertical-align: middle;\n",
       "    }\n",
       "\n",
       "    .dataframe tbody tr th {\n",
       "        vertical-align: top;\n",
       "    }\n",
       "\n",
       "    .dataframe thead th {\n",
       "        text-align: right;\n",
       "    }\n",
       "</style>\n",
       "<table border=\"1\" class=\"dataframe\">\n",
       "  <thead>\n",
       "    <tr style=\"text-align: right;\">\n",
       "      <th></th>\n",
       "      <th>Categories</th>\n",
       "      <th>Borda-Score</th>\n",
       "      <th>STD</th>\n",
       "      <th>Borda-Average</th>\n",
       "      <th>ranking</th>\n",
       "    </tr>\n",
       "  </thead>\n",
       "  <tbody>\n",
       "    <tr>\n",
       "      <th>1</th>\n",
       "      <td>age</td>\n",
       "      <td>1275.0</td>\n",
       "      <td>1.719120414630682</td>\n",
       "      <td>1.275</td>\n",
       "      <td>1.0</td>\n",
       "    </tr>\n",
       "    <tr>\n",
       "      <th>6</th>\n",
       "      <td>bolus</td>\n",
       "      <td>6955.0</td>\n",
       "      <td>5.488986700657982</td>\n",
       "      <td>6.955</td>\n",
       "      <td>2.0</td>\n",
       "    </tr>\n",
       "    <tr>\n",
       "      <th>15</th>\n",
       "      <td>gait_speed</td>\n",
       "      <td>7537.0</td>\n",
       "      <td>5.657086794455263</td>\n",
       "      <td>7.537</td>\n",
       "      <td>3.0</td>\n",
       "    </tr>\n",
       "    <tr>\n",
       "      <th>8</th>\n",
       "      <td>eGFR</td>\n",
       "      <td>8244.0</td>\n",
       "      <td>5.683701610746287</td>\n",
       "      <td>8.244</td>\n",
       "      <td>4.0</td>\n",
       "    </tr>\n",
       "    <tr>\n",
       "      <th>4</th>\n",
       "      <td>TDD</td>\n",
       "      <td>9683.0</td>\n",
       "      <td>5.467770203657051</td>\n",
       "      <td>9.683</td>\n",
       "      <td>5.0</td>\n",
       "    </tr>\n",
       "    <tr>\n",
       "      <th>13</th>\n",
       "      <td>grip_strength</td>\n",
       "      <td>10517.0</td>\n",
       "      <td>5.116220382274403</td>\n",
       "      <td>10.517</td>\n",
       "      <td>6.0</td>\n",
       "    </tr>\n",
       "    <tr>\n",
       "      <th>2</th>\n",
       "      <td>BMI</td>\n",
       "      <td>10578.0</td>\n",
       "      <td>5.319766536230698</td>\n",
       "      <td>10.578</td>\n",
       "      <td>7.0</td>\n",
       "    </tr>\n",
       "    <tr>\n",
       "      <th>10</th>\n",
       "      <td>adiponectin</td>\n",
       "      <td>10991.0</td>\n",
       "      <td>5.0198524878725035</td>\n",
       "      <td>10.991</td>\n",
       "      <td>8.0</td>\n",
       "    </tr>\n",
       "    <tr>\n",
       "      <th>5</th>\n",
       "      <td>basal</td>\n",
       "      <td>11025.0</td>\n",
       "      <td>4.959473258320873</td>\n",
       "      <td>11.025</td>\n",
       "      <td>9.0</td>\n",
       "    </tr>\n",
       "    <tr>\n",
       "      <th>7</th>\n",
       "      <td>HbA1c</td>\n",
       "      <td>11063.0</td>\n",
       "      <td>4.906019873583884</td>\n",
       "      <td>11.063</td>\n",
       "      <td>10.0</td>\n",
       "    </tr>\n",
       "    <tr>\n",
       "      <th>9</th>\n",
       "      <td>bodyfat</td>\n",
       "      <td>11139.0</td>\n",
       "      <td>4.664298339514741</td>\n",
       "      <td>11.139</td>\n",
       "      <td>11.0</td>\n",
       "    </tr>\n",
       "    <tr>\n",
       "      <th>17</th>\n",
       "      <td>OC</td>\n",
       "      <td>11177.0</td>\n",
       "      <td>4.536702657217025</td>\n",
       "      <td>11.177</td>\n",
       "      <td>12.0</td>\n",
       "    </tr>\n",
       "    <tr>\n",
       "      <th>0</th>\n",
       "      <td>sex</td>\n",
       "      <td>11178.0</td>\n",
       "      <td>5.174390398877911</td>\n",
       "      <td>11.178</td>\n",
       "      <td>13.0</td>\n",
       "    </tr>\n",
       "    <tr>\n",
       "      <th>11</th>\n",
       "      <td>free-test</td>\n",
       "      <td>11200.0</td>\n",
       "      <td>4.798541445064336</td>\n",
       "      <td>11.200</td>\n",
       "      <td>14.0</td>\n",
       "    </tr>\n",
       "    <tr>\n",
       "      <th>14</th>\n",
       "      <td>knee_extension_strength</td>\n",
       "      <td>11322.0</td>\n",
       "      <td>4.7770614398393505</td>\n",
       "      <td>11.322</td>\n",
       "      <td>15.0</td>\n",
       "    </tr>\n",
       "    <tr>\n",
       "      <th>12</th>\n",
       "      <td>SMI</td>\n",
       "      <td>11458.0</td>\n",
       "      <td>4.521751430585275</td>\n",
       "      <td>11.458</td>\n",
       "      <td>16.0</td>\n",
       "    </tr>\n",
       "    <tr>\n",
       "      <th>16</th>\n",
       "      <td>ucOC</td>\n",
       "      <td>11459.0</td>\n",
       "      <td>4.497368008068721</td>\n",
       "      <td>11.459</td>\n",
       "      <td>17.0</td>\n",
       "    </tr>\n",
       "    <tr>\n",
       "      <th>3</th>\n",
       "      <td>insulin_regimen</td>\n",
       "      <td>11564.0</td>\n",
       "      <td>4.809355882028278</td>\n",
       "      <td>11.564</td>\n",
       "      <td>18.0</td>\n",
       "    </tr>\n",
       "    <tr>\n",
       "      <th>18</th>\n",
       "      <td>ADDED_WEIGHT</td>\n",
       "      <td>11635.0</td>\n",
       "      <td>4.535170889834246</td>\n",
       "      <td>11.635</td>\n",
       "      <td>19.0</td>\n",
       "    </tr>\n",
       "  </tbody>\n",
       "</table>\n",
       "</div>"
      ],
      "text/plain": [
       "                 Categories  Borda-Score                 STD  Borda-Average  \\\n",
       "1                       age       1275.0   1.719120414630682          1.275   \n",
       "6                     bolus       6955.0   5.488986700657982          6.955   \n",
       "15               gait_speed       7537.0   5.657086794455263          7.537   \n",
       "8                      eGFR       8244.0   5.683701610746287          8.244   \n",
       "4                       TDD       9683.0   5.467770203657051          9.683   \n",
       "13            grip_strength      10517.0   5.116220382274403         10.517   \n",
       "2                       BMI      10578.0   5.319766536230698         10.578   \n",
       "10              adiponectin      10991.0  5.0198524878725035         10.991   \n",
       "5                     basal      11025.0   4.959473258320873         11.025   \n",
       "7                     HbA1c      11063.0   4.906019873583884         11.063   \n",
       "9                   bodyfat      11139.0   4.664298339514741         11.139   \n",
       "17                       OC      11177.0   4.536702657217025         11.177   \n",
       "0                       sex      11178.0   5.174390398877911         11.178   \n",
       "11                free-test      11200.0   4.798541445064336         11.200   \n",
       "14  knee_extension_strength      11322.0  4.7770614398393505         11.322   \n",
       "12                      SMI      11458.0   4.521751430585275         11.458   \n",
       "16                     ucOC      11459.0   4.497368008068721         11.459   \n",
       "3           insulin_regimen      11564.0   4.809355882028278         11.564   \n",
       "18             ADDED_WEIGHT      11635.0   4.535170889834246         11.635   \n",
       "\n",
       "    ranking  \n",
       "1       1.0  \n",
       "6       2.0  \n",
       "15      3.0  \n",
       "8       4.0  \n",
       "4       5.0  \n",
       "13      6.0  \n",
       "2       7.0  \n",
       "10      8.0  \n",
       "5       9.0  \n",
       "7      10.0  \n",
       "9      11.0  \n",
       "17     12.0  \n",
       "0      13.0  \n",
       "11     14.0  \n",
       "14     15.0  \n",
       "12     16.0  \n",
       "16     17.0  \n",
       "3      18.0  \n",
       "18     19.0  "
      ]
     },
     "execution_count": 20,
     "metadata": {},
     "output_type": "execute_result"
    }
   ],
   "source": [
    "rank"
   ]
  },
  {
   "cell_type": "code",
   "execution_count": 20,
   "metadata": {},
   "outputs": [],
   "source": [
    "r2pred = rfe.RankingRE(X, y, 100)"
   ]
  },
  {
   "cell_type": "code",
   "execution_count": 21,
   "metadata": {},
   "outputs": [
    {
     "data": {
      "text/html": [
       "<div>\n",
       "<style scoped>\n",
       "    .dataframe tbody tr th:only-of-type {\n",
       "        vertical-align: middle;\n",
       "    }\n",
       "\n",
       "    .dataframe tbody tr th {\n",
       "        vertical-align: top;\n",
       "    }\n",
       "\n",
       "    .dataframe thead th {\n",
       "        text-align: right;\n",
       "    }\n",
       "</style>\n",
       "<table border=\"1\" class=\"dataframe\">\n",
       "  <thead>\n",
       "    <tr style=\"text-align: right;\">\n",
       "      <th></th>\n",
       "      <th>Categories</th>\n",
       "      <th>average-r2-punishment</th>\n",
       "      <th>ranking</th>\n",
       "      <th>STD_of_r2_punishment</th>\n",
       "    </tr>\n",
       "  </thead>\n",
       "  <tbody>\n",
       "    <tr>\n",
       "      <th>1</th>\n",
       "      <td>age</td>\n",
       "      <td>0.5913682258962148</td>\n",
       "      <td>1.0</td>\n",
       "      <td>0.27437914853781153</td>\n",
       "    </tr>\n",
       "    <tr>\n",
       "      <th>6</th>\n",
       "      <td>bolus</td>\n",
       "      <td>0.01571850424020421</td>\n",
       "      <td>2.0</td>\n",
       "      <td>0.0371061719889058</td>\n",
       "    </tr>\n",
       "    <tr>\n",
       "      <th>15</th>\n",
       "      <td>gait_speed</td>\n",
       "      <td>0.010044476232707749</td>\n",
       "      <td>3.0</td>\n",
       "      <td>0.04099151808616758</td>\n",
       "    </tr>\n",
       "    <tr>\n",
       "      <th>8</th>\n",
       "      <td>eGFR</td>\n",
       "      <td>0.0031923912806516934</td>\n",
       "      <td>4.0</td>\n",
       "      <td>0.02663517737237091</td>\n",
       "    </tr>\n",
       "    <tr>\n",
       "      <th>4</th>\n",
       "      <td>TDD</td>\n",
       "      <td>0.0027777445372786547</td>\n",
       "      <td>5.0</td>\n",
       "      <td>0.026466511956178954</td>\n",
       "    </tr>\n",
       "    <tr>\n",
       "      <th>2</th>\n",
       "      <td>BMI</td>\n",
       "      <td>0.0014018804183062077</td>\n",
       "      <td>6.0</td>\n",
       "      <td>0.02764948433823324</td>\n",
       "    </tr>\n",
       "    <tr>\n",
       "      <th>10</th>\n",
       "      <td>adiponectin</td>\n",
       "      <td>-0.014841555416411224</td>\n",
       "      <td>7.0</td>\n",
       "      <td>0.030546503962567802</td>\n",
       "    </tr>\n",
       "    <tr>\n",
       "      <th>7</th>\n",
       "      <td>HbA1c</td>\n",
       "      <td>-0.00855503052459582</td>\n",
       "      <td>8.0</td>\n",
       "      <td>0.02774676203533748</td>\n",
       "    </tr>\n",
       "    <tr>\n",
       "      <th>9</th>\n",
       "      <td>bodyfat</td>\n",
       "      <td>-0.006742348890734341</td>\n",
       "      <td>9.0</td>\n",
       "      <td>0.025296497605746357</td>\n",
       "    </tr>\n",
       "    <tr>\n",
       "      <th>14</th>\n",
       "      <td>knee_extension_strength</td>\n",
       "      <td>-0.00554776830913316</td>\n",
       "      <td>10.0</td>\n",
       "      <td>0.022580882229786447</td>\n",
       "    </tr>\n",
       "    <tr>\n",
       "      <th>17</th>\n",
       "      <td>OC</td>\n",
       "      <td>-0.005503182169947465</td>\n",
       "      <td>11.0</td>\n",
       "      <td>0.020944166845194193</td>\n",
       "    </tr>\n",
       "    <tr>\n",
       "      <th>13</th>\n",
       "      <td>grip_strength</td>\n",
       "      <td>-0.004988613108648923</td>\n",
       "      <td>12.0</td>\n",
       "      <td>0.02283516914204941</td>\n",
       "    </tr>\n",
       "    <tr>\n",
       "      <th>16</th>\n",
       "      <td>ucOC</td>\n",
       "      <td>-0.003734354323424982</td>\n",
       "      <td>13.0</td>\n",
       "      <td>0.020331217884310488</td>\n",
       "    </tr>\n",
       "    <tr>\n",
       "      <th>5</th>\n",
       "      <td>basal</td>\n",
       "      <td>-0.0036735863099020788</td>\n",
       "      <td>14.0</td>\n",
       "      <td>0.024070704712738176</td>\n",
       "    </tr>\n",
       "    <tr>\n",
       "      <th>11</th>\n",
       "      <td>free-test</td>\n",
       "      <td>-0.0036428988189385805</td>\n",
       "      <td>15.0</td>\n",
       "      <td>0.018127595027549577</td>\n",
       "    </tr>\n",
       "    <tr>\n",
       "      <th>18</th>\n",
       "      <td>ADDED_WEIGHT</td>\n",
       "      <td>-0.003528631914927398</td>\n",
       "      <td>16.0</td>\n",
       "      <td>0.020930730863980715</td>\n",
       "    </tr>\n",
       "    <tr>\n",
       "      <th>3</th>\n",
       "      <td>insulin_regimen</td>\n",
       "      <td>-0.0024051156516800482</td>\n",
       "      <td>17.0</td>\n",
       "      <td>0.021746099353650454</td>\n",
       "    </tr>\n",
       "    <tr>\n",
       "      <th>12</th>\n",
       "      <td>SMI</td>\n",
       "      <td>-0.0023747792078587055</td>\n",
       "      <td>18.0</td>\n",
       "      <td>0.019836274525283276</td>\n",
       "    </tr>\n",
       "    <tr>\n",
       "      <th>0</th>\n",
       "      <td>sex</td>\n",
       "      <td>-0.0007928243654302452</td>\n",
       "      <td>19.0</td>\n",
       "      <td>0.022898684211092136</td>\n",
       "    </tr>\n",
       "  </tbody>\n",
       "</table>\n",
       "</div>"
      ],
      "text/plain": [
       "                 Categories   average-r2-punishment  ranking  \\\n",
       "1                       age      0.5913682258962148      1.0   \n",
       "6                     bolus     0.01571850424020421      2.0   \n",
       "15               gait_speed    0.010044476232707749      3.0   \n",
       "8                      eGFR   0.0031923912806516934      4.0   \n",
       "4                       TDD   0.0027777445372786547      5.0   \n",
       "2                       BMI   0.0014018804183062077      6.0   \n",
       "10              adiponectin   -0.014841555416411224      7.0   \n",
       "7                     HbA1c    -0.00855503052459582      8.0   \n",
       "9                   bodyfat   -0.006742348890734341      9.0   \n",
       "14  knee_extension_strength    -0.00554776830913316     10.0   \n",
       "17                       OC   -0.005503182169947465     11.0   \n",
       "13            grip_strength   -0.004988613108648923     12.0   \n",
       "16                     ucOC   -0.003734354323424982     13.0   \n",
       "5                     basal  -0.0036735863099020788     14.0   \n",
       "11                free-test  -0.0036428988189385805     15.0   \n",
       "18             ADDED_WEIGHT   -0.003528631914927398     16.0   \n",
       "3           insulin_regimen  -0.0024051156516800482     17.0   \n",
       "12                      SMI  -0.0023747792078587055     18.0   \n",
       "0                       sex  -0.0007928243654302452     19.0   \n",
       "\n",
       "    STD_of_r2_punishment  \n",
       "1    0.27437914853781153  \n",
       "6     0.0371061719889058  \n",
       "15   0.04099151808616758  \n",
       "8    0.02663517737237091  \n",
       "4   0.026466511956178954  \n",
       "2    0.02764948433823324  \n",
       "10  0.030546503962567802  \n",
       "7    0.02774676203533748  \n",
       "9   0.025296497605746357  \n",
       "14  0.022580882229786447  \n",
       "17  0.020944166845194193  \n",
       "13   0.02283516914204941  \n",
       "16  0.020331217884310488  \n",
       "5   0.024070704712738176  \n",
       "11  0.018127595027549577  \n",
       "18  0.020930730863980715  \n",
       "3   0.021746099353650454  \n",
       "12  0.019836274525283276  \n",
       "0   0.022898684211092136  "
      ]
     },
     "execution_count": 21,
     "metadata": {},
     "output_type": "execute_result"
    }
   ],
   "source": [
    "r2pred.ranking_by_r2_punishment()"
   ]
  },
  {
   "cell_type": "markdown",
   "metadata": {},
   "source": [
    "# Predictions using all columns"
   ]
  },
  {
   "cell_type": "markdown",
   "metadata": {},
   "source": [
    "We are going to use the X and Y we splitted from before, so by making a rank classification we don't actually scoop into our data."
   ]
  },
  {
   "cell_type": "code",
   "execution_count": 26,
   "metadata": {},
   "outputs": [],
   "source": [
    "# X = X[['age', 'bolus', 'gait_speed', 'eGFR', 'TDD']]"
   ]
  },
  {
   "cell_type": "code",
   "execution_count": 27,
   "metadata": {},
   "outputs": [],
   "source": [
    "# X_test = X_test[['age', 'bolus', 'gait_speed', 'eGFR', 'TDD']]"
   ]
  },
  {
   "cell_type": "code",
   "execution_count": 23,
   "metadata": {},
   "outputs": [],
   "source": [
    "from sklearn.metrics import mean_absolute_error\n",
    "from sklearn.metrics import mean_squared_error\n",
    "from math import sqrt"
   ]
  },
  {
   "cell_type": "code",
   "execution_count": 24,
   "metadata": {},
   "outputs": [],
   "source": [
    "#Sklearn does't have any function for SMAPE, so I wrote a function in python\n",
    "#The function has 100%/n. I replaced 100% with 1, to have values between 0 and 1 in form of percentages.\n",
    "#A is the real, while F is predicted.\n",
    "def smape(a, f):\n",
    "    return 1/len(a) * np.sum(2 * np.abs(f-a) / (np.abs(a) + np.abs(f)))"
   ]
  },
  {
   "cell_type": "markdown",
   "metadata": {},
   "source": [
    "# Random Forest"
   ]
  },
  {
   "cell_type": "code",
   "execution_count": 55,
   "metadata": {},
   "outputs": [],
   "source": [
    "r2mean = []\n",
    "SMAPEm = []\n",
    "MSEm = []\n",
    "RMSEm = []\n",
    "MAEm= []"
   ]
  },
  {
   "cell_type": "code",
   "execution_count": 56,
   "metadata": {},
   "outputs": [],
   "source": [
    "rf = RandomForestRegressor()"
   ]
  },
  {
   "cell_type": "code",
   "execution_count": 57,
   "metadata": {},
   "outputs": [],
   "source": [
    "for x in range(1000): \n",
    "  X_train, X_test2, y_train, y_test2 = train_test_split(X, y, test_size=0.3)\n",
    "  rf.fit(X_train, y_train)\n",
    "  r2 = rf.score(X_test, y_test)\n",
    "  y_pred = rf.predict(X_test)\n",
    "  r2mean.append(r2)\n",
    "  MAE = mean_absolute_error(y_test, y_pred)\n",
    "  MAEm.append(MAE)\n",
    "  MSE = mean_squared_error(y_test, y_pred)\n",
    "  MSEm.append(MSE)\n",
    "  RMSE = sqrt(mean_squared_error(y_test, y_pred))\n",
    "  RMSEm.append(RMSE)\n",
    "  SMAPE = smape(y_test, y_pred)\n",
    "  SMAPEm.append(SMAPE)"
   ]
  },
  {
   "cell_type": "code",
   "execution_count": 58,
   "metadata": {},
   "outputs": [],
   "source": [
    "R2mean=np.mean(r2mean)\n",
    "MSEmean=np.mean(MSEm)\n",
    "RMSEmean=np.mean(RMSEm)\n",
    "SMAPEmean= np.mean(SMAPEm)\n",
    "MAEmean= np.mean(MAE)"
   ]
  },
  {
   "cell_type": "code",
   "execution_count": 59,
   "metadata": {},
   "outputs": [],
   "source": [
    "Metrics = {'Metrics Means': ['R2', 'MSE', 'RMSE', 'SMAPE', 'MAE'],\n",
    "           'Values': [np.mean(r2mean), np.mean(MSEm), np.mean(RMSEm), np.mean(SMAPEm), np.mean(MAE)]\n",
    "           }"
   ]
  },
  {
   "cell_type": "code",
   "execution_count": 60,
   "metadata": {},
   "outputs": [
    {
     "data": {
      "text/html": [
       "<div>\n",
       "<style scoped>\n",
       "    .dataframe tbody tr th:only-of-type {\n",
       "        vertical-align: middle;\n",
       "    }\n",
       "\n",
       "    .dataframe tbody tr th {\n",
       "        vertical-align: top;\n",
       "    }\n",
       "\n",
       "    .dataframe thead th {\n",
       "        text-align: right;\n",
       "    }\n",
       "</style>\n",
       "<table border=\"1\" class=\"dataframe\">\n",
       "  <thead>\n",
       "    <tr style=\"text-align: right;\">\n",
       "      <th></th>\n",
       "      <th>Metrics Means</th>\n",
       "      <th>Values</th>\n",
       "    </tr>\n",
       "  </thead>\n",
       "  <tbody>\n",
       "    <tr>\n",
       "      <th>0</th>\n",
       "      <td>R2</td>\n",
       "      <td>0.416240</td>\n",
       "    </tr>\n",
       "    <tr>\n",
       "      <th>1</th>\n",
       "      <td>MSE</td>\n",
       "      <td>35.740843</td>\n",
       "    </tr>\n",
       "    <tr>\n",
       "      <th>2</th>\n",
       "      <td>RMSE</td>\n",
       "      <td>5.971627</td>\n",
       "    </tr>\n",
       "    <tr>\n",
       "      <th>3</th>\n",
       "      <td>SMAPE</td>\n",
       "      <td>0.219638</td>\n",
       "    </tr>\n",
       "    <tr>\n",
       "      <th>4</th>\n",
       "      <td>MAE</td>\n",
       "      <td>5.230455</td>\n",
       "    </tr>\n",
       "  </tbody>\n",
       "</table>\n",
       "</div>"
      ],
      "text/plain": [
       "  Metrics Means     Values\n",
       "0            R2   0.416240\n",
       "1           MSE  35.740843\n",
       "2          RMSE   5.971627\n",
       "3         SMAPE   0.219638\n",
       "4           MAE   5.230455"
      ]
     },
     "execution_count": 60,
     "metadata": {},
     "output_type": "execute_result"
    }
   ],
   "source": [
    "MetricsDF = pd.DataFrame.from_dict(Metrics)\n",
    "MetricsDF"
   ]
  },
  {
   "cell_type": "markdown",
   "metadata": {},
   "source": [
    "# XGboost for regression:"
   ]
  },
  {
   "cell_type": "code",
   "execution_count": 34,
   "metadata": {},
   "outputs": [
    {
     "name": "stderr",
     "output_type": "stream",
     "text": [
      "C:\\Users\\54226\\Anaconda3\\envs\\python-ml-2020\\lib\\site-packages\\xgboost\\__init__.py:29: FutureWarning: Python 3.5 support is deprecated; XGBoost will require Python 3.6+ in the near future. Consider upgrading to Python 3.6+.\n",
      "  FutureWarning)\n"
     ]
    }
   ],
   "source": [
    "import xgboost as xgb\n",
    "from xgboost.sklearn import XGBRegressor"
   ]
  },
  {
   "cell_type": "code",
   "execution_count": 35,
   "metadata": {},
   "outputs": [],
   "source": [
    "xgb = XGBRegressor()"
   ]
  },
  {
   "cell_type": "code",
   "execution_count": 36,
   "metadata": {},
   "outputs": [],
   "source": [
    "r2mean = []\n",
    "SMAPEm = []\n",
    "MSEm = []\n",
    "RMSEm = []\n",
    "MAEm= []"
   ]
  },
  {
   "cell_type": "code",
   "execution_count": 37,
   "metadata": {},
   "outputs": [],
   "source": [
    "for x in range(1000): \n",
    "  X_train, X_test2, y_train, y_test2 = train_test_split(X, y, test_size=0.30)\n",
    "  xgb.fit(X_train, y_train)\n",
    "  r2 = xgb.score(X_test, y_test)\n",
    "  y_pred = xgb.predict(X_test)\n",
    "  r2mean.append(r2)\n",
    "  MAE = mean_absolute_error(y_test, y_pred)\n",
    "  MAEm.append(MAE)\n",
    "  MSE = mean_squared_error(y_test, y_pred)\n",
    "  MSEm.append(MSE)\n",
    "  RMSE = sqrt(mean_squared_error(y_test, y_pred))\n",
    "  RMSEm.append(RMSE)\n",
    "  SMAPE = smape(y_test, y_pred)\n",
    "  SMAPEm.append(SMAPE)"
   ]
  },
  {
   "cell_type": "code",
   "execution_count": 38,
   "metadata": {},
   "outputs": [],
   "source": [
    "R2mean=np.mean(r2mean)\n",
    "MSEmean=np.mean(MSEm)\n",
    "RMSEmean=np.mean(RMSEm)\n",
    "SMAPEmean= np.mean(SMAPEm)\n",
    "MAEmean= np.mean(MAE)"
   ]
  },
  {
   "cell_type": "code",
   "execution_count": 39,
   "metadata": {},
   "outputs": [],
   "source": [
    "Metrics = {'Metrics Means': ['R2', 'MSE', 'RMSE', 'SMAPE', 'MAE'],\n",
    "           'Values': [np.mean(r2mean), np.mean(MSEm), np.mean(RMSEm), np.mean(SMAPEm), np.mean(MAE)]\n",
    "           }"
   ]
  },
  {
   "cell_type": "code",
   "execution_count": 40,
   "metadata": {},
   "outputs": [
    {
     "data": {
      "text/html": [
       "<div>\n",
       "<style scoped>\n",
       "    .dataframe tbody tr th:only-of-type {\n",
       "        vertical-align: middle;\n",
       "    }\n",
       "\n",
       "    .dataframe tbody tr th {\n",
       "        vertical-align: top;\n",
       "    }\n",
       "\n",
       "    .dataframe thead th {\n",
       "        text-align: right;\n",
       "    }\n",
       "</style>\n",
       "<table border=\"1\" class=\"dataframe\">\n",
       "  <thead>\n",
       "    <tr style=\"text-align: right;\">\n",
       "      <th></th>\n",
       "      <th>Metrics Means</th>\n",
       "      <th>Values</th>\n",
       "    </tr>\n",
       "  </thead>\n",
       "  <tbody>\n",
       "    <tr>\n",
       "      <th>0</th>\n",
       "      <td>R2</td>\n",
       "      <td>0.394306</td>\n",
       "    </tr>\n",
       "    <tr>\n",
       "      <th>1</th>\n",
       "      <td>MSE</td>\n",
       "      <td>37.083711</td>\n",
       "    </tr>\n",
       "    <tr>\n",
       "      <th>2</th>\n",
       "      <td>RMSE</td>\n",
       "      <td>6.051147</td>\n",
       "    </tr>\n",
       "    <tr>\n",
       "      <th>3</th>\n",
       "      <td>SMAPE</td>\n",
       "      <td>0.214097</td>\n",
       "    </tr>\n",
       "    <tr>\n",
       "      <th>4</th>\n",
       "      <td>MAE</td>\n",
       "      <td>5.060748</td>\n",
       "    </tr>\n",
       "  </tbody>\n",
       "</table>\n",
       "</div>"
      ],
      "text/plain": [
       "  Metrics Means     Values\n",
       "0            R2   0.394306\n",
       "1           MSE  37.083711\n",
       "2          RMSE   6.051147\n",
       "3         SMAPE   0.214097\n",
       "4           MAE   5.060748"
      ]
     },
     "execution_count": 40,
     "metadata": {},
     "output_type": "execute_result"
    }
   ],
   "source": [
    "MetricsDF = pd.DataFrame.from_dict(Metrics)\n",
    "MetricsDF"
   ]
  },
  {
   "cell_type": "markdown",
   "metadata": {},
   "source": [
    "# Linear Regression"
   ]
  },
  {
   "cell_type": "code",
   "execution_count": 41,
   "metadata": {},
   "outputs": [],
   "source": [
    "from sklearn.linear_model import LinearRegression"
   ]
  },
  {
   "cell_type": "code",
   "execution_count": 42,
   "metadata": {},
   "outputs": [],
   "source": [
    "lreg = LinearRegression()"
   ]
  },
  {
   "cell_type": "code",
   "execution_count": 43,
   "metadata": {},
   "outputs": [],
   "source": [
    "r2mean = []\n",
    "SMAPEm = []\n",
    "MSEm = []\n",
    "RMSEm = []\n",
    "MAEm= []"
   ]
  },
  {
   "cell_type": "code",
   "execution_count": 44,
   "metadata": {},
   "outputs": [],
   "source": [
    "for x in range(1000): \n",
    "  X_train, X_test2, y_train, y_test2 = train_test_split(X, y, test_size=0.3)\n",
    "  lreg.fit(X_train, y_train)\n",
    "  r2 = lreg.score(X_test, y_test)\n",
    "  y_pred = lreg.predict(X_test)\n",
    "  r2mean.append(r2)\n",
    "  MAE = mean_absolute_error(y_test, y_pred)\n",
    "  MAEm.append(MAE)\n",
    "  MSE = mean_squared_error(y_test, y_pred)\n",
    "  MSEm.append(MSE)\n",
    "  RMSE = sqrt(mean_squared_error(y_test, y_pred))\n",
    "  RMSEm.append(RMSE)\n",
    "  SMAPE = smape(y_test, y_pred)\n",
    "  SMAPEm.append(SMAPE)"
   ]
  },
  {
   "cell_type": "code",
   "execution_count": 45,
   "metadata": {},
   "outputs": [],
   "source": [
    "R2mean=np.mean(r2mean)\n",
    "MSEmean=np.mean(MSEm)\n",
    "RMSEmean=np.mean(RMSEm)\n",
    "SMAPEmean= np.mean(SMAPEm)\n",
    "MAEmean= np.mean(MAE)"
   ]
  },
  {
   "cell_type": "code",
   "execution_count": 46,
   "metadata": {},
   "outputs": [],
   "source": [
    "Metrics = {'Metrics Means': ['R2', 'MSE', 'RMSE', 'SMAPE', 'MAE'],\n",
    "           'Values': [np.mean(r2mean), np.mean(MSEm), np.mean(RMSEm), np.mean(SMAPEm), np.mean(MAE)]\n",
    "           }"
   ]
  },
  {
   "cell_type": "code",
   "execution_count": 47,
   "metadata": {},
   "outputs": [
    {
     "data": {
      "text/html": [
       "<div>\n",
       "<style scoped>\n",
       "    .dataframe tbody tr th:only-of-type {\n",
       "        vertical-align: middle;\n",
       "    }\n",
       "\n",
       "    .dataframe tbody tr th {\n",
       "        vertical-align: top;\n",
       "    }\n",
       "\n",
       "    .dataframe thead th {\n",
       "        text-align: right;\n",
       "    }\n",
       "</style>\n",
       "<table border=\"1\" class=\"dataframe\">\n",
       "  <thead>\n",
       "    <tr style=\"text-align: right;\">\n",
       "      <th></th>\n",
       "      <th>Metrics Means</th>\n",
       "      <th>Values</th>\n",
       "    </tr>\n",
       "  </thead>\n",
       "  <tbody>\n",
       "    <tr>\n",
       "      <th>0</th>\n",
       "      <td>R2</td>\n",
       "      <td>0.117369</td>\n",
       "    </tr>\n",
       "    <tr>\n",
       "      <th>1</th>\n",
       "      <td>MSE</td>\n",
       "      <td>54.039236</td>\n",
       "    </tr>\n",
       "    <tr>\n",
       "      <th>2</th>\n",
       "      <td>RMSE</td>\n",
       "      <td>7.097074</td>\n",
       "    </tr>\n",
       "    <tr>\n",
       "      <th>3</th>\n",
       "      <td>SMAPE</td>\n",
       "      <td>0.281684</td>\n",
       "    </tr>\n",
       "    <tr>\n",
       "      <th>4</th>\n",
       "      <td>MAE</td>\n",
       "      <td>4.325678</td>\n",
       "    </tr>\n",
       "  </tbody>\n",
       "</table>\n",
       "</div>"
      ],
      "text/plain": [
       "  Metrics Means     Values\n",
       "0            R2   0.117369\n",
       "1           MSE  54.039236\n",
       "2          RMSE   7.097074\n",
       "3         SMAPE   0.281684\n",
       "4           MAE   4.325678"
      ]
     },
     "execution_count": 47,
     "metadata": {},
     "output_type": "execute_result"
    }
   ],
   "source": [
    "MetricsDF = pd.DataFrame.from_dict(Metrics)\n",
    "MetricsDF"
   ]
  },
  {
   "cell_type": "markdown",
   "metadata": {},
   "source": [
    "# Decision Trees"
   ]
  },
  {
   "cell_type": "code",
   "execution_count": 48,
   "metadata": {},
   "outputs": [],
   "source": [
    "from sklearn.tree import DecisionTreeRegressor"
   ]
  },
  {
   "cell_type": "code",
   "execution_count": 49,
   "metadata": {},
   "outputs": [],
   "source": [
    "DTReg = DecisionTreeRegressor()"
   ]
  },
  {
   "cell_type": "code",
   "execution_count": 50,
   "metadata": {},
   "outputs": [],
   "source": [
    "r2mean = []\n",
    "SMAPEm = []\n",
    "MSEm = []\n",
    "RMSEm = []\n",
    "MAEm= []"
   ]
  },
  {
   "cell_type": "code",
   "execution_count": 51,
   "metadata": {},
   "outputs": [],
   "source": [
    "for x in range(1000): \n",
    "  X_train, X_test2, y_train, y_test2 = train_test_split(X, y, test_size=0.3)\n",
    "  DTReg.fit(X_train, y_train)\n",
    "  r2 = DTReg.score(X_test, y_test)\n",
    "  y_pred = DTReg.predict(X_test)\n",
    "  r2mean.append(r2)\n",
    "  MAE = mean_absolute_error(y_test, y_pred)\n",
    "  MAEm.append(MAE)\n",
    "  MSE = mean_squared_error(y_test, y_pred)\n",
    "  MSEm.append(MSE)\n",
    "  RMSE = sqrt(mean_squared_error(y_test, y_pred))\n",
    "  RMSEm.append(RMSE)\n",
    "  SMAPE = smape(y_test, y_pred)\n",
    "  SMAPEm.append(SMAPE)"
   ]
  },
  {
   "cell_type": "code",
   "execution_count": 52,
   "metadata": {},
   "outputs": [],
   "source": [
    "R2mean=np.mean(r2mean)\n",
    "MSEmean=np.mean(MSEm)\n",
    "RMSEmean=np.mean(RMSEm)\n",
    "SMAPEmean= np.mean(SMAPEm)\n",
    "MAEmean= np.mean(MAE)"
   ]
  },
  {
   "cell_type": "code",
   "execution_count": 53,
   "metadata": {},
   "outputs": [],
   "source": [
    "Metrics = {'Metrics Means': ['R2', 'MSE', 'RMSE', 'SMAPE', 'MAE'],\n",
    "           'Values': [np.mean(r2mean), np.mean(MSEm), np.mean(RMSEm), np.mean(SMAPEm), np.mean(MAE)]\n",
    "           }"
   ]
  },
  {
   "cell_type": "code",
   "execution_count": 54,
   "metadata": {},
   "outputs": [
    {
     "data": {
      "text/html": [
       "<div>\n",
       "<style scoped>\n",
       "    .dataframe tbody tr th:only-of-type {\n",
       "        vertical-align: middle;\n",
       "    }\n",
       "\n",
       "    .dataframe tbody tr th {\n",
       "        vertical-align: top;\n",
       "    }\n",
       "\n",
       "    .dataframe thead th {\n",
       "        text-align: right;\n",
       "    }\n",
       "</style>\n",
       "<table border=\"1\" class=\"dataframe\">\n",
       "  <thead>\n",
       "    <tr style=\"text-align: right;\">\n",
       "      <th></th>\n",
       "      <th>Metrics Means</th>\n",
       "      <th>Values</th>\n",
       "    </tr>\n",
       "  </thead>\n",
       "  <tbody>\n",
       "    <tr>\n",
       "      <th>0</th>\n",
       "      <td>R2</td>\n",
       "      <td>0.047813</td>\n",
       "    </tr>\n",
       "    <tr>\n",
       "      <th>1</th>\n",
       "      <td>MSE</td>\n",
       "      <td>58.297864</td>\n",
       "    </tr>\n",
       "    <tr>\n",
       "      <th>2</th>\n",
       "      <td>RMSE</td>\n",
       "      <td>7.569160</td>\n",
       "    </tr>\n",
       "    <tr>\n",
       "      <th>3</th>\n",
       "      <td>SMAPE</td>\n",
       "      <td>0.269048</td>\n",
       "    </tr>\n",
       "    <tr>\n",
       "      <th>4</th>\n",
       "      <td>MAE</td>\n",
       "      <td>5.681818</td>\n",
       "    </tr>\n",
       "  </tbody>\n",
       "</table>\n",
       "</div>"
      ],
      "text/plain": [
       "  Metrics Means     Values\n",
       "0            R2   0.047813\n",
       "1           MSE  58.297864\n",
       "2          RMSE   7.569160\n",
       "3         SMAPE   0.269048\n",
       "4           MAE   5.681818"
      ]
     },
     "execution_count": 54,
     "metadata": {},
     "output_type": "execute_result"
    }
   ],
   "source": [
    "MetricsDF = pd.DataFrame.from_dict(Metrics)\n",
    "MetricsDF"
   ]
  }
 ],
 "metadata": {
  "colab": {
   "collapsed_sections": [],
   "name": "Feature ranking an added weight.ipynb",
   "provenance": []
  },
  "kernelspec": {
   "display_name": "Python 3",
   "language": "python",
   "name": "python3"
  },
  "language_info": {
   "codemirror_mode": {
    "name": "ipython",
    "version": 3
   },
   "file_extension": ".py",
   "mimetype": "text/x-python",
   "name": "python",
   "nbconvert_exporter": "python",
   "pygments_lexer": "ipython3",
   "version": "3.5.6"
  }
 },
 "nbformat": 4,
 "nbformat_minor": 1
}
