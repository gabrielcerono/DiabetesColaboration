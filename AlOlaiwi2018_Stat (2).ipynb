{
  "nbformat": 4,
  "nbformat_minor": 0,
  "metadata": {
    "kernelspec": {
      "display_name": "Python 3",
      "language": "python",
      "name": "python3"
    },
    "language_info": {
      "codemirror_mode": {
        "name": "ipython",
        "version": 3
      },
      "file_extension": ".py",
      "mimetype": "text/x-python",
      "name": "python",
      "nbconvert_exporter": "python",
      "pygments_lexer": "ipython3",
      "version": "3.5.6"
    },
    "colab": {
      "name": "AlOlaiwi2018_Stat.ipynb",
      "provenance": []
    }
  },
  "cells": [
    {
      "cell_type": "code",
      "metadata": {
        "id": "2iyuQSwPWDAo"
      },
      "source": [
        "import pandas as pd\n",
        "import matplotlib.pyplot as plt\n",
        "import numpy as np\n",
        "import sklearn as sk\n",
        "from sklearn.ensemble import RandomForestRegressor\n",
        "from random import randint\n",
        "import xlrd"
      ],
      "execution_count": 1,
      "outputs": []
    },
    {
      "cell_type": "code",
      "metadata": {
        "id": "ccsoIe5MWEvE"
      },
      "source": [
        "!pip install pingouin"
      ],
      "execution_count": null,
      "outputs": []
    },
    {
      "cell_type": "code",
      "metadata": {
        "id": "JbIL9Q_TWHSA"
      },
      "source": [
        "!pip install scikit-posthocs"
      ],
      "execution_count": null,
      "outputs": []
    },
    {
      "cell_type": "code",
      "metadata": {
        "id": "tr9UJIyZWDAx"
      },
      "source": [
        "data = pd.read_excel('AlOlaiwi2018_dataset.xlsx')"
      ],
      "execution_count": 4,
      "outputs": []
    },
    {
      "cell_type": "code",
      "metadata": {
        "id": "8b5v5M2dWDAy"
      },
      "source": [
        "data.drop([\"Patient's code \"], axis = 1, inplace = True)"
      ],
      "execution_count": 5,
      "outputs": []
    },
    {
      "cell_type": "code",
      "metadata": {
        "id": "f_YbkEndWDAy"
      },
      "source": [
        "data.replace({'No': 0, 'Yes': 1, 'F': 0, 'M': 1}, inplace = True)"
      ],
      "execution_count": 6,
      "outputs": []
    },
    {
      "cell_type": "code",
      "metadata": {
        "id": "aHSdBJc7WDAz"
      },
      "source": [
        "data.replace({'absent  ': 0, 'present ': 1, 'present': 1, 'none':0, 'mild': 1, 'severe': 2, 'normoalbuminuria': 0, 'macroalbuminuria': 2, 'microalbuminuria': 1, 'borderline': 0.5}, inplace = True)"
      ],
      "execution_count": 7,
      "outputs": []
    },
    {
      "cell_type": "code",
      "metadata": {
        "id": "VByJo74qWDAz"
      },
      "source": [
        "data.replace({'has appo': 2, 'No 2012 has appoint': 3}, inplace = True)"
      ],
      "execution_count": 8,
      "outputs": []
    },
    {
      "cell_type": "code",
      "metadata": {
        "id": "EPocc32JWDAz"
      },
      "source": [
        "from sklearn.experimental import enable_iterative_imputer\n",
        "from sklearn.impute import IterativeImputer\n",
        "iterative_imp = IterativeImputer()"
      ],
      "execution_count": 9,
      "outputs": []
    },
    {
      "cell_type": "code",
      "metadata": {
        "colab": {
          "base_uri": "https://localhost:8080/"
        },
        "id": "lq2RGM2_WDA0",
        "outputId": "ec97cca9-be99-4aeb-c952-0febf2d93042"
      },
      "source": [
        "iterative_imp.fit(data)"
      ],
      "execution_count": 10,
      "outputs": [
        {
          "output_type": "execute_result",
          "data": {
            "text/plain": [
              "IterativeImputer(add_indicator=False, estimator=None,\n",
              "                 imputation_order='ascending', initial_strategy='mean',\n",
              "                 max_iter=10, max_value=None, min_value=None,\n",
              "                 missing_values=nan, n_nearest_features=None, random_state=None,\n",
              "                 sample_posterior=False, skip_complete=False, tol=0.001,\n",
              "                 verbose=0)"
            ]
          },
          "metadata": {
            "tags": []
          },
          "execution_count": 10
        }
      ]
    },
    {
      "cell_type": "code",
      "metadata": {
        "id": "hdyxO3_KWDA0"
      },
      "source": [
        "data1 = iterative_imp.fit_transform(data)"
      ],
      "execution_count": 11,
      "outputs": []
    },
    {
      "cell_type": "code",
      "metadata": {
        "id": "bnUWVy-UWDA0"
      },
      "source": [
        "data1 = pd.DataFrame(data=data1, columns = data.columns,)"
      ],
      "execution_count": 12,
      "outputs": []
    },
    {
      "cell_type": "markdown",
      "metadata": {
        "id": "Fj66yJaXWDA1"
      },
      "source": [
        "## Stat"
      ]
    },
    {
      "cell_type": "code",
      "metadata": {
        "id": "f09_vFscWDA2"
      },
      "source": [
        "y = data1['Duration of DM']"
      ],
      "execution_count": 13,
      "outputs": []
    },
    {
      "cell_type": "code",
      "metadata": {
        "colab": {
          "base_uri": "https://localhost:8080/"
        },
        "id": "d65puFnLWDA3",
        "outputId": "d76d3264-b95c-459a-930d-0dcb7159ff12"
      },
      "source": [
        "import scikit_posthocs as sp"
      ],
      "execution_count": 14,
      "outputs": [
        {
          "output_type": "stream",
          "text": [
            "/usr/local/lib/python3.7/dist-packages/statsmodels/tools/_testing.py:19: FutureWarning: pandas.util.testing is deprecated. Use the functions in the public API at pandas.testing instead.\n",
            "  import pandas.util.testing as tm\n"
          ],
          "name": "stderr"
        }
      ]
    },
    {
      "cell_type": "code",
      "metadata": {
        "id": "m_D1O96oWDA3"
      },
      "source": [
        "from pingouin import kruskal"
      ],
      "execution_count": 15,
      "outputs": []
    },
    {
      "cell_type": "code",
      "metadata": {
        "colab": {
          "base_uri": "https://localhost:8080/"
        },
        "id": "wjSHmlxZh-sf",
        "outputId": "d749c125-e7eb-4251-8c2e-d5b40c8f4b5d"
      },
      "source": [
        "data1['Insulin']"
      ],
      "execution_count": 23,
      "outputs": [
        {
          "output_type": "execute_result",
          "data": {
            "text/plain": [
              "0      0.0\n",
              "1      1.0\n",
              "2      0.0\n",
              "3      0.0\n",
              "4      0.0\n",
              "      ... \n",
              "395    1.0\n",
              "396    1.0\n",
              "397    1.0\n",
              "398    0.0\n",
              "399    1.0\n",
              "Name: Insulin, Length: 400, dtype: float64"
            ]
          },
          "metadata": {
            "tags": []
          },
          "execution_count": 23
        }
      ]
    },
    {
      "cell_type": "code",
      "metadata": {
        "colab": {
          "base_uri": "https://localhost:8080/"
        },
        "id": "xAYBRfYwX6ZX",
        "outputId": "40a4e833-6e8f-4926-8c15-745a6a4574ef"
      },
      "source": [
        "data1.columns"
      ],
      "execution_count": 16,
      "outputs": [
        {
          "output_type": "execute_result",
          "data": {
            "text/plain": [
              "Index(['Age', 'Gender', 'Duration of DM', 'Smoking', 'HTN', 'Anti HTN', 'DR',\n",
              "       'Insulin', 'Sulfonylurea', 'Metformin', 'DDP-4 inhibitor', 'TZD',\n",
              "       'Meglitinides', 'None', 'BMI', 'FBS', 'TC', 'TG', 'HDL', 'LDL', 'HbA1c',\n",
              "       'Urine ACR', 'UACR new ', 'Albuminuria', 'eGFR MDRD equation', 'SBP',\n",
              "       'DBP', 'PSBP', 'PDBP', 'PHR', 'orthostatic hypotension',\n",
              "       'resting tachycardia', 'QTc', 'QTc prolonged ? ', 'CAN', 'GCSI score',\n",
              "       'GCSI new', 'GCSI present ?', 'GCSI category', 'Nausea ', 'Retching ',\n",
              "       'Vomiting ', 'Stomach fullness ', 'Not able to finish a meal',\n",
              "       'Excessive fullness after meals', 'Loss of appetitie', 'Bloating ',\n",
              "       'stomach or belly visibly larger ', 'presenceofanysymptom'],\n",
              "      dtype='object')"
            ]
          },
          "metadata": {
            "tags": []
          },
          "execution_count": 16
        }
      ]
    },
    {
      "cell_type": "code",
      "metadata": {
        "id": "UhH8INYoXBUD"
      },
      "source": [
        "dataloco = kruskal(data = data1, dv= 'Duration of DM', between = 'Nausea ')"
      ],
      "execution_count": 17,
      "outputs": []
    },
    {
      "cell_type": "code",
      "metadata": {
        "id": "FaM0JIo6WDA3"
      },
      "source": [
        "data2 = data1.drop('Duration of DM', axis = 1)"
      ],
      "execution_count": 18,
      "outputs": []
    },
    {
      "cell_type": "code",
      "metadata": {
        "id": "uQoVMLt-gQvy"
      },
      "source": [
        "krustest = []"
      ],
      "execution_count": 19,
      "outputs": []
    },
    {
      "cell_type": "code",
      "metadata": {
        "id": "rqGp04uoWDA4"
      },
      "source": [
        "for x in data2.columns:\n",
        "    datas = kruskal(data = data1, dv = 'Duration of DM', between = x)\n",
        "    krustest.append(datas)"
      ],
      "execution_count": 20,
      "outputs": []
    },
    {
      "cell_type": "code",
      "metadata": {
        "id": "pbHo6HYkWDA4"
      },
      "source": [
        "c = pd.concat(krustest)"
      ],
      "execution_count": 21,
      "outputs": []
    },
    {
      "cell_type": "code",
      "metadata": {
        "colab": {
          "base_uri": "https://localhost:8080/",
          "height": 1000
        },
        "id": "JnaCe8rVgfDp",
        "outputId": "5ddf0776-b7fd-4462-c687-f0ed1f49b674"
      },
      "source": [
        "c.sort_values(by = ['p-unc'], ascending = True)"
      ],
      "execution_count": 49,
      "outputs": [
        {
          "output_type": "execute_result",
          "data": {
            "text/html": [
              "<div>\n",
              "<style scoped>\n",
              "    .dataframe tbody tr th:only-of-type {\n",
              "        vertical-align: middle;\n",
              "    }\n",
              "\n",
              "    .dataframe tbody tr th {\n",
              "        vertical-align: top;\n",
              "    }\n",
              "\n",
              "    .dataframe thead th {\n",
              "        text-align: right;\n",
              "    }\n",
              "</style>\n",
              "<table border=\"1\" class=\"dataframe\">\n",
              "  <thead>\n",
              "    <tr style=\"text-align: right;\">\n",
              "      <th></th>\n",
              "      <th>Source</th>\n",
              "      <th>ddof1</th>\n",
              "      <th>H</th>\n",
              "      <th>p-unc</th>\n",
              "    </tr>\n",
              "  </thead>\n",
              "  <tbody>\n",
              "    <tr>\n",
              "      <th>Kruskal</th>\n",
              "      <td>Insulin</td>\n",
              "      <td>1</td>\n",
              "      <td>62.929703</td>\n",
              "      <td>2.142172e-15</td>\n",
              "    </tr>\n",
              "    <tr>\n",
              "      <th>Kruskal</th>\n",
              "      <td>Anti HTN</td>\n",
              "      <td>1</td>\n",
              "      <td>27.485902</td>\n",
              "      <td>1.582438e-07</td>\n",
              "    </tr>\n",
              "    <tr>\n",
              "      <th>Kruskal</th>\n",
              "      <td>Sulfonylurea</td>\n",
              "      <td>1</td>\n",
              "      <td>23.178900</td>\n",
              "      <td>1.476080e-06</td>\n",
              "    </tr>\n",
              "    <tr>\n",
              "      <th>Kruskal</th>\n",
              "      <td>HTN</td>\n",
              "      <td>1</td>\n",
              "      <td>22.363705</td>\n",
              "      <td>2.255973e-06</td>\n",
              "    </tr>\n",
              "    <tr>\n",
              "      <th>Kruskal</th>\n",
              "      <td>DR</td>\n",
              "      <td>70</td>\n",
              "      <td>128.132636</td>\n",
              "      <td>2.791815e-05</td>\n",
              "    </tr>\n",
              "    <tr>\n",
              "      <th>Kruskal</th>\n",
              "      <td>Age</td>\n",
              "      <td>53</td>\n",
              "      <td>101.013688</td>\n",
              "      <td>7.845303e-05</td>\n",
              "    </tr>\n",
              "    <tr>\n",
              "      <th>Kruskal</th>\n",
              "      <td>DBP</td>\n",
              "      <td>48</td>\n",
              "      <td>72.248160</td>\n",
              "      <td>1.337321e-02</td>\n",
              "    </tr>\n",
              "    <tr>\n",
              "      <th>Kruskal</th>\n",
              "      <td>Smoking</td>\n",
              "      <td>1</td>\n",
              "      <td>5.451593</td>\n",
              "      <td>1.955049e-02</td>\n",
              "    </tr>\n",
              "    <tr>\n",
              "      <th>Kruskal</th>\n",
              "      <td>Excessive fullness after meals</td>\n",
              "      <td>1</td>\n",
              "      <td>5.282018</td>\n",
              "      <td>2.154676e-02</td>\n",
              "    </tr>\n",
              "    <tr>\n",
              "      <th>Kruskal</th>\n",
              "      <td>None</td>\n",
              "      <td>1</td>\n",
              "      <td>5.140878</td>\n",
              "      <td>2.336883e-02</td>\n",
              "    </tr>\n",
              "    <tr>\n",
              "      <th>Kruskal</th>\n",
              "      <td>Gender</td>\n",
              "      <td>1</td>\n",
              "      <td>5.033466</td>\n",
              "      <td>2.486210e-02</td>\n",
              "    </tr>\n",
              "    <tr>\n",
              "      <th>Kruskal</th>\n",
              "      <td>Not able to finish a meal</td>\n",
              "      <td>1</td>\n",
              "      <td>4.936031</td>\n",
              "      <td>2.630237e-02</td>\n",
              "    </tr>\n",
              "    <tr>\n",
              "      <th>Kruskal</th>\n",
              "      <td>PDBP</td>\n",
              "      <td>45</td>\n",
              "      <td>63.522131</td>\n",
              "      <td>3.569506e-02</td>\n",
              "    </tr>\n",
              "    <tr>\n",
              "      <th>Kruskal</th>\n",
              "      <td>TZD</td>\n",
              "      <td>1</td>\n",
              "      <td>4.017276</td>\n",
              "      <td>4.503640e-02</td>\n",
              "    </tr>\n",
              "    <tr>\n",
              "      <th>Kruskal</th>\n",
              "      <td>CAN</td>\n",
              "      <td>1</td>\n",
              "      <td>3.983148</td>\n",
              "      <td>4.595759e-02</td>\n",
              "    </tr>\n",
              "    <tr>\n",
              "      <th>Kruskal</th>\n",
              "      <td>DDP-4 inhibitor</td>\n",
              "      <td>1</td>\n",
              "      <td>3.786332</td>\n",
              "      <td>5.167275e-02</td>\n",
              "    </tr>\n",
              "    <tr>\n",
              "      <th>Kruskal</th>\n",
              "      <td>Loss of appetitie</td>\n",
              "      <td>1</td>\n",
              "      <td>2.846145</td>\n",
              "      <td>9.159330e-02</td>\n",
              "    </tr>\n",
              "    <tr>\n",
              "      <th>Kruskal</th>\n",
              "      <td>Urine ACR</td>\n",
              "      <td>255</td>\n",
              "      <td>284.149560</td>\n",
              "      <td>1.013538e-01</td>\n",
              "    </tr>\n",
              "    <tr>\n",
              "      <th>Kruskal</th>\n",
              "      <td>GCSI category</td>\n",
              "      <td>2</td>\n",
              "      <td>4.553144</td>\n",
              "      <td>1.026355e-01</td>\n",
              "    </tr>\n",
              "    <tr>\n",
              "      <th>Kruskal</th>\n",
              "      <td>QTc</td>\n",
              "      <td>18</td>\n",
              "      <td>24.748150</td>\n",
              "      <td>1.320122e-01</td>\n",
              "    </tr>\n",
              "    <tr>\n",
              "      <th>Kruskal</th>\n",
              "      <td>QTc prolonged ?</td>\n",
              "      <td>2</td>\n",
              "      <td>3.953804</td>\n",
              "      <td>1.384977e-01</td>\n",
              "    </tr>\n",
              "    <tr>\n",
              "      <th>Kruskal</th>\n",
              "      <td>UACR new</td>\n",
              "      <td>264</td>\n",
              "      <td>288.734035</td>\n",
              "      <td>1.415642e-01</td>\n",
              "    </tr>\n",
              "    <tr>\n",
              "      <th>Kruskal</th>\n",
              "      <td>Albuminuria</td>\n",
              "      <td>2</td>\n",
              "      <td>3.615942</td>\n",
              "      <td>1.639865e-01</td>\n",
              "    </tr>\n",
              "    <tr>\n",
              "      <th>Kruskal</th>\n",
              "      <td>PSBP</td>\n",
              "      <td>74</td>\n",
              "      <td>83.563251</td>\n",
              "      <td>2.093025e-01</td>\n",
              "    </tr>\n",
              "    <tr>\n",
              "      <th>Kruskal</th>\n",
              "      <td>presenceofanysymptom</td>\n",
              "      <td>1</td>\n",
              "      <td>1.417165</td>\n",
              "      <td>2.338707e-01</td>\n",
              "    </tr>\n",
              "    <tr>\n",
              "      <th>Kruskal</th>\n",
              "      <td>BMI</td>\n",
              "      <td>196</td>\n",
              "      <td>205.544631</td>\n",
              "      <td>3.057225e-01</td>\n",
              "    </tr>\n",
              "    <tr>\n",
              "      <th>Kruskal</th>\n",
              "      <td>FBS</td>\n",
              "      <td>127</td>\n",
              "      <td>133.947144</td>\n",
              "      <td>3.192284e-01</td>\n",
              "    </tr>\n",
              "    <tr>\n",
              "      <th>Kruskal</th>\n",
              "      <td>PHR</td>\n",
              "      <td>64</td>\n",
              "      <td>67.883271</td>\n",
              "      <td>3.463449e-01</td>\n",
              "    </tr>\n",
              "    <tr>\n",
              "      <th>Kruskal</th>\n",
              "      <td>LDL</td>\n",
              "      <td>213</td>\n",
              "      <td>218.334156</td>\n",
              "      <td>3.864610e-01</td>\n",
              "    </tr>\n",
              "    <tr>\n",
              "      <th>Kruskal</th>\n",
              "      <td>eGFR MDRD equation</td>\n",
              "      <td>303</td>\n",
              "      <td>309.198913</td>\n",
              "      <td>3.908300e-01</td>\n",
              "    </tr>\n",
              "    <tr>\n",
              "      <th>Kruskal</th>\n",
              "      <td>TC</td>\n",
              "      <td>232</td>\n",
              "      <td>237.236441</td>\n",
              "      <td>3.927386e-01</td>\n",
              "    </tr>\n",
              "    <tr>\n",
              "      <th>Kruskal</th>\n",
              "      <td>Metformin</td>\n",
              "      <td>1</td>\n",
              "      <td>0.682280</td>\n",
              "      <td>4.088027e-01</td>\n",
              "    </tr>\n",
              "    <tr>\n",
              "      <th>Kruskal</th>\n",
              "      <td>Meglitinides</td>\n",
              "      <td>1</td>\n",
              "      <td>0.616910</td>\n",
              "      <td>4.321978e-01</td>\n",
              "    </tr>\n",
              "    <tr>\n",
              "      <th>Kruskal</th>\n",
              "      <td>GCSI new</td>\n",
              "      <td>35</td>\n",
              "      <td>35.668601</td>\n",
              "      <td>4.368057e-01</td>\n",
              "    </tr>\n",
              "    <tr>\n",
              "      <th>Kruskal</th>\n",
              "      <td>Bloating</td>\n",
              "      <td>1</td>\n",
              "      <td>0.602548</td>\n",
              "      <td>4.376073e-01</td>\n",
              "    </tr>\n",
              "    <tr>\n",
              "      <th>Kruskal</th>\n",
              "      <td>GCSI score</td>\n",
              "      <td>25</td>\n",
              "      <td>25.051951</td>\n",
              "      <td>4.594651e-01</td>\n",
              "    </tr>\n",
              "    <tr>\n",
              "      <th>Kruskal</th>\n",
              "      <td>GCSI present ?</td>\n",
              "      <td>1</td>\n",
              "      <td>0.437679</td>\n",
              "      <td>5.082451e-01</td>\n",
              "    </tr>\n",
              "    <tr>\n",
              "      <th>Kruskal</th>\n",
              "      <td>HDL</td>\n",
              "      <td>118</td>\n",
              "      <td>115.272568</td>\n",
              "      <td>5.538638e-01</td>\n",
              "    </tr>\n",
              "    <tr>\n",
              "      <th>Kruskal</th>\n",
              "      <td>TG</td>\n",
              "      <td>190</td>\n",
              "      <td>185.808788</td>\n",
              "      <td>5.723401e-01</td>\n",
              "    </tr>\n",
              "    <tr>\n",
              "      <th>Kruskal</th>\n",
              "      <td>Stomach fullness</td>\n",
              "      <td>1</td>\n",
              "      <td>0.284107</td>\n",
              "      <td>5.940218e-01</td>\n",
              "    </tr>\n",
              "    <tr>\n",
              "      <th>Kruskal</th>\n",
              "      <td>resting tachycardia</td>\n",
              "      <td>1</td>\n",
              "      <td>0.274654</td>\n",
              "      <td>6.002271e-01</td>\n",
              "    </tr>\n",
              "    <tr>\n",
              "      <th>Kruskal</th>\n",
              "      <td>Vomiting</td>\n",
              "      <td>1</td>\n",
              "      <td>0.216354</td>\n",
              "      <td>6.418318e-01</td>\n",
              "    </tr>\n",
              "    <tr>\n",
              "      <th>Kruskal</th>\n",
              "      <td>HbA1c</td>\n",
              "      <td>69</td>\n",
              "      <td>62.861282</td>\n",
              "      <td>6.849891e-01</td>\n",
              "    </tr>\n",
              "    <tr>\n",
              "      <th>Kruskal</th>\n",
              "      <td>stomach or belly visibly larger</td>\n",
              "      <td>1</td>\n",
              "      <td>0.132405</td>\n",
              "      <td>7.159511e-01</td>\n",
              "    </tr>\n",
              "    <tr>\n",
              "      <th>Kruskal</th>\n",
              "      <td>Nausea</td>\n",
              "      <td>1</td>\n",
              "      <td>0.112556</td>\n",
              "      <td>7.372525e-01</td>\n",
              "    </tr>\n",
              "    <tr>\n",
              "      <th>Kruskal</th>\n",
              "      <td>Retching</td>\n",
              "      <td>1</td>\n",
              "      <td>0.109040</td>\n",
              "      <td>7.412400e-01</td>\n",
              "    </tr>\n",
              "    <tr>\n",
              "      <th>Kruskal</th>\n",
              "      <td>orthostatic hypotension</td>\n",
              "      <td>1</td>\n",
              "      <td>0.004706</td>\n",
              "      <td>9.453103e-01</td>\n",
              "    </tr>\n",
              "    <tr>\n",
              "      <th>Kruskal</th>\n",
              "      <td>SBP</td>\n",
              "      <td>71</td>\n",
              "      <td>50.243880</td>\n",
              "      <td>9.706615e-01</td>\n",
              "    </tr>\n",
              "  </tbody>\n",
              "</table>\n",
              "</div>"
            ],
            "text/plain": [
              "                                   Source  ddof1           H         p-unc\n",
              "Kruskal                           Insulin      1   62.929703  2.142172e-15\n",
              "Kruskal                          Anti HTN      1   27.485902  1.582438e-07\n",
              "Kruskal                      Sulfonylurea      1   23.178900  1.476080e-06\n",
              "Kruskal                               HTN      1   22.363705  2.255973e-06\n",
              "Kruskal                                DR     70  128.132636  2.791815e-05\n",
              "Kruskal                               Age     53  101.013688  7.845303e-05\n",
              "Kruskal                               DBP     48   72.248160  1.337321e-02\n",
              "Kruskal                           Smoking      1    5.451593  1.955049e-02\n",
              "Kruskal    Excessive fullness after meals      1    5.282018  2.154676e-02\n",
              "Kruskal                              None      1    5.140878  2.336883e-02\n",
              "Kruskal                            Gender      1    5.033466  2.486210e-02\n",
              "Kruskal         Not able to finish a meal      1    4.936031  2.630237e-02\n",
              "Kruskal                              PDBP     45   63.522131  3.569506e-02\n",
              "Kruskal                               TZD      1    4.017276  4.503640e-02\n",
              "Kruskal                               CAN      1    3.983148  4.595759e-02\n",
              "Kruskal                   DDP-4 inhibitor      1    3.786332  5.167275e-02\n",
              "Kruskal                 Loss of appetitie      1    2.846145  9.159330e-02\n",
              "Kruskal                         Urine ACR    255  284.149560  1.013538e-01\n",
              "Kruskal                     GCSI category      2    4.553144  1.026355e-01\n",
              "Kruskal                               QTc     18   24.748150  1.320122e-01\n",
              "Kruskal                  QTc prolonged ?       2    3.953804  1.384977e-01\n",
              "Kruskal                         UACR new     264  288.734035  1.415642e-01\n",
              "Kruskal                       Albuminuria      2    3.615942  1.639865e-01\n",
              "Kruskal                              PSBP     74   83.563251  2.093025e-01\n",
              "Kruskal              presenceofanysymptom      1    1.417165  2.338707e-01\n",
              "Kruskal                               BMI    196  205.544631  3.057225e-01\n",
              "Kruskal                               FBS    127  133.947144  3.192284e-01\n",
              "Kruskal                               PHR     64   67.883271  3.463449e-01\n",
              "Kruskal                               LDL    213  218.334156  3.864610e-01\n",
              "Kruskal                eGFR MDRD equation    303  309.198913  3.908300e-01\n",
              "Kruskal                                TC    232  237.236441  3.927386e-01\n",
              "Kruskal                         Metformin      1    0.682280  4.088027e-01\n",
              "Kruskal                      Meglitinides      1    0.616910  4.321978e-01\n",
              "Kruskal                          GCSI new     35   35.668601  4.368057e-01\n",
              "Kruskal                         Bloating       1    0.602548  4.376073e-01\n",
              "Kruskal                        GCSI score     25   25.051951  4.594651e-01\n",
              "Kruskal                    GCSI present ?      1    0.437679  5.082451e-01\n",
              "Kruskal                               HDL    118  115.272568  5.538638e-01\n",
              "Kruskal                                TG    190  185.808788  5.723401e-01\n",
              "Kruskal                 Stomach fullness       1    0.284107  5.940218e-01\n",
              "Kruskal               resting tachycardia      1    0.274654  6.002271e-01\n",
              "Kruskal                         Vomiting       1    0.216354  6.418318e-01\n",
              "Kruskal                             HbA1c     69   62.861282  6.849891e-01\n",
              "Kruskal  stomach or belly visibly larger       1    0.132405  7.159511e-01\n",
              "Kruskal                           Nausea       1    0.112556  7.372525e-01\n",
              "Kruskal                         Retching       1    0.109040  7.412400e-01\n",
              "Kruskal           orthostatic hypotension      1    0.004706  9.453103e-01\n",
              "Kruskal                               SBP     71   50.243880  9.706615e-01"
            ]
          },
          "metadata": {
            "tags": []
          },
          "execution_count": 49
        }
      ]
    },
    {
      "cell_type": "code",
      "metadata": {
        "id": "h-Mh4mvDjEkk"
      },
      "source": [
        "data = pd.read_excel('/content/pone.0216416.s003.xlsx')"
      ],
      "execution_count": 33,
      "outputs": []
    },
    {
      "cell_type": "code",
      "metadata": {
        "id": "H4heX0ouka36"
      },
      "source": [
        "iterative_imp = IterativeImputer()\r\n",
        "iterative_imp.fit(data)\r\n",
        "data1 = iterative_imp.fit_transform(data)\r\n",
        "data1 = pd.DataFrame(data=data1, columns= data.columns,)\r\n"
      ],
      "execution_count": 34,
      "outputs": []
    },
    {
      "cell_type": "code",
      "metadata": {
        "id": "iPElBrcukh5H"
      },
      "source": [
        "datatarget = data1['duration of diabetes']"
      ],
      "execution_count": 35,
      "outputs": []
    },
    {
      "cell_type": "code",
      "metadata": {
        "id": "zC8fmJmbkrm4"
      },
      "source": [
        "data2 = data1.drop('duration of diabetes', axis = 1)"
      ],
      "execution_count": 36,
      "outputs": []
    },
    {
      "cell_type": "code",
      "metadata": {
        "id": "-uovWSJkk1k1"
      },
      "source": [
        "krustest2 = []"
      ],
      "execution_count": 37,
      "outputs": []
    },
    {
      "cell_type": "code",
      "metadata": {
        "id": "NqcCfGwVk4wr"
      },
      "source": [
        "for x in data2.columns:\r\n",
        "    datas = kruskal(data = data1, dv = 'duration of diabetes', between = x)\r\n",
        "    krustest2.append(datas)"
      ],
      "execution_count": 38,
      "outputs": []
    },
    {
      "cell_type": "code",
      "metadata": {
        "id": "MIBq6k6TlAHu"
      },
      "source": [
        "d = pd.concat(krustest2)"
      ],
      "execution_count": 41,
      "outputs": []
    },
    {
      "cell_type": "code",
      "metadata": {
        "colab": {
          "base_uri": "https://localhost:8080/"
        },
        "id": "CUVxCYpBlmFR",
        "outputId": "229c62a2-e6fc-44f4-f39d-432437917c19"
      },
      "source": [
        "d.columns"
      ],
      "execution_count": 44,
      "outputs": [
        {
          "output_type": "execute_result",
          "data": {
            "text/plain": [
              "Index(['Source', 'ddof1', 'H', 'p-unc'], dtype='object')"
            ]
          },
          "metadata": {
            "tags": []
          },
          "execution_count": 44
        }
      ]
    },
    {
      "cell_type": "code",
      "metadata": {
        "colab": {
          "base_uri": "https://localhost:8080/",
          "height": 714
        },
        "id": "PPxYTeudlD5d",
        "outputId": "1f040b98-88e7-47d0-e2fc-4f9e5561a513"
      },
      "source": [
        "d.sort_values(by = ['p-unc'], ascending = True)"
      ],
      "execution_count": 46,
      "outputs": [
        {
          "output_type": "execute_result",
          "data": {
            "text/html": [
              "<div>\n",
              "<style scoped>\n",
              "    .dataframe tbody tr th:only-of-type {\n",
              "        vertical-align: middle;\n",
              "    }\n",
              "\n",
              "    .dataframe tbody tr th {\n",
              "        vertical-align: top;\n",
              "    }\n",
              "\n",
              "    .dataframe thead th {\n",
              "        text-align: right;\n",
              "    }\n",
              "</style>\n",
              "<table border=\"1\" class=\"dataframe\">\n",
              "  <thead>\n",
              "    <tr style=\"text-align: right;\">\n",
              "      <th></th>\n",
              "      <th>Source</th>\n",
              "      <th>ddof1</th>\n",
              "      <th>H</th>\n",
              "      <th>p-unc</th>\n",
              "    </tr>\n",
              "  </thead>\n",
              "  <tbody>\n",
              "    <tr>\n",
              "      <th>Kruskal</th>\n",
              "      <td>age</td>\n",
              "      <td>22</td>\n",
              "      <td>51.213947</td>\n",
              "      <td>0.000401</td>\n",
              "    </tr>\n",
              "    <tr>\n",
              "      <th>Kruskal</th>\n",
              "      <td>gender (male=1, female=0)</td>\n",
              "      <td>1</td>\n",
              "      <td>1.567681</td>\n",
              "      <td>0.210544</td>\n",
              "    </tr>\n",
              "    <tr>\n",
              "      <th>Kruskal</th>\n",
              "      <td>gait speed</td>\n",
              "      <td>46</td>\n",
              "      <td>52.794616</td>\n",
              "      <td>0.228136</td>\n",
              "    </tr>\n",
              "    <tr>\n",
              "      <th>Kruskal</th>\n",
              "      <td>insulin regimen (MDI=1, CSII=0)</td>\n",
              "      <td>1</td>\n",
              "      <td>0.886091</td>\n",
              "      <td>0.346539</td>\n",
              "    </tr>\n",
              "    <tr>\n",
              "      <th>Kruskal</th>\n",
              "      <td>OC</td>\n",
              "      <td>58</td>\n",
              "      <td>61.087129</td>\n",
              "      <td>0.365657</td>\n",
              "    </tr>\n",
              "    <tr>\n",
              "      <th>Kruskal</th>\n",
              "      <td>HbA1c</td>\n",
              "      <td>32</td>\n",
              "      <td>34.076009</td>\n",
              "      <td>0.368017</td>\n",
              "    </tr>\n",
              "    <tr>\n",
              "      <th>Kruskal</th>\n",
              "      <td>adiponectin</td>\n",
              "      <td>61</td>\n",
              "      <td>61.074319</td>\n",
              "      <td>0.473242</td>\n",
              "    </tr>\n",
              "    <tr>\n",
              "      <th>Kruskal</th>\n",
              "      <td>%body fat</td>\n",
              "      <td>72</td>\n",
              "      <td>72.000000</td>\n",
              "      <td>0.477833</td>\n",
              "    </tr>\n",
              "    <tr>\n",
              "      <th>Kruskal</th>\n",
              "      <td>no</td>\n",
              "      <td>72</td>\n",
              "      <td>72.000000</td>\n",
              "      <td>0.477833</td>\n",
              "    </tr>\n",
              "    <tr>\n",
              "      <th>Kruskal</th>\n",
              "      <td>TDD/kg</td>\n",
              "      <td>72</td>\n",
              "      <td>72.000000</td>\n",
              "      <td>0.477833</td>\n",
              "    </tr>\n",
              "    <tr>\n",
              "      <th>Kruskal</th>\n",
              "      <td>BMI</td>\n",
              "      <td>72</td>\n",
              "      <td>72.000000</td>\n",
              "      <td>0.477833</td>\n",
              "    </tr>\n",
              "    <tr>\n",
              "      <th>Kruskal</th>\n",
              "      <td>basal/kg</td>\n",
              "      <td>72</td>\n",
              "      <td>72.000000</td>\n",
              "      <td>0.477833</td>\n",
              "    </tr>\n",
              "    <tr>\n",
              "      <th>Kruskal</th>\n",
              "      <td>bolus/kg</td>\n",
              "      <td>72</td>\n",
              "      <td>72.000000</td>\n",
              "      <td>0.477833</td>\n",
              "    </tr>\n",
              "    <tr>\n",
              "      <th>Kruskal</th>\n",
              "      <td>knee extension strength</td>\n",
              "      <td>48</td>\n",
              "      <td>47.823499</td>\n",
              "      <td>0.480024</td>\n",
              "    </tr>\n",
              "    <tr>\n",
              "      <th>Kruskal</th>\n",
              "      <td>eGFR</td>\n",
              "      <td>71</td>\n",
              "      <td>70.749969</td>\n",
              "      <td>0.486043</td>\n",
              "    </tr>\n",
              "    <tr>\n",
              "      <th>Kruskal</th>\n",
              "      <td>grip strength</td>\n",
              "      <td>59</td>\n",
              "      <td>58.423886</td>\n",
              "      <td>0.496704</td>\n",
              "    </tr>\n",
              "    <tr>\n",
              "      <th>Kruskal</th>\n",
              "      <td>bolus</td>\n",
              "      <td>71</td>\n",
              "      <td>70.172989</td>\n",
              "      <td>0.505440</td>\n",
              "    </tr>\n",
              "    <tr>\n",
              "      <th>Kruskal</th>\n",
              "      <td>basal</td>\n",
              "      <td>71</td>\n",
              "      <td>70.172989</td>\n",
              "      <td>0.505440</td>\n",
              "    </tr>\n",
              "    <tr>\n",
              "      <th>Kruskal</th>\n",
              "      <td>ucOC</td>\n",
              "      <td>70</td>\n",
              "      <td>68.616925</td>\n",
              "      <td>0.524398</td>\n",
              "    </tr>\n",
              "    <tr>\n",
              "      <th>Kruskal</th>\n",
              "      <td>TDD</td>\n",
              "      <td>59</td>\n",
              "      <td>56.733509</td>\n",
              "      <td>0.559524</td>\n",
              "    </tr>\n",
              "    <tr>\n",
              "      <th>Kruskal</th>\n",
              "      <td>free-testosterone</td>\n",
              "      <td>38</td>\n",
              "      <td>31.921361</td>\n",
              "      <td>0.745605</td>\n",
              "    </tr>\n",
              "    <tr>\n",
              "      <th>Kruskal</th>\n",
              "      <td>SMI</td>\n",
              "      <td>32</td>\n",
              "      <td>24.902632</td>\n",
              "      <td>0.809953</td>\n",
              "    </tr>\n",
              "  </tbody>\n",
              "</table>\n",
              "</div>"
            ],
            "text/plain": [
              "                                  Source  ddof1          H     p-unc\n",
              "Kruskal                              age     22  51.213947  0.000401\n",
              "Kruskal        gender (male=1, female=0)      1   1.567681  0.210544\n",
              "Kruskal                       gait speed     46  52.794616  0.228136\n",
              "Kruskal  insulin regimen (MDI=1, CSII=0)      1   0.886091  0.346539\n",
              "Kruskal                               OC     58  61.087129  0.365657\n",
              "Kruskal                            HbA1c     32  34.076009  0.368017\n",
              "Kruskal                      adiponectin     61  61.074319  0.473242\n",
              "Kruskal                        %body fat     72  72.000000  0.477833\n",
              "Kruskal                               no     72  72.000000  0.477833\n",
              "Kruskal                           TDD/kg     72  72.000000  0.477833\n",
              "Kruskal                              BMI     72  72.000000  0.477833\n",
              "Kruskal                         basal/kg     72  72.000000  0.477833\n",
              "Kruskal                         bolus/kg     72  72.000000  0.477833\n",
              "Kruskal          knee extension strength     48  47.823499  0.480024\n",
              "Kruskal                             eGFR     71  70.749969  0.486043\n",
              "Kruskal                    grip strength     59  58.423886  0.496704\n",
              "Kruskal                            bolus     71  70.172989  0.505440\n",
              "Kruskal                            basal     71  70.172989  0.505440\n",
              "Kruskal                             ucOC     70  68.616925  0.524398\n",
              "Kruskal                              TDD     59  56.733509  0.559524\n",
              "Kruskal                free-testosterone     38  31.921361  0.745605\n",
              "Kruskal                              SMI     32  24.902632  0.809953"
            ]
          },
          "metadata": {
            "tags": []
          },
          "execution_count": 46
        }
      ]
    },
    {
      "cell_type": "code",
      "metadata": {
        "id": "7oKlJqTilEeI"
      },
      "source": [
        ""
      ],
      "execution_count": null,
      "outputs": []
    }
  ]
}